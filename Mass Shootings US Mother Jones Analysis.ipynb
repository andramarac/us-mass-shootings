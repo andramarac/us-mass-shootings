{
 "cells": [
  {
   "cell_type": "markdown",
   "metadata": {},
   "source": [
    "# Mass Shootings in USA (1982-2020) - Exploratory Analysis"
   ]
  },
  {
   "cell_type": "markdown",
   "metadata": {},
   "source": [
    "Analysis made on: 4 March 2020 by Andra Maraciuc"
   ]
  },
  {
   "cell_type": "markdown",
   "metadata": {},
   "source": [
    "## About this dataset"
   ]
  },
  {
   "cell_type": "markdown",
   "metadata": {},
   "source": [
    "This analysis is based on data on US Mass Shootings provided by Mother Jones and it covers an in-depth look at mass shootings cases from 1982 to 2020 (February)."
   ]
  },
  {
   "cell_type": "markdown",
   "metadata": {},
   "source": [
    "How Mother Jones defines mass shootings:"
   ]
  },
  {
   "cell_type": "markdown",
   "metadata": {},
   "source": [
    "\"Our research focused on <b>indiscriminate rampages in public places resulting in four or more victims killed by the attacker</b>. We exclude shootings stemming from more conventionally motivated crimes such as armed robbery or gang violence. (Or in which the perpetrators have not been identified.)\"<br>\n",
    "<br>\n",
    "Source: https://www.motherjones.com/politics/2012/07/mass-shootings-map/ "
   ]
  },
  {
   "cell_type": "markdown",
   "metadata": {},
   "source": [
    "#### Dataset used (where to download):"
   ]
  },
  {
   "cell_type": "markdown",
   "metadata": {},
   "source": [
    "- US Mass Shootings, 1982-2020: Data From Mother Jones’ Investigation (download link): https://www.motherjones.com/politics/2012/12/mass-shootings-mother-jones-full-data/"
   ]
  },
  {
   "cell_type": "markdown",
   "metadata": {},
   "source": [
    "### What includes (after cleanup):"
   ]
  },
  {
   "cell_type": "markdown",
   "metadata": {},
   "source": [
    "- <b>case</b>: the name of the shooting event\n",
    "- <b>date</b>: date of the shooting\n",
    "- <b>summary</b>: short description of the shooting\n",
    "- <b>fatalities</b>: the number of people who have died <i>(doesn't include the attacker)</i>\n",
    "- <b>injured</b>: the number of people who have been injured <i>(doesn't include the attacker)</i>\n",
    "- <b>total_victims</b>: total number of cassualties (fatalities and injured together)\n",
    "- <b>shooting_area</b>: the area where the incident happened (school, workplace, market etc) \n",
    "- <b>age</b>: age of the shooter\n",
    "- <b>prior_signs_mental_health_issues</b>: information on if the perpator had mental health issues\n",
    "- <b>weapons_obtained_legally</b>: shows if the shooter obtained the weapons legally or not\n",
    "- <b>weapon_type</b>: type of weapon used in shooting\n",
    "- <b>weapon_details</b>: details about the weapon\n",
    "- <b>race</b>: the race of the shooter\n",
    "- <b>gender</b>: the gender of the shooter\n",
    "- <b>latitude</b>: latitude coordonates of the attack\n",
    "- <b>longitude</b>: longitude coordonates of the attack\n",
    "- <b>type</b>: type of shooting (mass or spree)\n",
    "- <b>year</b>: year of the shooting\n",
    "- <b>state</b>: full state name where the shooting happened\n",
    "- <b>state_code</b>: two letter state code\n",
    "- <b>city</b>: the city where the shooting took place"
   ]
  },
  {
   "cell_type": "markdown",
   "metadata": {},
   "source": [
    "## Research Questions to Answer"
   ]
  },
  {
   "cell_type": "markdown",
   "metadata": {},
   "source": [
    "- Are mass shootings on the rise? \n",
    "- What state/city had the most victims from mass shootings?\n",
    "- What states have the highest number of mass shootings?\n",
    "- What was the year with most mass shootings?\n",
    "- What were the deadliest shootings in US?\n",
    "- Are most mass killers males or females?\n",
    "- Were the weapons used in shootings obtained legally?\n",
    "- What is the age of the youngest / oldest shooter?\n",
    "- What is the race of the shooters?\n",
    "- How many school shootings have been since 1982?"
   ]
  },
  {
   "cell_type": "markdown",
   "metadata": {},
   "source": [
    "### Rough Breakdown of Tasks"
   ]
  },
  {
   "cell_type": "markdown",
   "metadata": {},
   "source": [
    "#### 1. Data Preparation and Cleaning\n",
    "Load the dataset, clean the dataset, deal with missing values, drop columns, change data types, add new relevant columns.\n",
    "#### 2. Data Exploration and Visualization\n",
    "Analyze and explore the data to get answers to our research questions. Make visualizations (bar graphs, line graphs, pie charts, waffle charts, geo maps, histograms) of our data findings that will help us get a visual idea of patterns and trends."
   ]
  },
  {
   "cell_type": "markdown",
   "metadata": {},
   "source": [
    "***"
   ]
  },
  {
   "cell_type": "markdown",
   "metadata": {},
   "source": [
    "# Data Preparation and Cleaning"
   ]
  },
  {
   "cell_type": "markdown",
   "metadata": {},
   "source": [
    "#### Importing necessary Python modules"
   ]
  },
  {
   "cell_type": "code",
   "execution_count": 2,
   "metadata": {},
   "outputs": [
    {
     "data": {
      "text/html": [
       "        <script type=\"text/javascript\">\n",
       "        window.PlotlyConfig = {MathJaxConfig: 'local'};\n",
       "        if (window.MathJax) {MathJax.Hub.Config({SVG: {font: \"STIX-Web\"}});}\n",
       "        if (typeof require !== 'undefined') {\n",
       "        require.undef(\"plotly\");\n",
       "        requirejs.config({\n",
       "            paths: {\n",
       "                'plotly': ['https://cdn.plot.ly/plotly-latest.min']\n",
       "            }\n",
       "        });\n",
       "        require(['plotly'], function(Plotly) {\n",
       "            window._Plotly = Plotly;\n",
       "        });\n",
       "        }\n",
       "        </script>\n",
       "        "
      ]
     },
     "metadata": {},
     "output_type": "display_data"
    }
   ],
   "source": [
    "import pandas as pd\n",
    "from matplotlib import pyplot as plt\n",
    "%matplotlib inline\n",
    "import numpy as np\n",
    "from pywaffle import Waffle\n",
    "import seaborn as sns\n",
    "import chart_studio.plotly as py\n",
    "import plotly.graph_objs as go \n",
    "import plotly.io as pio\n",
    "from plotly.offline import download_plotlyjs, init_notebook_mode, plot, iplot\n",
    "import plotly.express as px\n",
    "import plotly.offline as pyo\n",
    "\n",
    "init_notebook_mode(connected=True)"
   ]
  },
  {
   "cell_type": "markdown",
   "metadata": {},
   "source": [
    "#### Load the dataset"
   ]
  },
  {
   "cell_type": "code",
   "execution_count": 3,
   "metadata": {},
   "outputs": [],
   "source": [
    "df = pd.read_csv('Data\\Mother_Jones_Mass_Shootings_Database_1982_2020.csv')"
   ]
  },
  {
   "cell_type": "code",
   "execution_count": 4,
   "metadata": {},
   "outputs": [
    {
     "data": {
      "text/html": [
       "<div>\n",
       "<style scoped>\n",
       "    .dataframe tbody tr th:only-of-type {\n",
       "        vertical-align: middle;\n",
       "    }\n",
       "\n",
       "    .dataframe tbody tr th {\n",
       "        vertical-align: top;\n",
       "    }\n",
       "\n",
       "    .dataframe thead th {\n",
       "        text-align: right;\n",
       "    }\n",
       "</style>\n",
       "<table border=\"1\" class=\"dataframe\">\n",
       "  <thead>\n",
       "    <tr style=\"text-align: right;\">\n",
       "      <th></th>\n",
       "      <th>case</th>\n",
       "      <th>location</th>\n",
       "      <th>date</th>\n",
       "      <th>summary</th>\n",
       "      <th>fatalities</th>\n",
       "      <th>injured</th>\n",
       "      <th>total_victims</th>\n",
       "      <th>location.1</th>\n",
       "      <th>age_of_shooter</th>\n",
       "      <th>prior_signs_mental_health_issues</th>\n",
       "      <th>...</th>\n",
       "      <th>weapon_details</th>\n",
       "      <th>race</th>\n",
       "      <th>gender</th>\n",
       "      <th>sources</th>\n",
       "      <th>mental_health_sources</th>\n",
       "      <th>sources_additional_age</th>\n",
       "      <th>latitude</th>\n",
       "      <th>longitude</th>\n",
       "      <th>type</th>\n",
       "      <th>year</th>\n",
       "    </tr>\n",
       "  </thead>\n",
       "  <tbody>\n",
       "    <tr>\n",
       "      <th>0</th>\n",
       "      <td>Molson Coors shooting</td>\n",
       "      <td>Milwaukee, Wisconsin</td>\n",
       "      <td>2/26/20</td>\n",
       "      <td>Anthony Ferrill, 51, an employee armed with tw...</td>\n",
       "      <td>5</td>\n",
       "      <td>0</td>\n",
       "      <td>5</td>\n",
       "      <td>Workplace</td>\n",
       "      <td>51</td>\n",
       "      <td>-</td>\n",
       "      <td>...</td>\n",
       "      <td>-</td>\n",
       "      <td>Black</td>\n",
       "      <td>M</td>\n",
       "      <td>https://www.jsonline.com/story/news/local/2020...</td>\n",
       "      <td>-</td>\n",
       "      <td>-</td>\n",
       "      <td>43.044511</td>\n",
       "      <td>-87.962537</td>\n",
       "      <td>Mass</td>\n",
       "      <td>2020</td>\n",
       "    </tr>\n",
       "    <tr>\n",
       "      <th>1</th>\n",
       "      <td>Jersey City kosher market shooting</td>\n",
       "      <td>Jersey City, New Jersey</td>\n",
       "      <td>12/10/19</td>\n",
       "      <td>David N. Anderson, 47, and Francine Graham, 50...</td>\n",
       "      <td>4</td>\n",
       "      <td>3</td>\n",
       "      <td>7</td>\n",
       "      <td>Other</td>\n",
       "      <td>-</td>\n",
       "      <td>-</td>\n",
       "      <td>...</td>\n",
       "      <td>-</td>\n",
       "      <td>Black</td>\n",
       "      <td>-</td>\n",
       "      <td>https://www.nytimes.com/2019/12/15/nyregion/je...</td>\n",
       "      <td>-</td>\n",
       "      <td>-</td>\n",
       "      <td>40.707363</td>\n",
       "      <td>-74.083609</td>\n",
       "      <td>Spree</td>\n",
       "      <td>2019</td>\n",
       "    </tr>\n",
       "    <tr>\n",
       "      <th>2</th>\n",
       "      <td>Pensacola Naval base shooting</td>\n",
       "      <td>Pensacola, Florida</td>\n",
       "      <td>12/6/19</td>\n",
       "      <td>Ahmed Mohammed al-Shamrani, A Saudi Arabian mi...</td>\n",
       "      <td>3</td>\n",
       "      <td>8</td>\n",
       "      <td>11</td>\n",
       "      <td>Military</td>\n",
       "      <td>-</td>\n",
       "      <td>-</td>\n",
       "      <td>...</td>\n",
       "      <td>-</td>\n",
       "      <td>-</td>\n",
       "      <td>M</td>\n",
       "      <td>https://www.washingtonpost.com/national-securi...</td>\n",
       "      <td>-</td>\n",
       "      <td>-</td>\n",
       "      <td>30.364707</td>\n",
       "      <td>-87.288567</td>\n",
       "      <td>Mass</td>\n",
       "      <td>2019</td>\n",
       "    </tr>\n",
       "    <tr>\n",
       "      <th>3</th>\n",
       "      <td>Odessa-Midland shooting spree</td>\n",
       "      <td>Odessa, Texas</td>\n",
       "      <td>8/31/19</td>\n",
       "      <td>Seth A. Ator, 36, fired at police officers who...</td>\n",
       "      <td>7</td>\n",
       "      <td>25</td>\n",
       "      <td>32</td>\n",
       "      <td>Other</td>\n",
       "      <td>36</td>\n",
       "      <td>yes</td>\n",
       "      <td>...</td>\n",
       "      <td>-</td>\n",
       "      <td>White</td>\n",
       "      <td>M</td>\n",
       "      <td>https://www.washingtonpost.com/politics/5-kill...</td>\n",
       "      <td>https://www.nytimes.com/2019/09/02/us/texas-gu...</td>\n",
       "      <td>-</td>\n",
       "      <td>31.925974</td>\n",
       "      <td>-102.279600</td>\n",
       "      <td>Spree</td>\n",
       "      <td>2019</td>\n",
       "    </tr>\n",
       "    <tr>\n",
       "      <th>4</th>\n",
       "      <td>Dayton entertainment district shooting</td>\n",
       "      <td>Dayton, Ohio</td>\n",
       "      <td>8/4/19</td>\n",
       "      <td>Connor Betts, 24, died during the attack, foll...</td>\n",
       "      <td>9</td>\n",
       "      <td>27</td>\n",
       "      <td>36</td>\n",
       "      <td>Other</td>\n",
       "      <td>24</td>\n",
       "      <td>-</td>\n",
       "      <td>...</td>\n",
       "      <td>AR-15-style rifle, with a 100-round capacity a...</td>\n",
       "      <td>White</td>\n",
       "      <td>M</td>\n",
       "      <td>https://www.nytimes.com/2019/08/04/us/dayton-o...</td>\n",
       "      <td>-</td>\n",
       "      <td>-</td>\n",
       "      <td>39.757312</td>\n",
       "      <td>-84.184947</td>\n",
       "      <td>Mass</td>\n",
       "      <td>2019</td>\n",
       "    </tr>\n",
       "  </tbody>\n",
       "</table>\n",
       "<p>5 rows × 24 columns</p>\n",
       "</div>"
      ],
      "text/plain": [
       "                                     case                 location      date  \\\n",
       "0                   Molson Coors shooting     Milwaukee, Wisconsin   2/26/20   \n",
       "1      Jersey City kosher market shooting  Jersey City, New Jersey  12/10/19   \n",
       "2           Pensacola Naval base shooting       Pensacola, Florida   12/6/19   \n",
       "3           Odessa-Midland shooting spree            Odessa, Texas   8/31/19   \n",
       "4  Dayton entertainment district shooting             Dayton, Ohio    8/4/19   \n",
       "\n",
       "                                             summary  fatalities  injured  \\\n",
       "0  Anthony Ferrill, 51, an employee armed with tw...           5        0   \n",
       "1  David N. Anderson, 47, and Francine Graham, 50...           4        3   \n",
       "2  Ahmed Mohammed al-Shamrani, A Saudi Arabian mi...           3        8   \n",
       "3  Seth A. Ator, 36, fired at police officers who...           7       25   \n",
       "4  Connor Betts, 24, died during the attack, foll...           9       27   \n",
       "\n",
       "   total_victims location.1 age_of_shooter prior_signs_mental_health_issues  \\\n",
       "0              5  Workplace             51                                -   \n",
       "1              7      Other              -                                -   \n",
       "2             11   Military              -                                -   \n",
       "3             32      Other             36                              yes   \n",
       "4             36      Other             24                                -   \n",
       "\n",
       "   ...                                     weapon_details   race gender  \\\n",
       "0  ...                                                  -  Black      M   \n",
       "1  ...                                                  -  Black      -   \n",
       "2  ...                                                  -      -      M   \n",
       "3  ...                                                  -  White      M   \n",
       "4  ...  AR-15-style rifle, with a 100-round capacity a...  White      M   \n",
       "\n",
       "                                             sources  \\\n",
       "0  https://www.jsonline.com/story/news/local/2020...   \n",
       "1  https://www.nytimes.com/2019/12/15/nyregion/je...   \n",
       "2  https://www.washingtonpost.com/national-securi...   \n",
       "3  https://www.washingtonpost.com/politics/5-kill...   \n",
       "4  https://www.nytimes.com/2019/08/04/us/dayton-o...   \n",
       "\n",
       "                               mental_health_sources sources_additional_age  \\\n",
       "0                                                  -                      -   \n",
       "1                                                  -                      -   \n",
       "2                                                  -                      -   \n",
       "3  https://www.nytimes.com/2019/09/02/us/texas-gu...                      -   \n",
       "4                                                  -                      -   \n",
       "\n",
       "    latitude   longitude   type  year  \n",
       "0  43.044511  -87.962537   Mass  2020  \n",
       "1  40.707363  -74.083609  Spree  2019  \n",
       "2  30.364707  -87.288567   Mass  2019  \n",
       "3  31.925974 -102.279600  Spree  2019  \n",
       "4  39.757312  -84.184947   Mass  2019  \n",
       "\n",
       "[5 rows x 24 columns]"
      ]
     },
     "execution_count": 4,
     "metadata": {},
     "output_type": "execute_result"
    }
   ],
   "source": [
    "df.head()"
   ]
  },
  {
   "cell_type": "markdown",
   "metadata": {},
   "source": [
    "### 1. Dropping columns we don't need"
   ]
  },
  {
   "cell_type": "code",
   "execution_count": 5,
   "metadata": {},
   "outputs": [
    {
     "data": {
      "text/plain": [
       "Index(['case', 'location', 'date', 'summary', 'fatalities', 'injured',\n",
       "       'total_victims', 'location.1', 'age_of_shooter',\n",
       "       'prior_signs_mental_health_issues', 'mental_health_details',\n",
       "       'weapons_obtained_legally', 'where_obtained', 'weapon_type',\n",
       "       'weapon_details', 'race', 'gender', 'sources', 'mental_health_sources',\n",
       "       'sources_additional_age', 'latitude', 'longitude', 'type', 'year'],\n",
       "      dtype='object')"
      ]
     },
     "execution_count": 5,
     "metadata": {},
     "output_type": "execute_result"
    }
   ],
   "source": [
    "# First let's take a look at the columns we have\n",
    "df.columns"
   ]
  },
  {
   "cell_type": "code",
   "execution_count": 6,
   "metadata": {},
   "outputs": [],
   "source": [
    "# Now lets drop those that we don't need\n",
    "df = df.drop(columns=['sources', 'mental_health_sources', 'mental_health_details','where_obtained',\n",
    "       'sources_additional_age'])"
   ]
  },
  {
   "cell_type": "markdown",
   "metadata": {},
   "source": [
    "### 2. Checking data types"
   ]
  },
  {
   "cell_type": "code",
   "execution_count": 7,
   "metadata": {},
   "outputs": [
    {
     "data": {
      "text/plain": [
       "case                                 object\n",
       "location                             object\n",
       "date                                 object\n",
       "summary                              object\n",
       "fatalities                            int64\n",
       "injured                               int64\n",
       "total_victims                         int64\n",
       "location.1                           object\n",
       "age_of_shooter                       object\n",
       "prior_signs_mental_health_issues     object\n",
       "weapons_obtained_legally             object\n",
       "weapon_type                          object\n",
       "weapon_details                       object\n",
       "race                                 object\n",
       "gender                               object\n",
       "latitude                            float64\n",
       "longitude                           float64\n",
       "type                                 object\n",
       "year                                  int64\n",
       "dtype: object"
      ]
     },
     "execution_count": 7,
     "metadata": {},
     "output_type": "execute_result"
    }
   ],
   "source": [
    "df.dtypes"
   ]
  },
  {
   "cell_type": "markdown",
   "metadata": {},
   "source": [
    " We will need to change the 'age_of_shooter' data type to int."
   ]
  },
  {
   "cell_type": "markdown",
   "metadata": {},
   "source": [
    "### 3. Check for missing data"
   ]
  },
  {
   "cell_type": "code",
   "execution_count": 8,
   "metadata": {},
   "outputs": [
    {
     "data": {
      "text/html": [
       "<div>\n",
       "<style scoped>\n",
       "    .dataframe tbody tr th:only-of-type {\n",
       "        vertical-align: middle;\n",
       "    }\n",
       "\n",
       "    .dataframe tbody tr th {\n",
       "        vertical-align: top;\n",
       "    }\n",
       "\n",
       "    .dataframe thead th {\n",
       "        text-align: right;\n",
       "    }\n",
       "</style>\n",
       "<table border=\"1\" class=\"dataframe\">\n",
       "  <thead>\n",
       "    <tr style=\"text-align: right;\">\n",
       "      <th></th>\n",
       "      <th>case</th>\n",
       "      <th>location</th>\n",
       "      <th>date</th>\n",
       "      <th>summary</th>\n",
       "      <th>fatalities</th>\n",
       "      <th>injured</th>\n",
       "      <th>total_victims</th>\n",
       "      <th>location.1</th>\n",
       "      <th>age_of_shooter</th>\n",
       "      <th>prior_signs_mental_health_issues</th>\n",
       "      <th>weapons_obtained_legally</th>\n",
       "      <th>weapon_type</th>\n",
       "      <th>weapon_details</th>\n",
       "      <th>race</th>\n",
       "      <th>gender</th>\n",
       "      <th>latitude</th>\n",
       "      <th>longitude</th>\n",
       "      <th>type</th>\n",
       "      <th>year</th>\n",
       "    </tr>\n",
       "  </thead>\n",
       "  <tbody>\n",
       "  </tbody>\n",
       "</table>\n",
       "</div>"
      ],
      "text/plain": [
       "Empty DataFrame\n",
       "Columns: [case, location, date, summary, fatalities, injured, total_victims, location.1, age_of_shooter, prior_signs_mental_health_issues, weapons_obtained_legally, weapon_type, weapon_details, race, gender, latitude, longitude, type, year]\n",
       "Index: []"
      ]
     },
     "metadata": {},
     "output_type": "display_data"
    }
   ],
   "source": [
    "# Find NAN\n",
    "nan_df = df[df.isna().any(axis=1)]\n",
    "display(nan_df.head())"
   ]
  },
  {
   "cell_type": "markdown",
   "metadata": {},
   "source": [
    "### 4. Cleaning 'age_of_shooter' column"
   ]
  },
  {
   "cell_type": "markdown",
   "metadata": {},
   "source": [
    "We encountered an error when trying to change the 'age_of_shooter' data type, showing that we have missing data in our column. Let's fix that."
   ]
  },
  {
   "cell_type": "code",
   "execution_count": 9,
   "metadata": {},
   "outputs": [
    {
     "data": {
      "text/html": [
       "<div>\n",
       "<style scoped>\n",
       "    .dataframe tbody tr th:only-of-type {\n",
       "        vertical-align: middle;\n",
       "    }\n",
       "\n",
       "    .dataframe tbody tr th {\n",
       "        vertical-align: top;\n",
       "    }\n",
       "\n",
       "    .dataframe thead th {\n",
       "        text-align: right;\n",
       "    }\n",
       "</style>\n",
       "<table border=\"1\" class=\"dataframe\">\n",
       "  <thead>\n",
       "    <tr style=\"text-align: right;\">\n",
       "      <th></th>\n",
       "      <th>case</th>\n",
       "      <th>location</th>\n",
       "      <th>date</th>\n",
       "      <th>summary</th>\n",
       "      <th>fatalities</th>\n",
       "      <th>injured</th>\n",
       "      <th>total_victims</th>\n",
       "      <th>location.1</th>\n",
       "      <th>age_of_shooter</th>\n",
       "      <th>prior_signs_mental_health_issues</th>\n",
       "      <th>weapons_obtained_legally</th>\n",
       "      <th>weapon_type</th>\n",
       "      <th>weapon_details</th>\n",
       "      <th>race</th>\n",
       "      <th>gender</th>\n",
       "      <th>latitude</th>\n",
       "      <th>longitude</th>\n",
       "      <th>type</th>\n",
       "      <th>year</th>\n",
       "    </tr>\n",
       "  </thead>\n",
       "  <tbody>\n",
       "    <tr>\n",
       "      <th>1</th>\n",
       "      <td>Jersey City kosher market shooting</td>\n",
       "      <td>Jersey City, New Jersey</td>\n",
       "      <td>12/10/19</td>\n",
       "      <td>David N. Anderson, 47, and Francine Graham, 50...</td>\n",
       "      <td>4</td>\n",
       "      <td>3</td>\n",
       "      <td>7</td>\n",
       "      <td>Other</td>\n",
       "      <td>-</td>\n",
       "      <td>-</td>\n",
       "      <td>-</td>\n",
       "      <td>-</td>\n",
       "      <td>-</td>\n",
       "      <td>Black</td>\n",
       "      <td>-</td>\n",
       "      <td>40.707363</td>\n",
       "      <td>-74.083609</td>\n",
       "      <td>Spree</td>\n",
       "      <td>2019</td>\n",
       "    </tr>\n",
       "    <tr>\n",
       "      <th>2</th>\n",
       "      <td>Pensacola Naval base shooting</td>\n",
       "      <td>Pensacola, Florida</td>\n",
       "      <td>12/6/19</td>\n",
       "      <td>Ahmed Mohammed al-Shamrani, A Saudi Arabian mi...</td>\n",
       "      <td>3</td>\n",
       "      <td>8</td>\n",
       "      <td>11</td>\n",
       "      <td>Military</td>\n",
       "      <td>-</td>\n",
       "      <td>-</td>\n",
       "      <td>-</td>\n",
       "      <td>semiautomatic handgun</td>\n",
       "      <td>-</td>\n",
       "      <td>-</td>\n",
       "      <td>M</td>\n",
       "      <td>30.364707</td>\n",
       "      <td>-87.288567</td>\n",
       "      <td>Mass</td>\n",
       "      <td>2019</td>\n",
       "    </tr>\n",
       "  </tbody>\n",
       "</table>\n",
       "</div>"
      ],
      "text/plain": [
       "                                 case                 location      date  \\\n",
       "1  Jersey City kosher market shooting  Jersey City, New Jersey  12/10/19   \n",
       "2       Pensacola Naval base shooting       Pensacola, Florida   12/6/19   \n",
       "\n",
       "                                             summary  fatalities  injured  \\\n",
       "1  David N. Anderson, 47, and Francine Graham, 50...           4        3   \n",
       "2  Ahmed Mohammed al-Shamrani, A Saudi Arabian mi...           3        8   \n",
       "\n",
       "   total_victims location.1 age_of_shooter prior_signs_mental_health_issues  \\\n",
       "1              7      Other              -                                -   \n",
       "2             11   Military              -                                -   \n",
       "\n",
       "  weapons_obtained_legally            weapon_type weapon_details   race  \\\n",
       "1                        -                      -              -  Black   \n",
       "2                        -  semiautomatic handgun              -      -   \n",
       "\n",
       "  gender   latitude  longitude   type  year  \n",
       "1      -  40.707363 -74.083609  Spree  2019  \n",
       "2      M  30.364707 -87.288567   Mass  2019  "
      ]
     },
     "execution_count": 9,
     "metadata": {},
     "output_type": "execute_result"
    }
   ],
   "source": [
    "# Find missing data searching for '-' values\n",
    "df.loc[df['age_of_shooter'] == '-']"
   ]
  },
  {
   "cell_type": "markdown",
   "metadata": {},
   "source": [
    "We've found <b>two missing values</b> at index 1 and 2, in the 'age_of_shooter' column. We could drop them or replace them with a different value using a median/mean.\n",
    "\n",
    "In this particular case, the missing data is public and can be found online. This will allow us to fill the missing values with real data, accurately.\n",
    " \n",
    "- <b>Case 1</b>: \"David Nathaniel Anderson (age 47) and his girlfriend Francine Graham (age 50)\". <br> <i>Source: https://en.wikipedia.org/wiki/2019_Jersey_City_shooting</i>\n",
    "\n",
    "- <b>Case 2</b>: \"The FBI identified the gunman as Mohammed Saeed Alshamrani, 21\". <br> <i>Source: https://en.wikipedia.org/wiki/Naval_Air_Station_Pensacola_shooting</i>"
   ]
  },
  {
   "cell_type": "markdown",
   "metadata": {},
   "source": [
    "#### Replacing missing values with accurate data"
   ]
  },
  {
   "cell_type": "code",
   "execution_count": 10,
   "metadata": {},
   "outputs": [],
   "source": [
    "df.loc[1, 'age_of_shooter'] = 48 #the average age of the 2 shooters\n",
    "df.loc[2, 'age_of_shooter'] = 21"
   ]
  },
  {
   "cell_type": "markdown",
   "metadata": {},
   "source": [
    "#### Convert data type from \"object\" to \"int \""
   ]
  },
  {
   "cell_type": "markdown",
   "metadata": {},
   "source": [
    "The data type of the 'age_of_shooter' column is set as \"object\". We need to convert the columns data type from object to int using the.astype() function. "
   ]
  },
  {
   "cell_type": "code",
   "execution_count": 11,
   "metadata": {},
   "outputs": [],
   "source": [
    "df.age_of_shooter = df.age_of_shooter.astype(int)"
   ]
  },
  {
   "cell_type": "code",
   "execution_count": 12,
   "metadata": {},
   "outputs": [
    {
     "data": {
      "text/plain": [
       "case                                 object\n",
       "location                             object\n",
       "date                                 object\n",
       "summary                              object\n",
       "fatalities                            int64\n",
       "injured                               int64\n",
       "total_victims                         int64\n",
       "location.1                           object\n",
       "age_of_shooter                        int32\n",
       "prior_signs_mental_health_issues     object\n",
       "weapons_obtained_legally             object\n",
       "weapon_type                          object\n",
       "weapon_details                       object\n",
       "race                                 object\n",
       "gender                               object\n",
       "latitude                            float64\n",
       "longitude                           float64\n",
       "type                                 object\n",
       "year                                  int64\n",
       "dtype: object"
      ]
     },
     "execution_count": 12,
     "metadata": {},
     "output_type": "execute_result"
    }
   ],
   "source": [
    "df.dtypes"
   ]
  },
  {
   "cell_type": "markdown",
   "metadata": {},
   "source": [
    "#### Renaming \"age_of_shooter\" column to \"age\""
   ]
  },
  {
   "cell_type": "code",
   "execution_count": 13,
   "metadata": {},
   "outputs": [],
   "source": [
    "df.rename(columns={'age_of_shooter':'age'},inplace=True)"
   ]
  },
  {
   "cell_type": "markdown",
   "metadata": {},
   "source": [
    "## 5. Cleaning 'gender' column"
   ]
  },
  {
   "cell_type": "markdown",
   "metadata": {},
   "source": [
    "The original breakdown of number of mass shootings by gender:"
   ]
  },
  {
   "cell_type": "code",
   "execution_count": 14,
   "metadata": {},
   "outputs": [
    {
     "data": {
      "text/plain": [
       "Male             70\n",
       "M                43\n",
       "Female            2\n",
       "-                 1\n",
       "F                 1\n",
       "Male & Female     1\n",
       "Name: gender, dtype: int64"
      ]
     },
     "execution_count": 14,
     "metadata": {},
     "output_type": "execute_result"
    }
   ],
   "source": [
    "df.gender.value_counts()"
   ]
  },
  {
   "cell_type": "markdown",
   "metadata": {},
   "source": [
    "We need to clean the data so at the end to remain with only these 3 variables representing gender: \"Male\", \"Female\" and \"Male & Female\"."
   ]
  },
  {
   "cell_type": "code",
   "execution_count": 15,
   "metadata": {},
   "outputs": [],
   "source": [
    "#replace \"M\",\"F\" values with \"Male\", \"Female\" to avoid inconsistencies\n",
    "df.replace('M','Male', inplace=True)\n",
    "df.replace('F','Female', inplace=True)"
   ]
  },
  {
   "cell_type": "markdown",
   "metadata": {},
   "source": [
    "#### Find missing gender value:"
   ]
  },
  {
   "cell_type": "code",
   "execution_count": 16,
   "metadata": {},
   "outputs": [
    {
     "data": {
      "text/html": [
       "<div>\n",
       "<style scoped>\n",
       "    .dataframe tbody tr th:only-of-type {\n",
       "        vertical-align: middle;\n",
       "    }\n",
       "\n",
       "    .dataframe tbody tr th {\n",
       "        vertical-align: top;\n",
       "    }\n",
       "\n",
       "    .dataframe thead th {\n",
       "        text-align: right;\n",
       "    }\n",
       "</style>\n",
       "<table border=\"1\" class=\"dataframe\">\n",
       "  <thead>\n",
       "    <tr style=\"text-align: right;\">\n",
       "      <th></th>\n",
       "      <th>case</th>\n",
       "      <th>location</th>\n",
       "      <th>date</th>\n",
       "      <th>summary</th>\n",
       "      <th>fatalities</th>\n",
       "      <th>injured</th>\n",
       "      <th>total_victims</th>\n",
       "      <th>location.1</th>\n",
       "      <th>age</th>\n",
       "      <th>prior_signs_mental_health_issues</th>\n",
       "      <th>weapons_obtained_legally</th>\n",
       "      <th>weapon_type</th>\n",
       "      <th>weapon_details</th>\n",
       "      <th>race</th>\n",
       "      <th>gender</th>\n",
       "      <th>latitude</th>\n",
       "      <th>longitude</th>\n",
       "      <th>type</th>\n",
       "      <th>year</th>\n",
       "    </tr>\n",
       "  </thead>\n",
       "  <tbody>\n",
       "    <tr>\n",
       "      <th>1</th>\n",
       "      <td>Jersey City kosher market shooting</td>\n",
       "      <td>Jersey City, New Jersey</td>\n",
       "      <td>12/10/19</td>\n",
       "      <td>David N. Anderson, 47, and Francine Graham, 50...</td>\n",
       "      <td>4</td>\n",
       "      <td>3</td>\n",
       "      <td>7</td>\n",
       "      <td>Other</td>\n",
       "      <td>48</td>\n",
       "      <td>-</td>\n",
       "      <td>-</td>\n",
       "      <td>-</td>\n",
       "      <td>-</td>\n",
       "      <td>Black</td>\n",
       "      <td>-</td>\n",
       "      <td>40.707363</td>\n",
       "      <td>-74.083609</td>\n",
       "      <td>Spree</td>\n",
       "      <td>2019</td>\n",
       "    </tr>\n",
       "  </tbody>\n",
       "</table>\n",
       "</div>"
      ],
      "text/plain": [
       "                                 case                 location      date  \\\n",
       "1  Jersey City kosher market shooting  Jersey City, New Jersey  12/10/19   \n",
       "\n",
       "                                             summary  fatalities  injured  \\\n",
       "1  David N. Anderson, 47, and Francine Graham, 50...           4        3   \n",
       "\n",
       "   total_victims location.1  age prior_signs_mental_health_issues  \\\n",
       "1              7      Other   48                                -   \n",
       "\n",
       "  weapons_obtained_legally weapon_type weapon_details   race gender  \\\n",
       "1                        -           -              -  Black      -   \n",
       "\n",
       "    latitude  longitude   type  year  \n",
       "1  40.707363 -74.083609  Spree  2019  "
      ]
     },
     "execution_count": 16,
     "metadata": {},
     "output_type": "execute_result"
    }
   ],
   "source": [
    "df.loc[df['gender'] == '-']"
   ]
  },
  {
   "cell_type": "markdown",
   "metadata": {},
   "source": [
    "Reading the summary, it is clear that the attack was made by two shooters, a male and female. We can safely replace \"-\" with \"Male & Female\""
   ]
  },
  {
   "cell_type": "code",
   "execution_count": 17,
   "metadata": {},
   "outputs": [],
   "source": [
    "#replace missing gender values \n",
    "df.loc[1, 'gender'] = 'Male & Female' "
   ]
  },
  {
   "cell_type": "markdown",
   "metadata": {},
   "source": [
    "#### Final gender breakdown after cleanup:"
   ]
  },
  {
   "cell_type": "code",
   "execution_count": 18,
   "metadata": {},
   "outputs": [
    {
     "data": {
      "text/plain": [
       "Male             113\n",
       "Female             3\n",
       "Male & Female      2\n",
       "Name: gender, dtype: int64"
      ]
     },
     "execution_count": 18,
     "metadata": {},
     "output_type": "execute_result"
    }
   ],
   "source": [
    "df.gender.value_counts()"
   ]
  },
  {
   "cell_type": "markdown",
   "metadata": {},
   "source": [
    "## 6. Cleaning 'race' column"
   ]
  },
  {
   "cell_type": "markdown",
   "metadata": {},
   "source": [
    "The original breakdown of number of mass shootings by race:"
   ]
  },
  {
   "cell_type": "code",
   "execution_count": 19,
   "metadata": {},
   "outputs": [
    {
     "data": {
      "text/plain": [
       "white              41\n",
       "White              23\n",
       "Black              12\n",
       "Latino             10\n",
       "black               9\n",
       "Asian               8\n",
       "-                   5\n",
       "Other               5\n",
       "Native American     3\n",
       "White               1\n",
       "unclear             1\n",
       "Name: race, dtype: int64"
      ]
     },
     "execution_count": 19,
     "metadata": {},
     "output_type": "execute_result"
    }
   ],
   "source": [
    "df.race.value_counts()"
   ]
  },
  {
   "cell_type": "markdown",
   "metadata": {},
   "source": [
    "We need to clean the values, so at the end to remain with 7 variables representing the following ethnicities: \"White\", \"Black\", \"Latino\", \"Asian\", \"Native American\", \"Other\", \"Unknown\"."
   ]
  },
  {
   "cell_type": "code",
   "execution_count": 20,
   "metadata": {},
   "outputs": [],
   "source": [
    "#replacing values\n",
    "df.replace('white','White', inplace=True)\n",
    "df.replace('black','Black', inplace=True)\n",
    "df.replace('White ','White', inplace=True) #string with a trailing white space\n",
    "df.replace('-','Other', inplace=True)\n",
    "df.replace('unclear','Unknown', inplace=True)"
   ]
  },
  {
   "cell_type": "markdown",
   "metadata": {},
   "source": [
    "#### Final race breakdown after cleanup:"
   ]
  },
  {
   "cell_type": "code",
   "execution_count": 21,
   "metadata": {},
   "outputs": [
    {
     "data": {
      "text/plain": [
       "White              65\n",
       "Black              21\n",
       "Latino             10\n",
       "Other              10\n",
       "Asian               8\n",
       "Native American     3\n",
       "Unknown             1\n",
       "Name: race, dtype: int64"
      ]
     },
     "execution_count": 21,
     "metadata": {},
     "output_type": "execute_result"
    }
   ],
   "source": [
    "df.race.value_counts()"
   ]
  },
  {
   "cell_type": "markdown",
   "metadata": {},
   "source": [
    "## 7. Cleaning \"location\" column"
   ]
  },
  {
   "cell_type": "markdown",
   "metadata": {},
   "source": [
    "The original breakdown of number of mass shootings by location:"
   ]
  },
  {
   "cell_type": "code",
   "execution_count": 22,
   "metadata": {},
   "outputs": [
    {
     "data": {
      "text/plain": [
       "Orlando, Florida                        2\n",
       "Colorado Springs, Colorado              2\n",
       "Fort Hood, Texas                        2\n",
       "San Francisco, California               2\n",
       "Dallas, Texas                           2\n",
       "                                       ..\n",
       "Fairchild Air Force Base, Washington    1\n",
       "Red Lake, Minnesota                     1\n",
       "San Ysidro, California                  1\n",
       "Virginia Beach, Virginia                1\n",
       "Washington, D.C.                        1\n",
       "Name: location, Length: 110, dtype: int64"
      ]
     },
     "execution_count": 22,
     "metadata": {},
     "output_type": "execute_result"
    }
   ],
   "source": [
    "df.location.value_counts()"
   ]
  },
  {
   "cell_type": "markdown",
   "metadata": {},
   "source": [
    "It would be helpful to split this data and <b>create two additional columns</b> one representing the <b>\"city\"</b>, while the other the <b>\"state\"</b>. This will help us analyze the data better and create valuable visualizations."
   ]
  },
  {
   "cell_type": "markdown",
   "metadata": {},
   "source": [
    "## 8. Adding a 'state' column:"
   ]
  },
  {
   "cell_type": "code",
   "execution_count": 23,
   "metadata": {},
   "outputs": [],
   "source": [
    "# Split the location values by comma using a lambda function\n",
    "df['state'] = df.location.apply(lambda x: x.split(',')[1])"
   ]
  },
  {
   "cell_type": "code",
   "execution_count": 24,
   "metadata": {},
   "outputs": [
    {
     "data": {
      "text/plain": [
       " California        20\n",
       " Florida           12\n",
       " Texas             11\n",
       " Washington         7\n",
       " Colorado           6\n",
       " Pennsylvania       5\n",
       " Wisconsin          5\n",
       " Ohio               4\n",
       " New York           4\n",
       " Illinois           4\n",
       " Connecticut        3\n",
       " Maryland           3\n",
       " Nevada             2\n",
       " Georgia            2\n",
       " Tennessee          2\n",
       " South Carolina     2\n",
       " North Carolina     2\n",
       " Oregon             2\n",
       " Virginia           2\n",
       " Minnesota          2\n",
       " Michigan           2\n",
       " Kentucky           2\n",
       " New Jersey         1\n",
       " Mississippi        1\n",
       " Arizona            1\n",
       " Utah               1\n",
       " Kansas             1\n",
       " D.C.               1\n",
       " Missouri           1\n",
       " Oklahoma           1\n",
       " Massachusetts      1\n",
       " Hawaii             1\n",
       " Nebraska           1\n",
       " Arkansas           1\n",
       " Lousiana           1\n",
       " Iowa               1\n",
       "Name: state, dtype: int64"
      ]
     },
     "execution_count": 24,
     "metadata": {},
     "output_type": "execute_result"
    }
   ],
   "source": [
    "df.state.value_counts().sort_values(ascending=False)"
   ]
  },
  {
   "cell_type": "markdown",
   "metadata": {},
   "source": [
    "#### Remove whitespaces from all the state values:"
   ]
  },
  {
   "cell_type": "code",
   "execution_count": 25,
   "metadata": {},
   "outputs": [],
   "source": [
    "df['state'] = df.state.str.strip()"
   ]
  },
  {
   "cell_type": "markdown",
   "metadata": {},
   "source": [
    "## 9. Adding a state code column"
   ]
  },
  {
   "cell_type": "markdown",
   "metadata": {},
   "source": [
    "To add column with the U.S. state abbreviations we will need a dictionary that we will use to \"translate\" the states' full-names to two letter acronyms. We will obtain this result by using the <b>.map()</b> function."
   ]
  },
  {
   "cell_type": "markdown",
   "metadata": {},
   "source": [
    "#### Dictionary translating full name US states to two-letters state abbreviations:"
   ]
  },
  {
   "cell_type": "code",
   "execution_count": 26,
   "metadata": {},
   "outputs": [],
   "source": [
    "us_state_abbrev = {\n",
    "    'Alabama': 'AL',\n",
    "    'Alaska': 'AK',\n",
    "    'Arizona': 'AZ',\n",
    "    'Arkansas': 'AR',\n",
    "    'California': 'CA',\n",
    "    'Colorado': 'CO',\n",
    "    'Connecticut': 'CT',\n",
    "    'Delaware': 'DE',\n",
    "    'D.C.': 'DC',\n",
    "    'Florida': 'FL',\n",
    "    'Georgia': 'GA',\n",
    "    'Hawaii': 'HI',\n",
    "    'Idaho': 'ID',\n",
    "    'Illinois': 'IL',\n",
    "    'Indiana': 'IN',\n",
    "    'Iowa': 'IA',\n",
    "    'Kansas': 'KS',\n",
    "    'Kentucky': 'KY',\n",
    "    'Louisiana': 'LA',\n",
    "    'Maine': 'ME',\n",
    "    'Maryland': 'MD',\n",
    "    'Massachusetts': 'MA',\n",
    "    'Michigan': 'MI',\n",
    "    'Minnesota': 'MN',\n",
    "    'Mississippi': 'MS',\n",
    "    'Missouri': 'MO',\n",
    "    'Montana': 'MT',\n",
    "    'Nebraska': 'NE',\n",
    "    'Nevada': 'NV',\n",
    "    'New Hampshire': 'NH',\n",
    "    'New Jersey': 'NJ',\n",
    "    'New Mexico': 'NM',\n",
    "    'New York': 'NY',\n",
    "    'North Carolina': 'NC',\n",
    "    'North Dakota': 'ND',\n",
    "    'Northern Mariana Islands':'MP',\n",
    "    'Ohio': 'OH',\n",
    "    'Oklahoma': 'OK',\n",
    "    'Oregon': 'OR',\n",
    "    'Palau': 'PW',\n",
    "    'Pennsylvania': 'PA',\n",
    "    'Puerto Rico': 'PR',\n",
    "    'Rhode Island': 'RI',\n",
    "    'South Carolina': 'SC',\n",
    "    'South Dakota': 'SD',\n",
    "    'Tennessee': 'TN',\n",
    "    'Texas': 'TX',\n",
    "    'Utah': 'UT',\n",
    "    'Vermont': 'VT',\n",
    "    'Virgin Islands': 'VI',\n",
    "    'Virginia': 'VA',\n",
    "    'Washington': 'WA',\n",
    "    'West Virginia': 'WV',\n",
    "    'Wisconsin': 'WI',\n",
    "    'Wyoming': 'WY',\n",
    "}"
   ]
  },
  {
   "cell_type": "markdown",
   "metadata": {},
   "source": [
    "Create a 'state_code' column by mapping 'state' to 'us_state_abbrev':"
   ]
  },
  {
   "cell_type": "code",
   "execution_count": 27,
   "metadata": {},
   "outputs": [],
   "source": [
    "df['state_code'] = df['state'].map(us_state_abbrev)"
   ]
  },
  {
   "cell_type": "markdown",
   "metadata": {},
   "source": [
    "<b>Final conversion:</b>"
   ]
  },
  {
   "cell_type": "code",
   "execution_count": 28,
   "metadata": {},
   "outputs": [
    {
     "data": {
      "text/html": [
       "<div>\n",
       "<style scoped>\n",
       "    .dataframe tbody tr th:only-of-type {\n",
       "        vertical-align: middle;\n",
       "    }\n",
       "\n",
       "    .dataframe tbody tr th {\n",
       "        vertical-align: top;\n",
       "    }\n",
       "\n",
       "    .dataframe thead th {\n",
       "        text-align: right;\n",
       "    }\n",
       "</style>\n",
       "<table border=\"1\" class=\"dataframe\">\n",
       "  <thead>\n",
       "    <tr style=\"text-align: right;\">\n",
       "      <th></th>\n",
       "      <th>state</th>\n",
       "      <th>state_code</th>\n",
       "    </tr>\n",
       "  </thead>\n",
       "  <tbody>\n",
       "    <tr>\n",
       "      <th>0</th>\n",
       "      <td>Wisconsin</td>\n",
       "      <td>WI</td>\n",
       "    </tr>\n",
       "    <tr>\n",
       "      <th>1</th>\n",
       "      <td>New Jersey</td>\n",
       "      <td>NJ</td>\n",
       "    </tr>\n",
       "    <tr>\n",
       "      <th>2</th>\n",
       "      <td>Florida</td>\n",
       "      <td>FL</td>\n",
       "    </tr>\n",
       "    <tr>\n",
       "      <th>3</th>\n",
       "      <td>Texas</td>\n",
       "      <td>TX</td>\n",
       "    </tr>\n",
       "    <tr>\n",
       "      <th>4</th>\n",
       "      <td>Ohio</td>\n",
       "      <td>OH</td>\n",
       "    </tr>\n",
       "    <tr>\n",
       "      <th>...</th>\n",
       "      <td>...</td>\n",
       "      <td>...</td>\n",
       "    </tr>\n",
       "    <tr>\n",
       "      <th>113</th>\n",
       "      <td>Florida</td>\n",
       "      <td>FL</td>\n",
       "    </tr>\n",
       "    <tr>\n",
       "      <th>114</th>\n",
       "      <td>Oklahoma</td>\n",
       "      <td>OK</td>\n",
       "    </tr>\n",
       "    <tr>\n",
       "      <th>115</th>\n",
       "      <td>California</td>\n",
       "      <td>CA</td>\n",
       "    </tr>\n",
       "    <tr>\n",
       "      <th>116</th>\n",
       "      <td>Texas</td>\n",
       "      <td>TX</td>\n",
       "    </tr>\n",
       "    <tr>\n",
       "      <th>117</th>\n",
       "      <td>Florida</td>\n",
       "      <td>FL</td>\n",
       "    </tr>\n",
       "  </tbody>\n",
       "</table>\n",
       "<p>118 rows × 2 columns</p>\n",
       "</div>"
      ],
      "text/plain": [
       "          state state_code\n",
       "0     Wisconsin         WI\n",
       "1    New Jersey         NJ\n",
       "2       Florida         FL\n",
       "3         Texas         TX\n",
       "4          Ohio         OH\n",
       "..          ...        ...\n",
       "113     Florida         FL\n",
       "114    Oklahoma         OK\n",
       "115  California         CA\n",
       "116       Texas         TX\n",
       "117     Florida         FL\n",
       "\n",
       "[118 rows x 2 columns]"
      ]
     },
     "execution_count": 28,
     "metadata": {},
     "output_type": "execute_result"
    }
   ],
   "source": [
    "df[['state','state_code']]"
   ]
  },
  {
   "cell_type": "markdown",
   "metadata": {},
   "source": [
    "#### Checking to see if all the states were converted to state codes"
   ]
  },
  {
   "cell_type": "markdown",
   "metadata": {},
   "source": [
    "We'll count the number of values in df.state and compare it to the number of values in df.state_code. \n",
    "\n",
    "- If they're equal <i>(result is True)</i>, then the conversion was a success.<br>\n",
    "\n",
    "- If the result is False, then some values weren't converted and we might have to deal with some missing/wrong data."
   ]
  },
  {
   "cell_type": "code",
   "execution_count": 29,
   "metadata": {},
   "outputs": [
    {
     "data": {
      "text/plain": [
       "False"
      ]
     },
     "execution_count": 29,
     "metadata": {},
     "output_type": "execute_result"
    }
   ],
   "source": [
    "df.state.count() == df.state_code.count()"
   ]
  },
  {
   "cell_type": "code",
   "execution_count": 30,
   "metadata": {
    "scrolled": true
   },
   "outputs": [
    {
     "data": {
      "text/plain": [
       "118"
      ]
     },
     "execution_count": 30,
     "metadata": {},
     "output_type": "execute_result"
    }
   ],
   "source": [
    "df.state.count()"
   ]
  },
  {
   "cell_type": "code",
   "execution_count": 31,
   "metadata": {},
   "outputs": [
    {
     "data": {
      "text/plain": [
       "117"
      ]
     },
     "execution_count": 31,
     "metadata": {},
     "output_type": "execute_result"
    }
   ],
   "source": [
    "df.state_code.count()"
   ]
  },
  {
   "cell_type": "markdown",
   "metadata": {},
   "source": [
    "#### 1 value wasn't converted."
   ]
  },
  {
   "cell_type": "markdown",
   "metadata": {},
   "source": [
    "Let's find the value that couldn't be converted "
   ]
  },
  {
   "cell_type": "code",
   "execution_count": 32,
   "metadata": {},
   "outputs": [
    {
     "data": {
      "text/html": [
       "<div>\n",
       "<style scoped>\n",
       "    .dataframe tbody tr th:only-of-type {\n",
       "        vertical-align: middle;\n",
       "    }\n",
       "\n",
       "    .dataframe tbody tr th {\n",
       "        vertical-align: top;\n",
       "    }\n",
       "\n",
       "    .dataframe thead th {\n",
       "        text-align: right;\n",
       "    }\n",
       "</style>\n",
       "<table border=\"1\" class=\"dataframe\">\n",
       "  <thead>\n",
       "    <tr style=\"text-align: right;\">\n",
       "      <th></th>\n",
       "      <th>case</th>\n",
       "      <th>location</th>\n",
       "      <th>date</th>\n",
       "      <th>summary</th>\n",
       "      <th>fatalities</th>\n",
       "      <th>injured</th>\n",
       "      <th>total_victims</th>\n",
       "      <th>location.1</th>\n",
       "      <th>age</th>\n",
       "      <th>prior_signs_mental_health_issues</th>\n",
       "      <th>...</th>\n",
       "      <th>weapon_type</th>\n",
       "      <th>weapon_details</th>\n",
       "      <th>race</th>\n",
       "      <th>gender</th>\n",
       "      <th>latitude</th>\n",
       "      <th>longitude</th>\n",
       "      <th>type</th>\n",
       "      <th>year</th>\n",
       "      <th>state</th>\n",
       "      <th>state_code</th>\n",
       "    </tr>\n",
       "  </thead>\n",
       "  <tbody>\n",
       "    <tr>\n",
       "      <th>35</th>\n",
       "      <td>Baton Rouge police shooting</td>\n",
       "      <td>Baton Rouge, Lousiana</td>\n",
       "      <td>7/17/2016</td>\n",
       "      <td>Gavin Long, 29, a former Marine who served in ...</td>\n",
       "      <td>3</td>\n",
       "      <td>3</td>\n",
       "      <td>6</td>\n",
       "      <td>Other</td>\n",
       "      <td>29</td>\n",
       "      <td>Yes</td>\n",
       "      <td>...</td>\n",
       "      <td>Two semiautomatic rifles; one semiautomatic ha...</td>\n",
       "      <td>IWI Tavor SAR 5.56 caliber rifle, Springfield ...</td>\n",
       "      <td>Black</td>\n",
       "      <td>Male</td>\n",
       "      <td>30.433601</td>\n",
       "      <td>-91.081403</td>\n",
       "      <td>Spree</td>\n",
       "      <td>2016</td>\n",
       "      <td>Lousiana</td>\n",
       "      <td>NaN</td>\n",
       "    </tr>\n",
       "  </tbody>\n",
       "</table>\n",
       "<p>1 rows × 21 columns</p>\n",
       "</div>"
      ],
      "text/plain": [
       "                           case               location       date  \\\n",
       "35  Baton Rouge police shooting  Baton Rouge, Lousiana  7/17/2016   \n",
       "\n",
       "                                              summary  fatalities  injured  \\\n",
       "35  Gavin Long, 29, a former Marine who served in ...           3        3   \n",
       "\n",
       "    total_victims location.1  age prior_signs_mental_health_issues  ...  \\\n",
       "35              6      Other   29                              Yes  ...   \n",
       "\n",
       "                                          weapon_type  \\\n",
       "35  Two semiautomatic rifles; one semiautomatic ha...   \n",
       "\n",
       "                                       weapon_details   race gender  \\\n",
       "35  IWI Tavor SAR 5.56 caliber rifle, Springfield ...  Black   Male   \n",
       "\n",
       "     latitude  longitude   type  year     state state_code  \n",
       "35  30.433601 -91.081403  Spree  2016  Lousiana        NaN  \n",
       "\n",
       "[1 rows x 21 columns]"
      ]
     },
     "execution_count": 32,
     "metadata": {},
     "output_type": "execute_result"
    }
   ],
   "source": [
    "# Check for NaN values\n",
    "df.loc[df['state_code'].isna()]"
   ]
  },
  {
   "cell_type": "markdown",
   "metadata": {},
   "source": [
    "We have 1 instance where the the state was <b> not converted due to a typo </b> ('Lousiana' instead of 'Louisiana'). Let's fix that."
   ]
  },
  {
   "cell_type": "code",
   "execution_count": 33,
   "metadata": {},
   "outputs": [],
   "source": [
    "#replace Lousiana with Louisiana\n",
    "df.state.replace('Lousiana','Louisiana', inplace=True)"
   ]
  },
  {
   "cell_type": "code",
   "execution_count": 34,
   "metadata": {},
   "outputs": [],
   "source": [
    "df['state_code'] = df['state'].map(us_state_abbrev)"
   ]
  },
  {
   "cell_type": "code",
   "execution_count": 35,
   "metadata": {},
   "outputs": [
    {
     "data": {
      "text/plain": [
       "True"
      ]
     },
     "execution_count": 35,
     "metadata": {},
     "output_type": "execute_result"
    }
   ],
   "source": [
    "df.state.count() == df.state_code.count()"
   ]
  },
  {
   "cell_type": "markdown",
   "metadata": {},
   "source": [
    "Succes!"
   ]
  },
  {
   "cell_type": "markdown",
   "metadata": {},
   "source": [
    "## 10. Add a city column"
   ]
  },
  {
   "cell_type": "code",
   "execution_count": 36,
   "metadata": {},
   "outputs": [],
   "source": [
    "#using lambda split location by comma and keep the first string which represents the city\n",
    "df['city'] = df.location.apply(lambda x: x.split(',')[0])\n",
    "df['city'] = df.city.str.strip() #remove whitespaces"
   ]
  },
  {
   "cell_type": "code",
   "execution_count": 37,
   "metadata": {},
   "outputs": [
    {
     "data": {
      "text/html": [
       "<div>\n",
       "<style scoped>\n",
       "    .dataframe tbody tr th:only-of-type {\n",
       "        vertical-align: middle;\n",
       "    }\n",
       "\n",
       "    .dataframe tbody tr th {\n",
       "        vertical-align: top;\n",
       "    }\n",
       "\n",
       "    .dataframe thead th {\n",
       "        text-align: right;\n",
       "    }\n",
       "</style>\n",
       "<table border=\"1\" class=\"dataframe\">\n",
       "  <thead>\n",
       "    <tr style=\"text-align: right;\">\n",
       "      <th></th>\n",
       "      <th>state</th>\n",
       "      <th>state_code</th>\n",
       "      <th>city</th>\n",
       "    </tr>\n",
       "  </thead>\n",
       "  <tbody>\n",
       "    <tr>\n",
       "      <th>0</th>\n",
       "      <td>Wisconsin</td>\n",
       "      <td>WI</td>\n",
       "      <td>Milwaukee</td>\n",
       "    </tr>\n",
       "    <tr>\n",
       "      <th>1</th>\n",
       "      <td>New Jersey</td>\n",
       "      <td>NJ</td>\n",
       "      <td>Jersey City</td>\n",
       "    </tr>\n",
       "    <tr>\n",
       "      <th>2</th>\n",
       "      <td>Florida</td>\n",
       "      <td>FL</td>\n",
       "      <td>Pensacola</td>\n",
       "    </tr>\n",
       "    <tr>\n",
       "      <th>3</th>\n",
       "      <td>Texas</td>\n",
       "      <td>TX</td>\n",
       "      <td>Odessa</td>\n",
       "    </tr>\n",
       "    <tr>\n",
       "      <th>4</th>\n",
       "      <td>Ohio</td>\n",
       "      <td>OH</td>\n",
       "      <td>Dayton</td>\n",
       "    </tr>\n",
       "    <tr>\n",
       "      <th>...</th>\n",
       "      <td>...</td>\n",
       "      <td>...</td>\n",
       "      <td>...</td>\n",
       "    </tr>\n",
       "    <tr>\n",
       "      <th>113</th>\n",
       "      <td>Florida</td>\n",
       "      <td>FL</td>\n",
       "      <td>Palm Bay</td>\n",
       "    </tr>\n",
       "    <tr>\n",
       "      <th>114</th>\n",
       "      <td>Oklahoma</td>\n",
       "      <td>OK</td>\n",
       "      <td>Edmond</td>\n",
       "    </tr>\n",
       "    <tr>\n",
       "      <th>115</th>\n",
       "      <td>California</td>\n",
       "      <td>CA</td>\n",
       "      <td>San Ysidro</td>\n",
       "    </tr>\n",
       "    <tr>\n",
       "      <th>116</th>\n",
       "      <td>Texas</td>\n",
       "      <td>TX</td>\n",
       "      <td>Dallas</td>\n",
       "    </tr>\n",
       "    <tr>\n",
       "      <th>117</th>\n",
       "      <td>Florida</td>\n",
       "      <td>FL</td>\n",
       "      <td>Miami</td>\n",
       "    </tr>\n",
       "  </tbody>\n",
       "</table>\n",
       "<p>118 rows × 3 columns</p>\n",
       "</div>"
      ],
      "text/plain": [
       "          state state_code         city\n",
       "0     Wisconsin         WI    Milwaukee\n",
       "1    New Jersey         NJ  Jersey City\n",
       "2       Florida         FL    Pensacola\n",
       "3         Texas         TX       Odessa\n",
       "4          Ohio         OH       Dayton\n",
       "..          ...        ...          ...\n",
       "113     Florida         FL     Palm Bay\n",
       "114    Oklahoma         OK       Edmond\n",
       "115  California         CA   San Ysidro\n",
       "116       Texas         TX       Dallas\n",
       "117     Florida         FL        Miami\n",
       "\n",
       "[118 rows x 3 columns]"
      ]
     },
     "execution_count": 37,
     "metadata": {},
     "output_type": "execute_result"
    }
   ],
   "source": [
    "df[['state','state_code','city']]"
   ]
  },
  {
   "cell_type": "markdown",
   "metadata": {},
   "source": [
    "## 11. Cleaning and exploring 'location.1' column"
   ]
  },
  {
   "cell_type": "markdown",
   "metadata": {},
   "source": [
    "'location.1' does not sufficently describe the data. Let's rename it to a name that's easier to understand."
   ]
  },
  {
   "cell_type": "markdown",
   "metadata": {},
   "source": [
    "### Rename column to 'shooting_area'"
   ]
  },
  {
   "cell_type": "code",
   "execution_count": 38,
   "metadata": {},
   "outputs": [],
   "source": [
    "df.rename(columns={'location.1':'shooting_area'}, inplace=True)"
   ]
  },
  {
   "cell_type": "markdown",
   "metadata": {},
   "source": [
    "The breakdown of 'shooting_area':"
   ]
  },
  {
   "cell_type": "code",
   "execution_count": 39,
   "metadata": {},
   "outputs": [
    {
     "data": {
      "text/plain": [
       "Other            46\n",
       "Workplace        38\n",
       "School           17\n",
       "Military          6\n",
       "Religious         6\n",
       "Other\\r\\n         3\n",
       "\\r\\nWorkplace     1\n",
       "Airport           1\n",
       "Name: shooting_area, dtype: int64"
      ]
     },
     "execution_count": 39,
     "metadata": {},
     "output_type": "execute_result"
    }
   ],
   "source": [
    "df.shooting_area.value_counts()"
   ]
  },
  {
   "cell_type": "code",
   "execution_count": 40,
   "metadata": {},
   "outputs": [
    {
     "data": {
      "text/html": [
       "<div>\n",
       "<style scoped>\n",
       "    .dataframe tbody tr th:only-of-type {\n",
       "        vertical-align: middle;\n",
       "    }\n",
       "\n",
       "    .dataframe tbody tr th {\n",
       "        vertical-align: top;\n",
       "    }\n",
       "\n",
       "    .dataframe thead th {\n",
       "        text-align: right;\n",
       "    }\n",
       "</style>\n",
       "<table border=\"1\" class=\"dataframe\">\n",
       "  <thead>\n",
       "    <tr style=\"text-align: right;\">\n",
       "      <th></th>\n",
       "      <th>case</th>\n",
       "      <th>summary</th>\n",
       "      <th>shooting_area</th>\n",
       "    </tr>\n",
       "  </thead>\n",
       "  <tbody>\n",
       "    <tr>\n",
       "      <th>0</th>\n",
       "      <td>Molson Coors shooting</td>\n",
       "      <td>Anthony Ferrill, 51, an employee armed with tw...</td>\n",
       "      <td>Workplace</td>\n",
       "    </tr>\n",
       "    <tr>\n",
       "      <th>1</th>\n",
       "      <td>Jersey City kosher market shooting</td>\n",
       "      <td>David N. Anderson, 47, and Francine Graham, 50...</td>\n",
       "      <td>Other</td>\n",
       "    </tr>\n",
       "    <tr>\n",
       "      <th>2</th>\n",
       "      <td>Pensacola Naval base shooting</td>\n",
       "      <td>Ahmed Mohammed al-Shamrani, A Saudi Arabian mi...</td>\n",
       "      <td>Military</td>\n",
       "    </tr>\n",
       "    <tr>\n",
       "      <th>3</th>\n",
       "      <td>Odessa-Midland shooting spree</td>\n",
       "      <td>Seth A. Ator, 36, fired at police officers who...</td>\n",
       "      <td>Other</td>\n",
       "    </tr>\n",
       "    <tr>\n",
       "      <th>4</th>\n",
       "      <td>Dayton entertainment district shooting</td>\n",
       "      <td>Connor Betts, 24, died during the attack, foll...</td>\n",
       "      <td>Other</td>\n",
       "    </tr>\n",
       "    <tr>\n",
       "      <th>...</th>\n",
       "      <td>...</td>\n",
       "      <td>...</td>\n",
       "      <td>...</td>\n",
       "    </tr>\n",
       "    <tr>\n",
       "      <th>113</th>\n",
       "      <td>Shopping centers spree killings</td>\n",
       "      <td>Retired librarian William Cruse, 59, was paran...</td>\n",
       "      <td>Other</td>\n",
       "    </tr>\n",
       "    <tr>\n",
       "      <th>114</th>\n",
       "      <td>United States Postal Service shooting</td>\n",
       "      <td>Postal worker Patrick Sherrill, 44, opened fir...</td>\n",
       "      <td>Workplace</td>\n",
       "    </tr>\n",
       "    <tr>\n",
       "      <th>115</th>\n",
       "      <td>San Ysidro McDonald's massacre</td>\n",
       "      <td>James Oliver Huberty, 41, opened fire in a McD...</td>\n",
       "      <td>Other</td>\n",
       "    </tr>\n",
       "    <tr>\n",
       "      <th>116</th>\n",
       "      <td>Dallas nightclub shooting</td>\n",
       "      <td>Abdelkrim Belachheb, 39, opened fire at an ups...</td>\n",
       "      <td>Other</td>\n",
       "    </tr>\n",
       "    <tr>\n",
       "      <th>117</th>\n",
       "      <td>Welding shop shooting</td>\n",
       "      <td>Junior high school teacher Carl Robert Brown, ...</td>\n",
       "      <td>Other</td>\n",
       "    </tr>\n",
       "  </tbody>\n",
       "</table>\n",
       "<p>118 rows × 3 columns</p>\n",
       "</div>"
      ],
      "text/plain": [
       "                                       case  \\\n",
       "0                     Molson Coors shooting   \n",
       "1        Jersey City kosher market shooting   \n",
       "2             Pensacola Naval base shooting   \n",
       "3             Odessa-Midland shooting spree   \n",
       "4    Dayton entertainment district shooting   \n",
       "..                                      ...   \n",
       "113         Shopping centers spree killings   \n",
       "114   United States Postal Service shooting   \n",
       "115          San Ysidro McDonald's massacre   \n",
       "116               Dallas nightclub shooting   \n",
       "117                   Welding shop shooting   \n",
       "\n",
       "                                               summary shooting_area  \n",
       "0    Anthony Ferrill, 51, an employee armed with tw...     Workplace  \n",
       "1    David N. Anderson, 47, and Francine Graham, 50...         Other  \n",
       "2    Ahmed Mohammed al-Shamrani, A Saudi Arabian mi...      Military  \n",
       "3    Seth A. Ator, 36, fired at police officers who...         Other  \n",
       "4    Connor Betts, 24, died during the attack, foll...         Other  \n",
       "..                                                 ...           ...  \n",
       "113  Retired librarian William Cruse, 59, was paran...         Other  \n",
       "114  Postal worker Patrick Sherrill, 44, opened fir...     Workplace  \n",
       "115  James Oliver Huberty, 41, opened fire in a McD...         Other  \n",
       "116  Abdelkrim Belachheb, 39, opened fire at an ups...         Other  \n",
       "117  Junior high school teacher Carl Robert Brown, ...         Other  \n",
       "\n",
       "[118 rows x 3 columns]"
      ]
     },
     "execution_count": 40,
     "metadata": {},
     "output_type": "execute_result"
    }
   ],
   "source": [
    "df[['case','summary','shooting_area']]"
   ]
  },
  {
   "cell_type": "markdown",
   "metadata": {},
   "source": [
    "After analyzing the descriptions of the shootings, we can replace some of the 'Other' values with more relevant data and find some incident location patterns we can use. "
   ]
  },
  {
   "cell_type": "markdown",
   "metadata": {},
   "source": [
    "#### Replace some 'other' values with more specific \"incident areas\""
   ]
  },
  {
   "cell_type": "code",
   "execution_count": 41,
   "metadata": {},
   "outputs": [],
   "source": [
    "df.shooting_area.replace('Other\\n','Other', inplace=True)\n",
    "df.shooting_area.replace('school','School', inplace=True)\n",
    "df.shooting_area.replace('\\nWorkplace','Workplace', inplace=True)\n",
    "df.loc[0,'shooting_area'] = 'Market'\n",
    "df.loc[5,'shooting_area'] = 'Festival'\n",
    "df.loc[11,'shooting_area'] = 'Club'\n",
    "df.loc[18,'shooting_area'] = 'Restaurant/Cafe'\n",
    "df.loc[24,'shooting_area'] = 'Shopping Mall/Store'\n",
    "df.loc[26,'shooting_area'] = 'Festival'\n",
    "df.loc[33,'shooting_area'] = 'Shopping Mall/Store'\n",
    "df.loc[36,'shooting_area'] = 'Club'\n",
    "df.loc[51,'shooting_area'] = 'Apartment'\n",
    "df.loc[53,'shooting_area'] = 'Apartment'\n",
    "df.loc[59,'shooting_area'] = 'Restaurant/Cafe'\n",
    "df.loc[63,'shooting_area'] = 'Restaurant/Cafe'\n",
    "df.loc[66,'shooting_area'] = 'Restaurant/Cafe'\n",
    "df.loc[69,'shooting_area'] = 'Nursing Home'\n",
    "df.loc[73,'shooting_area'] = 'Shopping Mall/Store'\n",
    "df.loc[101,'shooting_area'] = 'Restaurant/Cafe'\n",
    "df.loc[114,'shooting_area'] = 'Restaurant/Cafe'\n",
    "df.loc[114,'shooting_area'] = 'Club'"
   ]
  },
  {
   "cell_type": "markdown",
   "metadata": {},
   "source": [
    "#### Final shooting_area breakdown after cleanup:"
   ]
  },
  {
   "cell_type": "code",
   "execution_count": 42,
   "metadata": {},
   "outputs": [
    {
     "data": {
      "text/plain": [
       "Other                  40\n",
       "Workplace              32\n",
       "School                 16\n",
       "Military                5\n",
       "Religious               5\n",
       "Restaurant/Cafe         5\n",
       "Club                    3\n",
       "Shopping Mall/Store     3\n",
       "Festival                2\n",
       "Other\\r\\n               2\n",
       "Apartment               2\n",
       "\\r\\nWorkplace           1\n",
       "Market                  1\n",
       "Nursing Home            1\n",
       "Name: shooting_area, dtype: int64"
      ]
     },
     "execution_count": 42,
     "metadata": {},
     "output_type": "execute_result"
    }
   ],
   "source": [
    "df.shooting_area.value_counts()"
   ]
  },
  {
   "cell_type": "markdown",
   "metadata": {},
   "source": [
    "## 12. Cleaning weapons_obtained_legally"
   ]
  },
  {
   "cell_type": "markdown",
   "metadata": {},
   "source": [
    "#### Original breakdown of the weapons_obtained_legally values:"
   ]
  },
  {
   "cell_type": "code",
   "execution_count": 43,
   "metadata": {},
   "outputs": [
    {
     "data": {
      "text/plain": [
       "Yes                                                                                                                                    79\n",
       "No                                                                                                                                     16\n",
       "TBD                                                                                                                                     7\n",
       "Unknown                                                                                                                                 6\n",
       "Other                                                                                                                                   5\n",
       "\\r\\nYes                                                                                                                                 2\n",
       "Kelley passed federal criminal background checks; the US Air Force failed to provide information on his criminal history to the FBI     1\n",
       "Yes                                                                                                                                     1\n",
       "Yes (\"some of the weapons were purchased legally and some of them may not have been\")                                                   1\n",
       "Name: weapons_obtained_legally, dtype: int64"
      ]
     },
     "execution_count": 43,
     "metadata": {},
     "output_type": "execute_result"
    }
   ],
   "source": [
    "df.weapons_obtained_legally.value_counts()"
   ]
  },
  {
   "cell_type": "markdown",
   "metadata": {},
   "source": [
    "#### Replace the values with relevant data"
   ]
  },
  {
   "cell_type": "markdown",
   "metadata": {},
   "source": [
    "We want to obtain a breadown containing only 3 values: \"Yes\", \"No\", \"Unknown\"."
   ]
  },
  {
   "cell_type": "code",
   "execution_count": 44,
   "metadata": {
    "scrolled": true
   },
   "outputs": [],
   "source": [
    "df.weapons_obtained_legally.replace('Yes (\"some of the weapons were purchased legally and some of them may not have been\")','Yes', inplace=True)\n",
    "df.weapons_obtained_legally.replace('Kelley passed federal criminal background checks; the US Air Force failed to provide information on his criminal history to the FBI','Unknown', inplace=True)\n",
    "df.weapons_obtained_legally.replace('\\nYes','Yes', inplace=True)\n",
    "df.weapons_obtained_legally.replace('Yes ','Yes', inplace=True)\n",
    "df.weapons_obtained_legally.replace('-','Unknown', inplace=True)\n",
    "df.weapons_obtained_legally.replace('Unkown','Unknown', inplace=True)\n",
    "df.weapons_obtained_legally.replace('TBD','Unknown', inplace=True)\n",
    "df.weapons_obtained_legally.replace('Other','Unknown', inplace=True)"
   ]
  },
  {
   "cell_type": "markdown",
   "metadata": {},
   "source": [
    "#### Final weapons_obtained_legally breakdown after cleanup:"
   ]
  },
  {
   "cell_type": "code",
   "execution_count": 45,
   "metadata": {},
   "outputs": [
    {
     "data": {
      "text/plain": [
       "Yes        81\n",
       "Unknown    19\n",
       "No         16\n",
       "\\r\\nYes     2\n",
       "Name: weapons_obtained_legally, dtype: int64"
      ]
     },
     "execution_count": 45,
     "metadata": {},
     "output_type": "execute_result"
    }
   ],
   "source": [
    "df.weapons_obtained_legally.value_counts()"
   ]
  },
  {
   "cell_type": "markdown",
   "metadata": {},
   "source": [
    "## 13. Cleaning 'prior_signs_mental_health_issues' column"
   ]
  },
  {
   "cell_type": "markdown",
   "metadata": {},
   "source": [
    "#### Original breakdown:"
   ]
  },
  {
   "cell_type": "code",
   "execution_count": 46,
   "metadata": {},
   "outputs": [
    {
     "data": {
      "text/plain": [
       "Yes         58\n",
       "Unclear     23\n",
       "No          17\n",
       "Other       12\n",
       "TBD          5\n",
       "yes          1\n",
       "Unknown      1\n",
       "Unclear      1\n",
       "Name: prior_signs_mental_health_issues, dtype: int64"
      ]
     },
     "execution_count": 46,
     "metadata": {},
     "output_type": "execute_result"
    }
   ],
   "source": [
    "df.prior_signs_mental_health_issues.value_counts()"
   ]
  },
  {
   "cell_type": "code",
   "execution_count": 47,
   "metadata": {},
   "outputs": [],
   "source": [
    "df.prior_signs_mental_health_issues.replace('yes', 'Yes', inplace=True)\n",
    "df.prior_signs_mental_health_issues.replace('Other', 'Unknown', inplace=True)\n",
    "df.prior_signs_mental_health_issues.replace('Unclear ', 'Unknown', inplace=True) #trailing whitespace\n",
    "df.prior_signs_mental_health_issues.replace('Unclear', 'Unknown', inplace=True)\n",
    "df.prior_signs_mental_health_issues.replace('TBD', 'Unknown', inplace=True)\n",
    "df.prior_signs_mental_health_issues.replace('-', 'Unknown', inplace=True)"
   ]
  },
  {
   "cell_type": "markdown",
   "metadata": {},
   "source": [
    "#### Final cleaned breakdown:"
   ]
  },
  {
   "cell_type": "code",
   "execution_count": 48,
   "metadata": {},
   "outputs": [
    {
     "data": {
      "text/plain": [
       "Yes        59\n",
       "Unknown    42\n",
       "No         17\n",
       "Name: prior_signs_mental_health_issues, dtype: int64"
      ]
     },
     "execution_count": 48,
     "metadata": {},
     "output_type": "execute_result"
    }
   ],
   "source": [
    "df.prior_signs_mental_health_issues.value_counts()"
   ]
  },
  {
   "cell_type": "markdown",
   "metadata": {},
   "source": [
    "## 14. Dropping columns we don't longer need"
   ]
  },
  {
   "cell_type": "code",
   "execution_count": 49,
   "metadata": {},
   "outputs": [],
   "source": [
    "df.drop(columns=['location'],inplace=True)"
   ]
  },
  {
   "cell_type": "markdown",
   "metadata": {},
   "source": [
    "---"
   ]
  },
  {
   "cell_type": "code",
   "execution_count": 50,
   "metadata": {},
   "outputs": [
    {
     "data": {
      "text/plain": [
       "array([2020, 2019, 2018, 2017, 2016, 2015, 2014, 2013, 2012, 2011, 2010,\n",
       "       2009, 2008, 2007, 2006, 2005, 2004, 2003, 2001, 2000, 1999, 1998,\n",
       "       1997, 1996, 1995, 1994, 1993, 1992, 1991, 1990, 1989, 1988, 1987,\n",
       "       1986, 1984, 1982], dtype=int64)"
      ]
     },
     "execution_count": 50,
     "metadata": {},
     "output_type": "execute_result"
    }
   ],
   "source": [
    "#check year range\n",
    "df.year.unique()"
   ]
  },
  {
   "cell_type": "markdown",
   "metadata": {},
   "source": [
    "***"
   ]
  },
  {
   "cell_type": "markdown",
   "metadata": {},
   "source": [
    "# Data Exploration & Visualizations"
   ]
  },
  {
   "cell_type": "markdown",
   "metadata": {},
   "source": [
    "## 1. Total Victims by State (1982 - 2020)"
   ]
  },
  {
   "cell_type": "code",
   "execution_count": 51,
   "metadata": {
    "scrolled": true
   },
   "outputs": [],
   "source": [
    "tvictims_by_state = df.groupby('state_code')['total_victims'].sum().sort_values(ascending=True).reset_index()\n",
    "tvictims_by_state_asc = df.groupby('state_code')['total_victims'].sum().sort_values(ascending=False).reset_index()"
   ]
  },
  {
   "cell_type": "code",
   "execution_count": 52,
   "metadata": {},
   "outputs": [
    {
     "name": "stdout",
     "output_type": "stream",
     "text": [
      "\n",
      "STATES WITH MOST VICTIMS FROM MASS SHOOTINGS:\n"
     ]
    },
    {
     "data": {
      "text/html": [
       "<div>\n",
       "<style scoped>\n",
       "    .dataframe tbody tr th:only-of-type {\n",
       "        vertical-align: middle;\n",
       "    }\n",
       "\n",
       "    .dataframe tbody tr th {\n",
       "        vertical-align: top;\n",
       "    }\n",
       "\n",
       "    .dataframe thead th {\n",
       "        text-align: right;\n",
       "    }\n",
       "</style>\n",
       "<table border=\"1\" class=\"dataframe\">\n",
       "  <thead>\n",
       "    <tr style=\"text-align: right;\">\n",
       "      <th></th>\n",
       "      <th>state_code</th>\n",
       "      <th>total_victims</th>\n",
       "    </tr>\n",
       "  </thead>\n",
       "  <tbody>\n",
       "    <tr>\n",
       "      <th>0</th>\n",
       "      <td>NV</td>\n",
       "      <td>616</td>\n",
       "    </tr>\n",
       "    <tr>\n",
       "      <th>1</th>\n",
       "      <td>CA</td>\n",
       "      <td>299</td>\n",
       "    </tr>\n",
       "    <tr>\n",
       "      <th>2</th>\n",
       "      <td>TX</td>\n",
       "      <td>296</td>\n",
       "    </tr>\n",
       "    <tr>\n",
       "      <th>3</th>\n",
       "      <td>FL</td>\n",
       "      <td>235</td>\n",
       "    </tr>\n",
       "    <tr>\n",
       "      <th>4</th>\n",
       "      <td>CO</td>\n",
       "      <td>142</td>\n",
       "    </tr>\n",
       "  </tbody>\n",
       "</table>\n",
       "</div>"
      ],
      "text/plain": [
       "  state_code  total_victims\n",
       "0         NV            616\n",
       "1         CA            299\n",
       "2         TX            296\n",
       "3         FL            235\n",
       "4         CO            142"
      ]
     },
     "execution_count": 52,
     "metadata": {},
     "output_type": "execute_result"
    }
   ],
   "source": [
    "print(\"\\nStates with most victims from mass shootings:\".upper())\n",
    "tvictims_by_state_asc.head(5)"
   ]
  },
  {
   "cell_type": "code",
   "execution_count": 53,
   "metadata": {},
   "outputs": [
    {
     "data": {
      "text/html": [
       "<div>\n",
       "<style scoped>\n",
       "    .dataframe tbody tr th:only-of-type {\n",
       "        vertical-align: middle;\n",
       "    }\n",
       "\n",
       "    .dataframe tbody tr th {\n",
       "        vertical-align: top;\n",
       "    }\n",
       "\n",
       "    .dataframe thead th {\n",
       "        text-align: right;\n",
       "    }\n",
       "</style>\n",
       "<table border=\"1\" class=\"dataframe\">\n",
       "  <thead>\n",
       "    <tr style=\"text-align: right;\">\n",
       "      <th></th>\n",
       "      <th>case</th>\n",
       "      <th>date</th>\n",
       "      <th>summary</th>\n",
       "      <th>fatalities</th>\n",
       "      <th>injured</th>\n",
       "      <th>total_victims</th>\n",
       "      <th>shooting_area</th>\n",
       "      <th>age</th>\n",
       "      <th>prior_signs_mental_health_issues</th>\n",
       "      <th>weapons_obtained_legally</th>\n",
       "      <th>...</th>\n",
       "      <th>weapon_details</th>\n",
       "      <th>race</th>\n",
       "      <th>gender</th>\n",
       "      <th>latitude</th>\n",
       "      <th>longitude</th>\n",
       "      <th>type</th>\n",
       "      <th>year</th>\n",
       "      <th>state</th>\n",
       "      <th>state_code</th>\n",
       "      <th>city</th>\n",
       "    </tr>\n",
       "  </thead>\n",
       "  <tbody>\n",
       "    <tr>\n",
       "      <th>27</th>\n",
       "      <td>Las Vegas Strip massacre</td>\n",
       "      <td>10/1/17</td>\n",
       "      <td>Stephen Craig Paddock, 64, fired a barrage of ...</td>\n",
       "      <td>58</td>\n",
       "      <td>546</td>\n",
       "      <td>604</td>\n",
       "      <td>Other</td>\n",
       "      <td>64</td>\n",
       "      <td>Unknown</td>\n",
       "      <td>Yes</td>\n",
       "      <td>...</td>\n",
       "      <td>AR-15-style and AK-47-style rifles and \"a larg...</td>\n",
       "      <td>White</td>\n",
       "      <td>Male</td>\n",
       "      <td>36.095739</td>\n",
       "      <td>-115.171544</td>\n",
       "      <td>Mass</td>\n",
       "      <td>2017</td>\n",
       "      <td>Nevada</td>\n",
       "      <td>NV</td>\n",
       "      <td>Las Vegas</td>\n",
       "    </tr>\n",
       "    <tr>\n",
       "      <th>64</th>\n",
       "      <td>IHOP shooting</td>\n",
       "      <td>9/6/2011</td>\n",
       "      <td>Eduardo Sencion, 32, opened fire at an Interna...</td>\n",
       "      <td>5</td>\n",
       "      <td>7</td>\n",
       "      <td>12</td>\n",
       "      <td>Other</td>\n",
       "      <td>32</td>\n",
       "      <td>Yes</td>\n",
       "      <td>Yes</td>\n",
       "      <td>...</td>\n",
       "      <td>AK-47 Norinco Arms variant, AK-47 Romarm Cugir...</td>\n",
       "      <td>Latino</td>\n",
       "      <td>Male</td>\n",
       "      <td>39.163798</td>\n",
       "      <td>-119.767403</td>\n",
       "      <td>Mass</td>\n",
       "      <td>2011</td>\n",
       "      <td>Nevada</td>\n",
       "      <td>NV</td>\n",
       "      <td>Carson City</td>\n",
       "    </tr>\n",
       "  </tbody>\n",
       "</table>\n",
       "<p>2 rows × 21 columns</p>\n",
       "</div>"
      ],
      "text/plain": [
       "                        case      date  \\\n",
       "27  Las Vegas Strip massacre   10/1/17   \n",
       "64             IHOP shooting  9/6/2011   \n",
       "\n",
       "                                              summary  fatalities  injured  \\\n",
       "27  Stephen Craig Paddock, 64, fired a barrage of ...          58      546   \n",
       "64  Eduardo Sencion, 32, opened fire at an Interna...           5        7   \n",
       "\n",
       "    total_victims shooting_area  age prior_signs_mental_health_issues  \\\n",
       "27            604         Other   64                          Unknown   \n",
       "64             12         Other   32                              Yes   \n",
       "\n",
       "   weapons_obtained_legally  ...  \\\n",
       "27                      Yes  ...   \n",
       "64                      Yes  ...   \n",
       "\n",
       "                                       weapon_details    race gender  \\\n",
       "27  AR-15-style and AK-47-style rifles and \"a larg...   White   Male   \n",
       "64  AK-47 Norinco Arms variant, AK-47 Romarm Cugir...  Latino   Male   \n",
       "\n",
       "     latitude   longitude  type  year   state state_code         city  \n",
       "27  36.095739 -115.171544  Mass  2017  Nevada         NV    Las Vegas  \n",
       "64  39.163798 -119.767403  Mass  2011  Nevada         NV  Carson City  \n",
       "\n",
       "[2 rows x 21 columns]"
      ]
     },
     "execution_count": 53,
     "metadata": {},
     "output_type": "execute_result"
    }
   ],
   "source": [
    "df.loc[df['state_code']=='NV']"
   ]
  },
  {
   "cell_type": "markdown",
   "metadata": {},
   "source": [
    "### Question: Which state had the most victims from mass shootings?"
   ]
  },
  {
   "cell_type": "markdown",
   "metadata": {},
   "source": [
    "<b>Nevada</b> has had the most victims from mass shootings, due to the Las Vegas Strip Massacre on October 1, 2017, where a 64 year old white male opened fire and killed 58 people and injured 546 people. <br>\n",
    "\n",
    "Following on the list is <b>California</b> with 299 total victims, and <b>Texas</b> with 296 total victims. <br>\n",
    "\n",
    "<i>*Conclusions based on data covering events that happened between 1982-2020.</i>"
   ]
  },
  {
   "cell_type": "markdown",
   "metadata": {},
   "source": [
    "### 1st Visualization"
   ]
  },
  {
   "cell_type": "code",
   "execution_count": 54,
   "metadata": {},
   "outputs": [
    {
     "data": {
      "image/png": "[encoded data removed]",
      "text/plain": [
       "<Figure size 1440x720 with 1 Axes>"
      ]
     },
     "metadata": {},
     "output_type": "display_data"
    }
   ],
   "source": [
    "#set style\n",
    "plt.style.use('fivethirtyeight')\n",
    "\n",
    "#create figure and ax\n",
    "f, ax = plt.subplots(figsize=(20, 10))\n",
    "\n",
    "#set color\n",
    "bar_colors = sns.light_palette(\"#d61822\",36)\n",
    "\n",
    "#plot data\n",
    "plt.bar(tvictims_by_state.state_code, tvictims_by_state.total_victims, color = bar_colors, width = 0.8)\n",
    "\n",
    "ax.tick_params(axis=\"x\", labelsize=18)\n",
    "ax.tick_params(axis=\"y\", labelsize=18)\n",
    "\n",
    "ax.xaxis.grid(False) #remove vertical lines for a cleaner visualisation\n",
    "\n",
    "#labels and title\n",
    "plt.xlabel('state', labelpad=15, fontsize = 20)\n",
    "plt.ylabel('total cassualties', labelpad=15, fontsize = 20)\n",
    "plt.title('Total Victims by State from 1982 to 2020', pad=30, fontsize=26)\n",
    "\n",
    "plt.show()"
   ]
  },
  {
   "cell_type": "markdown",
   "metadata": {},
   "source": [
    "### 2nd Visualization (GEO)"
   ]
  },
  {
   "cell_type": "code",
   "execution_count": 55,
   "metadata": {},
   "outputs": [],
   "source": [
    "#prepare data for geomap\n",
    "geo_data_sumcolumns = ['total_victims','fatalities', 'injured'] #columns we plan to sum up\n",
    "geo_data = df.groupby(['state_code','state'])[geo_data_sumcolumns].sum().sort_values(by='total_victims').reset_index()"
   ]
  },
  {
   "cell_type": "code",
   "execution_count": 56,
   "metadata": {},
   "outputs": [
    {
     "data": {
      "text/html": [
       "<div>\n",
       "<style scoped>\n",
       "    .dataframe tbody tr th:only-of-type {\n",
       "        vertical-align: middle;\n",
       "    }\n",
       "\n",
       "    .dataframe tbody tr th {\n",
       "        vertical-align: top;\n",
       "    }\n",
       "\n",
       "    .dataframe thead th {\n",
       "        text-align: right;\n",
       "    }\n",
       "</style>\n",
       "<table border=\"1\" class=\"dataframe\">\n",
       "  <thead>\n",
       "    <tr style=\"text-align: right;\">\n",
       "      <th></th>\n",
       "      <th>state_code</th>\n",
       "      <th>state</th>\n",
       "      <th>total_victims</th>\n",
       "      <th>fatalities</th>\n",
       "      <th>injured</th>\n",
       "    </tr>\n",
       "  </thead>\n",
       "  <tbody>\n",
       "    <tr>\n",
       "      <th>0</th>\n",
       "      <td>LA</td>\n",
       "      <td>Louisiana</td>\n",
       "      <td>6</td>\n",
       "      <td>3</td>\n",
       "      <td>3</td>\n",
       "    </tr>\n",
       "    <tr>\n",
       "      <th>1</th>\n",
       "      <td>IA</td>\n",
       "      <td>Iowa</td>\n",
       "      <td>7</td>\n",
       "      <td>6</td>\n",
       "      <td>1</td>\n",
       "    </tr>\n",
       "    <tr>\n",
       "      <th>2</th>\n",
       "      <td>MA</td>\n",
       "      <td>Massachusetts</td>\n",
       "      <td>7</td>\n",
       "      <td>7</td>\n",
       "      <td>0</td>\n",
       "    </tr>\n",
       "    <tr>\n",
       "      <th>3</th>\n",
       "      <td>HI</td>\n",
       "      <td>Hawaii</td>\n",
       "      <td>7</td>\n",
       "      <td>7</td>\n",
       "      <td>0</td>\n",
       "    </tr>\n",
       "    <tr>\n",
       "      <th>4</th>\n",
       "      <td>NJ</td>\n",
       "      <td>New Jersey</td>\n",
       "      <td>7</td>\n",
       "      <td>4</td>\n",
       "      <td>3</td>\n",
       "    </tr>\n",
       "  </tbody>\n",
       "</table>\n",
       "</div>"
      ],
      "text/plain": [
       "  state_code          state  total_victims  fatalities  injured\n",
       "0         LA      Louisiana              6           3        3\n",
       "1         IA           Iowa              7           6        1\n",
       "2         MA  Massachusetts              7           7        0\n",
       "3         HI         Hawaii              7           7        0\n",
       "4         NJ     New Jersey              7           4        3"
      ]
     },
     "execution_count": 56,
     "metadata": {},
     "output_type": "execute_result"
    }
   ],
   "source": [
    "geo_data.head()"
   ]
  },
  {
   "cell_type": "code",
   "execution_count": 57,
   "metadata": {},
   "outputs": [
    {
     "data": {
      "application/vnd.plotly.v1+json": {
       "config": {
        "linkText": "Export to plot.ly",
        "plotlyServerURL": "https://plot.ly",
        "showLink": false
       },
       "data": [
        {
         "autocolorscale": false,
         "colorbar": {
          "title": {
           "text": "Total Victims"
          }
         },
         "colorscale": [
          [
           0,
           "#ffa1a1"
          ],
          [
           0.05,
           "#ff655c"
          ],
          [
           0.4,
           "#fc4136"
          ],
          [
           1,
           "#f20000"
          ]
         ],
         "hovertemplate": "<b>Total Victims: %{z}</b><br>%{text}<extra></extra>",
         "locationmode": "USA-states",
         "locations": [
          "LA",
          "IA",
          "MA",
          "HI",
          "NJ",
          "MO",
          "UT",
          "NE",
          "TN",
          "MS",
          "AR",
          "SC",
          "KS",
          "MI",
          "AZ",
          "MD",
          "DC",
          "OK",
          "NC",
          "MN",
          "GA",
          "KY",
          "WI",
          "PA",
          "CT",
          "OR",
          "IL",
          "NY",
          "OH",
          "WA",
          "VA",
          "CO",
          "FL",
          "TX",
          "CA",
          "NV"
         ],
         "marker": {
          "line": {
           "color": "white"
          }
         },
         "reversescale": false,
         "showscale": false,
         "text": [
          "Louisiana<br>Injured: 3<br>Fatalities: 3",
          "Iowa<br>Injured: 1<br>Fatalities: 6",
          "Massachusetts<br>Injured: 0<br>Fatalities: 7",
          "Hawaii<br>Injured: 0<br>Fatalities: 7",
          "New Jersey<br>Injured: 3<br>Fatalities: 4",
          "Missouri<br>Injured: 2<br>Fatalities: 6",
          "Utah<br>Injured: 4<br>Fatalities: 6",
          "Nebraska<br>Injured: 4<br>Fatalities: 9",
          "Tennessee<br>Injured: 6<br>Fatalities: 9",
          "Mississippi<br>Injured: 8<br>Fatalities: 7",
          "Arkansas<br>Injured: 10<br>Fatalities: 5",
          "South Carolina<br>Injured: 4<br>Fatalities: 13",
          "Kansas<br>Injured: 14<br>Fatalities: 3",
          "Michigan<br>Injured: 7<br>Fatalities: 11",
          "Arizona<br>Injured: 13<br>Fatalities: 6",
          "Maryland<br>Injured: 8<br>Fatalities: 11",
          "D.C.<br>Injured: 8<br>Fatalities: 12",
          "Oklahoma<br>Injured: 6<br>Fatalities: 15",
          "North Carolina<br>Injured: 11<br>Fatalities: 12",
          "Minnesota<br>Injured: 6<br>Fatalities: 17",
          "Georgia<br>Injured: 13<br>Fatalities: 14",
          "Kentucky<br>Injured: 13<br>Fatalities: 15",
          "Wisconsin<br>Injured: 9<br>Fatalities: 28",
          "Pennsylvania<br>Injured: 13<br>Fatalities: 27",
          "Connecticut<br>Injured: 5<br>Fatalities: 41",
          "Oregon<br>Injured: 34<br>Fatalities: 13",
          "Illinois<br>Injured: 31<br>Fatalities: 18",
          "New York<br>Injured: 25<br>Fatalities: 30",
          "Ohio<br>Injured: 36<br>Fatalities: 20",
          "Washington<br>Injured: 28<br>Fatalities: 37",
          "Virginia<br>Injured: 27<br>Fatalities: 44",
          "Colorado<br>Injured: 104<br>Fatalities: 38",
          "Florida<br>Injured: 109<br>Fatalities: 126",
          "Texas<br>Injured: 166<br>Fatalities: 130",
          "California<br>Injured: 159<br>Fatalities: 140",
          "Nevada<br>Injured: 553<br>Fatalities: 63"
         ],
         "type": "choropleth",
         "z": [
          6,
          7,
          7,
          7,
          7,
          8,
          10,
          13,
          15,
          15,
          15,
          17,
          17,
          18,
          19,
          19,
          20,
          21,
          23,
          23,
          27,
          28,
          37,
          40,
          46,
          47,
          49,
          55,
          56,
          65,
          71,
          142,
          235,
          296,
          299,
          616
         ],
         "zauto": true,
         "zmax": 620,
         "zmin": 150
        }
       ],
       "layout": {
        "geo": {
         "lakecolor": "rgb(255, 255, 255)",
         "projection": {
          "type": "albers usa"
         },
         "scope": "usa",
         "showlakes": true
        },
        "template": {
         "data": {
          "bar": [
           {
            "error_x": {
             "color": "#2a3f5f"
            },
            "error_y": {
             "color": "#2a3f5f"
            },
            "marker": {
             "line": {
              "color": "white",
              "width": 0.5
             }
            },
            "type": "bar"
           }
          ],
          "barpolar": [
           {
            "marker": {
             "line": {
              "color": "white",
              "width": 0.5
             }
            },
            "type": "barpolar"
           }
          ],
          "carpet": [
           {
            "aaxis": {
             "endlinecolor": "#2a3f5f",
             "gridcolor": "#C8D4E3",
             "linecolor": "#C8D4E3",
             "minorgridcolor": "#C8D4E3",
             "startlinecolor": "#2a3f5f"
            },
            "baxis": {
             "endlinecolor": "#2a3f5f",
             "gridcolor": "#C8D4E3",
             "linecolor": "#C8D4E3",
             "minorgridcolor": "#C8D4E3",
             "startlinecolor": "#2a3f5f"
            },
            "type": "carpet"
           }
          ],
          "choropleth": [
           {
            "colorbar": {
             "outlinewidth": 0,
             "ticks": ""
            },
            "type": "choropleth"
           }
          ],
          "contour": [
           {
            "colorbar": {
             "outlinewidth": 0,
             "ticks": ""
            },
            "colorscale": [
             [
              0,
              "#0d0887"
             ],
             [
              0.1111111111111111,
              "#46039f"
             ],
             [
              0.2222222222222222,
              "#7201a8"
             ],
             [
              0.3333333333333333,
              "#9c179e"
             ],
             [
              0.4444444444444444,
              "#bd3786"
             ],
             [
              0.5555555555555556,
              "#d8576b"
             ],
             [
              0.6666666666666666,
              "#ed7953"
             ],
             [
              0.7777777777777778,
              "#fb9f3a"
             ],
             [
              0.8888888888888888,
              "#fdca26"
             ],
             [
              1,
              "#f0f921"
             ]
            ],
            "type": "contour"
           }
          ],
          "contourcarpet": [
           {
            "colorbar": {
             "outlinewidth": 0,
             "ticks": ""
            },
            "type": "contourcarpet"
           }
          ],
          "heatmap": [
           {
            "colorbar": {
             "outlinewidth": 0,
             "ticks": ""
            },
            "colorscale": [
             [
              0,
              "#0d0887"
             ],
             [
              0.1111111111111111,
              "#46039f"
             ],
             [
              0.2222222222222222,
              "#7201a8"
             ],
             [
              0.3333333333333333,
              "#9c179e"
             ],
             [
              0.4444444444444444,
              "#bd3786"
             ],
             [
              0.5555555555555556,
              "#d8576b"
             ],
             [
              0.6666666666666666,
              "#ed7953"
             ],
             [
              0.7777777777777778,
              "#fb9f3a"
             ],
             [
              0.8888888888888888,
              "#fdca26"
             ],
             [
              1,
              "#f0f921"
             ]
            ],
            "type": "heatmap"
           }
          ],
          "heatmapgl": [
           {
            "colorbar": {
             "outlinewidth": 0,
             "ticks": ""
            },
            "colorscale": [
             [
              0,
              "#0d0887"
             ],
             [
              0.1111111111111111,
              "#46039f"
             ],
             [
              0.2222222222222222,
              "#7201a8"
             ],
             [
              0.3333333333333333,
              "#9c179e"
             ],
             [
              0.4444444444444444,
              "#bd3786"
             ],
             [
              0.5555555555555556,
              "#d8576b"
             ],
             [
              0.6666666666666666,
              "#ed7953"
             ],
             [
              0.7777777777777778,
              "#fb9f3a"
             ],
             [
              0.8888888888888888,
              "#fdca26"
             ],
             [
              1,
              "#f0f921"
             ]
            ],
            "type": "heatmapgl"
           }
          ],
          "histogram": [
           {
            "marker": {
             "colorbar": {
              "outlinewidth": 0,
              "ticks": ""
             }
            },
            "type": "histogram"
           }
          ],
          "histogram2d": [
           {
            "colorbar": {
             "outlinewidth": 0,
             "ticks": ""
            },
            "colorscale": [
             [
              0,
              "#0d0887"
             ],
             [
              0.1111111111111111,
              "#46039f"
             ],
             [
              0.2222222222222222,
              "#7201a8"
             ],
             [
              0.3333333333333333,
              "#9c179e"
             ],
             [
              0.4444444444444444,
              "#bd3786"
             ],
             [
              0.5555555555555556,
              "#d8576b"
             ],
             [
              0.6666666666666666,
              "#ed7953"
             ],
             [
              0.7777777777777778,
              "#fb9f3a"
             ],
             [
              0.8888888888888888,
              "#fdca26"
             ],
             [
              1,
              "#f0f921"
             ]
            ],
            "type": "histogram2d"
           }
          ],
          "histogram2dcontour": [
           {
            "colorbar": {
             "outlinewidth": 0,
             "ticks": ""
            },
            "colorscale": [
             [
              0,
              "#0d0887"
             ],
             [
              0.1111111111111111,
              "#46039f"
             ],
             [
              0.2222222222222222,
              "#7201a8"
             ],
             [
              0.3333333333333333,
              "#9c179e"
             ],
             [
              0.4444444444444444,
              "#bd3786"
             ],
             [
              0.5555555555555556,
              "#d8576b"
             ],
             [
              0.6666666666666666,
              "#ed7953"
             ],
             [
              0.7777777777777778,
              "#fb9f3a"
             ],
             [
              0.8888888888888888,
              "#fdca26"
             ],
             [
              1,
              "#f0f921"
             ]
            ],
            "type": "histogram2dcontour"
           }
          ],
          "mesh3d": [
           {
            "colorbar": {
             "outlinewidth": 0,
             "ticks": ""
            },
            "type": "mesh3d"
           }
          ],
          "parcoords": [
           {
            "line": {
             "colorbar": {
              "outlinewidth": 0,
              "ticks": ""
             }
            },
            "type": "parcoords"
           }
          ],
          "pie": [
           {
            "automargin": true,
            "type": "pie"
           }
          ],
          "scatter": [
           {
            "marker": {
             "colorbar": {
              "outlinewidth": 0,
              "ticks": ""
             }
            },
            "type": "scatter"
           }
          ],
          "scatter3d": [
           {
            "line": {
             "colorbar": {
              "outlinewidth": 0,
              "ticks": ""
             }
            },
            "marker": {
             "colorbar": {
              "outlinewidth": 0,
              "ticks": ""
             }
            },
            "type": "scatter3d"
           }
          ],
          "scattercarpet": [
           {
            "marker": {
             "colorbar": {
              "outlinewidth": 0,
              "ticks": ""
             }
            },
            "type": "scattercarpet"
           }
          ],
          "scattergeo": [
           {
            "marker": {
             "colorbar": {
              "outlinewidth": 0,
              "ticks": ""
             }
            },
            "type": "scattergeo"
           }
          ],
          "scattergl": [
           {
            "marker": {
             "colorbar": {
              "outlinewidth": 0,
              "ticks": ""
             }
            },
            "type": "scattergl"
           }
          ],
          "scattermapbox": [
           {
            "marker": {
             "colorbar": {
              "outlinewidth": 0,
              "ticks": ""
             }
            },
            "type": "scattermapbox"
           }
          ],
          "scatterpolar": [
           {
            "marker": {
             "colorbar": {
              "outlinewidth": 0,
              "ticks": ""
             }
            },
            "type": "scatterpolar"
           }
          ],
          "scatterpolargl": [
           {
            "marker": {
             "colorbar": {
              "outlinewidth": 0,
              "ticks": ""
             }
            },
            "type": "scatterpolargl"
           }
          ],
          "scatterternary": [
           {
            "marker": {
             "colorbar": {
              "outlinewidth": 0,
              "ticks": ""
             }
            },
            "type": "scatterternary"
           }
          ],
          "surface": [
           {
            "colorbar": {
             "outlinewidth": 0,
             "ticks": ""
            },
            "colorscale": [
             [
              0,
              "#0d0887"
             ],
             [
              0.1111111111111111,
              "#46039f"
             ],
             [
              0.2222222222222222,
              "#7201a8"
             ],
             [
              0.3333333333333333,
              "#9c179e"
             ],
             [
              0.4444444444444444,
              "#bd3786"
             ],
             [
              0.5555555555555556,
              "#d8576b"
             ],
             [
              0.6666666666666666,
              "#ed7953"
             ],
             [
              0.7777777777777778,
              "#fb9f3a"
             ],
             [
              0.8888888888888888,
              "#fdca26"
             ],
             [
              1,
              "#f0f921"
             ]
            ],
            "type": "surface"
           }
          ],
          "table": [
           {
            "cells": {
             "fill": {
              "color": "#EBF0F8"
             },
             "line": {
              "color": "white"
             }
            },
            "header": {
             "fill": {
              "color": "#C8D4E3"
             },
             "line": {
              "color": "white"
             }
            },
            "type": "table"
           }
          ]
         },
         "layout": {
          "annotationdefaults": {
           "arrowcolor": "#2a3f5f",
           "arrowhead": 0,
           "arrowwidth": 1
          },
          "coloraxis": {
           "colorbar": {
            "outlinewidth": 0,
            "ticks": ""
           }
          },
          "colorscale": {
           "diverging": [
            [
             0,
             "#8e0152"
            ],
            [
             0.1,
             "#c51b7d"
            ],
            [
             0.2,
             "#de77ae"
            ],
            [
             0.3,
             "#f1b6da"
            ],
            [
             0.4,
             "#fde0ef"
            ],
            [
             0.5,
             "#f7f7f7"
            ],
            [
             0.6,
             "#e6f5d0"
            ],
            [
             0.7,
             "#b8e186"
            ],
            [
             0.8,
             "#7fbc41"
            ],
            [
             0.9,
             "#4d9221"
            ],
            [
             1,
             "#276419"
            ]
           ],
           "sequential": [
            [
             0,
             "#0d0887"
            ],
            [
             0.1111111111111111,
             "#46039f"
            ],
            [
             0.2222222222222222,
             "#7201a8"
            ],
            [
             0.3333333333333333,
             "#9c179e"
            ],
            [
             0.4444444444444444,
             "#bd3786"
            ],
            [
             0.5555555555555556,
             "#d8576b"
            ],
            [
             0.6666666666666666,
             "#ed7953"
            ],
            [
             0.7777777777777778,
             "#fb9f3a"
            ],
            [
             0.8888888888888888,
             "#fdca26"
            ],
            [
             1,
             "#f0f921"
            ]
           ],
           "sequentialminus": [
            [
             0,
             "#0d0887"
            ],
            [
             0.1111111111111111,
             "#46039f"
            ],
            [
             0.2222222222222222,
             "#7201a8"
            ],
            [
             0.3333333333333333,
             "#9c179e"
            ],
            [
             0.4444444444444444,
             "#bd3786"
            ],
            [
             0.5555555555555556,
             "#d8576b"
            ],
            [
             0.6666666666666666,
             "#ed7953"
            ],
            [
             0.7777777777777778,
             "#fb9f3a"
            ],
            [
             0.8888888888888888,
             "#fdca26"
            ],
            [
             1,
             "#f0f921"
            ]
           ]
          },
          "colorway": [
           "#636efa",
           "#EF553B",
           "#00cc96",
           "#ab63fa",
           "#FFA15A",
           "#19d3f3",
           "#FF6692",
           "#B6E880",
           "#FF97FF",
           "#FECB52"
          ],
          "font": {
           "color": "#2a3f5f"
          },
          "geo": {
           "bgcolor": "white",
           "lakecolor": "white",
           "landcolor": "white",
           "showlakes": true,
           "showland": true,
           "subunitcolor": "#C8D4E3"
          },
          "hoverlabel": {
           "align": "left"
          },
          "hovermode": "closest",
          "mapbox": {
           "style": "light"
          },
          "paper_bgcolor": "white",
          "plot_bgcolor": "white",
          "polar": {
           "angularaxis": {
            "gridcolor": "#EBF0F8",
            "linecolor": "#EBF0F8",
            "ticks": ""
           },
           "bgcolor": "white",
           "radialaxis": {
            "gridcolor": "#EBF0F8",
            "linecolor": "#EBF0F8",
            "ticks": ""
           }
          },
          "scene": {
           "xaxis": {
            "backgroundcolor": "white",
            "gridcolor": "#DFE8F3",
            "gridwidth": 2,
            "linecolor": "#EBF0F8",
            "showbackground": true,
            "ticks": "",
            "zerolinecolor": "#EBF0F8"
           },
           "yaxis": {
            "backgroundcolor": "white",
            "gridcolor": "#DFE8F3",
            "gridwidth": 2,
            "linecolor": "#EBF0F8",
            "showbackground": true,
            "ticks": "",
            "zerolinecolor": "#EBF0F8"
           },
           "zaxis": {
            "backgroundcolor": "white",
            "gridcolor": "#DFE8F3",
            "gridwidth": 2,
            "linecolor": "#EBF0F8",
            "showbackground": true,
            "ticks": "",
            "zerolinecolor": "#EBF0F8"
           }
          },
          "shapedefaults": {
           "line": {
            "color": "#2a3f5f"
           }
          },
          "ternary": {
           "aaxis": {
            "gridcolor": "#DFE8F3",
            "linecolor": "#A2B1C6",
            "ticks": ""
           },
           "baxis": {
            "gridcolor": "#DFE8F3",
            "linecolor": "#A2B1C6",
            "ticks": ""
           },
           "bgcolor": "white",
           "caxis": {
            "gridcolor": "#DFE8F3",
            "linecolor": "#A2B1C6",
            "ticks": ""
           }
          },
          "title": {
           "x": 0.05
          },
          "xaxis": {
           "automargin": true,
           "gridcolor": "#EBF0F8",
           "linecolor": "#EBF0F8",
           "ticks": "",
           "title": {
            "standoff": 15
           },
           "zerolinecolor": "#EBF0F8",
           "zerolinewidth": 2
          },
          "yaxis": {
           "automargin": true,
           "gridcolor": "#EBF0F8",
           "linecolor": "#EBF0F8",
           "ticks": "",
           "title": {
            "standoff": 15
           },
           "zerolinecolor": "#EBF0F8",
           "zerolinewidth": 2
          }
         }
        },
        "title": {
         "text": "<b>US Mass Shootings from 1982 to 2020 </b> <br>Total Victims by State</b><br>(Hover for breakdown)"
        }
       }
      },
      "text/html": [
       "<div>\n",
       "        \n",
       "        \n",
       "            <div id=\"df7c4815-a2ad-4e0f-b7d2-f82be6da5608\" class=\"plotly-graph-div\" style=\"height:525px; width:100%;\"></div>\n",
       "            <script type=\"text/javascript\">\n",
       "                require([\"plotly\"], function(Plotly) {\n",
       "                    window.PLOTLYENV=window.PLOTLYENV || {};\n",
       "                    \n",
       "                if (document.getElementById(\"df7c4815-a2ad-4e0f-b7d2-f82be6da5608\")) {\n",
       "                    Plotly.newPlot(\n",
       "                        'df7c4815-a2ad-4e0f-b7d2-f82be6da5608',\n",
       "                        [{\"autocolorscale\": false, \"colorbar\": {\"title\": {\"text\": \"Total Victims\"}}, \"colorscale\": [[0, \"#ffa1a1\"], [0.05, \"#ff655c\"], [0.4, \"#fc4136\"], [1, \"#f20000\"]], \"hovertemplate\": \"<b>Total Victims: %{z}</b><br>%{text}<extra></extra>\", \"locationmode\": \"USA-states\", \"locations\": [\"LA\", \"IA\", \"MA\", \"HI\", \"NJ\", \"MO\", \"UT\", \"NE\", \"TN\", \"MS\", \"AR\", \"SC\", \"KS\", \"MI\", \"AZ\", \"MD\", \"DC\", \"OK\", \"NC\", \"MN\", \"GA\", \"KY\", \"WI\", \"PA\", \"CT\", \"OR\", \"IL\", \"NY\", \"OH\", \"WA\", \"VA\", \"CO\", \"FL\", \"TX\", \"CA\", \"NV\"], \"marker\": {\"line\": {\"color\": \"white\"}}, \"reversescale\": false, \"showscale\": false, \"text\": [\"Louisiana<br>Injured: 3<br>Fatalities: 3\", \"Iowa<br>Injured: 1<br>Fatalities: 6\", \"Massachusetts<br>Injured: 0<br>Fatalities: 7\", \"Hawaii<br>Injured: 0<br>Fatalities: 7\", \"New Jersey<br>Injured: 3<br>Fatalities: 4\", \"Missouri<br>Injured: 2<br>Fatalities: 6\", \"Utah<br>Injured: 4<br>Fatalities: 6\", \"Nebraska<br>Injured: 4<br>Fatalities: 9\", \"Tennessee<br>Injured: 6<br>Fatalities: 9\", \"Mississippi<br>Injured: 8<br>Fatalities: 7\", \"Arkansas<br>Injured: 10<br>Fatalities: 5\", \"South Carolina<br>Injured: 4<br>Fatalities: 13\", \"Kansas<br>Injured: 14<br>Fatalities: 3\", \"Michigan<br>Injured: 7<br>Fatalities: 11\", \"Arizona<br>Injured: 13<br>Fatalities: 6\", \"Maryland<br>Injured: 8<br>Fatalities: 11\", \"D.C.<br>Injured: 8<br>Fatalities: 12\", \"Oklahoma<br>Injured: 6<br>Fatalities: 15\", \"North Carolina<br>Injured: 11<br>Fatalities: 12\", \"Minnesota<br>Injured: 6<br>Fatalities: 17\", \"Georgia<br>Injured: 13<br>Fatalities: 14\", \"Kentucky<br>Injured: 13<br>Fatalities: 15\", \"Wisconsin<br>Injured: 9<br>Fatalities: 28\", \"Pennsylvania<br>Injured: 13<br>Fatalities: 27\", \"Connecticut<br>Injured: 5<br>Fatalities: 41\", \"Oregon<br>Injured: 34<br>Fatalities: 13\", \"Illinois<br>Injured: 31<br>Fatalities: 18\", \"New York<br>Injured: 25<br>Fatalities: 30\", \"Ohio<br>Injured: 36<br>Fatalities: 20\", \"Washington<br>Injured: 28<br>Fatalities: 37\", \"Virginia<br>Injured: 27<br>Fatalities: 44\", \"Colorado<br>Injured: 104<br>Fatalities: 38\", \"Florida<br>Injured: 109<br>Fatalities: 126\", \"Texas<br>Injured: 166<br>Fatalities: 130\", \"California<br>Injured: 159<br>Fatalities: 140\", \"Nevada<br>Injured: 553<br>Fatalities: 63\"], \"type\": \"choropleth\", \"z\": [6, 7, 7, 7, 7, 8, 10, 13, 15, 15, 15, 17, 17, 18, 19, 19, 20, 21, 23, 23, 27, 28, 37, 40, 46, 47, 49, 55, 56, 65, 71, 142, 235, 296, 299, 616], \"zauto\": true, \"zmax\": 620, \"zmin\": 150}],\n",
       "                        {\"geo\": {\"lakecolor\": \"rgb(255, 255, 255)\", \"projection\": {\"type\": \"albers usa\"}, \"scope\": \"usa\", \"showlakes\": true}, \"template\": {\"data\": {\"bar\": [{\"error_x\": {\"color\": \"#2a3f5f\"}, \"error_y\": {\"color\": \"#2a3f5f\"}, \"marker\": {\"line\": {\"color\": \"white\", \"width\": 0.5}}, \"type\": \"bar\"}], \"barpolar\": [{\"marker\": {\"line\": {\"color\": \"white\", \"width\": 0.5}}, \"type\": \"barpolar\"}], \"carpet\": [{\"aaxis\": {\"endlinecolor\": \"#2a3f5f\", \"gridcolor\": \"#C8D4E3\", \"linecolor\": \"#C8D4E3\", \"minorgridcolor\": \"#C8D4E3\", \"startlinecolor\": \"#2a3f5f\"}, \"baxis\": {\"endlinecolor\": \"#2a3f5f\", \"gridcolor\": \"#C8D4E3\", \"linecolor\": \"#C8D4E3\", \"minorgridcolor\": \"#C8D4E3\", \"startlinecolor\": \"#2a3f5f\"}, \"type\": \"carpet\"}], \"choropleth\": [{\"colorbar\": {\"outlinewidth\": 0, \"ticks\": \"\"}, \"type\": \"choropleth\"}], \"contour\": [{\"colorbar\": {\"outlinewidth\": 0, \"ticks\": \"\"}, \"colorscale\": [[0.0, \"#0d0887\"], [0.1111111111111111, \"#46039f\"], [0.2222222222222222, \"#7201a8\"], [0.3333333333333333, \"#9c179e\"], [0.4444444444444444, \"#bd3786\"], [0.5555555555555556, \"#d8576b\"], [0.6666666666666666, \"#ed7953\"], [0.7777777777777778, \"#fb9f3a\"], [0.8888888888888888, \"#fdca26\"], [1.0, \"#f0f921\"]], \"type\": \"contour\"}], \"contourcarpet\": [{\"colorbar\": {\"outlinewidth\": 0, \"ticks\": \"\"}, \"type\": \"contourcarpet\"}], \"heatmap\": [{\"colorbar\": {\"outlinewidth\": 0, \"ticks\": \"\"}, \"colorscale\": [[0.0, \"#0d0887\"], [0.1111111111111111, \"#46039f\"], [0.2222222222222222, \"#7201a8\"], [0.3333333333333333, \"#9c179e\"], [0.4444444444444444, \"#bd3786\"], [0.5555555555555556, \"#d8576b\"], [0.6666666666666666, \"#ed7953\"], [0.7777777777777778, \"#fb9f3a\"], [0.8888888888888888, \"#fdca26\"], [1.0, \"#f0f921\"]], \"type\": \"heatmap\"}], \"heatmapgl\": [{\"colorbar\": {\"outlinewidth\": 0, \"ticks\": \"\"}, \"colorscale\": [[0.0, \"#0d0887\"], [0.1111111111111111, \"#46039f\"], [0.2222222222222222, \"#7201a8\"], [0.3333333333333333, \"#9c179e\"], [0.4444444444444444, \"#bd3786\"], [0.5555555555555556, \"#d8576b\"], [0.6666666666666666, \"#ed7953\"], [0.7777777777777778, \"#fb9f3a\"], [0.8888888888888888, \"#fdca26\"], [1.0, \"#f0f921\"]], \"type\": \"heatmapgl\"}], \"histogram\": [{\"marker\": {\"colorbar\": {\"outlinewidth\": 0, \"ticks\": \"\"}}, \"type\": \"histogram\"}], \"histogram2d\": [{\"colorbar\": {\"outlinewidth\": 0, \"ticks\": \"\"}, \"colorscale\": [[0.0, \"#0d0887\"], [0.1111111111111111, \"#46039f\"], [0.2222222222222222, \"#7201a8\"], [0.3333333333333333, \"#9c179e\"], [0.4444444444444444, \"#bd3786\"], [0.5555555555555556, \"#d8576b\"], [0.6666666666666666, \"#ed7953\"], [0.7777777777777778, \"#fb9f3a\"], [0.8888888888888888, \"#fdca26\"], [1.0, \"#f0f921\"]], \"type\": \"histogram2d\"}], \"histogram2dcontour\": [{\"colorbar\": {\"outlinewidth\": 0, \"ticks\": \"\"}, \"colorscale\": [[0.0, \"#0d0887\"], [0.1111111111111111, \"#46039f\"], [0.2222222222222222, \"#7201a8\"], [0.3333333333333333, \"#9c179e\"], [0.4444444444444444, \"#bd3786\"], [0.5555555555555556, \"#d8576b\"], [0.6666666666666666, \"#ed7953\"], [0.7777777777777778, \"#fb9f3a\"], [0.8888888888888888, \"#fdca26\"], [1.0, \"#f0f921\"]], \"type\": \"histogram2dcontour\"}], \"mesh3d\": [{\"colorbar\": {\"outlinewidth\": 0, \"ticks\": \"\"}, \"type\": \"mesh3d\"}], \"parcoords\": [{\"line\": {\"colorbar\": {\"outlinewidth\": 0, \"ticks\": \"\"}}, \"type\": \"parcoords\"}], \"pie\": [{\"automargin\": true, \"type\": \"pie\"}], \"scatter\": [{\"marker\": {\"colorbar\": {\"outlinewidth\": 0, \"ticks\": \"\"}}, \"type\": \"scatter\"}], \"scatter3d\": [{\"line\": {\"colorbar\": {\"outlinewidth\": 0, \"ticks\": \"\"}}, \"marker\": {\"colorbar\": {\"outlinewidth\": 0, \"ticks\": \"\"}}, \"type\": \"scatter3d\"}], \"scattercarpet\": [{\"marker\": {\"colorbar\": {\"outlinewidth\": 0, \"ticks\": \"\"}}, \"type\": \"scattercarpet\"}], \"scattergeo\": [{\"marker\": {\"colorbar\": {\"outlinewidth\": 0, \"ticks\": \"\"}}, \"type\": \"scattergeo\"}], \"scattergl\": [{\"marker\": {\"colorbar\": {\"outlinewidth\": 0, \"ticks\": \"\"}}, \"type\": \"scattergl\"}], \"scattermapbox\": [{\"marker\": {\"colorbar\": {\"outlinewidth\": 0, \"ticks\": \"\"}}, \"type\": \"scattermapbox\"}], \"scatterpolar\": [{\"marker\": {\"colorbar\": {\"outlinewidth\": 0, \"ticks\": \"\"}}, \"type\": \"scatterpolar\"}], \"scatterpolargl\": [{\"marker\": {\"colorbar\": {\"outlinewidth\": 0, \"ticks\": \"\"}}, \"type\": \"scatterpolargl\"}], \"scatterternary\": [{\"marker\": {\"colorbar\": {\"outlinewidth\": 0, \"ticks\": \"\"}}, \"type\": \"scatterternary\"}], \"surface\": [{\"colorbar\": {\"outlinewidth\": 0, \"ticks\": \"\"}, \"colorscale\": [[0.0, \"#0d0887\"], [0.1111111111111111, \"#46039f\"], [0.2222222222222222, \"#7201a8\"], [0.3333333333333333, \"#9c179e\"], [0.4444444444444444, \"#bd3786\"], [0.5555555555555556, \"#d8576b\"], [0.6666666666666666, \"#ed7953\"], [0.7777777777777778, \"#fb9f3a\"], [0.8888888888888888, \"#fdca26\"], [1.0, \"#f0f921\"]], \"type\": \"surface\"}], \"table\": [{\"cells\": {\"fill\": {\"color\": \"#EBF0F8\"}, \"line\": {\"color\": \"white\"}}, \"header\": {\"fill\": {\"color\": \"#C8D4E3\"}, \"line\": {\"color\": \"white\"}}, \"type\": \"table\"}]}, \"layout\": {\"annotationdefaults\": {\"arrowcolor\": \"#2a3f5f\", \"arrowhead\": 0, \"arrowwidth\": 1}, \"coloraxis\": {\"colorbar\": {\"outlinewidth\": 0, \"ticks\": \"\"}}, \"colorscale\": {\"diverging\": [[0, \"#8e0152\"], [0.1, \"#c51b7d\"], [0.2, \"#de77ae\"], [0.3, \"#f1b6da\"], [0.4, \"#fde0ef\"], [0.5, \"#f7f7f7\"], [0.6, \"#e6f5d0\"], [0.7, \"#b8e186\"], [0.8, \"#7fbc41\"], [0.9, \"#4d9221\"], [1, \"#276419\"]], \"sequential\": [[0.0, \"#0d0887\"], [0.1111111111111111, \"#46039f\"], [0.2222222222222222, \"#7201a8\"], [0.3333333333333333, \"#9c179e\"], [0.4444444444444444, \"#bd3786\"], [0.5555555555555556, \"#d8576b\"], [0.6666666666666666, \"#ed7953\"], [0.7777777777777778, \"#fb9f3a\"], [0.8888888888888888, \"#fdca26\"], [1.0, \"#f0f921\"]], \"sequentialminus\": [[0.0, \"#0d0887\"], [0.1111111111111111, \"#46039f\"], [0.2222222222222222, \"#7201a8\"], [0.3333333333333333, \"#9c179e\"], [0.4444444444444444, \"#bd3786\"], [0.5555555555555556, \"#d8576b\"], [0.6666666666666666, \"#ed7953\"], [0.7777777777777778, \"#fb9f3a\"], [0.8888888888888888, \"#fdca26\"], [1.0, \"#f0f921\"]]}, \"colorway\": [\"#636efa\", \"#EF553B\", \"#00cc96\", \"#ab63fa\", \"#FFA15A\", \"#19d3f3\", \"#FF6692\", \"#B6E880\", \"#FF97FF\", \"#FECB52\"], \"font\": {\"color\": \"#2a3f5f\"}, \"geo\": {\"bgcolor\": \"white\", \"lakecolor\": \"white\", \"landcolor\": \"white\", \"showlakes\": true, \"showland\": true, \"subunitcolor\": \"#C8D4E3\"}, \"hoverlabel\": {\"align\": \"left\"}, \"hovermode\": \"closest\", \"mapbox\": {\"style\": \"light\"}, \"paper_bgcolor\": \"white\", \"plot_bgcolor\": \"white\", \"polar\": {\"angularaxis\": {\"gridcolor\": \"#EBF0F8\", \"linecolor\": \"#EBF0F8\", \"ticks\": \"\"}, \"bgcolor\": \"white\", \"radialaxis\": {\"gridcolor\": \"#EBF0F8\", \"linecolor\": \"#EBF0F8\", \"ticks\": \"\"}}, \"scene\": {\"xaxis\": {\"backgroundcolor\": \"white\", \"gridcolor\": \"#DFE8F3\", \"gridwidth\": 2, \"linecolor\": \"#EBF0F8\", \"showbackground\": true, \"ticks\": \"\", \"zerolinecolor\": \"#EBF0F8\"}, \"yaxis\": {\"backgroundcolor\": \"white\", \"gridcolor\": \"#DFE8F3\", \"gridwidth\": 2, \"linecolor\": \"#EBF0F8\", \"showbackground\": true, \"ticks\": \"\", \"zerolinecolor\": \"#EBF0F8\"}, \"zaxis\": {\"backgroundcolor\": \"white\", \"gridcolor\": \"#DFE8F3\", \"gridwidth\": 2, \"linecolor\": \"#EBF0F8\", \"showbackground\": true, \"ticks\": \"\", \"zerolinecolor\": \"#EBF0F8\"}}, \"shapedefaults\": {\"line\": {\"color\": \"#2a3f5f\"}}, \"ternary\": {\"aaxis\": {\"gridcolor\": \"#DFE8F3\", \"linecolor\": \"#A2B1C6\", \"ticks\": \"\"}, \"baxis\": {\"gridcolor\": \"#DFE8F3\", \"linecolor\": \"#A2B1C6\", \"ticks\": \"\"}, \"bgcolor\": \"white\", \"caxis\": {\"gridcolor\": \"#DFE8F3\", \"linecolor\": \"#A2B1C6\", \"ticks\": \"\"}}, \"title\": {\"x\": 0.05}, \"xaxis\": {\"automargin\": true, \"gridcolor\": \"#EBF0F8\", \"linecolor\": \"#EBF0F8\", \"ticks\": \"\", \"title\": {\"standoff\": 15}, \"zerolinecolor\": \"#EBF0F8\", \"zerolinewidth\": 2}, \"yaxis\": {\"automargin\": true, \"gridcolor\": \"#EBF0F8\", \"linecolor\": \"#EBF0F8\", \"ticks\": \"\", \"title\": {\"standoff\": 15}, \"zerolinecolor\": \"#EBF0F8\", \"zerolinewidth\": 2}}}, \"title\": {\"text\": \"<b>US Mass Shootings from 1982 to 2020 </b> <br>Total Victims by State</b><br>(Hover for breakdown)\"}},\n",
       "                        {\"responsive\": true}\n",
       "                    ).then(function(){\n",
       "                            \n",
       "var gd = document.getElementById('df7c4815-a2ad-4e0f-b7d2-f82be6da5608');\n",
       "var x = new MutationObserver(function (mutations, observer) {{\n",
       "        var display = window.getComputedStyle(gd).display;\n",
       "        if (!display || display === 'none') {{\n",
       "            console.log([gd, 'removed!']);\n",
       "            Plotly.purge(gd);\n",
       "            observer.disconnect();\n",
       "        }}\n",
       "}});\n",
       "\n",
       "// Listen for the removal of the full notebook cells\n",
       "var notebookContainer = gd.closest('#notebook-container');\n",
       "if (notebookContainer) {{\n",
       "    x.observe(notebookContainer, {childList: true});\n",
       "}}\n",
       "\n",
       "// Listen for the clearing of the current output cell\n",
       "var outputEl = gd.closest('.output');\n",
       "if (outputEl) {{\n",
       "    x.observe(outputEl, {childList: true});\n",
       "}}\n",
       "\n",
       "                        })\n",
       "                };\n",
       "                });\n",
       "            </script>\n",
       "        </div>"
      ]
     },
     "metadata": {},
     "output_type": "display_data"
    }
   ],
   "source": [
    "geo_data['text'] = geo_data['state'] + '<br>' + \\\n",
    "                'Injured: ' + geo_data['injured'].astype(str) + '<br>' + \\\n",
    "                'Fatalities: ' + geo_data['fatalities'].astype(str)\n",
    "                    \n",
    "\n",
    "data = dict(type = 'choropleth', \n",
    "            locations = geo_data['state_code'], \n",
    "            locationmode = 'USA-states',  \n",
    "            \n",
    "            colorscale = [[0, '#ffa1a1'],\n",
    "                          [0.05, '#ff655c'],\n",
    "                          [0.4, '#fc4136'], \n",
    "                          [1, '#f20000']], #colorblind safe color pallete\n",
    "            \n",
    "            text = geo_data['text'], #hover text\n",
    "            z = geo_data['total_victims'],\n",
    "            hovertemplate = \"<b>Total Victims: %{z}</b><br>\" + \"%{text}\" +'<extra></extra>',\n",
    "            zauto = True,\n",
    "            zmax=620, zmin=150,\n",
    "            autocolorscale=False,\n",
    "            marker_line_color='white', #line markers between states\n",
    "            colorbar = {'title': 'Total Victims'},\n",
    "            reversescale = False, \n",
    "            showscale=False,\n",
    "        )\n",
    "\n",
    "layout = dict(geo = {'scope':'usa'}, template = 'plotly_white')\n",
    "victims_map = go.Figure(data = [data], layout = layout)\n",
    "\n",
    "victims_map.update_layout(\n",
    "    title_text='<b>US Mass Shootings from 1982 to 2020 </b> <br>Total Victims by State</b><br>(Hover for breakdown)',\n",
    "    geo = dict(\n",
    "        scope='usa',\n",
    "        projection=go.layout.geo.Projection(type = 'albers usa'),\n",
    "        showlakes=True, # lakes\n",
    "        lakecolor='rgb(255, 255, 255)'),\n",
    ")\n",
    "\n",
    "iplot(victims_map)"
   ]
  },
  {
   "cell_type": "markdown",
   "metadata": {},
   "source": [
    "## 2. Deadliest US Mass Shootings from 1982 to 2020 Visualization (using MAPBOX)"
   ]
  },
  {
   "cell_type": "markdown",
   "metadata": {},
   "source": [
    "To see exactly where the deadliest shootings happened on the US map, we will use MAPBOX mapping platform and their geolocation API.\n",
    "We'll need a mapbox access token, latitude and longitude coordonates."
   ]
  },
  {
   "cell_type": "code",
   "execution_count": 58,
   "metadata": {
    "scrolled": false
   },
   "outputs": [
    {
     "data": {
      "application/vnd.plotly.v1+json": {
       "config": {
        "linkText": "Export to plot.ly",
        "plotlyServerURL": "https://plot.ly",
        "showLink": false
       },
       "data": [
        {
         "hoverinfo": "text",
         "lat": [
          43.044511,
          40.707363,
          30.364707,
          31.925974,
          39.757312,
          31.771068,
          36.997191,
          36.75442,
          41.753725,
          40.785142,
          27.471042999999998,
          41.847667,
          34.176946,
          40.443898,
          39.455658,
          35.349388,
          39.101981,
          38.994547999999995,
          29.392825,
          36.052521,
          38.392496,
          26.30483,
          40.052151,
          40.018759,
          29.273282000000002,
          39.876374,
          39.452189000000004,
          36.095739,
          37.765947,
          41.529546,
          28.580295,
          39.959034,
          36.746378,
          26.072751,
          48.461366999999996,
          30.433601,
          32.780105199999994,
          28.519718,
          38.135992,
          42.236689,
          34.075961,
          38.881031,
          38.83755,
          43.289538,
          35.047157,
          32.788387,
          44.204124,
          48.050824,
          34.436283,
          31.141716,
          41.487103999999995,
          38.874981,
          25.864338,
          34.008617,
          47.312960700000005,
          43.045601,
          41.412322499999995,
          44.977425,
          42.885850299999994,
          39.706038,
          47.6038321,
          37.8043808,
          33.9412127,
          33.741176,
          39.1637984,
          32.335941,
          41.798764,
          47.152770000000004,
          31.135557000000002,
          42.099802000000004,
          35.333434000000004,
          37.76721,
          41.9294736,
          38.580093,
          41.265719,
          45.571907200000005,
          37.2295733,
          40.7606467,
          39.9589,
          47.6229,
          34.425571000000005,
          47.876346000000005,
          43.0605671,
          39.9622601,
          32.410841999999995,
          41.908163,
          42.500429,
          27.966479,
          21.320063,
          32.664511,
          33.850116,
          39.604034000000006,
          44.0462362,
          35.8209895,
          41.685632500000004,
          33.787794399999996,
          33.5598586,
          26.119269,
          27.828025,
          47.61864486,
          39.675599,
          40.7267682,
          35.0529931,
          37.792968,
          42.3810555,
          39.07868761,
          42.4894801,
          41.6606893,
          31.117119399999996,
          30.3321838,
          38.254237599999996,
          37.9577016,
          37.368830100000004,
          28.0331886,
          35.667201500000004,
          32.5520013,
          32.925166,
          25.796491
         ],
         "lon": [
          -87.962537,
          -74.083609,
          -87.288567,
          -102.2796,
          -84.184947,
          -106.37565500000001,
          -121.584819,
          -76.060378,
          -88.331057,
          -77.839411,
          -81.45846999999999,
          -87.62200899999999,
          -118.874793,
          -79.921398,
          -76.208485,
          -118.916335,
          -84.511782,
          -76.543657,
          -95.141972,
          -86.61694399999999,
          -122.366528,
          -80.269511,
          -79.389166,
          -122.39308899999999,
          -98.056488,
          -104.98613200000001,
          -76.309988,
          -115.171544,
          -122.40608700000001,
          -75.94722,
          -81.294086,
          -82.596508,
          -119.80031899999999,
          -80.14338199999999,
          -122.33791799999999,
          -91.08140300000001,
          -96.80000820000001,
          -81.376777,
          -97.425145,
          -85.67479499999999,
          -117.27788999999999,
          -104.849057,
          -104.814251,
          -123.333193,
          -85.311819,
          -79.933143,
          -88.467541,
          -122.176918,
          -119.8714406,
          -97.777559,
          -120.54223700000001,
          -76.99453000000001,
          -80.311775,
          -118.494754,
          -122.3393665,
          -74.984891,
          -73.31142358,
          -93.310408,
          -87.86313620000001,
          -104.820594,
          -122.3300624,
          -122.2708166,
          -84.2135309,
          -118.1046356,
          -119.76740339999999,
          -110.975132,
          -72.570068,
          -122.467308,
          -97.783664,
          -75.917723,
          -79.414592,
          -87.55737420000001,
          -88.7503647,
          -90.40691,
          -96.067495,
          -88.9028922,
          -80.4139393,
          -111.89108999999999,
          -76.0806,
          -122.3165,
          -119.866069,
          -95.0169401,
          -88.1064787,
          -83.00070649999999,
          -88.634539,
          -87.879908,
          -71.075913,
          -82.57058599999999,
          -157.876462,
          -97.38424599999999,
          -84.377839,
          -105.07410300000001,
          -123.02202890000001,
          -90.6682606,
          -72.72983827,
          -117.8531119,
          -81.721952,
          -80.104119,
          -97.548198,
          -117.6483587,
          -104.84484499999999,
          -73.6342955,
          -78.87870579999999,
          -122.397973,
          -76.8705777,
          -121.54757620000001,
          -83.1446485,
          -91.5302214,
          -97.7277959,
          -81.655651,
          -85.759407,
          -121.29077959999998,
          -122.03634960000001,
          -80.64296949999999,
          -97.42937037,
          -117.04308130000001,
          -96.838676,
          -80.226683
         ],
         "marker": {
          "cmax": 800,
          "cmin": 0,
          "color": "rgb(255, 0, 0)",
          "reversescale": false,
          "size": [
           5,
           4,
           3,
           7,
           9,
           22,
           3,
           12,
           5,
           3,
           5,
           3,
           12,
           11,
           3,
           5,
           3,
           5,
           10,
           4,
           3,
           17,
           4,
           5,
           26,
           3,
           3,
           58,
           3,
           3,
           5,
           3,
           3,
           5,
           5,
           3,
           5,
           49,
           3,
           6,
           14,
           3,
           3,
           9,
           5,
           9,
           3,
           5,
           6,
           3,
           4,
           12,
           7,
           6,
           5,
           5,
           27,
           7,
           7,
           12,
           6,
           7,
           5,
           8,
           5,
           6,
           9,
           4,
           13,
           14,
           8,
           6,
           5,
           6,
           9,
           6,
           32,
           6,
           6,
           7,
           8,
           10,
           7,
           5,
           7,
           5,
           7,
           5,
           7,
           8,
           9,
           13,
           4,
           5,
           5,
           5,
           4,
           6,
           6,
           5,
           4,
           6,
           4,
           9,
           5,
           4,
           5,
           6,
           24,
           10,
           9,
           6,
           7,
           6,
           15,
           22,
           6,
           8
          ]
         },
         "mode": "markers",
         "text": [
          "<b>Location: </b>Milwaukee<br><b>Event: </b>Molson Coors Shooting<br><b>Total Victims: </b>5<br><b>Injured: </b>0<br><b>Deaths: </b>5<br><b>Year: </b>2020<br>",
          "<b>Location: </b>Jersey City<br><b>Event: </b>Jersey City Kosher Market Shooting<br><b>Total Victims: </b>7<br><b>Injured: </b>3<br><b>Deaths: </b>4<br><b>Year: </b>2019<br>",
          "<b>Location: </b>Pensacola<br><b>Event: </b>Pensacola Naval Base Shooting<br><b>Total Victims: </b>11<br><b>Injured: </b>8<br><b>Deaths: </b>3<br><b>Year: </b>2019<br>",
          "<b>Location: </b>Odessa<br><b>Event: </b>Odessa-Midland Shooting Spree<br><b>Total Victims: </b>32<br><b>Injured: </b>25<br><b>Deaths: </b>7<br><b>Year: </b>2019<br>",
          "<b>Location: </b>Dayton<br><b>Event: </b>Dayton Entertainment District Shooting<br><b>Total Victims: </b>36<br><b>Injured: </b>27<br><b>Deaths: </b>9<br><b>Year: </b>2019<br>",
          "<b>Location: </b>El Paso<br><b>Event: </b>El Paso Walmart Mass Shooting<br><b>Total Victims: </b>48<br><b>Injured: </b>26<br><b>Deaths: </b>22<br><b>Year: </b>2019<br>",
          "<b>Location: </b>Gilroy<br><b>Event: </b>Gilroy Garlic Festival Shooting<br><b>Total Victims: </b>15<br><b>Injured: </b>12<br><b>Deaths: </b>3<br><b>Year: </b>2019<br>",
          "<b>Location: </b>Virginia Beach<br><b>Event: </b>Virginia Beach Municipal Building Shooting<br><b>Total Victims: </b>16<br><b>Injured: </b>4<br><b>Deaths: </b>12<br><b>Year: </b>2019<br>",
          "<b>Location: </b>Aurora<br><b>Event: </b>Harry Pratt Co. Warehouse Shooting<br><b>Total Victims: </b>11<br><b>Injured: </b>6<br><b>Deaths: </b>5<br><b>Year: </b>2019<br>",
          "<b>Location: </b>State College<br><b>Event: </b>Pennsylvania Hotel Bar Shooting<br><b>Total Victims: </b>4<br><b>Injured: </b>1<br><b>Deaths: </b>3<br><b>Year: </b>2019<br>",
          "<b>Location: </b>Sebring<br><b>Event: </b>Suntrust Bank Shooting<br><b>Total Victims: </b>5<br><b>Injured: </b>0<br><b>Deaths: </b>5<br><b>Year: </b>2019<br>",
          "<b>Location: </b>Chicago<br><b>Event: </b>Mercy Hospital Shooting<br><b>Total Victims: </b>3<br><b>Injured: </b>0<br><b>Deaths: </b>3<br><b>Year: </b>2018<br>",
          "<b>Location: </b>Thousand Oaks<br><b>Event: </b>Thousand Oaks Nightclub Shooting<br><b>Total Victims: </b>34<br><b>Injured: </b>22<br><b>Deaths: </b>12<br><b>Year: </b>2018<br>",
          "<b>Location: </b>Pittsburgh<br><b>Event: </b>Tree Of Life Synagogue Shooting<br><b>Total Victims: </b>17<br><b>Injured: </b>6<br><b>Deaths: </b>11<br><b>Year: </b>2018<br>",
          "<b>Location: </b>Perryman<br><b>Event: </b>Rite Aid Warehouse Shooting<br><b>Total Victims: </b>6<br><b>Injured: </b>3<br><b>Deaths: </b>3<br><b>Year: </b>2018<br>",
          "<b>Location: </b>Bakersfield<br><b>Event: </b>T&T Trucking Shooting<br><b>Total Victims: </b>5<br><b>Injured: </b>0<br><b>Deaths: </b>5<br><b>Year: </b>2018<br>",
          "<b>Location: </b>Cincinnati<br><b>Event: </b>Fifth Third Center Shooting<br><b>Total Victims: </b>5<br><b>Injured: </b>2<br><b>Deaths: </b>3<br><b>Year: </b>2018<br>",
          "<b>Location: </b>Annapolis<br><b>Event: </b>Capital Gazette Shooting<br><b>Total Victims: </b>7<br><b>Injured: </b>2<br><b>Deaths: </b>5<br><b>Year: </b>2018<br>",
          "<b>Location: </b>Santa Fe<br><b>Event: </b>Santa Fe High School Shooting<br><b>Total Victims: </b>23<br><b>Injured: </b>13<br><b>Deaths: </b>10<br><b>Year: </b>2018<br>",
          "<b>Location: </b>Nashville<br><b>Event: </b>Waffle House Shooting<br><b>Total Victims: </b>8<br><b>Injured: </b>4<br><b>Deaths: </b>4<br><b>Year: </b>2018<br>",
          "<b>Location: </b>Yountville<br><b>Event: </b>Yountville Veterans Home Shooting<br><b>Total Victims: </b>3<br><b>Injured: </b>0<br><b>Deaths: </b>3<br><b>Year: </b>2018<br>",
          "<b>Location: </b>Parkland<br><b>Event: </b>Marjory Stoneman Douglas High School Shooting<br><b>Total Victims: </b>34<br><b>Injured: </b>17<br><b>Deaths: </b>17<br><b>Year: </b>2018<br>",
          "<b>Location: </b>Melcroft<br><b>Event: </b>Pennsylvania Carwash Shooting<br><b>Total Victims: </b>5<br><b>Injured: </b>1<br><b>Deaths: </b>4<br><b>Year: </b>2018<br>",
          "<b>Location: </b>Rancho Tehama<br><b>Event: </b>Rancho Tehama Shooting Spree<br><b>Total Victims: </b>15<br><b>Injured: </b>10<br><b>Deaths: </b>5<br><b>Year: </b>2017<br>",
          "<b>Location: </b>Sutherland Springs<br><b>Event: </b>Texas First Baptist Church Massacre<br><b>Total Victims: </b>46<br><b>Injured: </b>20<br><b>Deaths: </b>26<br><b>Year: </b>2017<br>",
          "<b>Location: </b>Thornton<br><b>Event: </b>Walmart Shooting In Suburban Denver<br><b>Total Victims: </b>3<br><b>Injured: </b>0<br><b>Deaths: </b>3<br><b>Year: </b>2017<br>",
          "<b>Location: </b>Edgewood<br><b>Event: </b>Edgewood Businees Park Shooting<br><b>Total Victims: </b>6<br><b>Injured: </b>3<br><b>Deaths: </b>3<br><b>Year: </b>2017<br>",
          "<b>Location: </b>Las Vegas<br><b>Event: </b>Las Vegas Strip Massacre<br><b>Total Victims: </b>604<br><b>Injured: </b>546<br><b>Deaths: </b>58<br><b>Year: </b>2017<br>",
          "<b>Location: </b>San Francisco<br><b>Event: </b>San Francisco Ups Shooting<br><b>Total Victims: </b>5<br><b>Injured: </b>2<br><b>Deaths: </b>3<br><b>Year: </b>2017<br>",
          "<b>Location: </b>Tunkhannock<br><b>Event: </b>Pennsylvania Supermarket Shooting<br><b>Total Victims: </b>3<br><b>Injured: </b>0<br><b>Deaths: </b>3<br><b>Year: </b>2017<br>",
          "<b>Location: </b>Orlando<br><b>Event: </b>Florida Awning Manufacturer Shooting<br><b>Total Victims: </b>5<br><b>Injured: </b>0<br><b>Deaths: </b>5<br><b>Year: </b>2017<br>",
          "<b>Location: </b>Kirkersville<br><b>Event: </b>Rural Ohio Nursing Home Shooting<br><b>Total Victims: </b>3<br><b>Injured: </b>0<br><b>Deaths: </b>3<br><b>Year: </b>2017<br>",
          "<b>Location: </b>Fresno<br><b>Event: </b>Fresno Downtown Shooting<br><b>Total Victims: </b>3<br><b>Injured: </b>0<br><b>Deaths: </b>3<br><b>Year: </b>2017<br>",
          "<b>Location: </b>Fort Lauderdale<br><b>Event: </b>Fort Lauderdale Airport Shooting<br><b>Total Victims: </b>11<br><b>Injured: </b>6<br><b>Deaths: </b>5<br><b>Year: </b>2017<br>",
          "<b>Location: </b>Burlington<br><b>Event: </b>Cascade Mall Shooting<br><b>Total Victims: </b>5<br><b>Injured: </b>0<br><b>Deaths: </b>5<br><b>Year: </b>2016<br>",
          "<b>Location: </b>Baton Rouge<br><b>Event: </b>Baton Rouge Police Shooting<br><b>Total Victims: </b>6<br><b>Injured: </b>3<br><b>Deaths: </b>3<br><b>Year: </b>2016<br>",
          "<b>Location: </b>Dallas<br><b>Event: </b>Dallas Police Shooting<br><b>Total Victims: </b>16<br><b>Injured: </b>11<br><b>Deaths: </b>5<br><b>Year: </b>2016<br>",
          "<b>Location: </b>Orlando<br><b>Event: </b>Orlando Nightclub Massacre<br><b>Total Victims: </b>102<br><b>Injured: </b>53<br><b>Deaths: </b>49<br><b>Year: </b>2016<br>",
          "<b>Location: </b>Hesston<br><b>Event: </b>Excel Industries Mass Shooting<br><b>Total Victims: </b>17<br><b>Injured: </b>14<br><b>Deaths: </b>3<br><b>Year: </b>2016<br>",
          "<b>Location: </b>Kalamazoo County<br><b>Event: </b>Kalamazoo Shooting Spree<br><b>Total Victims: </b>8<br><b>Injured: </b>2<br><b>Deaths: </b>6<br><b>Year: </b>2016<br>",
          "<b>Location: </b>San Bernardino<br><b>Event: </b>San Bernardino Mass Shooting<br><b>Total Victims: </b>35<br><b>Injured: </b>21<br><b>Deaths: </b>14<br><b>Year: </b>2015<br>",
          "<b>Location: </b>Colorado Springs<br><b>Event: </b>Planned Parenthood Clinic<br><b>Total Victims: </b>12<br><b>Injured: </b>9<br><b>Deaths: </b>3<br><b>Year: </b>2015<br>",
          "<b>Location: </b>Colorado Springs<br><b>Event: </b>Colorado Springs Shooting Rampage<br><b>Total Victims: </b>3<br><b>Injured: </b>0<br><b>Deaths: </b>3<br><b>Year: </b>2015<br>",
          "<b>Location: </b>Roseburg<br><b>Event: </b>Umpqua Community College Shooting<br><b>Total Victims: </b>18<br><b>Injured: </b>9<br><b>Deaths: </b>9<br><b>Year: </b>2015<br>",
          "<b>Location: </b>Chattanooga<br><b>Event: </b>Chattanooga Military Recruitment Center<br><b>Total Victims: </b>7<br><b>Injured: </b>2<br><b>Deaths: </b>5<br><b>Year: </b>2015<br>",
          "<b>Location: </b>Charleston<br><b>Event: </b>Charleston Church Shooting<br><b>Total Victims: </b>10<br><b>Injured: </b>1<br><b>Deaths: </b>9<br><b>Year: </b>2015<br>",
          "<b>Location: </b>Menasha<br><b>Event: </b>Trestle Trail Bridge Shooting<br><b>Total Victims: </b>4<br><b>Injured: </b>1<br><b>Deaths: </b>3<br><b>Year: </b>2015<br>",
          "<b>Location: </b>Marysville<br><b>Event: </b>Marysville-Pilchuck High School Shooting<br><b>Total Victims: </b>6<br><b>Injured: </b>1<br><b>Deaths: </b>5<br><b>Year: </b>2014<br>",
          "<b>Location: </b>Santa Barbara<br><b>Event: </b>Isla Vista Mass Murder<br><b>Total Victims: </b>19<br><b>Injured: </b>13<br><b>Deaths: </b>6<br><b>Year: </b>2014<br>",
          "<b>Location: </b>Fort Hood<br><b>Event: </b>Fort Hood Shooting 2<br><b>Total Victims: </b>15<br><b>Injured: </b>12<br><b>Deaths: </b>3<br><b>Year: </b>2014<br>",
          "<b>Location: </b>Alturas<br><b>Event: </b>Alturas Tribal Shooting<br><b>Total Victims: </b>6<br><b>Injured: </b>2<br><b>Deaths: </b>4<br><b>Year: </b>2014<br>",
          "<b>Location: </b>Washington<br><b>Event: </b>Washington Navy Yard Shooting<br><b>Total Victims: </b>20<br><b>Injured: </b>8<br><b>Deaths: </b>12<br><b>Year: </b>2013<br>",
          "<b>Location: </b>Hialeah<br><b>Event: </b>Hialeah Apartment Shooting<br><b>Total Victims: </b>7<br><b>Injured: </b>0<br><b>Deaths: </b>7<br><b>Year: </b>2013<br>",
          "<b>Location: </b>Santa Monica<br><b>Event: </b>Santa Monica Rampage<br><b>Total Victims: </b>9<br><b>Injured: </b>3<br><b>Deaths: </b>6<br><b>Year: </b>2013<br>",
          "<b>Location: </b>Federal Way<br><b>Event: </b>Pinewood Village Apartment Shooting<br><b>Total Victims: </b>5<br><b>Injured: </b>0<br><b>Deaths: </b>5<br><b>Year: </b>2013<br>",
          "<b>Location: </b>Herkimer County<br><b>Event: </b>Mohawk Valley Shootings<br><b>Total Victims: </b>7<br><b>Injured: </b>2<br><b>Deaths: </b>5<br><b>Year: </b>2013<br>",
          "<b>Location: </b>Newtown<br><b>Event: </b>Sandy Hook Elementary Massacre<br><b>Total Victims: </b>29<br><b>Injured: </b>2<br><b>Deaths: </b>27<br><b>Year: </b>2012<br>",
          "<b>Location: </b>Minneapolis<br><b>Event: </b>Accent Signage Systems Shooting<br><b>Total Victims: </b>8<br><b>Injured: </b>1<br><b>Deaths: </b>7<br><b>Year: </b>2012<br>",
          "<b>Location: </b>Oak Creek<br><b>Event: </b>Sikh Temple Shooting<br><b>Total Victims: </b>10<br><b>Injured: </b>3<br><b>Deaths: </b>7<br><b>Year: </b>2012<br>",
          "<b>Location: </b>Aurora<br><b>Event: </b>Aurora Theater Shooting<br><b>Total Victims: </b>82<br><b>Injured: </b>70<br><b>Deaths: </b>12<br><b>Year: </b>2012<br>",
          "<b>Location: </b>Seattle<br><b>Event: </b>Seattle Cafe Shooting<br><b>Total Victims: </b>7<br><b>Injured: </b>1<br><b>Deaths: </b>6<br><b>Year: </b>2012<br>",
          "<b>Location: </b>Oakland<br><b>Event: </b>Oikos University Killings<br><b>Total Victims: </b>10<br><b>Injured: </b>3<br><b>Deaths: </b>7<br><b>Year: </b>2012<br>",
          "<b>Location: </b>Norcross<br><b>Event: </b>Su Jung Health Sauna Shooting<br><b>Total Victims: </b>5<br><b>Injured: </b>0<br><b>Deaths: </b>5<br><b>Year: </b>2012<br>",
          "<b>Location: </b>Seal Beach<br><b>Event: </b>Seal Beach Shooting<br><b>Total Victims: </b>9<br><b>Injured: </b>1<br><b>Deaths: </b>8<br><b>Year: </b>2011<br>",
          "<b>Location: </b>Carson City<br><b>Event: </b>Ihop Shooting<br><b>Total Victims: </b>12<br><b>Injured: </b>7<br><b>Deaths: </b>5<br><b>Year: </b>2011<br>",
          "<b>Location: </b>Tucson<br><b>Event: </b>Tucson Shooting<br><b>Total Victims: </b>19<br><b>Injured: </b>13<br><b>Deaths: </b>6<br><b>Year: </b>2011<br>",
          "<b>Location: </b>Manchester<br><b>Event: </b>Hartford Beer Distributor Shooting<br><b>Total Victims: </b>11<br><b>Injured: </b>2<br><b>Deaths: </b>9<br><b>Year: </b>2010<br>",
          "<b>Location: </b>Parkland<br><b>Event: </b>Coffee Shop Police Killings<br><b>Total Victims: </b>5<br><b>Injured: </b>1<br><b>Deaths: </b>4<br><b>Year: </b>2009<br>",
          "<b>Location: </b>Fort Hood<br><b>Event: </b>Fort Hood Massacre<br><b>Total Victims: </b>44<br><b>Injured: </b>31<br><b>Deaths: </b>13<br><b>Year: </b>2009<br>",
          "<b>Location: </b>Binghamton<br><b>Event: </b>Binghamton Shootings<br><b>Total Victims: </b>18<br><b>Injured: </b>4<br><b>Deaths: </b>14<br><b>Year: </b>2009<br>",
          "<b>Location: </b>Carthage<br><b>Event: </b>Carthage Nursing Home Shooting<br><b>Total Victims: </b>11<br><b>Injured: </b>3<br><b>Deaths: </b>8<br><b>Year: </b>2009<br>",
          "<b>Location: </b>Henderson<br><b>Event: </b>Atlantis Plastics Shooting<br><b>Total Victims: </b>7<br><b>Injured: </b>1<br><b>Deaths: </b>6<br><b>Year: </b>2008<br>",
          "<b>Location: </b>DeKalb<br><b>Event: </b>Northern Illinois University Shooting<br><b>Total Victims: </b>26<br><b>Injured: </b>21<br><b>Deaths: </b>5<br><b>Year: </b>2008<br>",
          "<b>Location: </b>Kirkwood<br><b>Event: </b>Kirkwood City Council Shooting<br><b>Total Victims: </b>8<br><b>Injured: </b>2<br><b>Deaths: </b>6<br><b>Year: </b>2008<br>",
          "<b>Location: </b>Omaha<br><b>Event: </b>Westroads Mall Shooting<br><b>Total Victims: </b>13<br><b>Injured: </b>4<br><b>Deaths: </b>9<br><b>Year: </b>2007<br>",
          "<b>Location: </b>Crandon<br><b>Event: </b>Crandon Shooting<br><b>Total Victims: </b>7<br><b>Injured: </b>1<br><b>Deaths: </b>6<br><b>Year: </b>2007<br>",
          "<b>Location: </b>Blacksburg<br><b>Event: </b>Virginia Tech Massacre<br><b>Total Victims: </b>55<br><b>Injured: </b>23<br><b>Deaths: </b>32<br><b>Year: </b>2007<br>",
          "<b>Location: </b>Salt Lake City<br><b>Event: </b>Trolley Square Shooting<br><b>Total Victims: </b>10<br><b>Injured: </b>4<br><b>Deaths: </b>6<br><b>Year: </b>2007<br>",
          "<b>Location: </b>Lancaster County<br><b>Event: </b>Amish School Shooting<br><b>Total Victims: </b>11<br><b>Injured: </b>5<br><b>Deaths: </b>6<br><b>Year: </b>2006<br>",
          "<b>Location: </b>Seattle<br><b>Event: </b>Capitol Hill Massacre<br><b>Total Victims: </b>9<br><b>Injured: </b>2<br><b>Deaths: </b>7<br><b>Year: </b>2006<br>",
          "<b>Location: </b>Goleta<br><b>Event: </b>Goleta Postal Shootings<br><b>Total Victims: </b>8<br><b>Injured: </b>0<br><b>Deaths: </b>8<br><b>Year: </b>2006<br>",
          "<b>Location: </b>Red Lake<br><b>Event: </b>Red Lake Massacre<br><b>Total Victims: </b>15<br><b>Injured: </b>5<br><b>Deaths: </b>10<br><b>Year: </b>2005<br>",
          "<b>Location: </b>Brookfield<br><b>Event: </b>Living Church Of God Shooting<br><b>Total Victims: </b>11<br><b>Injured: </b>4<br><b>Deaths: </b>7<br><b>Year: </b>2005<br>",
          "<b>Location: </b>Columbus<br><b>Event: </b>Damageplan Show Shooting<br><b>Total Victims: </b>12<br><b>Injured: </b>7<br><b>Deaths: </b>5<br><b>Year: </b>2004<br>",
          "<b>Location: </b>Meridian<br><b>Event: </b>Lockheed Martin Shooting<br><b>Total Victims: </b>15<br><b>Injured: </b>8<br><b>Deaths: </b>7<br><b>Year: </b>2003<br>",
          "<b>Location: </b>Melrose Park<br><b>Event: </b>Navistar Shooting<br><b>Total Victims: </b>9<br><b>Injured: </b>4<br><b>Deaths: </b>5<br><b>Year: </b>2001<br>",
          "<b>Location: </b>Wakefield<br><b>Event: </b>Wakefield Massacre<br><b>Total Victims: </b>7<br><b>Injured: </b>0<br><b>Deaths: </b>7<br><b>Year: </b>2000<br>",
          "<b>Location: </b>Tampa<br><b>Event: </b>Hotel Shooting<br><b>Total Victims: </b>8<br><b>Injured: </b>3<br><b>Deaths: </b>5<br><b>Year: </b>1999<br>",
          "<b>Location: </b>Honolulu<br><b>Event: </b>Xerox Killings<br><b>Total Victims: </b>7<br><b>Injured: </b>0<br><b>Deaths: </b>7<br><b>Year: </b>1999<br>",
          "<b>Location: </b>Fort Worth<br><b>Event: </b>Wedgwood Baptist Church Shooting<br><b>Total Victims: </b>15<br><b>Injured: </b>7<br><b>Deaths: </b>8<br><b>Year: </b>1999<br>",
          "<b>Location: </b>Atlanta<br><b>Event: </b>Atlanta Day Trading Spree Killings<br><b>Total Victims: </b>22<br><b>Injured: </b>13<br><b>Deaths: </b>9<br><b>Year: </b>1999<br>",
          "<b>Location: </b>Littleton<br><b>Event: </b>Columbine High School Massacre<br><b>Total Victims: </b>37<br><b>Injured: </b>24<br><b>Deaths: </b>13<br><b>Year: </b>1999<br>",
          "<b>Location: </b>Springfield<br><b>Event: </b>Thurston High School Shooting<br><b>Total Victims: </b>29<br><b>Injured: </b>25<br><b>Deaths: </b>4<br><b>Year: </b>1998<br>",
          "<b>Location: </b>Jonesboro<br><b>Event: </b>Westside Middle School Killings<br><b>Total Victims: </b>15<br><b>Injured: </b>10<br><b>Deaths: </b>5<br><b>Year: </b>1998<br>",
          "<b>Location: </b>Newington<br><b>Event: </b>Connecticut Lottery Shooting<br><b>Total Victims: </b>6<br><b>Injured: </b>1<br><b>Deaths: </b>5<br><b>Year: </b>1998<br>",
          "<b>Location: </b>Orange<br><b>Event: </b>Caltrans Maintenance Yard Shooting<br><b>Total Victims: </b>7<br><b>Injured: </b>2<br><b>Deaths: </b>5<br><b>Year: </b>1997<br>",
          "<b>Location: </b>Aiken<br><b>Event: </b>R.E. Phelon Company Shooting<br><b>Total Victims: </b>7<br><b>Injured: </b>3<br><b>Deaths: </b>4<br><b>Year: </b>1997<br>",
          "<b>Location: </b>Fort Lauderdale<br><b>Event: </b>Fort Lauderdale Revenge Shooting<br><b>Total Victims: </b>7<br><b>Injured: </b>1<br><b>Deaths: </b>6<br><b>Year: </b>1996<br>",
          "<b>Location: </b>Corpus Christi<br><b>Event: </b>Walter Rossler Company Massacre<br><b>Total Victims: </b>6<br><b>Injured: </b>0<br><b>Deaths: </b>6<br><b>Year: </b>1995<br>",
          "<b>Location: </b>Fairchild Air Force Base<br><b>Event: </b>Air Force Base Shooting<br><b>Total Victims: </b>28<br><b>Injured: </b>23<br><b>Deaths: </b>5<br><b>Year: </b>1994<br>",
          "<b>Location: </b>Aurora<br><b>Event: </b>Chuck E. Cheese'S Killings<br><b>Total Victims: </b>5<br><b>Injured: </b>1<br><b>Deaths: </b>4<br><b>Year: </b>1993<br>",
          "<b>Location: </b>Garden City<br><b>Event: </b>Long Island Rail Road Massacre<br><b>Total Victims: </b>25<br><b>Injured: </b>19<br><b>Deaths: </b>6<br><b>Year: </b>1993<br>",
          "<b>Location: </b>Fayetteville<br><b>Event: </b>Luigi'S Shooting<br><b>Total Victims: </b>12<br><b>Injured: </b>8<br><b>Deaths: </b>4<br><b>Year: </b>1993<br>",
          "<b>Location: </b>San Francisco<br><b>Event: </b>101 California Street Shootings<br><b>Total Victims: </b>15<br><b>Injured: </b>6<br><b>Deaths: </b>9<br><b>Year: </b>1993<br>",
          "<b>Location: </b>Watkins Glen<br><b>Event: </b>Watkins Glen Killings<br><b>Total Victims: </b>5<br><b>Injured: </b>0<br><b>Deaths: </b>5<br><b>Year: </b>1992<br>",
          "<b>Location: </b>Olivehurst<br><b>Event: </b>Lindhurst High School Shooting<br><b>Total Victims: </b>14<br><b>Injured: </b>10<br><b>Deaths: </b>4<br><b>Year: </b>1992<br>",
          "<b>Location: </b>Royal Oak<br><b>Event: </b>Royal Oak Postal Shootings<br><b>Total Victims: </b>10<br><b>Injured: </b>5<br><b>Deaths: </b>5<br><b>Year: </b>1991<br>",
          "<b>Location: </b>Iowa City<br><b>Event: </b>University Of Iowa Shooting<br><b>Total Victims: </b>7<br><b>Injured: </b>1<br><b>Deaths: </b>6<br><b>Year: </b>1991<br>",
          "<b>Location: </b>Killeen<br><b>Event: </b>Luby'S Massacre<br><b>Total Victims: </b>44<br><b>Injured: </b>20<br><b>Deaths: </b>24<br><b>Year: </b>1991<br>",
          "<b>Location: </b>Jacksonville<br><b>Event: </b>Gmac Massacre<br><b>Total Victims: </b>14<br><b>Injured: </b>4<br><b>Deaths: </b>10<br><b>Year: </b>1990<br>",
          "<b>Location: </b>Louisville<br><b>Event: </b>Standard Gravure Shooting<br><b>Total Victims: </b>21<br><b>Injured: </b>12<br><b>Deaths: </b>9<br><b>Year: </b>1989<br>",
          "<b>Location: </b>Stockton<br><b>Event: </b>Stockton Schoolyard Shooting<br><b>Total Victims: </b>35<br><b>Injured: </b>29<br><b>Deaths: </b>6<br><b>Year: </b>1989<br>",
          "<b>Location: </b>Sunnyvale<br><b>Event: </b>Esl Shooting<br><b>Total Victims: </b>11<br><b>Injured: </b>4<br><b>Deaths: </b>7<br><b>Year: </b>1988<br>",
          "<b>Location: </b>Palm Bay<br><b>Event: </b>Shopping Centers Spree Killings<br><b>Total Victims: </b>20<br><b>Injured: </b>14<br><b>Deaths: </b>6<br><b>Year: </b>1987<br>",
          "<b>Location: </b>Edmond<br><b>Event: </b>United States Postal Service Shooting<br><b>Total Victims: </b>21<br><b>Injured: </b>6<br><b>Deaths: </b>15<br><b>Year: </b>1986<br>",
          "<b>Location: </b>San Ysidro<br><b>Event: </b>San Ysidro Mcdonald'S Massacre<br><b>Total Victims: </b>41<br><b>Injured: </b>19<br><b>Deaths: </b>22<br><b>Year: </b>1984<br>",
          "<b>Location: </b>Dallas<br><b>Event: </b>Dallas Nightclub Shooting<br><b>Total Victims: </b>7<br><b>Injured: </b>1<br><b>Deaths: </b>6<br><b>Year: </b>1984<br>",
          "<b>Location: </b>Miami<br><b>Event: </b>Welding Shop Shooting<br><b>Total Victims: </b>11<br><b>Injured: </b>3<br><b>Deaths: </b>8<br><b>Year: </b>1982<br>"
         ],
         "type": "scattermapbox"
        }
       ],
       "layout": {
        "geo": {
         "lakecolor": "rgb(255, 255, 255)",
         "projection": {
          "type": "albers usa"
         },
         "scope": "usa",
         "showlakes": true
        },
        "hovermode": "closest",
        "mapbox": {
         "accesstoken": "pk.eyJ1IjoiYW5kcmFtYXJhY2l1YyIsImEiOiJjazc0ZXVqYTYwbGNnM2tudnZnc3B1Y2lwIn0.lDDkLC3qCZfpH7swCmk6Iw",
         "bearing": 0,
         "center": {
          "lat": 38,
          "lon": -94
         },
         "pitch": 0,
         "style": "light",
         "zoom": 3
        },
        "showlegend": false,
        "template": {
         "data": {
          "bar": [
           {
            "error_x": {
             "color": "rgb(51,51,51)"
            },
            "error_y": {
             "color": "rgb(51,51,51)"
            },
            "marker": {
             "line": {
              "color": "rgb(237,237,237)",
              "width": 0.5
             }
            },
            "type": "bar"
           }
          ],
          "barpolar": [
           {
            "marker": {
             "line": {
              "color": "rgb(237,237,237)",
              "width": 0.5
             }
            },
            "type": "barpolar"
           }
          ],
          "carpet": [
           {
            "aaxis": {
             "endlinecolor": "rgb(51,51,51)",
             "gridcolor": "white",
             "linecolor": "white",
             "minorgridcolor": "white",
             "startlinecolor": "rgb(51,51,51)"
            },
            "baxis": {
             "endlinecolor": "rgb(51,51,51)",
             "gridcolor": "white",
             "linecolor": "white",
             "minorgridcolor": "white",
             "startlinecolor": "rgb(51,51,51)"
            },
            "type": "carpet"
           }
          ],
          "choropleth": [
           {
            "colorbar": {
             "outlinewidth": 0,
             "tickcolor": "rgb(237,237,237)",
             "ticklen": 6,
             "ticks": "inside"
            },
            "type": "choropleth"
           }
          ],
          "contour": [
           {
            "colorbar": {
             "outlinewidth": 0,
             "tickcolor": "rgb(237,237,237)",
             "ticklen": 6,
             "ticks": "inside"
            },
            "colorscale": [
             [
              0,
              "rgb(20,44,66)"
             ],
             [
              1,
              "rgb(90,179,244)"
             ]
            ],
            "type": "contour"
           }
          ],
          "contourcarpet": [
           {
            "colorbar": {
             "outlinewidth": 0,
             "tickcolor": "rgb(237,237,237)",
             "ticklen": 6,
             "ticks": "inside"
            },
            "type": "contourcarpet"
           }
          ],
          "heatmap": [
           {
            "colorbar": {
             "outlinewidth": 0,
             "tickcolor": "rgb(237,237,237)",
             "ticklen": 6,
             "ticks": "inside"
            },
            "colorscale": [
             [
              0,
              "rgb(20,44,66)"
             ],
             [
              1,
              "rgb(90,179,244)"
             ]
            ],
            "type": "heatmap"
           }
          ],
          "heatmapgl": [
           {
            "colorbar": {
             "outlinewidth": 0,
             "tickcolor": "rgb(237,237,237)",
             "ticklen": 6,
             "ticks": "inside"
            },
            "colorscale": [
             [
              0,
              "rgb(20,44,66)"
             ],
             [
              1,
              "rgb(90,179,244)"
             ]
            ],
            "type": "heatmapgl"
           }
          ],
          "histogram": [
           {
            "marker": {
             "colorbar": {
              "outlinewidth": 0,
              "tickcolor": "rgb(237,237,237)",
              "ticklen": 6,
              "ticks": "inside"
             }
            },
            "type": "histogram"
           }
          ],
          "histogram2d": [
           {
            "colorbar": {
             "outlinewidth": 0,
             "tickcolor": "rgb(237,237,237)",
             "ticklen": 6,
             "ticks": "inside"
            },
            "colorscale": [
             [
              0,
              "rgb(20,44,66)"
             ],
             [
              1,
              "rgb(90,179,244)"
             ]
            ],
            "type": "histogram2d"
           }
          ],
          "histogram2dcontour": [
           {
            "colorbar": {
             "outlinewidth": 0,
             "tickcolor": "rgb(237,237,237)",
             "ticklen": 6,
             "ticks": "inside"
            },
            "colorscale": [
             [
              0,
              "rgb(20,44,66)"
             ],
             [
              1,
              "rgb(90,179,244)"
             ]
            ],
            "type": "histogram2dcontour"
           }
          ],
          "mesh3d": [
           {
            "colorbar": {
             "outlinewidth": 0,
             "tickcolor": "rgb(237,237,237)",
             "ticklen": 6,
             "ticks": "inside"
            },
            "type": "mesh3d"
           }
          ],
          "parcoords": [
           {
            "line": {
             "colorbar": {
              "outlinewidth": 0,
              "tickcolor": "rgb(237,237,237)",
              "ticklen": 6,
              "ticks": "inside"
             }
            },
            "type": "parcoords"
           }
          ],
          "pie": [
           {
            "automargin": true,
            "type": "pie"
           }
          ],
          "scatter": [
           {
            "marker": {
             "colorbar": {
              "outlinewidth": 0,
              "tickcolor": "rgb(237,237,237)",
              "ticklen": 6,
              "ticks": "inside"
             }
            },
            "type": "scatter"
           }
          ],
          "scatter3d": [
           {
            "line": {
             "colorbar": {
              "outlinewidth": 0,
              "tickcolor": "rgb(237,237,237)",
              "ticklen": 6,
              "ticks": "inside"
             }
            },
            "marker": {
             "colorbar": {
              "outlinewidth": 0,
              "tickcolor": "rgb(237,237,237)",
              "ticklen": 6,
              "ticks": "inside"
             }
            },
            "type": "scatter3d"
           }
          ],
          "scattercarpet": [
           {
            "marker": {
             "colorbar": {
              "outlinewidth": 0,
              "tickcolor": "rgb(237,237,237)",
              "ticklen": 6,
              "ticks": "inside"
             }
            },
            "type": "scattercarpet"
           }
          ],
          "scattergeo": [
           {
            "marker": {
             "colorbar": {
              "outlinewidth": 0,
              "tickcolor": "rgb(237,237,237)",
              "ticklen": 6,
              "ticks": "inside"
             }
            },
            "type": "scattergeo"
           }
          ],
          "scattergl": [
           {
            "marker": {
             "colorbar": {
              "outlinewidth": 0,
              "tickcolor": "rgb(237,237,237)",
              "ticklen": 6,
              "ticks": "inside"
             }
            },
            "type": "scattergl"
           }
          ],
          "scattermapbox": [
           {
            "marker": {
             "colorbar": {
              "outlinewidth": 0,
              "tickcolor": "rgb(237,237,237)",
              "ticklen": 6,
              "ticks": "inside"
             }
            },
            "type": "scattermapbox"
           }
          ],
          "scatterpolar": [
           {
            "marker": {
             "colorbar": {
              "outlinewidth": 0,
              "tickcolor": "rgb(237,237,237)",
              "ticklen": 6,
              "ticks": "inside"
             }
            },
            "type": "scatterpolar"
           }
          ],
          "scatterpolargl": [
           {
            "marker": {
             "colorbar": {
              "outlinewidth": 0,
              "tickcolor": "rgb(237,237,237)",
              "ticklen": 6,
              "ticks": "inside"
             }
            },
            "type": "scatterpolargl"
           }
          ],
          "scatterternary": [
           {
            "marker": {
             "colorbar": {
              "outlinewidth": 0,
              "tickcolor": "rgb(237,237,237)",
              "ticklen": 6,
              "ticks": "inside"
             }
            },
            "type": "scatterternary"
           }
          ],
          "surface": [
           {
            "colorbar": {
             "outlinewidth": 0,
             "tickcolor": "rgb(237,237,237)",
             "ticklen": 6,
             "ticks": "inside"
            },
            "colorscale": [
             [
              0,
              "rgb(20,44,66)"
             ],
             [
              1,
              "rgb(90,179,244)"
             ]
            ],
            "type": "surface"
           }
          ],
          "table": [
           {
            "cells": {
             "fill": {
              "color": "rgb(237,237,237)"
             },
             "line": {
              "color": "white"
             }
            },
            "header": {
             "fill": {
              "color": "rgb(217,217,217)"
             },
             "line": {
              "color": "white"
             }
            },
            "type": "table"
           }
          ]
         },
         "layout": {
          "annotationdefaults": {
           "arrowhead": 0,
           "arrowwidth": 1
          },
          "coloraxis": {
           "colorbar": {
            "outlinewidth": 0,
            "tickcolor": "rgb(237,237,237)",
            "ticklen": 6,
            "ticks": "inside"
           }
          },
          "colorscale": {
           "sequential": [
            [
             0,
             "rgb(20,44,66)"
            ],
            [
             1,
             "rgb(90,179,244)"
            ]
           ],
           "sequentialminus": [
            [
             0,
             "rgb(20,44,66)"
            ],
            [
             1,
             "rgb(90,179,244)"
            ]
           ]
          },
          "colorway": [
           "#F8766D",
           "#A3A500",
           "#00BF7D",
           "#00B0F6",
           "#E76BF3"
          ],
          "font": {
           "color": "rgb(51,51,51)"
          },
          "geo": {
           "bgcolor": "white",
           "lakecolor": "white",
           "landcolor": "rgb(237,237,237)",
           "showlakes": true,
           "showland": true,
           "subunitcolor": "white"
          },
          "hoverlabel": {
           "align": "left"
          },
          "hovermode": "closest",
          "paper_bgcolor": "white",
          "plot_bgcolor": "rgb(237,237,237)",
          "polar": {
           "angularaxis": {
            "gridcolor": "white",
            "linecolor": "white",
            "showgrid": true,
            "tickcolor": "rgb(51,51,51)",
            "ticks": "outside"
           },
           "bgcolor": "rgb(237,237,237)",
           "radialaxis": {
            "gridcolor": "white",
            "linecolor": "white",
            "showgrid": true,
            "tickcolor": "rgb(51,51,51)",
            "ticks": "outside"
           }
          },
          "scene": {
           "xaxis": {
            "backgroundcolor": "rgb(237,237,237)",
            "gridcolor": "white",
            "gridwidth": 2,
            "linecolor": "white",
            "showbackground": true,
            "showgrid": true,
            "tickcolor": "rgb(51,51,51)",
            "ticks": "outside",
            "zerolinecolor": "white"
           },
           "yaxis": {
            "backgroundcolor": "rgb(237,237,237)",
            "gridcolor": "white",
            "gridwidth": 2,
            "linecolor": "white",
            "showbackground": true,
            "showgrid": true,
            "tickcolor": "rgb(51,51,51)",
            "ticks": "outside",
            "zerolinecolor": "white"
           },
           "zaxis": {
            "backgroundcolor": "rgb(237,237,237)",
            "gridcolor": "white",
            "gridwidth": 2,
            "linecolor": "white",
            "showbackground": true,
            "showgrid": true,
            "tickcolor": "rgb(51,51,51)",
            "ticks": "outside",
            "zerolinecolor": "white"
           }
          },
          "shapedefaults": {
           "fillcolor": "black",
           "line": {
            "width": 0
           },
           "opacity": 0.3
          },
          "ternary": {
           "aaxis": {
            "gridcolor": "white",
            "linecolor": "white",
            "showgrid": true,
            "tickcolor": "rgb(51,51,51)",
            "ticks": "outside"
           },
           "baxis": {
            "gridcolor": "white",
            "linecolor": "white",
            "showgrid": true,
            "tickcolor": "rgb(51,51,51)",
            "ticks": "outside"
           },
           "bgcolor": "rgb(237,237,237)",
           "caxis": {
            "gridcolor": "white",
            "linecolor": "white",
            "showgrid": true,
            "tickcolor": "rgb(51,51,51)",
            "ticks": "outside"
           }
          },
          "xaxis": {
           "automargin": true,
           "gridcolor": "white",
           "linecolor": "white",
           "showgrid": true,
           "tickcolor": "rgb(51,51,51)",
           "ticks": "outside",
           "title": {
            "standoff": 15
           },
           "zerolinecolor": "white"
          },
          "yaxis": {
           "automargin": true,
           "gridcolor": "white",
           "linecolor": "white",
           "showgrid": true,
           "tickcolor": "rgb(51,51,51)",
           "ticks": "outside",
           "title": {
            "standoff": 15
           },
           "zerolinecolor": "white"
          }
         }
        },
        "title": {
         "text": "<b>1982 - 2020 Deadliest US Mass Shootings </b><br>(Hover for breakdown)"
        }
       }
      },
      "text/html": [
       "<div>\n",
       "        \n",
       "        \n",
       "            <div id=\"ec05813c-0889-41a0-a007-c1ec62fab294\" class=\"plotly-graph-div\" style=\"height:525px; width:100%;\"></div>\n",
       "            <script type=\"text/javascript\">\n",
       "                require([\"plotly\"], function(Plotly) {\n",
       "                    window.PLOTLYENV=window.PLOTLYENV || {};\n",
       "                    \n",
       "                if (document.getElementById(\"ec05813c-0889-41a0-a007-c1ec62fab294\")) {\n",
       "                    Plotly.newPlot(\n",
       "                        'ec05813c-0889-41a0-a007-c1ec62fab294',\n",
       "                        [{\"hoverinfo\": \"text\", \"lat\": [43.044511, 40.707363, 30.364707, 31.925974, 39.757312, 31.771068, 36.997191, 36.75442, 41.753725, 40.785142, 27.471042999999998, 41.847667, 34.176946, 40.443898, 39.455658, 35.349388, 39.101981, 38.994547999999995, 29.392825, 36.052521, 38.392496, 26.30483, 40.052151, 40.018759, 29.273282000000002, 39.876374, 39.452189000000004, 36.095739, 37.765947, 41.529546, 28.580295, 39.959034, 36.746378, 26.072751, 48.461366999999996, 30.433601, 32.780105199999994, 28.519718, 38.135992, 42.236689, 34.075961, 38.881031, 38.83755, 43.289538, 35.047157, 32.788387, 44.204124, 48.050824, 34.436283, 31.141716, 41.487103999999995, 38.874981, 25.864338, 34.008617, 47.312960700000005, 43.045601, 41.412322499999995, 44.977425, 42.885850299999994, 39.706038, 47.6038321, 37.8043808, 33.9412127, 33.741176, 39.1637984, 32.335941, 41.798764, 47.152770000000004, 31.135557000000002, 42.099802000000004, 35.333434000000004, 37.76721, 41.9294736, 38.580093, 41.265719, 45.571907200000005, 37.2295733, 40.7606467, 39.9589, 47.6229, 34.425571000000005, 47.876346000000005, 43.0605671, 39.9622601, 32.410841999999995, 41.908163, 42.500429, 27.966479, 21.320063, 32.664511, 33.850116, 39.604034000000006, 44.0462362, 35.8209895, 41.685632500000004, 33.787794399999996, 33.5598586, 26.119269, 27.828025, 47.61864486, 39.675599, 40.7267682, 35.0529931, 37.792968, 42.3810555, 39.07868761, 42.4894801, 41.6606893, 31.117119399999996, 30.3321838, 38.254237599999996, 37.9577016, 37.368830100000004, 28.0331886, 35.667201500000004, 32.5520013, 32.925166, 25.796491], \"lon\": [-87.962537, -74.083609, -87.288567, -102.2796, -84.184947, -106.37565500000001, -121.584819, -76.060378, -88.331057, -77.839411, -81.45846999999999, -87.62200899999999, -118.874793, -79.921398, -76.208485, -118.916335, -84.511782, -76.543657, -95.141972, -86.61694399999999, -122.366528, -80.269511, -79.389166, -122.39308899999999, -98.056488, -104.98613200000001, -76.309988, -115.171544, -122.40608700000001, -75.94722, -81.294086, -82.596508, -119.80031899999999, -80.14338199999999, -122.33791799999999, -91.08140300000001, -96.80000820000001, -81.376777, -97.425145, -85.67479499999999, -117.27788999999999, -104.849057, -104.814251, -123.333193, -85.311819, -79.933143, -88.467541, -122.176918, -119.8714406, -97.777559, -120.54223700000001, -76.99453000000001, -80.311775, -118.494754, -122.3393665, -74.984891, -73.31142358, -93.310408, -87.86313620000001, -104.820594, -122.3300624, -122.2708166, -84.2135309, -118.1046356, -119.76740339999999, -110.975132, -72.570068, -122.467308, -97.783664, -75.917723, -79.414592, -87.55737420000001, -88.7503647, -90.40691, -96.067495, -88.9028922, -80.4139393, -111.89108999999999, -76.0806, -122.3165, -119.866069, -95.0169401, -88.1064787, -83.00070649999999, -88.634539, -87.879908, -71.075913, -82.57058599999999, -157.876462, -97.38424599999999, -84.377839, -105.07410300000001, -123.02202890000001, -90.6682606, -72.72983827, -117.8531119, -81.721952, -80.104119, -97.548198, -117.6483587, -104.84484499999999, -73.6342955, -78.87870579999999, -122.397973, -76.8705777, -121.54757620000001, -83.1446485, -91.5302214, -97.7277959, -81.655651, -85.759407, -121.29077959999998, -122.03634960000001, -80.64296949999999, -97.42937037, -117.04308130000001, -96.838676, -80.226683], \"marker\": {\"cmax\": 800, \"cmin\": 0, \"color\": \"rgb(255, 0, 0)\", \"reversescale\": false, \"size\": [5, 4, 3, 7, 9, 22, 3, 12, 5, 3, 5, 3, 12, 11, 3, 5, 3, 5, 10, 4, 3, 17, 4, 5, 26, 3, 3, 58, 3, 3, 5, 3, 3, 5, 5, 3, 5, 49, 3, 6, 14, 3, 3, 9, 5, 9, 3, 5, 6, 3, 4, 12, 7, 6, 5, 5, 27, 7, 7, 12, 6, 7, 5, 8, 5, 6, 9, 4, 13, 14, 8, 6, 5, 6, 9, 6, 32, 6, 6, 7, 8, 10, 7, 5, 7, 5, 7, 5, 7, 8, 9, 13, 4, 5, 5, 5, 4, 6, 6, 5, 4, 6, 4, 9, 5, 4, 5, 6, 24, 10, 9, 6, 7, 6, 15, 22, 6, 8]}, \"mode\": \"markers\", \"text\": [\"<b>Location: </b>Milwaukee<br><b>Event: </b>Molson Coors Shooting<br><b>Total Victims: </b>5<br><b>Injured: </b>0<br><b>Deaths: </b>5<br><b>Year: </b>2020<br>\", \"<b>Location: </b>Jersey City<br><b>Event: </b>Jersey City Kosher Market Shooting<br><b>Total Victims: </b>7<br><b>Injured: </b>3<br><b>Deaths: </b>4<br><b>Year: </b>2019<br>\", \"<b>Location: </b>Pensacola<br><b>Event: </b>Pensacola Naval Base Shooting<br><b>Total Victims: </b>11<br><b>Injured: </b>8<br><b>Deaths: </b>3<br><b>Year: </b>2019<br>\", \"<b>Location: </b>Odessa<br><b>Event: </b>Odessa-Midland Shooting Spree<br><b>Total Victims: </b>32<br><b>Injured: </b>25<br><b>Deaths: </b>7<br><b>Year: </b>2019<br>\", \"<b>Location: </b>Dayton<br><b>Event: </b>Dayton Entertainment District Shooting<br><b>Total Victims: </b>36<br><b>Injured: </b>27<br><b>Deaths: </b>9<br><b>Year: </b>2019<br>\", \"<b>Location: </b>El Paso<br><b>Event: </b>El Paso Walmart Mass Shooting<br><b>Total Victims: </b>48<br><b>Injured: </b>26<br><b>Deaths: </b>22<br><b>Year: </b>2019<br>\", \"<b>Location: </b>Gilroy<br><b>Event: </b>Gilroy Garlic Festival Shooting<br><b>Total Victims: </b>15<br><b>Injured: </b>12<br><b>Deaths: </b>3<br><b>Year: </b>2019<br>\", \"<b>Location: </b>Virginia Beach<br><b>Event: </b>Virginia Beach Municipal Building Shooting<br><b>Total Victims: </b>16<br><b>Injured: </b>4<br><b>Deaths: </b>12<br><b>Year: </b>2019<br>\", \"<b>Location: </b>Aurora<br><b>Event: </b>Harry Pratt Co. Warehouse Shooting<br><b>Total Victims: </b>11<br><b>Injured: </b>6<br><b>Deaths: </b>5<br><b>Year: </b>2019<br>\", \"<b>Location: </b>State College<br><b>Event: </b>Pennsylvania Hotel Bar Shooting<br><b>Total Victims: </b>4<br><b>Injured: </b>1<br><b>Deaths: </b>3<br><b>Year: </b>2019<br>\", \"<b>Location: </b>Sebring<br><b>Event: </b>Suntrust Bank Shooting<br><b>Total Victims: </b>5<br><b>Injured: </b>0<br><b>Deaths: </b>5<br><b>Year: </b>2019<br>\", \"<b>Location: </b>Chicago<br><b>Event: </b>Mercy Hospital Shooting<br><b>Total Victims: </b>3<br><b>Injured: </b>0<br><b>Deaths: </b>3<br><b>Year: </b>2018<br>\", \"<b>Location: </b>Thousand Oaks<br><b>Event: </b>Thousand Oaks Nightclub Shooting<br><b>Total Victims: </b>34<br><b>Injured: </b>22<br><b>Deaths: </b>12<br><b>Year: </b>2018<br>\", \"<b>Location: </b>Pittsburgh<br><b>Event: </b>Tree Of Life Synagogue Shooting<br><b>Total Victims: </b>17<br><b>Injured: </b>6<br><b>Deaths: </b>11<br><b>Year: </b>2018<br>\", \"<b>Location: </b>Perryman<br><b>Event: </b>Rite Aid Warehouse Shooting<br><b>Total Victims: </b>6<br><b>Injured: </b>3<br><b>Deaths: </b>3<br><b>Year: </b>2018<br>\", \"<b>Location: </b>Bakersfield<br><b>Event: </b>T&T Trucking Shooting<br><b>Total Victims: </b>5<br><b>Injured: </b>0<br><b>Deaths: </b>5<br><b>Year: </b>2018<br>\", \"<b>Location: </b>Cincinnati<br><b>Event: </b>Fifth Third Center Shooting<br><b>Total Victims: </b>5<br><b>Injured: </b>2<br><b>Deaths: </b>3<br><b>Year: </b>2018<br>\", \"<b>Location: </b>Annapolis<br><b>Event: </b>Capital Gazette Shooting<br><b>Total Victims: </b>7<br><b>Injured: </b>2<br><b>Deaths: </b>5<br><b>Year: </b>2018<br>\", \"<b>Location: </b>Santa Fe<br><b>Event: </b>Santa Fe High School Shooting<br><b>Total Victims: </b>23<br><b>Injured: </b>13<br><b>Deaths: </b>10<br><b>Year: </b>2018<br>\", \"<b>Location: </b>Nashville<br><b>Event: </b>Waffle House Shooting<br><b>Total Victims: </b>8<br><b>Injured: </b>4<br><b>Deaths: </b>4<br><b>Year: </b>2018<br>\", \"<b>Location: </b>Yountville<br><b>Event: </b>Yountville Veterans Home Shooting<br><b>Total Victims: </b>3<br><b>Injured: </b>0<br><b>Deaths: </b>3<br><b>Year: </b>2018<br>\", \"<b>Location: </b>Parkland<br><b>Event: </b>Marjory Stoneman Douglas High School Shooting<br><b>Total Victims: </b>34<br><b>Injured: </b>17<br><b>Deaths: </b>17<br><b>Year: </b>2018<br>\", \"<b>Location: </b>Melcroft<br><b>Event: </b>Pennsylvania Carwash Shooting<br><b>Total Victims: </b>5<br><b>Injured: </b>1<br><b>Deaths: </b>4<br><b>Year: </b>2018<br>\", \"<b>Location: </b>Rancho Tehama<br><b>Event: </b>Rancho Tehama Shooting Spree<br><b>Total Victims: </b>15<br><b>Injured: </b>10<br><b>Deaths: </b>5<br><b>Year: </b>2017<br>\", \"<b>Location: </b>Sutherland Springs<br><b>Event: </b>Texas First Baptist Church Massacre<br><b>Total Victims: </b>46<br><b>Injured: </b>20<br><b>Deaths: </b>26<br><b>Year: </b>2017<br>\", \"<b>Location: </b>Thornton<br><b>Event: </b>Walmart Shooting In Suburban Denver<br><b>Total Victims: </b>3<br><b>Injured: </b>0<br><b>Deaths: </b>3<br><b>Year: </b>2017<br>\", \"<b>Location: </b>Edgewood<br><b>Event: </b>Edgewood Businees Park Shooting<br><b>Total Victims: </b>6<br><b>Injured: </b>3<br><b>Deaths: </b>3<br><b>Year: </b>2017<br>\", \"<b>Location: </b>Las Vegas<br><b>Event: </b>Las Vegas Strip Massacre<br><b>Total Victims: </b>604<br><b>Injured: </b>546<br><b>Deaths: </b>58<br><b>Year: </b>2017<br>\", \"<b>Location: </b>San Francisco<br><b>Event: </b>San Francisco Ups Shooting<br><b>Total Victims: </b>5<br><b>Injured: </b>2<br><b>Deaths: </b>3<br><b>Year: </b>2017<br>\", \"<b>Location: </b>Tunkhannock<br><b>Event: </b>Pennsylvania Supermarket Shooting<br><b>Total Victims: </b>3<br><b>Injured: </b>0<br><b>Deaths: </b>3<br><b>Year: </b>2017<br>\", \"<b>Location: </b>Orlando<br><b>Event: </b>Florida Awning Manufacturer Shooting<br><b>Total Victims: </b>5<br><b>Injured: </b>0<br><b>Deaths: </b>5<br><b>Year: </b>2017<br>\", \"<b>Location: </b>Kirkersville<br><b>Event: </b>Rural Ohio Nursing Home Shooting<br><b>Total Victims: </b>3<br><b>Injured: </b>0<br><b>Deaths: </b>3<br><b>Year: </b>2017<br>\", \"<b>Location: </b>Fresno<br><b>Event: </b>Fresno Downtown Shooting<br><b>Total Victims: </b>3<br><b>Injured: </b>0<br><b>Deaths: </b>3<br><b>Year: </b>2017<br>\", \"<b>Location: </b>Fort Lauderdale<br><b>Event: </b>Fort Lauderdale Airport Shooting<br><b>Total Victims: </b>11<br><b>Injured: </b>6<br><b>Deaths: </b>5<br><b>Year: </b>2017<br>\", \"<b>Location: </b>Burlington<br><b>Event: </b>Cascade Mall Shooting<br><b>Total Victims: </b>5<br><b>Injured: </b>0<br><b>Deaths: </b>5<br><b>Year: </b>2016<br>\", \"<b>Location: </b>Baton Rouge<br><b>Event: </b>Baton Rouge Police Shooting<br><b>Total Victims: </b>6<br><b>Injured: </b>3<br><b>Deaths: </b>3<br><b>Year: </b>2016<br>\", \"<b>Location: </b>Dallas<br><b>Event: </b>Dallas Police Shooting<br><b>Total Victims: </b>16<br><b>Injured: </b>11<br><b>Deaths: </b>5<br><b>Year: </b>2016<br>\", \"<b>Location: </b>Orlando<br><b>Event: </b>Orlando Nightclub Massacre<br><b>Total Victims: </b>102<br><b>Injured: </b>53<br><b>Deaths: </b>49<br><b>Year: </b>2016<br>\", \"<b>Location: </b>Hesston<br><b>Event: </b>Excel Industries Mass Shooting<br><b>Total Victims: </b>17<br><b>Injured: </b>14<br><b>Deaths: </b>3<br><b>Year: </b>2016<br>\", \"<b>Location: </b>Kalamazoo County<br><b>Event: </b>Kalamazoo Shooting Spree<br><b>Total Victims: </b>8<br><b>Injured: </b>2<br><b>Deaths: </b>6<br><b>Year: </b>2016<br>\", \"<b>Location: </b>San Bernardino<br><b>Event: </b>San Bernardino Mass Shooting<br><b>Total Victims: </b>35<br><b>Injured: </b>21<br><b>Deaths: </b>14<br><b>Year: </b>2015<br>\", \"<b>Location: </b>Colorado Springs<br><b>Event: </b>Planned Parenthood Clinic<br><b>Total Victims: </b>12<br><b>Injured: </b>9<br><b>Deaths: </b>3<br><b>Year: </b>2015<br>\", \"<b>Location: </b>Colorado Springs<br><b>Event: </b>Colorado Springs Shooting Rampage<br><b>Total Victims: </b>3<br><b>Injured: </b>0<br><b>Deaths: </b>3<br><b>Year: </b>2015<br>\", \"<b>Location: </b>Roseburg<br><b>Event: </b>Umpqua Community College Shooting<br><b>Total Victims: </b>18<br><b>Injured: </b>9<br><b>Deaths: </b>9<br><b>Year: </b>2015<br>\", \"<b>Location: </b>Chattanooga<br><b>Event: </b>Chattanooga Military Recruitment Center<br><b>Total Victims: </b>7<br><b>Injured: </b>2<br><b>Deaths: </b>5<br><b>Year: </b>2015<br>\", \"<b>Location: </b>Charleston<br><b>Event: </b>Charleston Church Shooting<br><b>Total Victims: </b>10<br><b>Injured: </b>1<br><b>Deaths: </b>9<br><b>Year: </b>2015<br>\", \"<b>Location: </b>Menasha<br><b>Event: </b>Trestle Trail Bridge Shooting<br><b>Total Victims: </b>4<br><b>Injured: </b>1<br><b>Deaths: </b>3<br><b>Year: </b>2015<br>\", \"<b>Location: </b>Marysville<br><b>Event: </b>Marysville-Pilchuck High School Shooting<br><b>Total Victims: </b>6<br><b>Injured: </b>1<br><b>Deaths: </b>5<br><b>Year: </b>2014<br>\", \"<b>Location: </b>Santa Barbara<br><b>Event: </b>Isla Vista Mass Murder<br><b>Total Victims: </b>19<br><b>Injured: </b>13<br><b>Deaths: </b>6<br><b>Year: </b>2014<br>\", \"<b>Location: </b>Fort Hood<br><b>Event: </b>Fort Hood Shooting 2<br><b>Total Victims: </b>15<br><b>Injured: </b>12<br><b>Deaths: </b>3<br><b>Year: </b>2014<br>\", \"<b>Location: </b>Alturas<br><b>Event: </b>Alturas Tribal Shooting<br><b>Total Victims: </b>6<br><b>Injured: </b>2<br><b>Deaths: </b>4<br><b>Year: </b>2014<br>\", \"<b>Location: </b>Washington<br><b>Event: </b>Washington Navy Yard Shooting<br><b>Total Victims: </b>20<br><b>Injured: </b>8<br><b>Deaths: </b>12<br><b>Year: </b>2013<br>\", \"<b>Location: </b>Hialeah<br><b>Event: </b>Hialeah Apartment Shooting<br><b>Total Victims: </b>7<br><b>Injured: </b>0<br><b>Deaths: </b>7<br><b>Year: </b>2013<br>\", \"<b>Location: </b>Santa Monica<br><b>Event: </b>Santa Monica Rampage<br><b>Total Victims: </b>9<br><b>Injured: </b>3<br><b>Deaths: </b>6<br><b>Year: </b>2013<br>\", \"<b>Location: </b>Federal Way<br><b>Event: </b>Pinewood Village Apartment Shooting<br><b>Total Victims: </b>5<br><b>Injured: </b>0<br><b>Deaths: </b>5<br><b>Year: </b>2013<br>\", \"<b>Location: </b>Herkimer County<br><b>Event: </b>Mohawk Valley Shootings<br><b>Total Victims: </b>7<br><b>Injured: </b>2<br><b>Deaths: </b>5<br><b>Year: </b>2013<br>\", \"<b>Location: </b>Newtown<br><b>Event: </b>Sandy Hook Elementary Massacre<br><b>Total Victims: </b>29<br><b>Injured: </b>2<br><b>Deaths: </b>27<br><b>Year: </b>2012<br>\", \"<b>Location: </b>Minneapolis<br><b>Event: </b>Accent Signage Systems Shooting<br><b>Total Victims: </b>8<br><b>Injured: </b>1<br><b>Deaths: </b>7<br><b>Year: </b>2012<br>\", \"<b>Location: </b>Oak Creek<br><b>Event: </b>Sikh Temple Shooting<br><b>Total Victims: </b>10<br><b>Injured: </b>3<br><b>Deaths: </b>7<br><b>Year: </b>2012<br>\", \"<b>Location: </b>Aurora<br><b>Event: </b>Aurora Theater Shooting<br><b>Total Victims: </b>82<br><b>Injured: </b>70<br><b>Deaths: </b>12<br><b>Year: </b>2012<br>\", \"<b>Location: </b>Seattle<br><b>Event: </b>Seattle Cafe Shooting<br><b>Total Victims: </b>7<br><b>Injured: </b>1<br><b>Deaths: </b>6<br><b>Year: </b>2012<br>\", \"<b>Location: </b>Oakland<br><b>Event: </b>Oikos University Killings<br><b>Total Victims: </b>10<br><b>Injured: </b>3<br><b>Deaths: </b>7<br><b>Year: </b>2012<br>\", \"<b>Location: </b>Norcross<br><b>Event: </b>Su Jung Health Sauna Shooting<br><b>Total Victims: </b>5<br><b>Injured: </b>0<br><b>Deaths: </b>5<br><b>Year: </b>2012<br>\", \"<b>Location: </b>Seal Beach<br><b>Event: </b>Seal Beach Shooting<br><b>Total Victims: </b>9<br><b>Injured: </b>1<br><b>Deaths: </b>8<br><b>Year: </b>2011<br>\", \"<b>Location: </b>Carson City<br><b>Event: </b>Ihop Shooting<br><b>Total Victims: </b>12<br><b>Injured: </b>7<br><b>Deaths: </b>5<br><b>Year: </b>2011<br>\", \"<b>Location: </b>Tucson<br><b>Event: </b>Tucson Shooting<br><b>Total Victims: </b>19<br><b>Injured: </b>13<br><b>Deaths: </b>6<br><b>Year: </b>2011<br>\", \"<b>Location: </b>Manchester<br><b>Event: </b>Hartford Beer Distributor Shooting<br><b>Total Victims: </b>11<br><b>Injured: </b>2<br><b>Deaths: </b>9<br><b>Year: </b>2010<br>\", \"<b>Location: </b>Parkland<br><b>Event: </b>Coffee Shop Police Killings<br><b>Total Victims: </b>5<br><b>Injured: </b>1<br><b>Deaths: </b>4<br><b>Year: </b>2009<br>\", \"<b>Location: </b>Fort Hood<br><b>Event: </b>Fort Hood Massacre<br><b>Total Victims: </b>44<br><b>Injured: </b>31<br><b>Deaths: </b>13<br><b>Year: </b>2009<br>\", \"<b>Location: </b>Binghamton<br><b>Event: </b>Binghamton Shootings<br><b>Total Victims: </b>18<br><b>Injured: </b>4<br><b>Deaths: </b>14<br><b>Year: </b>2009<br>\", \"<b>Location: </b>Carthage<br><b>Event: </b>Carthage Nursing Home Shooting<br><b>Total Victims: </b>11<br><b>Injured: </b>3<br><b>Deaths: </b>8<br><b>Year: </b>2009<br>\", \"<b>Location: </b>Henderson<br><b>Event: </b>Atlantis Plastics Shooting<br><b>Total Victims: </b>7<br><b>Injured: </b>1<br><b>Deaths: </b>6<br><b>Year: </b>2008<br>\", \"<b>Location: </b>DeKalb<br><b>Event: </b>Northern Illinois University Shooting<br><b>Total Victims: </b>26<br><b>Injured: </b>21<br><b>Deaths: </b>5<br><b>Year: </b>2008<br>\", \"<b>Location: </b>Kirkwood<br><b>Event: </b>Kirkwood City Council Shooting<br><b>Total Victims: </b>8<br><b>Injured: </b>2<br><b>Deaths: </b>6<br><b>Year: </b>2008<br>\", \"<b>Location: </b>Omaha<br><b>Event: </b>Westroads Mall Shooting<br><b>Total Victims: </b>13<br><b>Injured: </b>4<br><b>Deaths: </b>9<br><b>Year: </b>2007<br>\", \"<b>Location: </b>Crandon<br><b>Event: </b>Crandon Shooting<br><b>Total Victims: </b>7<br><b>Injured: </b>1<br><b>Deaths: </b>6<br><b>Year: </b>2007<br>\", \"<b>Location: </b>Blacksburg<br><b>Event: </b>Virginia Tech Massacre<br><b>Total Victims: </b>55<br><b>Injured: </b>23<br><b>Deaths: </b>32<br><b>Year: </b>2007<br>\", \"<b>Location: </b>Salt Lake City<br><b>Event: </b>Trolley Square Shooting<br><b>Total Victims: </b>10<br><b>Injured: </b>4<br><b>Deaths: </b>6<br><b>Year: </b>2007<br>\", \"<b>Location: </b>Lancaster County<br><b>Event: </b>Amish School Shooting<br><b>Total Victims: </b>11<br><b>Injured: </b>5<br><b>Deaths: </b>6<br><b>Year: </b>2006<br>\", \"<b>Location: </b>Seattle<br><b>Event: </b>Capitol Hill Massacre<br><b>Total Victims: </b>9<br><b>Injured: </b>2<br><b>Deaths: </b>7<br><b>Year: </b>2006<br>\", \"<b>Location: </b>Goleta<br><b>Event: </b>Goleta Postal Shootings<br><b>Total Victims: </b>8<br><b>Injured: </b>0<br><b>Deaths: </b>8<br><b>Year: </b>2006<br>\", \"<b>Location: </b>Red Lake<br><b>Event: </b>Red Lake Massacre<br><b>Total Victims: </b>15<br><b>Injured: </b>5<br><b>Deaths: </b>10<br><b>Year: </b>2005<br>\", \"<b>Location: </b>Brookfield<br><b>Event: </b>Living Church Of God Shooting<br><b>Total Victims: </b>11<br><b>Injured: </b>4<br><b>Deaths: </b>7<br><b>Year: </b>2005<br>\", \"<b>Location: </b>Columbus<br><b>Event: </b>Damageplan Show Shooting<br><b>Total Victims: </b>12<br><b>Injured: </b>7<br><b>Deaths: </b>5<br><b>Year: </b>2004<br>\", \"<b>Location: </b>Meridian<br><b>Event: </b>Lockheed Martin Shooting<br><b>Total Victims: </b>15<br><b>Injured: </b>8<br><b>Deaths: </b>7<br><b>Year: </b>2003<br>\", \"<b>Location: </b>Melrose Park<br><b>Event: </b>Navistar Shooting<br><b>Total Victims: </b>9<br><b>Injured: </b>4<br><b>Deaths: </b>5<br><b>Year: </b>2001<br>\", \"<b>Location: </b>Wakefield<br><b>Event: </b>Wakefield Massacre<br><b>Total Victims: </b>7<br><b>Injured: </b>0<br><b>Deaths: </b>7<br><b>Year: </b>2000<br>\", \"<b>Location: </b>Tampa<br><b>Event: </b>Hotel Shooting<br><b>Total Victims: </b>8<br><b>Injured: </b>3<br><b>Deaths: </b>5<br><b>Year: </b>1999<br>\", \"<b>Location: </b>Honolulu<br><b>Event: </b>Xerox Killings<br><b>Total Victims: </b>7<br><b>Injured: </b>0<br><b>Deaths: </b>7<br><b>Year: </b>1999<br>\", \"<b>Location: </b>Fort Worth<br><b>Event: </b>Wedgwood Baptist Church Shooting<br><b>Total Victims: </b>15<br><b>Injured: </b>7<br><b>Deaths: </b>8<br><b>Year: </b>1999<br>\", \"<b>Location: </b>Atlanta<br><b>Event: </b>Atlanta Day Trading Spree Killings<br><b>Total Victims: </b>22<br><b>Injured: </b>13<br><b>Deaths: </b>9<br><b>Year: </b>1999<br>\", \"<b>Location: </b>Littleton<br><b>Event: </b>Columbine High School Massacre<br><b>Total Victims: </b>37<br><b>Injured: </b>24<br><b>Deaths: </b>13<br><b>Year: </b>1999<br>\", \"<b>Location: </b>Springfield<br><b>Event: </b>Thurston High School Shooting<br><b>Total Victims: </b>29<br><b>Injured: </b>25<br><b>Deaths: </b>4<br><b>Year: </b>1998<br>\", \"<b>Location: </b>Jonesboro<br><b>Event: </b>Westside Middle School Killings<br><b>Total Victims: </b>15<br><b>Injured: </b>10<br><b>Deaths: </b>5<br><b>Year: </b>1998<br>\", \"<b>Location: </b>Newington<br><b>Event: </b>Connecticut Lottery Shooting<br><b>Total Victims: </b>6<br><b>Injured: </b>1<br><b>Deaths: </b>5<br><b>Year: </b>1998<br>\", \"<b>Location: </b>Orange<br><b>Event: </b>Caltrans Maintenance Yard Shooting<br><b>Total Victims: </b>7<br><b>Injured: </b>2<br><b>Deaths: </b>5<br><b>Year: </b>1997<br>\", \"<b>Location: </b>Aiken<br><b>Event: </b>R.E. Phelon Company Shooting<br><b>Total Victims: </b>7<br><b>Injured: </b>3<br><b>Deaths: </b>4<br><b>Year: </b>1997<br>\", \"<b>Location: </b>Fort Lauderdale<br><b>Event: </b>Fort Lauderdale Revenge Shooting<br><b>Total Victims: </b>7<br><b>Injured: </b>1<br><b>Deaths: </b>6<br><b>Year: </b>1996<br>\", \"<b>Location: </b>Corpus Christi<br><b>Event: </b>Walter Rossler Company Massacre<br><b>Total Victims: </b>6<br><b>Injured: </b>0<br><b>Deaths: </b>6<br><b>Year: </b>1995<br>\", \"<b>Location: </b>Fairchild Air Force Base<br><b>Event: </b>Air Force Base Shooting<br><b>Total Victims: </b>28<br><b>Injured: </b>23<br><b>Deaths: </b>5<br><b>Year: </b>1994<br>\", \"<b>Location: </b>Aurora<br><b>Event: </b>Chuck E. Cheese'S Killings<br><b>Total Victims: </b>5<br><b>Injured: </b>1<br><b>Deaths: </b>4<br><b>Year: </b>1993<br>\", \"<b>Location: </b>Garden City<br><b>Event: </b>Long Island Rail Road Massacre<br><b>Total Victims: </b>25<br><b>Injured: </b>19<br><b>Deaths: </b>6<br><b>Year: </b>1993<br>\", \"<b>Location: </b>Fayetteville<br><b>Event: </b>Luigi'S Shooting<br><b>Total Victims: </b>12<br><b>Injured: </b>8<br><b>Deaths: </b>4<br><b>Year: </b>1993<br>\", \"<b>Location: </b>San Francisco<br><b>Event: </b>101 California Street Shootings<br><b>Total Victims: </b>15<br><b>Injured: </b>6<br><b>Deaths: </b>9<br><b>Year: </b>1993<br>\", \"<b>Location: </b>Watkins Glen<br><b>Event: </b>Watkins Glen Killings<br><b>Total Victims: </b>5<br><b>Injured: </b>0<br><b>Deaths: </b>5<br><b>Year: </b>1992<br>\", \"<b>Location: </b>Olivehurst<br><b>Event: </b>Lindhurst High School Shooting<br><b>Total Victims: </b>14<br><b>Injured: </b>10<br><b>Deaths: </b>4<br><b>Year: </b>1992<br>\", \"<b>Location: </b>Royal Oak<br><b>Event: </b>Royal Oak Postal Shootings<br><b>Total Victims: </b>10<br><b>Injured: </b>5<br><b>Deaths: </b>5<br><b>Year: </b>1991<br>\", \"<b>Location: </b>Iowa City<br><b>Event: </b>University Of Iowa Shooting<br><b>Total Victims: </b>7<br><b>Injured: </b>1<br><b>Deaths: </b>6<br><b>Year: </b>1991<br>\", \"<b>Location: </b>Killeen<br><b>Event: </b>Luby'S Massacre<br><b>Total Victims: </b>44<br><b>Injured: </b>20<br><b>Deaths: </b>24<br><b>Year: </b>1991<br>\", \"<b>Location: </b>Jacksonville<br><b>Event: </b>Gmac Massacre<br><b>Total Victims: </b>14<br><b>Injured: </b>4<br><b>Deaths: </b>10<br><b>Year: </b>1990<br>\", \"<b>Location: </b>Louisville<br><b>Event: </b>Standard Gravure Shooting<br><b>Total Victims: </b>21<br><b>Injured: </b>12<br><b>Deaths: </b>9<br><b>Year: </b>1989<br>\", \"<b>Location: </b>Stockton<br><b>Event: </b>Stockton Schoolyard Shooting<br><b>Total Victims: </b>35<br><b>Injured: </b>29<br><b>Deaths: </b>6<br><b>Year: </b>1989<br>\", \"<b>Location: </b>Sunnyvale<br><b>Event: </b>Esl Shooting<br><b>Total Victims: </b>11<br><b>Injured: </b>4<br><b>Deaths: </b>7<br><b>Year: </b>1988<br>\", \"<b>Location: </b>Palm Bay<br><b>Event: </b>Shopping Centers Spree Killings<br><b>Total Victims: </b>20<br><b>Injured: </b>14<br><b>Deaths: </b>6<br><b>Year: </b>1987<br>\", \"<b>Location: </b>Edmond<br><b>Event: </b>United States Postal Service Shooting<br><b>Total Victims: </b>21<br><b>Injured: </b>6<br><b>Deaths: </b>15<br><b>Year: </b>1986<br>\", \"<b>Location: </b>San Ysidro<br><b>Event: </b>San Ysidro Mcdonald'S Massacre<br><b>Total Victims: </b>41<br><b>Injured: </b>19<br><b>Deaths: </b>22<br><b>Year: </b>1984<br>\", \"<b>Location: </b>Dallas<br><b>Event: </b>Dallas Nightclub Shooting<br><b>Total Victims: </b>7<br><b>Injured: </b>1<br><b>Deaths: </b>6<br><b>Year: </b>1984<br>\", \"<b>Location: </b>Miami<br><b>Event: </b>Welding Shop Shooting<br><b>Total Victims: </b>11<br><b>Injured: </b>3<br><b>Deaths: </b>8<br><b>Year: </b>1982<br>\"], \"type\": \"scattermapbox\"}],\n",
       "                        {\"geo\": {\"lakecolor\": \"rgb(255, 255, 255)\", \"projection\": {\"type\": \"albers usa\"}, \"scope\": \"usa\", \"showlakes\": true}, \"hovermode\": \"closest\", \"mapbox\": {\"accesstoken\": \"pk.eyJ1IjoiYW5kcmFtYXJhY2l1YyIsImEiOiJjazc0ZXVqYTYwbGNnM2tudnZnc3B1Y2lwIn0.lDDkLC3qCZfpH7swCmk6Iw\", \"bearing\": 0, \"center\": {\"lat\": 38, \"lon\": -94}, \"pitch\": 0, \"style\": \"light\", \"zoom\": 3}, \"showlegend\": false, \"template\": {\"data\": {\"bar\": [{\"error_x\": {\"color\": \"rgb(51,51,51)\"}, \"error_y\": {\"color\": \"rgb(51,51,51)\"}, \"marker\": {\"line\": {\"color\": \"rgb(237,237,237)\", \"width\": 0.5}}, \"type\": \"bar\"}], \"barpolar\": [{\"marker\": {\"line\": {\"color\": \"rgb(237,237,237)\", \"width\": 0.5}}, \"type\": \"barpolar\"}], \"carpet\": [{\"aaxis\": {\"endlinecolor\": \"rgb(51,51,51)\", \"gridcolor\": \"white\", \"linecolor\": \"white\", \"minorgridcolor\": \"white\", \"startlinecolor\": \"rgb(51,51,51)\"}, \"baxis\": {\"endlinecolor\": \"rgb(51,51,51)\", \"gridcolor\": \"white\", \"linecolor\": \"white\", \"minorgridcolor\": \"white\", \"startlinecolor\": \"rgb(51,51,51)\"}, \"type\": \"carpet\"}], \"choropleth\": [{\"colorbar\": {\"outlinewidth\": 0, \"tickcolor\": \"rgb(237,237,237)\", \"ticklen\": 6, \"ticks\": \"inside\"}, \"type\": \"choropleth\"}], \"contour\": [{\"colorbar\": {\"outlinewidth\": 0, \"tickcolor\": \"rgb(237,237,237)\", \"ticklen\": 6, \"ticks\": \"inside\"}, \"colorscale\": [[0, \"rgb(20,44,66)\"], [1, \"rgb(90,179,244)\"]], \"type\": \"contour\"}], \"contourcarpet\": [{\"colorbar\": {\"outlinewidth\": 0, \"tickcolor\": \"rgb(237,237,237)\", \"ticklen\": 6, \"ticks\": \"inside\"}, \"type\": \"contourcarpet\"}], \"heatmap\": [{\"colorbar\": {\"outlinewidth\": 0, \"tickcolor\": \"rgb(237,237,237)\", \"ticklen\": 6, \"ticks\": \"inside\"}, \"colorscale\": [[0, \"rgb(20,44,66)\"], [1, \"rgb(90,179,244)\"]], \"type\": \"heatmap\"}], \"heatmapgl\": [{\"colorbar\": {\"outlinewidth\": 0, \"tickcolor\": \"rgb(237,237,237)\", \"ticklen\": 6, \"ticks\": \"inside\"}, \"colorscale\": [[0, \"rgb(20,44,66)\"], [1, \"rgb(90,179,244)\"]], \"type\": \"heatmapgl\"}], \"histogram\": [{\"marker\": {\"colorbar\": {\"outlinewidth\": 0, \"tickcolor\": \"rgb(237,237,237)\", \"ticklen\": 6, \"ticks\": \"inside\"}}, \"type\": \"histogram\"}], \"histogram2d\": [{\"colorbar\": {\"outlinewidth\": 0, \"tickcolor\": \"rgb(237,237,237)\", \"ticklen\": 6, \"ticks\": \"inside\"}, \"colorscale\": [[0, \"rgb(20,44,66)\"], [1, \"rgb(90,179,244)\"]], \"type\": \"histogram2d\"}], \"histogram2dcontour\": [{\"colorbar\": {\"outlinewidth\": 0, \"tickcolor\": \"rgb(237,237,237)\", \"ticklen\": 6, \"ticks\": \"inside\"}, \"colorscale\": [[0, \"rgb(20,44,66)\"], [1, \"rgb(90,179,244)\"]], \"type\": \"histogram2dcontour\"}], \"mesh3d\": [{\"colorbar\": {\"outlinewidth\": 0, \"tickcolor\": \"rgb(237,237,237)\", \"ticklen\": 6, \"ticks\": \"inside\"}, \"type\": \"mesh3d\"}], \"parcoords\": [{\"line\": {\"colorbar\": {\"outlinewidth\": 0, \"tickcolor\": \"rgb(237,237,237)\", \"ticklen\": 6, \"ticks\": \"inside\"}}, \"type\": \"parcoords\"}], \"pie\": [{\"automargin\": true, \"type\": \"pie\"}], \"scatter\": [{\"marker\": {\"colorbar\": {\"outlinewidth\": 0, \"tickcolor\": \"rgb(237,237,237)\", \"ticklen\": 6, \"ticks\": \"inside\"}}, \"type\": \"scatter\"}], \"scatter3d\": [{\"line\": {\"colorbar\": {\"outlinewidth\": 0, \"tickcolor\": \"rgb(237,237,237)\", \"ticklen\": 6, \"ticks\": \"inside\"}}, \"marker\": {\"colorbar\": {\"outlinewidth\": 0, \"tickcolor\": \"rgb(237,237,237)\", \"ticklen\": 6, \"ticks\": \"inside\"}}, \"type\": \"scatter3d\"}], \"scattercarpet\": [{\"marker\": {\"colorbar\": {\"outlinewidth\": 0, \"tickcolor\": \"rgb(237,237,237)\", \"ticklen\": 6, \"ticks\": \"inside\"}}, \"type\": \"scattercarpet\"}], \"scattergeo\": [{\"marker\": {\"colorbar\": {\"outlinewidth\": 0, \"tickcolor\": \"rgb(237,237,237)\", \"ticklen\": 6, \"ticks\": \"inside\"}}, \"type\": \"scattergeo\"}], \"scattergl\": [{\"marker\": {\"colorbar\": {\"outlinewidth\": 0, \"tickcolor\": \"rgb(237,237,237)\", \"ticklen\": 6, \"ticks\": \"inside\"}}, \"type\": \"scattergl\"}], \"scattermapbox\": [{\"marker\": {\"colorbar\": {\"outlinewidth\": 0, \"tickcolor\": \"rgb(237,237,237)\", \"ticklen\": 6, \"ticks\": \"inside\"}}, \"type\": \"scattermapbox\"}], \"scatterpolar\": [{\"marker\": {\"colorbar\": {\"outlinewidth\": 0, \"tickcolor\": \"rgb(237,237,237)\", \"ticklen\": 6, \"ticks\": \"inside\"}}, \"type\": \"scatterpolar\"}], \"scatterpolargl\": [{\"marker\": {\"colorbar\": {\"outlinewidth\": 0, \"tickcolor\": \"rgb(237,237,237)\", \"ticklen\": 6, \"ticks\": \"inside\"}}, \"type\": \"scatterpolargl\"}], \"scatterternary\": [{\"marker\": {\"colorbar\": {\"outlinewidth\": 0, \"tickcolor\": \"rgb(237,237,237)\", \"ticklen\": 6, \"ticks\": \"inside\"}}, \"type\": \"scatterternary\"}], \"surface\": [{\"colorbar\": {\"outlinewidth\": 0, \"tickcolor\": \"rgb(237,237,237)\", \"ticklen\": 6, \"ticks\": \"inside\"}, \"colorscale\": [[0, \"rgb(20,44,66)\"], [1, \"rgb(90,179,244)\"]], \"type\": \"surface\"}], \"table\": [{\"cells\": {\"fill\": {\"color\": \"rgb(237,237,237)\"}, \"line\": {\"color\": \"white\"}}, \"header\": {\"fill\": {\"color\": \"rgb(217,217,217)\"}, \"line\": {\"color\": \"white\"}}, \"type\": \"table\"}]}, \"layout\": {\"annotationdefaults\": {\"arrowhead\": 0, \"arrowwidth\": 1}, \"coloraxis\": {\"colorbar\": {\"outlinewidth\": 0, \"tickcolor\": \"rgb(237,237,237)\", \"ticklen\": 6, \"ticks\": \"inside\"}}, \"colorscale\": {\"sequential\": [[0, \"rgb(20,44,66)\"], [1, \"rgb(90,179,244)\"]], \"sequentialminus\": [[0, \"rgb(20,44,66)\"], [1, \"rgb(90,179,244)\"]]}, \"colorway\": [\"#F8766D\", \"#A3A500\", \"#00BF7D\", \"#00B0F6\", \"#E76BF3\"], \"font\": {\"color\": \"rgb(51,51,51)\"}, \"geo\": {\"bgcolor\": \"white\", \"lakecolor\": \"white\", \"landcolor\": \"rgb(237,237,237)\", \"showlakes\": true, \"showland\": true, \"subunitcolor\": \"white\"}, \"hoverlabel\": {\"align\": \"left\"}, \"hovermode\": \"closest\", \"paper_bgcolor\": \"white\", \"plot_bgcolor\": \"rgb(237,237,237)\", \"polar\": {\"angularaxis\": {\"gridcolor\": \"white\", \"linecolor\": \"white\", \"showgrid\": true, \"tickcolor\": \"rgb(51,51,51)\", \"ticks\": \"outside\"}, \"bgcolor\": \"rgb(237,237,237)\", \"radialaxis\": {\"gridcolor\": \"white\", \"linecolor\": \"white\", \"showgrid\": true, \"tickcolor\": \"rgb(51,51,51)\", \"ticks\": \"outside\"}}, \"scene\": {\"xaxis\": {\"backgroundcolor\": \"rgb(237,237,237)\", \"gridcolor\": \"white\", \"gridwidth\": 2, \"linecolor\": \"white\", \"showbackground\": true, \"showgrid\": true, \"tickcolor\": \"rgb(51,51,51)\", \"ticks\": \"outside\", \"zerolinecolor\": \"white\"}, \"yaxis\": {\"backgroundcolor\": \"rgb(237,237,237)\", \"gridcolor\": \"white\", \"gridwidth\": 2, \"linecolor\": \"white\", \"showbackground\": true, \"showgrid\": true, \"tickcolor\": \"rgb(51,51,51)\", \"ticks\": \"outside\", \"zerolinecolor\": \"white\"}, \"zaxis\": {\"backgroundcolor\": \"rgb(237,237,237)\", \"gridcolor\": \"white\", \"gridwidth\": 2, \"linecolor\": \"white\", \"showbackground\": true, \"showgrid\": true, \"tickcolor\": \"rgb(51,51,51)\", \"ticks\": \"outside\", \"zerolinecolor\": \"white\"}}, \"shapedefaults\": {\"fillcolor\": \"black\", \"line\": {\"width\": 0}, \"opacity\": 0.3}, \"ternary\": {\"aaxis\": {\"gridcolor\": \"white\", \"linecolor\": \"white\", \"showgrid\": true, \"tickcolor\": \"rgb(51,51,51)\", \"ticks\": \"outside\"}, \"baxis\": {\"gridcolor\": \"white\", \"linecolor\": \"white\", \"showgrid\": true, \"tickcolor\": \"rgb(51,51,51)\", \"ticks\": \"outside\"}, \"bgcolor\": \"rgb(237,237,237)\", \"caxis\": {\"gridcolor\": \"white\", \"linecolor\": \"white\", \"showgrid\": true, \"tickcolor\": \"rgb(51,51,51)\", \"ticks\": \"outside\"}}, \"xaxis\": {\"automargin\": true, \"gridcolor\": \"white\", \"linecolor\": \"white\", \"showgrid\": true, \"tickcolor\": \"rgb(51,51,51)\", \"ticks\": \"outside\", \"title\": {\"standoff\": 15}, \"zerolinecolor\": \"white\"}, \"yaxis\": {\"automargin\": true, \"gridcolor\": \"white\", \"linecolor\": \"white\", \"showgrid\": true, \"tickcolor\": \"rgb(51,51,51)\", \"ticks\": \"outside\", \"title\": {\"standoff\": 15}, \"zerolinecolor\": \"white\"}}}, \"title\": {\"text\": \"<b>1982 - 2020 Deadliest US Mass Shootings </b><br>(Hover for breakdown)\"}},\n",
       "                        {\"responsive\": true}\n",
       "                    ).then(function(){\n",
       "                            \n",
       "var gd = document.getElementById('ec05813c-0889-41a0-a007-c1ec62fab294');\n",
       "var x = new MutationObserver(function (mutations, observer) {{\n",
       "        var display = window.getComputedStyle(gd).display;\n",
       "        if (!display || display === 'none') {{\n",
       "            console.log([gd, 'removed!']);\n",
       "            Plotly.purge(gd);\n",
       "            observer.disconnect();\n",
       "        }}\n",
       "}});\n",
       "\n",
       "// Listen for the removal of the full notebook cells\n",
       "var notebookContainer = gd.closest('#notebook-container');\n",
       "if (notebookContainer) {{\n",
       "    x.observe(notebookContainer, {childList: true});\n",
       "}}\n",
       "\n",
       "// Listen for the clearing of the current output cell\n",
       "var outputEl = gd.closest('.output');\n",
       "if (outputEl) {{\n",
       "    x.observe(outputEl, {childList: true});\n",
       "}}\n",
       "\n",
       "                        })\n",
       "                };\n",
       "                });\n",
       "            </script>\n",
       "        </div>"
      ]
     },
     "metadata": {},
     "output_type": "display_data"
    }
   ],
   "source": [
    "mapbox_access_token = 'pk.eyJ1IjoiYW5kcmFtYXJhY2l1YyIsImEiOiJjazc0ZXVqYTYwbGNnM2tudnZnc3B1Y2lwIn0.lDDkLC3qCZfpH7swCmk6Iw'\n",
    "\n",
    "site_lat = df.latitude\n",
    "site_lon = df.longitude\n",
    "\n",
    "hover_details = '<b>Location: </b>' + df.city + '<br>'\\\n",
    "                + '<b>Event: </b>' + df.case.str.title() + '<br>' \\\n",
    "                + '<b>Total Victims: </b>' + df.total_victims.astype(str) + '<br>' \\\n",
    "                + '<b>Injured: </b>' + df.injured.astype(str) + '<br>' \\\n",
    "                + '<b>Deaths: </b>' + df.fatalities.astype(str) + '<br>' \\\n",
    "                + '<b>Year: </b>' + df.year.astype(str) + '<br>' \\\n",
    "                \n",
    "                \n",
    "size_marker_guide = df.fatalities\n",
    "data = [\n",
    "    go.Scattermapbox(\n",
    "        lat=site_lat,\n",
    "        lon=site_lon,\n",
    "        mode='markers',\n",
    "        marker=dict(\n",
    "            size=size_marker_guide,\n",
    "            color= 'rgb(255, 0, 0)',\n",
    "            reversescale = False,\n",
    "            cmin = 0,\n",
    "            cmax = 800,\n",
    "        ),\n",
    "        text=hover_details,\n",
    "        hoverinfo= 'text'\n",
    "    ),\n",
    "]\n",
    "layout = go.Layout(\n",
    "    title='<b>1982 - 2020 Deadliest US Mass Shootings </b><br>(Hover for breakdown)',\n",
    "    #autosize=True,\n",
    "    template = 'ggplot2',\n",
    "    hovermode='closest',\n",
    "    showlegend=False,\n",
    "    geo = dict(\n",
    "        scope='usa',\n",
    "        projection=go.layout.geo.Projection(type = 'albers usa'),\n",
    "        showlakes=True, # lakes\n",
    "        lakecolor='rgb(255, 255, 255)'),\n",
    "    mapbox=dict(\n",
    "        accesstoken=mapbox_access_token,\n",
    "        bearing=0,\n",
    "        center=dict(\n",
    "            lat=38,\n",
    "            lon=-94,\n",
    "        ),\n",
    "        pitch=0,\n",
    "        zoom=3,\n",
    "        style='light',\n",
    "                \n",
    "    ),\n",
    ")\n",
    "\n",
    "fig = dict(data=data, layout=layout)\n",
    "\n",
    "iplot(fig)"
   ]
  },
  {
   "cell_type": "markdown",
   "metadata": {},
   "source": [
    "The deadliest shootings were the Las Vegas Strip with 58 fatalities, followed by the Orlando Nightclub Massacre with 49 deaths and Virgina Tech Massacre with 55 total fatalities."
   ]
  },
  {
   "cell_type": "markdown",
   "metadata": {},
   "source": [
    "## 3. Total Number of Mass Shootings by State (1982 - 2020)"
   ]
  },
  {
   "cell_type": "code",
   "execution_count": 59,
   "metadata": {},
   "outputs": [
    {
     "name": "stdout",
     "output_type": "stream",
     "text": [
      "\n",
      "STATES WITH MOST MASS SHOOTINGS:\n"
     ]
    },
    {
     "data": {
      "text/html": [
       "<div>\n",
       "<style scoped>\n",
       "    .dataframe tbody tr th:only-of-type {\n",
       "        vertical-align: middle;\n",
       "    }\n",
       "\n",
       "    .dataframe tbody tr th {\n",
       "        vertical-align: top;\n",
       "    }\n",
       "\n",
       "    .dataframe thead th {\n",
       "        text-align: right;\n",
       "    }\n",
       "</style>\n",
       "<table border=\"1\" class=\"dataframe\">\n",
       "  <thead>\n",
       "    <tr style=\"text-align: right;\">\n",
       "      <th></th>\n",
       "      <th>state_code</th>\n",
       "      <th>number_of_incidents</th>\n",
       "    </tr>\n",
       "  </thead>\n",
       "  <tbody>\n",
       "    <tr>\n",
       "      <th>0</th>\n",
       "      <td>CA</td>\n",
       "      <td>20</td>\n",
       "    </tr>\n",
       "    <tr>\n",
       "      <th>1</th>\n",
       "      <td>FL</td>\n",
       "      <td>12</td>\n",
       "    </tr>\n",
       "    <tr>\n",
       "      <th>2</th>\n",
       "      <td>TX</td>\n",
       "      <td>11</td>\n",
       "    </tr>\n",
       "    <tr>\n",
       "      <th>3</th>\n",
       "      <td>WA</td>\n",
       "      <td>7</td>\n",
       "    </tr>\n",
       "    <tr>\n",
       "      <th>4</th>\n",
       "      <td>CO</td>\n",
       "      <td>6</td>\n",
       "    </tr>\n",
       "  </tbody>\n",
       "</table>\n",
       "</div>"
      ],
      "text/plain": [
       "  state_code  number_of_incidents\n",
       "0         CA                   20\n",
       "1         FL                   12\n",
       "2         TX                   11\n",
       "3         WA                    7\n",
       "4         CO                    6"
      ]
     },
     "execution_count": 59,
     "metadata": {},
     "output_type": "execute_result"
    }
   ],
   "source": [
    "#Group by state and count shootings\n",
    "tshootings_by_state = df.groupby('state_code')['case'].count().sort_values(ascending=False).reset_index()\n",
    "tshootings_by_state.rename(columns={'case':'number_of_incidents'}, inplace=True)\n",
    "\n",
    "print(\"\\nStates with most mass shootings:\".upper())\n",
    "tshootings_by_state.head()"
   ]
  },
  {
   "cell_type": "markdown",
   "metadata": {},
   "source": [
    "### Question: Which state had the most mass shootings?"
   ]
  },
  {
   "cell_type": "markdown",
   "metadata": {},
   "source": [
    "<b>California</b> has had the most mass shooting events, with a total of <b>20 shootings</b> since 1982, followed by <b>Florida</b> with 12 total shootings, and <b>Texas</b> with 11 shootings. <br>\n",
    "\n",
    "<i>*Conclusions based on data covering events that happened between 1982-2020.</i>"
   ]
  },
  {
   "cell_type": "markdown",
   "metadata": {},
   "source": [
    "## 4. Total Number of Mass Shootings by Year (1982 - 2020)"
   ]
  },
  {
   "cell_type": "code",
   "execution_count": 60,
   "metadata": {},
   "outputs": [
    {
     "name": "stdout",
     "output_type": "stream",
     "text": [
      "\n",
      "TOTAL NUMBER OF MASS SHOOTINGS BY YEAR:\n"
     ]
    },
    {
     "data": {
      "text/html": [
       "<div>\n",
       "<style scoped>\n",
       "    .dataframe tbody tr th:only-of-type {\n",
       "        vertical-align: middle;\n",
       "    }\n",
       "\n",
       "    .dataframe tbody tr th {\n",
       "        vertical-align: top;\n",
       "    }\n",
       "\n",
       "    .dataframe thead th {\n",
       "        text-align: right;\n",
       "    }\n",
       "</style>\n",
       "<table border=\"1\" class=\"dataframe\">\n",
       "  <thead>\n",
       "    <tr style=\"text-align: right;\">\n",
       "      <th></th>\n",
       "      <th>year</th>\n",
       "      <th>shootings</th>\n",
       "    </tr>\n",
       "  </thead>\n",
       "  <tbody>\n",
       "    <tr>\n",
       "      <th>0</th>\n",
       "      <td>1982</td>\n",
       "      <td>1</td>\n",
       "    </tr>\n",
       "    <tr>\n",
       "      <th>1</th>\n",
       "      <td>1984</td>\n",
       "      <td>2</td>\n",
       "    </tr>\n",
       "    <tr>\n",
       "      <th>2</th>\n",
       "      <td>1986</td>\n",
       "      <td>1</td>\n",
       "    </tr>\n",
       "    <tr>\n",
       "      <th>3</th>\n",
       "      <td>1987</td>\n",
       "      <td>1</td>\n",
       "    </tr>\n",
       "    <tr>\n",
       "      <th>4</th>\n",
       "      <td>1988</td>\n",
       "      <td>1</td>\n",
       "    </tr>\n",
       "    <tr>\n",
       "      <th>5</th>\n",
       "      <td>1989</td>\n",
       "      <td>2</td>\n",
       "    </tr>\n",
       "    <tr>\n",
       "      <th>6</th>\n",
       "      <td>1990</td>\n",
       "      <td>1</td>\n",
       "    </tr>\n",
       "    <tr>\n",
       "      <th>7</th>\n",
       "      <td>1991</td>\n",
       "      <td>3</td>\n",
       "    </tr>\n",
       "    <tr>\n",
       "      <th>8</th>\n",
       "      <td>1992</td>\n",
       "      <td>2</td>\n",
       "    </tr>\n",
       "    <tr>\n",
       "      <th>9</th>\n",
       "      <td>1993</td>\n",
       "      <td>4</td>\n",
       "    </tr>\n",
       "    <tr>\n",
       "      <th>10</th>\n",
       "      <td>1994</td>\n",
       "      <td>1</td>\n",
       "    </tr>\n",
       "    <tr>\n",
       "      <th>11</th>\n",
       "      <td>1995</td>\n",
       "      <td>1</td>\n",
       "    </tr>\n",
       "    <tr>\n",
       "      <th>12</th>\n",
       "      <td>1996</td>\n",
       "      <td>1</td>\n",
       "    </tr>\n",
       "    <tr>\n",
       "      <th>13</th>\n",
       "      <td>1997</td>\n",
       "      <td>2</td>\n",
       "    </tr>\n",
       "    <tr>\n",
       "      <th>14</th>\n",
       "      <td>1998</td>\n",
       "      <td>3</td>\n",
       "    </tr>\n",
       "    <tr>\n",
       "      <th>15</th>\n",
       "      <td>1999</td>\n",
       "      <td>5</td>\n",
       "    </tr>\n",
       "    <tr>\n",
       "      <th>16</th>\n",
       "      <td>2000</td>\n",
       "      <td>1</td>\n",
       "    </tr>\n",
       "    <tr>\n",
       "      <th>17</th>\n",
       "      <td>2001</td>\n",
       "      <td>1</td>\n",
       "    </tr>\n",
       "    <tr>\n",
       "      <th>18</th>\n",
       "      <td>2003</td>\n",
       "      <td>1</td>\n",
       "    </tr>\n",
       "    <tr>\n",
       "      <th>19</th>\n",
       "      <td>2004</td>\n",
       "      <td>1</td>\n",
       "    </tr>\n",
       "    <tr>\n",
       "      <th>20</th>\n",
       "      <td>2005</td>\n",
       "      <td>2</td>\n",
       "    </tr>\n",
       "    <tr>\n",
       "      <th>21</th>\n",
       "      <td>2006</td>\n",
       "      <td>3</td>\n",
       "    </tr>\n",
       "    <tr>\n",
       "      <th>22</th>\n",
       "      <td>2007</td>\n",
       "      <td>4</td>\n",
       "    </tr>\n",
       "    <tr>\n",
       "      <th>23</th>\n",
       "      <td>2008</td>\n",
       "      <td>3</td>\n",
       "    </tr>\n",
       "    <tr>\n",
       "      <th>24</th>\n",
       "      <td>2009</td>\n",
       "      <td>4</td>\n",
       "    </tr>\n",
       "    <tr>\n",
       "      <th>25</th>\n",
       "      <td>2010</td>\n",
       "      <td>1</td>\n",
       "    </tr>\n",
       "    <tr>\n",
       "      <th>26</th>\n",
       "      <td>2011</td>\n",
       "      <td>3</td>\n",
       "    </tr>\n",
       "    <tr>\n",
       "      <th>27</th>\n",
       "      <td>2012</td>\n",
       "      <td>7</td>\n",
       "    </tr>\n",
       "    <tr>\n",
       "      <th>28</th>\n",
       "      <td>2013</td>\n",
       "      <td>5</td>\n",
       "    </tr>\n",
       "    <tr>\n",
       "      <th>29</th>\n",
       "      <td>2014</td>\n",
       "      <td>4</td>\n",
       "    </tr>\n",
       "    <tr>\n",
       "      <th>30</th>\n",
       "      <td>2015</td>\n",
       "      <td>7</td>\n",
       "    </tr>\n",
       "    <tr>\n",
       "      <th>31</th>\n",
       "      <td>2016</td>\n",
       "      <td>6</td>\n",
       "    </tr>\n",
       "    <tr>\n",
       "      <th>32</th>\n",
       "      <td>2017</td>\n",
       "      <td>11</td>\n",
       "    </tr>\n",
       "    <tr>\n",
       "      <th>33</th>\n",
       "      <td>2018</td>\n",
       "      <td>12</td>\n",
       "    </tr>\n",
       "    <tr>\n",
       "      <th>34</th>\n",
       "      <td>2019</td>\n",
       "      <td>10</td>\n",
       "    </tr>\n",
       "    <tr>\n",
       "      <th>35</th>\n",
       "      <td>2020</td>\n",
       "      <td>1</td>\n",
       "    </tr>\n",
       "  </tbody>\n",
       "</table>\n",
       "</div>"
      ],
      "text/plain": [
       "    year  shootings\n",
       "0   1982          1\n",
       "1   1984          2\n",
       "2   1986          1\n",
       "3   1987          1\n",
       "4   1988          1\n",
       "5   1989          2\n",
       "6   1990          1\n",
       "7   1991          3\n",
       "8   1992          2\n",
       "9   1993          4\n",
       "10  1994          1\n",
       "11  1995          1\n",
       "12  1996          1\n",
       "13  1997          2\n",
       "14  1998          3\n",
       "15  1999          5\n",
       "16  2000          1\n",
       "17  2001          1\n",
       "18  2003          1\n",
       "19  2004          1\n",
       "20  2005          2\n",
       "21  2006          3\n",
       "22  2007          4\n",
       "23  2008          3\n",
       "24  2009          4\n",
       "25  2010          1\n",
       "26  2011          3\n",
       "27  2012          7\n",
       "28  2013          5\n",
       "29  2014          4\n",
       "30  2015          7\n",
       "31  2016          6\n",
       "32  2017         11\n",
       "33  2018         12\n",
       "34  2019         10\n",
       "35  2020          1"
      ]
     },
     "execution_count": 60,
     "metadata": {},
     "output_type": "execute_result"
    }
   ],
   "source": [
    "#prepare data for analysis\n",
    "shootings_per_year = df.groupby('year')['case'].count().reset_index() #group shootings by year\n",
    "shootings_per_year.rename(columns={'case':'shootings'}, inplace=True)\n",
    "\n",
    "print(\"\\nTotal Number of Mass Shootings by Year:\".upper())\n",
    "shootings_per_year"
   ]
  },
  {
   "cell_type": "markdown",
   "metadata": {},
   "source": [
    "### Number of Shootings by Year Visualization"
   ]
  },
  {
   "cell_type": "code",
   "execution_count": 61,
   "metadata": {},
   "outputs": [
    {
     "data": {
      "application/vnd.plotly.v1+json": {
       "config": {
        "plotlyServerURL": "https://plot.ly"
       },
       "data": [
        {
         "alignmentgroup": "True",
         "hoverlabel": {
          "namelength": 0
         },
         "hovertemplate": "year=%{x}<br>shootings=%{text}",
         "legendgroup": "",
         "marker": {
          "color": "#1F77B4"
         },
         "name": "",
         "offsetgroup": "",
         "orientation": "v",
         "showlegend": false,
         "text": [
          1,
          2,
          1,
          1,
          1,
          2,
          1,
          3,
          2,
          4,
          1,
          1,
          1,
          2,
          3,
          5,
          1,
          1,
          1,
          1,
          2,
          3,
          4,
          3,
          4,
          1,
          3,
          7,
          5,
          4,
          7,
          6,
          11,
          12,
          10,
          1
         ],
         "textposition": "outside",
         "texttemplate": "%{text:.2}",
         "type": "bar",
         "x": [
          1982,
          1984,
          1986,
          1987,
          1988,
          1989,
          1990,
          1991,
          1992,
          1993,
          1994,
          1995,
          1996,
          1997,
          1998,
          1999,
          2000,
          2001,
          2003,
          2004,
          2005,
          2006,
          2007,
          2008,
          2009,
          2010,
          2011,
          2012,
          2013,
          2014,
          2015,
          2016,
          2017,
          2018,
          2019,
          2020
         ],
         "xaxis": "x",
         "y": [
          1,
          2,
          1,
          1,
          1,
          2,
          1,
          3,
          2,
          4,
          1,
          1,
          1,
          2,
          3,
          5,
          1,
          1,
          1,
          1,
          2,
          3,
          4,
          3,
          4,
          1,
          3,
          7,
          5,
          4,
          7,
          6,
          11,
          12,
          10,
          1
         ],
         "yaxis": "y"
        }
       ],
       "layout": {
        "barmode": "relative",
        "legend": {
         "tracegroupgap": 0
        },
        "template": {
         "data": {
          "pie": [
           {
            "automargin": true,
            "type": "pie"
           }
          ]
         },
         "layout": {
          "xaxis": {
           "showgrid": true,
           "title": {
            "standoff": 15
           }
          },
          "yaxis": {
           "showgrid": true,
           "title": {
            "standoff": 15
           }
          }
         }
        },
        "title": {
         "text": "Number of Incidents by Year"
        },
        "uniformtext": {
         "minsize": 8,
         "mode": "hide"
        },
        "xaxis": {
         "anchor": "y",
         "domain": [
          0,
          1
         ],
         "tick0": 0,
         "tickcolor": "#000",
         "ticklen": 4,
         "ticks": "outside",
         "tickwidth": 2,
         "title": {
          "text": "year"
         }
        },
        "yaxis": {
         "anchor": "x",
         "domain": [
          0,
          1
         ],
         "title": {
          "text": "total number of mass shootings"
         }
        }
       }
      },
      "text/html": [
       "<div>\n",
       "        \n",
       "        \n",
       "            <div id=\"845330ba-9cff-4224-acd6-d99ce0ca8294\" class=\"plotly-graph-div\" style=\"height:525px; width:100%;\"></div>\n",
       "            <script type=\"text/javascript\">\n",
       "                require([\"plotly\"], function(Plotly) {\n",
       "                    window.PLOTLYENV=window.PLOTLYENV || {};\n",
       "                    \n",
       "                if (document.getElementById(\"845330ba-9cff-4224-acd6-d99ce0ca8294\")) {\n",
       "                    Plotly.newPlot(\n",
       "                        '845330ba-9cff-4224-acd6-d99ce0ca8294',\n",
       "                        [{\"alignmentgroup\": \"True\", \"hoverlabel\": {\"namelength\": 0}, \"hovertemplate\": \"year=%{x}<br>shootings=%{text}\", \"legendgroup\": \"\", \"marker\": {\"color\": \"#1F77B4\"}, \"name\": \"\", \"offsetgroup\": \"\", \"orientation\": \"v\", \"showlegend\": false, \"text\": [1.0, 2.0, 1.0, 1.0, 1.0, 2.0, 1.0, 3.0, 2.0, 4.0, 1.0, 1.0, 1.0, 2.0, 3.0, 5.0, 1.0, 1.0, 1.0, 1.0, 2.0, 3.0, 4.0, 3.0, 4.0, 1.0, 3.0, 7.0, 5.0, 4.0, 7.0, 6.0, 11.0, 12.0, 10.0, 1.0], \"textposition\": \"outside\", \"texttemplate\": \"%{text:.2}\", \"type\": \"bar\", \"x\": [1982, 1984, 1986, 1987, 1988, 1989, 1990, 1991, 1992, 1993, 1994, 1995, 1996, 1997, 1998, 1999, 2000, 2001, 2003, 2004, 2005, 2006, 2007, 2008, 2009, 2010, 2011, 2012, 2013, 2014, 2015, 2016, 2017, 2018, 2019, 2020], \"xaxis\": \"x\", \"y\": [1, 2, 1, 1, 1, 2, 1, 3, 2, 4, 1, 1, 1, 2, 3, 5, 1, 1, 1, 1, 2, 3, 4, 3, 4, 1, 3, 7, 5, 4, 7, 6, 11, 12, 10, 1], \"yaxis\": \"y\"}],\n",
       "                        {\"barmode\": \"relative\", \"legend\": {\"tracegroupgap\": 0}, \"template\": {\"data\": {\"pie\": [{\"automargin\": true, \"type\": \"pie\"}]}, \"layout\": {\"xaxis\": {\"showgrid\": true, \"title\": {\"standoff\": 15}}, \"yaxis\": {\"showgrid\": true, \"title\": {\"standoff\": 15}}}}, \"title\": {\"text\": \"Number of Incidents by Year\"}, \"uniformtext\": {\"minsize\": 8, \"mode\": \"hide\"}, \"xaxis\": {\"anchor\": \"y\", \"domain\": [0.0, 1.0], \"tick0\": 0, \"tickcolor\": \"#000\", \"ticklen\": 4, \"ticks\": \"outside\", \"tickwidth\": 2, \"title\": {\"text\": \"year\"}}, \"yaxis\": {\"anchor\": \"x\", \"domain\": [0.0, 1.0], \"title\": {\"text\": \"total number of mass shootings\"}}},\n",
       "                        {\"responsive\": true}\n",
       "                    ).then(function(){\n",
       "                            \n",
       "var gd = document.getElementById('845330ba-9cff-4224-acd6-d99ce0ca8294');\n",
       "var x = new MutationObserver(function (mutations, observer) {{\n",
       "        var display = window.getComputedStyle(gd).display;\n",
       "        if (!display || display === 'none') {{\n",
       "            console.log([gd, 'removed!']);\n",
       "            Plotly.purge(gd);\n",
       "            observer.disconnect();\n",
       "        }}\n",
       "}});\n",
       "\n",
       "// Listen for the removal of the full notebook cells\n",
       "var notebookContainer = gd.closest('#notebook-container');\n",
       "if (notebookContainer) {{\n",
       "    x.observe(notebookContainer, {childList: true});\n",
       "}}\n",
       "\n",
       "// Listen for the clearing of the current output cell\n",
       "var outputEl = gd.closest('.output');\n",
       "if (outputEl) {{\n",
       "    x.observe(outputEl, {childList: true});\n",
       "}}\n",
       "\n",
       "                        })\n",
       "                };\n",
       "                });\n",
       "            </script>\n",
       "        </div>"
      ]
     },
     "metadata": {},
     "output_type": "display_data"
    }
   ],
   "source": [
    "colorscales = [[0, '#ff4040'], [0.5, '#d72d2a'],[0.8,'#af1916'],[1,'#8a0000']]\n",
    "\n",
    "fig = px.bar(shootings_per_year, y='shootings', x='year', text='shootings', title='Number of Incidents by Year', template='gridon', color_continuous_scale=colorscales)\n",
    "fig.update_traces(texttemplate='%{text:.2}', textposition='outside')\n",
    "fig.update_layout(uniformtext_minsize=8, uniformtext_mode='hide', yaxis_title=\"total number of mass shootings\",\n",
    "    xaxis_title=\"year\",\n",
    "        xaxis=dict(\n",
    "        #tickmode='linear',\n",
    "        ticks='outside',\n",
    "        tick0=0,\n",
    "        ticklen=4,\n",
    "        tickwidth=2,\n",
    "        tickcolor='#000'\n",
    "    ))\n",
    "\n",
    "fig.show()\n"
   ]
  },
  {
   "cell_type": "markdown",
   "metadata": {},
   "source": [
    "#### Question: Are mass shootings on the rise? What was the year with most mass shootings?"
   ]
  },
  {
   "cell_type": "markdown",
   "metadata": {},
   "source": [
    "Yes, they are. The number of mass shootings is rapidly increasing, especially in the last decade, <b> 2018</b> being the year with the most shootings, with a total of 12 shootings. <br>\n"
   ]
  },
  {
   "cell_type": "markdown",
   "metadata": {},
   "source": [
    "## 5. Annual Mass Shootings Cassualities | Total Victims and Deaths"
   ]
  },
  {
   "cell_type": "code",
   "execution_count": 62,
   "metadata": {},
   "outputs": [],
   "source": [
    "#Create a dataframe with total victims (v), fatalities (f), injured (i) grouped by year\n",
    "vfi_sumcolumns = ['total_victims','fatalities','injured'] #columns that need to be sumed\n",
    "vfi_by_year = df.groupby(['year'])[vfi_sumcolumns].sum().reset_index() "
   ]
  },
  {
   "cell_type": "code",
   "execution_count": 63,
   "metadata": {},
   "outputs": [
    {
     "name": "stdout",
     "output_type": "stream",
     "text": [
      "\n",
      "TOTAL SHOOTINGS CASSUALTIES BY YEAR:\n"
     ]
    },
    {
     "data": {
      "text/html": [
       "<div>\n",
       "<style scoped>\n",
       "    .dataframe tbody tr th:only-of-type {\n",
       "        vertical-align: middle;\n",
       "    }\n",
       "\n",
       "    .dataframe tbody tr th {\n",
       "        vertical-align: top;\n",
       "    }\n",
       "\n",
       "    .dataframe thead th {\n",
       "        text-align: right;\n",
       "    }\n",
       "</style>\n",
       "<table border=\"1\" class=\"dataframe\">\n",
       "  <thead>\n",
       "    <tr style=\"text-align: right;\">\n",
       "      <th></th>\n",
       "      <th>year</th>\n",
       "      <th>total_victims</th>\n",
       "      <th>fatalities</th>\n",
       "      <th>injured</th>\n",
       "    </tr>\n",
       "  </thead>\n",
       "  <tbody>\n",
       "    <tr>\n",
       "      <th>0</th>\n",
       "      <td>1982</td>\n",
       "      <td>11</td>\n",
       "      <td>8</td>\n",
       "      <td>3</td>\n",
       "    </tr>\n",
       "    <tr>\n",
       "      <th>1</th>\n",
       "      <td>1984</td>\n",
       "      <td>48</td>\n",
       "      <td>28</td>\n",
       "      <td>20</td>\n",
       "    </tr>\n",
       "    <tr>\n",
       "      <th>2</th>\n",
       "      <td>1986</td>\n",
       "      <td>21</td>\n",
       "      <td>15</td>\n",
       "      <td>6</td>\n",
       "    </tr>\n",
       "    <tr>\n",
       "      <th>3</th>\n",
       "      <td>1987</td>\n",
       "      <td>20</td>\n",
       "      <td>6</td>\n",
       "      <td>14</td>\n",
       "    </tr>\n",
       "    <tr>\n",
       "      <th>4</th>\n",
       "      <td>1988</td>\n",
       "      <td>11</td>\n",
       "      <td>7</td>\n",
       "      <td>4</td>\n",
       "    </tr>\n",
       "    <tr>\n",
       "      <th>5</th>\n",
       "      <td>1989</td>\n",
       "      <td>56</td>\n",
       "      <td>15</td>\n",
       "      <td>41</td>\n",
       "    </tr>\n",
       "    <tr>\n",
       "      <th>6</th>\n",
       "      <td>1990</td>\n",
       "      <td>14</td>\n",
       "      <td>10</td>\n",
       "      <td>4</td>\n",
       "    </tr>\n",
       "    <tr>\n",
       "      <th>7</th>\n",
       "      <td>1991</td>\n",
       "      <td>61</td>\n",
       "      <td>35</td>\n",
       "      <td>26</td>\n",
       "    </tr>\n",
       "    <tr>\n",
       "      <th>8</th>\n",
       "      <td>1992</td>\n",
       "      <td>19</td>\n",
       "      <td>9</td>\n",
       "      <td>10</td>\n",
       "    </tr>\n",
       "    <tr>\n",
       "      <th>9</th>\n",
       "      <td>1993</td>\n",
       "      <td>57</td>\n",
       "      <td>23</td>\n",
       "      <td>34</td>\n",
       "    </tr>\n",
       "    <tr>\n",
       "      <th>10</th>\n",
       "      <td>1994</td>\n",
       "      <td>28</td>\n",
       "      <td>5</td>\n",
       "      <td>23</td>\n",
       "    </tr>\n",
       "    <tr>\n",
       "      <th>11</th>\n",
       "      <td>1995</td>\n",
       "      <td>6</td>\n",
       "      <td>6</td>\n",
       "      <td>0</td>\n",
       "    </tr>\n",
       "    <tr>\n",
       "      <th>12</th>\n",
       "      <td>1996</td>\n",
       "      <td>7</td>\n",
       "      <td>6</td>\n",
       "      <td>1</td>\n",
       "    </tr>\n",
       "    <tr>\n",
       "      <th>13</th>\n",
       "      <td>1997</td>\n",
       "      <td>14</td>\n",
       "      <td>9</td>\n",
       "      <td>5</td>\n",
       "    </tr>\n",
       "    <tr>\n",
       "      <th>14</th>\n",
       "      <td>1998</td>\n",
       "      <td>50</td>\n",
       "      <td>14</td>\n",
       "      <td>36</td>\n",
       "    </tr>\n",
       "    <tr>\n",
       "      <th>15</th>\n",
       "      <td>1999</td>\n",
       "      <td>89</td>\n",
       "      <td>42</td>\n",
       "      <td>47</td>\n",
       "    </tr>\n",
       "    <tr>\n",
       "      <th>16</th>\n",
       "      <td>2000</td>\n",
       "      <td>7</td>\n",
       "      <td>7</td>\n",
       "      <td>0</td>\n",
       "    </tr>\n",
       "    <tr>\n",
       "      <th>17</th>\n",
       "      <td>2001</td>\n",
       "      <td>9</td>\n",
       "      <td>5</td>\n",
       "      <td>4</td>\n",
       "    </tr>\n",
       "    <tr>\n",
       "      <th>18</th>\n",
       "      <td>2003</td>\n",
       "      <td>15</td>\n",
       "      <td>7</td>\n",
       "      <td>8</td>\n",
       "    </tr>\n",
       "    <tr>\n",
       "      <th>19</th>\n",
       "      <td>2004</td>\n",
       "      <td>12</td>\n",
       "      <td>5</td>\n",
       "      <td>7</td>\n",
       "    </tr>\n",
       "    <tr>\n",
       "      <th>20</th>\n",
       "      <td>2005</td>\n",
       "      <td>26</td>\n",
       "      <td>17</td>\n",
       "      <td>9</td>\n",
       "    </tr>\n",
       "    <tr>\n",
       "      <th>21</th>\n",
       "      <td>2006</td>\n",
       "      <td>28</td>\n",
       "      <td>21</td>\n",
       "      <td>7</td>\n",
       "    </tr>\n",
       "    <tr>\n",
       "      <th>22</th>\n",
       "      <td>2007</td>\n",
       "      <td>85</td>\n",
       "      <td>53</td>\n",
       "      <td>32</td>\n",
       "    </tr>\n",
       "    <tr>\n",
       "      <th>23</th>\n",
       "      <td>2008</td>\n",
       "      <td>41</td>\n",
       "      <td>17</td>\n",
       "      <td>24</td>\n",
       "    </tr>\n",
       "    <tr>\n",
       "      <th>24</th>\n",
       "      <td>2009</td>\n",
       "      <td>78</td>\n",
       "      <td>39</td>\n",
       "      <td>39</td>\n",
       "    </tr>\n",
       "    <tr>\n",
       "      <th>25</th>\n",
       "      <td>2010</td>\n",
       "      <td>11</td>\n",
       "      <td>9</td>\n",
       "      <td>2</td>\n",
       "    </tr>\n",
       "    <tr>\n",
       "      <th>26</th>\n",
       "      <td>2011</td>\n",
       "      <td>40</td>\n",
       "      <td>19</td>\n",
       "      <td>21</td>\n",
       "    </tr>\n",
       "    <tr>\n",
       "      <th>27</th>\n",
       "      <td>2012</td>\n",
       "      <td>151</td>\n",
       "      <td>71</td>\n",
       "      <td>80</td>\n",
       "    </tr>\n",
       "    <tr>\n",
       "      <th>28</th>\n",
       "      <td>2013</td>\n",
       "      <td>48</td>\n",
       "      <td>35</td>\n",
       "      <td>13</td>\n",
       "    </tr>\n",
       "    <tr>\n",
       "      <th>29</th>\n",
       "      <td>2014</td>\n",
       "      <td>46</td>\n",
       "      <td>18</td>\n",
       "      <td>28</td>\n",
       "    </tr>\n",
       "    <tr>\n",
       "      <th>30</th>\n",
       "      <td>2015</td>\n",
       "      <td>89</td>\n",
       "      <td>46</td>\n",
       "      <td>43</td>\n",
       "    </tr>\n",
       "    <tr>\n",
       "      <th>31</th>\n",
       "      <td>2016</td>\n",
       "      <td>154</td>\n",
       "      <td>71</td>\n",
       "      <td>83</td>\n",
       "    </tr>\n",
       "    <tr>\n",
       "      <th>32</th>\n",
       "      <td>2017</td>\n",
       "      <td>704</td>\n",
       "      <td>117</td>\n",
       "      <td>587</td>\n",
       "    </tr>\n",
       "    <tr>\n",
       "      <th>33</th>\n",
       "      <td>2018</td>\n",
       "      <td>150</td>\n",
       "      <td>80</td>\n",
       "      <td>70</td>\n",
       "    </tr>\n",
       "    <tr>\n",
       "      <th>34</th>\n",
       "      <td>2019</td>\n",
       "      <td>185</td>\n",
       "      <td>73</td>\n",
       "      <td>112</td>\n",
       "    </tr>\n",
       "    <tr>\n",
       "      <th>35</th>\n",
       "      <td>2020</td>\n",
       "      <td>5</td>\n",
       "      <td>5</td>\n",
       "      <td>0</td>\n",
       "    </tr>\n",
       "  </tbody>\n",
       "</table>\n",
       "</div>"
      ],
      "text/plain": [
       "    year  total_victims  fatalities  injured\n",
       "0   1982             11           8        3\n",
       "1   1984             48          28       20\n",
       "2   1986             21          15        6\n",
       "3   1987             20           6       14\n",
       "4   1988             11           7        4\n",
       "5   1989             56          15       41\n",
       "6   1990             14          10        4\n",
       "7   1991             61          35       26\n",
       "8   1992             19           9       10\n",
       "9   1993             57          23       34\n",
       "10  1994             28           5       23\n",
       "11  1995              6           6        0\n",
       "12  1996              7           6        1\n",
       "13  1997             14           9        5\n",
       "14  1998             50          14       36\n",
       "15  1999             89          42       47\n",
       "16  2000              7           7        0\n",
       "17  2001              9           5        4\n",
       "18  2003             15           7        8\n",
       "19  2004             12           5        7\n",
       "20  2005             26          17        9\n",
       "21  2006             28          21        7\n",
       "22  2007             85          53       32\n",
       "23  2008             41          17       24\n",
       "24  2009             78          39       39\n",
       "25  2010             11           9        2\n",
       "26  2011             40          19       21\n",
       "27  2012            151          71       80\n",
       "28  2013             48          35       13\n",
       "29  2014             46          18       28\n",
       "30  2015             89          46       43\n",
       "31  2016            154          71       83\n",
       "32  2017            704         117      587\n",
       "33  2018            150          80       70\n",
       "34  2019            185          73      112\n",
       "35  2020              5           5        0"
      ]
     },
     "execution_count": 63,
     "metadata": {},
     "output_type": "execute_result"
    }
   ],
   "source": [
    "print(\"\\nTotal shootings Cassualties by Year:\".upper())\n",
    "vfi_by_year"
   ]
  },
  {
   "cell_type": "markdown",
   "metadata": {},
   "source": [
    "### 5.1  Total Victims and Deaths | Data Visualization"
   ]
  },
  {
   "cell_type": "code",
   "execution_count": 64,
   "metadata": {},
   "outputs": [
    {
     "data": {
      "application/vnd.plotly.v1+json": {
       "config": {
        "plotlyServerURL": "https://plot.ly"
       },
       "data": [
        {
         "line": {
          "color": "royalblue",
          "width": 3
         },
         "mode": "lines",
         "name": "total victims",
         "type": "scatter",
         "x": [
          1982,
          1984,
          1986,
          1987,
          1988,
          1989,
          1990,
          1991,
          1992,
          1993,
          1994,
          1995,
          1996,
          1997,
          1998,
          1999,
          2000,
          2001,
          2003,
          2004,
          2005,
          2006,
          2007,
          2008,
          2009,
          2010,
          2011,
          2012,
          2013,
          2014,
          2015,
          2016,
          2017,
          2018,
          2019,
          2020
         ],
         "y": [
          11,
          48,
          21,
          20,
          11,
          56,
          14,
          61,
          19,
          57,
          28,
          6,
          7,
          14,
          50,
          89,
          7,
          9,
          15,
          12,
          26,
          28,
          85,
          41,
          78,
          11,
          40,
          151,
          48,
          46,
          89,
          154,
          704,
          150,
          185,
          5
         ]
        },
        {
         "line": {
          "color": "firebrick",
          "width": 3
         },
         "mode": "lines+markers",
         "name": "deaths",
         "type": "scatter",
         "x": [
          1982,
          1984,
          1986,
          1987,
          1988,
          1989,
          1990,
          1991,
          1992,
          1993,
          1994,
          1995,
          1996,
          1997,
          1998,
          1999,
          2000,
          2001,
          2003,
          2004,
          2005,
          2006,
          2007,
          2008,
          2009,
          2010,
          2011,
          2012,
          2013,
          2014,
          2015,
          2016,
          2017,
          2018,
          2019,
          2020
         ],
         "y": [
          8,
          28,
          15,
          6,
          7,
          15,
          10,
          35,
          9,
          23,
          5,
          6,
          6,
          9,
          14,
          42,
          7,
          5,
          7,
          5,
          17,
          21,
          53,
          17,
          39,
          9,
          19,
          71,
          35,
          18,
          46,
          71,
          117,
          80,
          73,
          5
         ]
        }
       ],
       "layout": {
        "barmode": "stack",
        "legend": {
         "bgcolor": "#FFFFFF",
         "bordercolor": "#a0a0a0",
         "x": 0.1,
         "y": 0.9
        },
        "template": {
         "data": {
          "bar": [
           {
            "error_x": {
             "color": "#2a3f5f"
            },
            "error_y": {
             "color": "#2a3f5f"
            },
            "marker": {
             "line": {
              "color": "white",
              "width": 0.5
             }
            },
            "type": "bar"
           }
          ],
          "barpolar": [
           {
            "marker": {
             "line": {
              "color": "white",
              "width": 0.5
             }
            },
            "type": "barpolar"
           }
          ],
          "carpet": [
           {
            "aaxis": {
             "endlinecolor": "#2a3f5f",
             "gridcolor": "#C8D4E3",
             "linecolor": "#C8D4E3",
             "minorgridcolor": "#C8D4E3",
             "startlinecolor": "#2a3f5f"
            },
            "baxis": {
             "endlinecolor": "#2a3f5f",
             "gridcolor": "#C8D4E3",
             "linecolor": "#C8D4E3",
             "minorgridcolor": "#C8D4E3",
             "startlinecolor": "#2a3f5f"
            },
            "type": "carpet"
           }
          ],
          "choropleth": [
           {
            "colorbar": {
             "outlinewidth": 0,
             "ticks": ""
            },
            "type": "choropleth"
           }
          ],
          "contour": [
           {
            "colorbar": {
             "outlinewidth": 0,
             "ticks": ""
            },
            "colorscale": [
             [
              0,
              "#0d0887"
             ],
             [
              0.1111111111111111,
              "#46039f"
             ],
             [
              0.2222222222222222,
              "#7201a8"
             ],
             [
              0.3333333333333333,
              "#9c179e"
             ],
             [
              0.4444444444444444,
              "#bd3786"
             ],
             [
              0.5555555555555556,
              "#d8576b"
             ],
             [
              0.6666666666666666,
              "#ed7953"
             ],
             [
              0.7777777777777778,
              "#fb9f3a"
             ],
             [
              0.8888888888888888,
              "#fdca26"
             ],
             [
              1,
              "#f0f921"
             ]
            ],
            "type": "contour"
           }
          ],
          "contourcarpet": [
           {
            "colorbar": {
             "outlinewidth": 0,
             "ticks": ""
            },
            "type": "contourcarpet"
           }
          ],
          "heatmap": [
           {
            "colorbar": {
             "outlinewidth": 0,
             "ticks": ""
            },
            "colorscale": [
             [
              0,
              "#0d0887"
             ],
             [
              0.1111111111111111,
              "#46039f"
             ],
             [
              0.2222222222222222,
              "#7201a8"
             ],
             [
              0.3333333333333333,
              "#9c179e"
             ],
             [
              0.4444444444444444,
              "#bd3786"
             ],
             [
              0.5555555555555556,
              "#d8576b"
             ],
             [
              0.6666666666666666,
              "#ed7953"
             ],
             [
              0.7777777777777778,
              "#fb9f3a"
             ],
             [
              0.8888888888888888,
              "#fdca26"
             ],
             [
              1,
              "#f0f921"
             ]
            ],
            "type": "heatmap"
           }
          ],
          "heatmapgl": [
           {
            "colorbar": {
             "outlinewidth": 0,
             "ticks": ""
            },
            "colorscale": [
             [
              0,
              "#0d0887"
             ],
             [
              0.1111111111111111,
              "#46039f"
             ],
             [
              0.2222222222222222,
              "#7201a8"
             ],
             [
              0.3333333333333333,
              "#9c179e"
             ],
             [
              0.4444444444444444,
              "#bd3786"
             ],
             [
              0.5555555555555556,
              "#d8576b"
             ],
             [
              0.6666666666666666,
              "#ed7953"
             ],
             [
              0.7777777777777778,
              "#fb9f3a"
             ],
             [
              0.8888888888888888,
              "#fdca26"
             ],
             [
              1,
              "#f0f921"
             ]
            ],
            "type": "heatmapgl"
           }
          ],
          "histogram": [
           {
            "marker": {
             "colorbar": {
              "outlinewidth": 0,
              "ticks": ""
             }
            },
            "type": "histogram"
           }
          ],
          "histogram2d": [
           {
            "colorbar": {
             "outlinewidth": 0,
             "ticks": ""
            },
            "colorscale": [
             [
              0,
              "#0d0887"
             ],
             [
              0.1111111111111111,
              "#46039f"
             ],
             [
              0.2222222222222222,
              "#7201a8"
             ],
             [
              0.3333333333333333,
              "#9c179e"
             ],
             [
              0.4444444444444444,
              "#bd3786"
             ],
             [
              0.5555555555555556,
              "#d8576b"
             ],
             [
              0.6666666666666666,
              "#ed7953"
             ],
             [
              0.7777777777777778,
              "#fb9f3a"
             ],
             [
              0.8888888888888888,
              "#fdca26"
             ],
             [
              1,
              "#f0f921"
             ]
            ],
            "type": "histogram2d"
           }
          ],
          "histogram2dcontour": [
           {
            "colorbar": {
             "outlinewidth": 0,
             "ticks": ""
            },
            "colorscale": [
             [
              0,
              "#0d0887"
             ],
             [
              0.1111111111111111,
              "#46039f"
             ],
             [
              0.2222222222222222,
              "#7201a8"
             ],
             [
              0.3333333333333333,
              "#9c179e"
             ],
             [
              0.4444444444444444,
              "#bd3786"
             ],
             [
              0.5555555555555556,
              "#d8576b"
             ],
             [
              0.6666666666666666,
              "#ed7953"
             ],
             [
              0.7777777777777778,
              "#fb9f3a"
             ],
             [
              0.8888888888888888,
              "#fdca26"
             ],
             [
              1,
              "#f0f921"
             ]
            ],
            "type": "histogram2dcontour"
           }
          ],
          "mesh3d": [
           {
            "colorbar": {
             "outlinewidth": 0,
             "ticks": ""
            },
            "type": "mesh3d"
           }
          ],
          "parcoords": [
           {
            "line": {
             "colorbar": {
              "outlinewidth": 0,
              "ticks": ""
             }
            },
            "type": "parcoords"
           }
          ],
          "pie": [
           {
            "automargin": true,
            "type": "pie"
           }
          ],
          "scatter": [
           {
            "marker": {
             "colorbar": {
              "outlinewidth": 0,
              "ticks": ""
             }
            },
            "type": "scatter"
           }
          ],
          "scatter3d": [
           {
            "line": {
             "colorbar": {
              "outlinewidth": 0,
              "ticks": ""
             }
            },
            "marker": {
             "colorbar": {
              "outlinewidth": 0,
              "ticks": ""
             }
            },
            "type": "scatter3d"
           }
          ],
          "scattercarpet": [
           {
            "marker": {
             "colorbar": {
              "outlinewidth": 0,
              "ticks": ""
             }
            },
            "type": "scattercarpet"
           }
          ],
          "scattergeo": [
           {
            "marker": {
             "colorbar": {
              "outlinewidth": 0,
              "ticks": ""
             }
            },
            "type": "scattergeo"
           }
          ],
          "scattergl": [
           {
            "marker": {
             "colorbar": {
              "outlinewidth": 0,
              "ticks": ""
             }
            },
            "type": "scattergl"
           }
          ],
          "scattermapbox": [
           {
            "marker": {
             "colorbar": {
              "outlinewidth": 0,
              "ticks": ""
             }
            },
            "type": "scattermapbox"
           }
          ],
          "scatterpolar": [
           {
            "marker": {
             "colorbar": {
              "outlinewidth": 0,
              "ticks": ""
             }
            },
            "type": "scatterpolar"
           }
          ],
          "scatterpolargl": [
           {
            "marker": {
             "colorbar": {
              "outlinewidth": 0,
              "ticks": ""
             }
            },
            "type": "scatterpolargl"
           }
          ],
          "scatterternary": [
           {
            "marker": {
             "colorbar": {
              "outlinewidth": 0,
              "ticks": ""
             }
            },
            "type": "scatterternary"
           }
          ],
          "surface": [
           {
            "colorbar": {
             "outlinewidth": 0,
             "ticks": ""
            },
            "colorscale": [
             [
              0,
              "#0d0887"
             ],
             [
              0.1111111111111111,
              "#46039f"
             ],
             [
              0.2222222222222222,
              "#7201a8"
             ],
             [
              0.3333333333333333,
              "#9c179e"
             ],
             [
              0.4444444444444444,
              "#bd3786"
             ],
             [
              0.5555555555555556,
              "#d8576b"
             ],
             [
              0.6666666666666666,
              "#ed7953"
             ],
             [
              0.7777777777777778,
              "#fb9f3a"
             ],
             [
              0.8888888888888888,
              "#fdca26"
             ],
             [
              1,
              "#f0f921"
             ]
            ],
            "type": "surface"
           }
          ],
          "table": [
           {
            "cells": {
             "fill": {
              "color": "#EBF0F8"
             },
             "line": {
              "color": "white"
             }
            },
            "header": {
             "fill": {
              "color": "#C8D4E3"
             },
             "line": {
              "color": "white"
             }
            },
            "type": "table"
           }
          ]
         },
         "layout": {
          "annotationdefaults": {
           "arrowcolor": "#2a3f5f",
           "arrowhead": 0,
           "arrowwidth": 1
          },
          "coloraxis": {
           "colorbar": {
            "outlinewidth": 0,
            "ticks": ""
           }
          },
          "colorscale": {
           "diverging": [
            [
             0,
             "#8e0152"
            ],
            [
             0.1,
             "#c51b7d"
            ],
            [
             0.2,
             "#de77ae"
            ],
            [
             0.3,
             "#f1b6da"
            ],
            [
             0.4,
             "#fde0ef"
            ],
            [
             0.5,
             "#f7f7f7"
            ],
            [
             0.6,
             "#e6f5d0"
            ],
            [
             0.7,
             "#b8e186"
            ],
            [
             0.8,
             "#7fbc41"
            ],
            [
             0.9,
             "#4d9221"
            ],
            [
             1,
             "#276419"
            ]
           ],
           "sequential": [
            [
             0,
             "#0d0887"
            ],
            [
             0.1111111111111111,
             "#46039f"
            ],
            [
             0.2222222222222222,
             "#7201a8"
            ],
            [
             0.3333333333333333,
             "#9c179e"
            ],
            [
             0.4444444444444444,
             "#bd3786"
            ],
            [
             0.5555555555555556,
             "#d8576b"
            ],
            [
             0.6666666666666666,
             "#ed7953"
            ],
            [
             0.7777777777777778,
             "#fb9f3a"
            ],
            [
             0.8888888888888888,
             "#fdca26"
            ],
            [
             1,
             "#f0f921"
            ]
           ],
           "sequentialminus": [
            [
             0,
             "#0d0887"
            ],
            [
             0.1111111111111111,
             "#46039f"
            ],
            [
             0.2222222222222222,
             "#7201a8"
            ],
            [
             0.3333333333333333,
             "#9c179e"
            ],
            [
             0.4444444444444444,
             "#bd3786"
            ],
            [
             0.5555555555555556,
             "#d8576b"
            ],
            [
             0.6666666666666666,
             "#ed7953"
            ],
            [
             0.7777777777777778,
             "#fb9f3a"
            ],
            [
             0.8888888888888888,
             "#fdca26"
            ],
            [
             1,
             "#f0f921"
            ]
           ]
          },
          "colorway": [
           "#636efa",
           "#EF553B",
           "#00cc96",
           "#ab63fa",
           "#FFA15A",
           "#19d3f3",
           "#FF6692",
           "#B6E880",
           "#FF97FF",
           "#FECB52"
          ],
          "font": {
           "color": "#2a3f5f"
          },
          "geo": {
           "bgcolor": "white",
           "lakecolor": "white",
           "landcolor": "white",
           "showlakes": true,
           "showland": true,
           "subunitcolor": "#C8D4E3"
          },
          "hoverlabel": {
           "align": "left"
          },
          "hovermode": "closest",
          "mapbox": {
           "style": "light"
          },
          "paper_bgcolor": "white",
          "plot_bgcolor": "white",
          "polar": {
           "angularaxis": {
            "gridcolor": "#EBF0F8",
            "linecolor": "#EBF0F8",
            "ticks": ""
           },
           "bgcolor": "white",
           "radialaxis": {
            "gridcolor": "#EBF0F8",
            "linecolor": "#EBF0F8",
            "ticks": ""
           }
          },
          "scene": {
           "xaxis": {
            "backgroundcolor": "white",
            "gridcolor": "#DFE8F3",
            "gridwidth": 2,
            "linecolor": "#EBF0F8",
            "showbackground": true,
            "ticks": "",
            "zerolinecolor": "#EBF0F8"
           },
           "yaxis": {
            "backgroundcolor": "white",
            "gridcolor": "#DFE8F3",
            "gridwidth": 2,
            "linecolor": "#EBF0F8",
            "showbackground": true,
            "ticks": "",
            "zerolinecolor": "#EBF0F8"
           },
           "zaxis": {
            "backgroundcolor": "white",
            "gridcolor": "#DFE8F3",
            "gridwidth": 2,
            "linecolor": "#EBF0F8",
            "showbackground": true,
            "ticks": "",
            "zerolinecolor": "#EBF0F8"
           }
          },
          "shapedefaults": {
           "line": {
            "color": "#2a3f5f"
           }
          },
          "ternary": {
           "aaxis": {
            "gridcolor": "#DFE8F3",
            "linecolor": "#A2B1C6",
            "ticks": ""
           },
           "baxis": {
            "gridcolor": "#DFE8F3",
            "linecolor": "#A2B1C6",
            "ticks": ""
           },
           "bgcolor": "white",
           "caxis": {
            "gridcolor": "#DFE8F3",
            "linecolor": "#A2B1C6",
            "ticks": ""
           }
          },
          "title": {
           "x": 0.05
          },
          "xaxis": {
           "automargin": true,
           "gridcolor": "#EBF0F8",
           "linecolor": "#EBF0F8",
           "ticks": "",
           "title": {
            "standoff": 15
           },
           "zerolinecolor": "#EBF0F8",
           "zerolinewidth": 2
          },
          "yaxis": {
           "automargin": true,
           "gridcolor": "#EBF0F8",
           "linecolor": "#EBF0F8",
           "ticks": "",
           "title": {
            "standoff": 15
           },
           "zerolinecolor": "#EBF0F8",
           "zerolinewidth": 2
          }
         }
        },
        "title": {
         "text": "<b>Mass Shootings Total Victims and Fatalities Over Time</b>"
        },
        "xaxis": {
         "tickfont": {
          "size": 14
         }
        },
        "yaxis": {
         "tickfont": {
          "size": 14
         },
         "title": {
          "font": {
           "size": 16
          },
          "text": "casualties"
         }
        }
       }
      },
      "text/html": [
       "<div>\n",
       "        \n",
       "        \n",
       "            <div id=\"04404f61-acb2-4880-a6e5-ca7ffc066c6e\" class=\"plotly-graph-div\" style=\"height:525px; width:100%;\"></div>\n",
       "            <script type=\"text/javascript\">\n",
       "                require([\"plotly\"], function(Plotly) {\n",
       "                    window.PLOTLYENV=window.PLOTLYENV || {};\n",
       "                    \n",
       "                if (document.getElementById(\"04404f61-acb2-4880-a6e5-ca7ffc066c6e\")) {\n",
       "                    Plotly.newPlot(\n",
       "                        '04404f61-acb2-4880-a6e5-ca7ffc066c6e',\n",
       "                        [{\"line\": {\"color\": \"royalblue\", \"width\": 3}, \"mode\": \"lines\", \"name\": \"total victims\", \"type\": \"scatter\", \"x\": [1982, 1984, 1986, 1987, 1988, 1989, 1990, 1991, 1992, 1993, 1994, 1995, 1996, 1997, 1998, 1999, 2000, 2001, 2003, 2004, 2005, 2006, 2007, 2008, 2009, 2010, 2011, 2012, 2013, 2014, 2015, 2016, 2017, 2018, 2019, 2020], \"y\": [11, 48, 21, 20, 11, 56, 14, 61, 19, 57, 28, 6, 7, 14, 50, 89, 7, 9, 15, 12, 26, 28, 85, 41, 78, 11, 40, 151, 48, 46, 89, 154, 704, 150, 185, 5]}, {\"line\": {\"color\": \"firebrick\", \"width\": 3}, \"mode\": \"lines+markers\", \"name\": \"deaths\", \"type\": \"scatter\", \"x\": [1982, 1984, 1986, 1987, 1988, 1989, 1990, 1991, 1992, 1993, 1994, 1995, 1996, 1997, 1998, 1999, 2000, 2001, 2003, 2004, 2005, 2006, 2007, 2008, 2009, 2010, 2011, 2012, 2013, 2014, 2015, 2016, 2017, 2018, 2019, 2020], \"y\": [8, 28, 15, 6, 7, 15, 10, 35, 9, 23, 5, 6, 6, 9, 14, 42, 7, 5, 7, 5, 17, 21, 53, 17, 39, 9, 19, 71, 35, 18, 46, 71, 117, 80, 73, 5]}],\n",
       "                        {\"barmode\": \"stack\", \"legend\": {\"bgcolor\": \"#FFFFFF\", \"bordercolor\": \"#a0a0a0\", \"x\": 0.1, \"y\": 0.9}, \"template\": {\"data\": {\"bar\": [{\"error_x\": {\"color\": \"#2a3f5f\"}, \"error_y\": {\"color\": \"#2a3f5f\"}, \"marker\": {\"line\": {\"color\": \"white\", \"width\": 0.5}}, \"type\": \"bar\"}], \"barpolar\": [{\"marker\": {\"line\": {\"color\": \"white\", \"width\": 0.5}}, \"type\": \"barpolar\"}], \"carpet\": [{\"aaxis\": {\"endlinecolor\": \"#2a3f5f\", \"gridcolor\": \"#C8D4E3\", \"linecolor\": \"#C8D4E3\", \"minorgridcolor\": \"#C8D4E3\", \"startlinecolor\": \"#2a3f5f\"}, \"baxis\": {\"endlinecolor\": \"#2a3f5f\", \"gridcolor\": \"#C8D4E3\", \"linecolor\": \"#C8D4E3\", \"minorgridcolor\": \"#C8D4E3\", \"startlinecolor\": \"#2a3f5f\"}, \"type\": \"carpet\"}], \"choropleth\": [{\"colorbar\": {\"outlinewidth\": 0, \"ticks\": \"\"}, \"type\": \"choropleth\"}], \"contour\": [{\"colorbar\": {\"outlinewidth\": 0, \"ticks\": \"\"}, \"colorscale\": [[0.0, \"#0d0887\"], [0.1111111111111111, \"#46039f\"], [0.2222222222222222, \"#7201a8\"], [0.3333333333333333, \"#9c179e\"], [0.4444444444444444, \"#bd3786\"], [0.5555555555555556, \"#d8576b\"], [0.6666666666666666, \"#ed7953\"], [0.7777777777777778, \"#fb9f3a\"], [0.8888888888888888, \"#fdca26\"], [1.0, \"#f0f921\"]], \"type\": \"contour\"}], \"contourcarpet\": [{\"colorbar\": {\"outlinewidth\": 0, \"ticks\": \"\"}, \"type\": \"contourcarpet\"}], \"heatmap\": [{\"colorbar\": {\"outlinewidth\": 0, \"ticks\": \"\"}, \"colorscale\": [[0.0, \"#0d0887\"], [0.1111111111111111, \"#46039f\"], [0.2222222222222222, \"#7201a8\"], [0.3333333333333333, \"#9c179e\"], [0.4444444444444444, \"#bd3786\"], [0.5555555555555556, \"#d8576b\"], [0.6666666666666666, \"#ed7953\"], [0.7777777777777778, \"#fb9f3a\"], [0.8888888888888888, \"#fdca26\"], [1.0, \"#f0f921\"]], \"type\": \"heatmap\"}], \"heatmapgl\": [{\"colorbar\": {\"outlinewidth\": 0, \"ticks\": \"\"}, \"colorscale\": [[0.0, \"#0d0887\"], [0.1111111111111111, \"#46039f\"], [0.2222222222222222, \"#7201a8\"], [0.3333333333333333, \"#9c179e\"], [0.4444444444444444, \"#bd3786\"], [0.5555555555555556, \"#d8576b\"], [0.6666666666666666, \"#ed7953\"], [0.7777777777777778, \"#fb9f3a\"], [0.8888888888888888, \"#fdca26\"], [1.0, \"#f0f921\"]], \"type\": \"heatmapgl\"}], \"histogram\": [{\"marker\": {\"colorbar\": {\"outlinewidth\": 0, \"ticks\": \"\"}}, \"type\": \"histogram\"}], \"histogram2d\": [{\"colorbar\": {\"outlinewidth\": 0, \"ticks\": \"\"}, \"colorscale\": [[0.0, \"#0d0887\"], [0.1111111111111111, \"#46039f\"], [0.2222222222222222, \"#7201a8\"], [0.3333333333333333, \"#9c179e\"], [0.4444444444444444, \"#bd3786\"], [0.5555555555555556, \"#d8576b\"], [0.6666666666666666, \"#ed7953\"], [0.7777777777777778, \"#fb9f3a\"], [0.8888888888888888, \"#fdca26\"], [1.0, \"#f0f921\"]], \"type\": \"histogram2d\"}], \"histogram2dcontour\": [{\"colorbar\": {\"outlinewidth\": 0, \"ticks\": \"\"}, \"colorscale\": [[0.0, \"#0d0887\"], [0.1111111111111111, \"#46039f\"], [0.2222222222222222, \"#7201a8\"], [0.3333333333333333, \"#9c179e\"], [0.4444444444444444, \"#bd3786\"], [0.5555555555555556, \"#d8576b\"], [0.6666666666666666, \"#ed7953\"], [0.7777777777777778, \"#fb9f3a\"], [0.8888888888888888, \"#fdca26\"], [1.0, \"#f0f921\"]], \"type\": \"histogram2dcontour\"}], \"mesh3d\": [{\"colorbar\": {\"outlinewidth\": 0, \"ticks\": \"\"}, \"type\": \"mesh3d\"}], \"parcoords\": [{\"line\": {\"colorbar\": {\"outlinewidth\": 0, \"ticks\": \"\"}}, \"type\": \"parcoords\"}], \"pie\": [{\"automargin\": true, \"type\": \"pie\"}], \"scatter\": [{\"marker\": {\"colorbar\": {\"outlinewidth\": 0, \"ticks\": \"\"}}, \"type\": \"scatter\"}], \"scatter3d\": [{\"line\": {\"colorbar\": {\"outlinewidth\": 0, \"ticks\": \"\"}}, \"marker\": {\"colorbar\": {\"outlinewidth\": 0, \"ticks\": \"\"}}, \"type\": \"scatter3d\"}], \"scattercarpet\": [{\"marker\": {\"colorbar\": {\"outlinewidth\": 0, \"ticks\": \"\"}}, \"type\": \"scattercarpet\"}], \"scattergeo\": [{\"marker\": {\"colorbar\": {\"outlinewidth\": 0, \"ticks\": \"\"}}, \"type\": \"scattergeo\"}], \"scattergl\": [{\"marker\": {\"colorbar\": {\"outlinewidth\": 0, \"ticks\": \"\"}}, \"type\": \"scattergl\"}], \"scattermapbox\": [{\"marker\": {\"colorbar\": {\"outlinewidth\": 0, \"ticks\": \"\"}}, \"type\": \"scattermapbox\"}], \"scatterpolar\": [{\"marker\": {\"colorbar\": {\"outlinewidth\": 0, \"ticks\": \"\"}}, \"type\": \"scatterpolar\"}], \"scatterpolargl\": [{\"marker\": {\"colorbar\": {\"outlinewidth\": 0, \"ticks\": \"\"}}, \"type\": \"scatterpolargl\"}], \"scatterternary\": [{\"marker\": {\"colorbar\": {\"outlinewidth\": 0, \"ticks\": \"\"}}, \"type\": \"scatterternary\"}], \"surface\": [{\"colorbar\": {\"outlinewidth\": 0, \"ticks\": \"\"}, \"colorscale\": [[0.0, \"#0d0887\"], [0.1111111111111111, \"#46039f\"], [0.2222222222222222, \"#7201a8\"], [0.3333333333333333, \"#9c179e\"], [0.4444444444444444, \"#bd3786\"], [0.5555555555555556, \"#d8576b\"], [0.6666666666666666, \"#ed7953\"], [0.7777777777777778, \"#fb9f3a\"], [0.8888888888888888, \"#fdca26\"], [1.0, \"#f0f921\"]], \"type\": \"surface\"}], \"table\": [{\"cells\": {\"fill\": {\"color\": \"#EBF0F8\"}, \"line\": {\"color\": \"white\"}}, \"header\": {\"fill\": {\"color\": \"#C8D4E3\"}, \"line\": {\"color\": \"white\"}}, \"type\": \"table\"}]}, \"layout\": {\"annotationdefaults\": {\"arrowcolor\": \"#2a3f5f\", \"arrowhead\": 0, \"arrowwidth\": 1}, \"coloraxis\": {\"colorbar\": {\"outlinewidth\": 0, \"ticks\": \"\"}}, \"colorscale\": {\"diverging\": [[0, \"#8e0152\"], [0.1, \"#c51b7d\"], [0.2, \"#de77ae\"], [0.3, \"#f1b6da\"], [0.4, \"#fde0ef\"], [0.5, \"#f7f7f7\"], [0.6, \"#e6f5d0\"], [0.7, \"#b8e186\"], [0.8, \"#7fbc41\"], [0.9, \"#4d9221\"], [1, \"#276419\"]], \"sequential\": [[0.0, \"#0d0887\"], [0.1111111111111111, \"#46039f\"], [0.2222222222222222, \"#7201a8\"], [0.3333333333333333, \"#9c179e\"], [0.4444444444444444, \"#bd3786\"], [0.5555555555555556, \"#d8576b\"], [0.6666666666666666, \"#ed7953\"], [0.7777777777777778, \"#fb9f3a\"], [0.8888888888888888, \"#fdca26\"], [1.0, \"#f0f921\"]], \"sequentialminus\": [[0.0, \"#0d0887\"], [0.1111111111111111, \"#46039f\"], [0.2222222222222222, \"#7201a8\"], [0.3333333333333333, \"#9c179e\"], [0.4444444444444444, \"#bd3786\"], [0.5555555555555556, \"#d8576b\"], [0.6666666666666666, \"#ed7953\"], [0.7777777777777778, \"#fb9f3a\"], [0.8888888888888888, \"#fdca26\"], [1.0, \"#f0f921\"]]}, \"colorway\": [\"#636efa\", \"#EF553B\", \"#00cc96\", \"#ab63fa\", \"#FFA15A\", \"#19d3f3\", \"#FF6692\", \"#B6E880\", \"#FF97FF\", \"#FECB52\"], \"font\": {\"color\": \"#2a3f5f\"}, \"geo\": {\"bgcolor\": \"white\", \"lakecolor\": \"white\", \"landcolor\": \"white\", \"showlakes\": true, \"showland\": true, \"subunitcolor\": \"#C8D4E3\"}, \"hoverlabel\": {\"align\": \"left\"}, \"hovermode\": \"closest\", \"mapbox\": {\"style\": \"light\"}, \"paper_bgcolor\": \"white\", \"plot_bgcolor\": \"white\", \"polar\": {\"angularaxis\": {\"gridcolor\": \"#EBF0F8\", \"linecolor\": \"#EBF0F8\", \"ticks\": \"\"}, \"bgcolor\": \"white\", \"radialaxis\": {\"gridcolor\": \"#EBF0F8\", \"linecolor\": \"#EBF0F8\", \"ticks\": \"\"}}, \"scene\": {\"xaxis\": {\"backgroundcolor\": \"white\", \"gridcolor\": \"#DFE8F3\", \"gridwidth\": 2, \"linecolor\": \"#EBF0F8\", \"showbackground\": true, \"ticks\": \"\", \"zerolinecolor\": \"#EBF0F8\"}, \"yaxis\": {\"backgroundcolor\": \"white\", \"gridcolor\": \"#DFE8F3\", \"gridwidth\": 2, \"linecolor\": \"#EBF0F8\", \"showbackground\": true, \"ticks\": \"\", \"zerolinecolor\": \"#EBF0F8\"}, \"zaxis\": {\"backgroundcolor\": \"white\", \"gridcolor\": \"#DFE8F3\", \"gridwidth\": 2, \"linecolor\": \"#EBF0F8\", \"showbackground\": true, \"ticks\": \"\", \"zerolinecolor\": \"#EBF0F8\"}}, \"shapedefaults\": {\"line\": {\"color\": \"#2a3f5f\"}}, \"ternary\": {\"aaxis\": {\"gridcolor\": \"#DFE8F3\", \"linecolor\": \"#A2B1C6\", \"ticks\": \"\"}, \"baxis\": {\"gridcolor\": \"#DFE8F3\", \"linecolor\": \"#A2B1C6\", \"ticks\": \"\"}, \"bgcolor\": \"white\", \"caxis\": {\"gridcolor\": \"#DFE8F3\", \"linecolor\": \"#A2B1C6\", \"ticks\": \"\"}}, \"title\": {\"x\": 0.05}, \"xaxis\": {\"automargin\": true, \"gridcolor\": \"#EBF0F8\", \"linecolor\": \"#EBF0F8\", \"ticks\": \"\", \"title\": {\"standoff\": 15}, \"zerolinecolor\": \"#EBF0F8\", \"zerolinewidth\": 2}, \"yaxis\": {\"automargin\": true, \"gridcolor\": \"#EBF0F8\", \"linecolor\": \"#EBF0F8\", \"ticks\": \"\", \"title\": {\"standoff\": 15}, \"zerolinecolor\": \"#EBF0F8\", \"zerolinewidth\": 2}}}, \"title\": {\"text\": \"<b>Mass Shootings Total Victims and Fatalities Over Time</b>\"}, \"xaxis\": {\"tickfont\": {\"size\": 14}}, \"yaxis\": {\"tickfont\": {\"size\": 14}, \"title\": {\"font\": {\"size\": 16}, \"text\": \"casualties\"}}},\n",
       "                        {\"responsive\": true}\n",
       "                    ).then(function(){\n",
       "                            \n",
       "var gd = document.getElementById('04404f61-acb2-4880-a6e5-ca7ffc066c6e');\n",
       "var x = new MutationObserver(function (mutations, observer) {{\n",
       "        var display = window.getComputedStyle(gd).display;\n",
       "        if (!display || display === 'none') {{\n",
       "            console.log([gd, 'removed!']);\n",
       "            Plotly.purge(gd);\n",
       "            observer.disconnect();\n",
       "        }}\n",
       "}});\n",
       "\n",
       "// Listen for the removal of the full notebook cells\n",
       "var notebookContainer = gd.closest('#notebook-container');\n",
       "if (notebookContainer) {{\n",
       "    x.observe(notebookContainer, {childList: true});\n",
       "}}\n",
       "\n",
       "// Listen for the clearing of the current output cell\n",
       "var outputEl = gd.closest('.output');\n",
       "if (outputEl) {{\n",
       "    x.observe(outputEl, {childList: true});\n",
       "}}\n",
       "\n",
       "                        })\n",
       "                };\n",
       "                });\n",
       "            </script>\n",
       "        </div>"
      ]
     },
     "metadata": {},
     "output_type": "display_data"
    },
    {
     "data": {
      "text/plain": [
       "<Figure size 1440x360 with 0 Axes>"
      ]
     },
     "metadata": {},
     "output_type": "display_data"
    }
   ],
   "source": [
    "fig = plt.figure(figsize=(20,5))\n",
    "\n",
    "# Create traces\n",
    "fig = go.Figure()\n",
    "fig.add_trace(go.Scatter(x=vfi_by_year.year, y=vfi_by_year.total_victims,\n",
    "                    mode='lines',\n",
    "                    name='total victims',\n",
    "                    line=dict(color='royalblue', width=3))),\n",
    "fig.add_trace(go.Scatter(x=vfi_by_year.year, y=vfi_by_year.fatalities,\n",
    "                    mode='lines+markers',\n",
    "                    name='deaths',\n",
    "                    line=dict(color='firebrick', width=3))),\n",
    "\n",
    "fig.update_layout(\n",
    "    barmode='stack',\n",
    "    title='<b>Mass Shootings Total Victims and Fatalities Over Time</b>',\n",
    "    xaxis_tickfont_size=14,\n",
    "    yaxis=dict(\n",
    "        title='casualties',\n",
    "        titlefont_size=16,\n",
    "        tickfont_size=14,\n",
    "    ),\n",
    "    template='plotly_white',\n",
    "    legend=dict(\n",
    "        x=0.1,\n",
    "        y=0.9,\n",
    "        bgcolor='#FFFFFF',\n",
    "        bordercolor='#a0a0a0'\n",
    "    ))"
   ]
  },
  {
   "cell_type": "markdown",
   "metadata": {},
   "source": [
    "## 6. Annual Mass Shootings Cassualities | Deaths and Injured"
   ]
  },
  {
   "cell_type": "code",
   "execution_count": 65,
   "metadata": {
    "scrolled": false
   },
   "outputs": [
    {
     "data": {
      "application/vnd.plotly.v1+json": {
       "config": {
        "plotlyServerURL": "https://plot.ly"
       },
       "data": [
        {
         "marker": {
          "color": "#d61822"
         },
         "name": "Fatalities",
         "type": "bar",
         "x": [
          1982,
          1984,
          1986,
          1987,
          1988,
          1989,
          1990,
          1991,
          1992,
          1993,
          1994,
          1995,
          1996,
          1997,
          1998,
          1999,
          2000,
          2001,
          2003,
          2004,
          2005,
          2006,
          2007,
          2008,
          2009,
          2010,
          2011,
          2012,
          2013,
          2014,
          2015,
          2016,
          2017,
          2018,
          2019,
          2020
         ],
         "y": [
          8,
          28,
          15,
          6,
          7,
          15,
          10,
          35,
          9,
          23,
          5,
          6,
          6,
          9,
          14,
          42,
          7,
          5,
          7,
          5,
          17,
          21,
          53,
          17,
          39,
          9,
          19,
          71,
          35,
          18,
          46,
          71,
          117,
          80,
          73,
          5
         ]
        },
        {
         "marker": {
          "color": "#ffb53a"
         },
         "name": "Injured",
         "type": "bar",
         "x": [
          1982,
          1984,
          1986,
          1987,
          1988,
          1989,
          1990,
          1991,
          1992,
          1993,
          1994,
          1995,
          1996,
          1997,
          1998,
          1999,
          2000,
          2001,
          2003,
          2004,
          2005,
          2006,
          2007,
          2008,
          2009,
          2010,
          2011,
          2012,
          2013,
          2014,
          2015,
          2016,
          2017,
          2018,
          2019,
          2020
         ],
         "y": [
          3,
          20,
          6,
          14,
          4,
          41,
          4,
          26,
          10,
          34,
          23,
          0,
          1,
          5,
          36,
          47,
          0,
          4,
          8,
          7,
          9,
          7,
          32,
          24,
          39,
          2,
          21,
          80,
          13,
          28,
          43,
          83,
          587,
          70,
          112,
          0
         ]
        }
       ],
       "layout": {
        "bargap": 0.15,
        "bargroupgap": 0.1,
        "barmode": "stack",
        "legend": {
         "bgcolor": "#FFFFFF",
         "bordercolor": "#a0a0a0",
         "x": 0.1,
         "y": 0.9
        },
        "template": {
         "data": {
          "bar": [
           {
            "error_x": {
             "color": "#2a3f5f"
            },
            "error_y": {
             "color": "#2a3f5f"
            },
            "marker": {
             "line": {
              "color": "white",
              "width": 0.5
             }
            },
            "type": "bar"
           }
          ],
          "barpolar": [
           {
            "marker": {
             "line": {
              "color": "white",
              "width": 0.5
             }
            },
            "type": "barpolar"
           }
          ],
          "carpet": [
           {
            "aaxis": {
             "endlinecolor": "#2a3f5f",
             "gridcolor": "#C8D4E3",
             "linecolor": "#C8D4E3",
             "minorgridcolor": "#C8D4E3",
             "startlinecolor": "#2a3f5f"
            },
            "baxis": {
             "endlinecolor": "#2a3f5f",
             "gridcolor": "#C8D4E3",
             "linecolor": "#C8D4E3",
             "minorgridcolor": "#C8D4E3",
             "startlinecolor": "#2a3f5f"
            },
            "type": "carpet"
           }
          ],
          "choropleth": [
           {
            "colorbar": {
             "outlinewidth": 0,
             "ticks": ""
            },
            "type": "choropleth"
           }
          ],
          "contour": [
           {
            "colorbar": {
             "outlinewidth": 0,
             "ticks": ""
            },
            "colorscale": [
             [
              0,
              "#0d0887"
             ],
             [
              0.1111111111111111,
              "#46039f"
             ],
             [
              0.2222222222222222,
              "#7201a8"
             ],
             [
              0.3333333333333333,
              "#9c179e"
             ],
             [
              0.4444444444444444,
              "#bd3786"
             ],
             [
              0.5555555555555556,
              "#d8576b"
             ],
             [
              0.6666666666666666,
              "#ed7953"
             ],
             [
              0.7777777777777778,
              "#fb9f3a"
             ],
             [
              0.8888888888888888,
              "#fdca26"
             ],
             [
              1,
              "#f0f921"
             ]
            ],
            "type": "contour"
           }
          ],
          "contourcarpet": [
           {
            "colorbar": {
             "outlinewidth": 0,
             "ticks": ""
            },
            "type": "contourcarpet"
           }
          ],
          "heatmap": [
           {
            "colorbar": {
             "outlinewidth": 0,
             "ticks": ""
            },
            "colorscale": [
             [
              0,
              "#0d0887"
             ],
             [
              0.1111111111111111,
              "#46039f"
             ],
             [
              0.2222222222222222,
              "#7201a8"
             ],
             [
              0.3333333333333333,
              "#9c179e"
             ],
             [
              0.4444444444444444,
              "#bd3786"
             ],
             [
              0.5555555555555556,
              "#d8576b"
             ],
             [
              0.6666666666666666,
              "#ed7953"
             ],
             [
              0.7777777777777778,
              "#fb9f3a"
             ],
             [
              0.8888888888888888,
              "#fdca26"
             ],
             [
              1,
              "#f0f921"
             ]
            ],
            "type": "heatmap"
           }
          ],
          "heatmapgl": [
           {
            "colorbar": {
             "outlinewidth": 0,
             "ticks": ""
            },
            "colorscale": [
             [
              0,
              "#0d0887"
             ],
             [
              0.1111111111111111,
              "#46039f"
             ],
             [
              0.2222222222222222,
              "#7201a8"
             ],
             [
              0.3333333333333333,
              "#9c179e"
             ],
             [
              0.4444444444444444,
              "#bd3786"
             ],
             [
              0.5555555555555556,
              "#d8576b"
             ],
             [
              0.6666666666666666,
              "#ed7953"
             ],
             [
              0.7777777777777778,
              "#fb9f3a"
             ],
             [
              0.8888888888888888,
              "#fdca26"
             ],
             [
              1,
              "#f0f921"
             ]
            ],
            "type": "heatmapgl"
           }
          ],
          "histogram": [
           {
            "marker": {
             "colorbar": {
              "outlinewidth": 0,
              "ticks": ""
             }
            },
            "type": "histogram"
           }
          ],
          "histogram2d": [
           {
            "colorbar": {
             "outlinewidth": 0,
             "ticks": ""
            },
            "colorscale": [
             [
              0,
              "#0d0887"
             ],
             [
              0.1111111111111111,
              "#46039f"
             ],
             [
              0.2222222222222222,
              "#7201a8"
             ],
             [
              0.3333333333333333,
              "#9c179e"
             ],
             [
              0.4444444444444444,
              "#bd3786"
             ],
             [
              0.5555555555555556,
              "#d8576b"
             ],
             [
              0.6666666666666666,
              "#ed7953"
             ],
             [
              0.7777777777777778,
              "#fb9f3a"
             ],
             [
              0.8888888888888888,
              "#fdca26"
             ],
             [
              1,
              "#f0f921"
             ]
            ],
            "type": "histogram2d"
           }
          ],
          "histogram2dcontour": [
           {
            "colorbar": {
             "outlinewidth": 0,
             "ticks": ""
            },
            "colorscale": [
             [
              0,
              "#0d0887"
             ],
             [
              0.1111111111111111,
              "#46039f"
             ],
             [
              0.2222222222222222,
              "#7201a8"
             ],
             [
              0.3333333333333333,
              "#9c179e"
             ],
             [
              0.4444444444444444,
              "#bd3786"
             ],
             [
              0.5555555555555556,
              "#d8576b"
             ],
             [
              0.6666666666666666,
              "#ed7953"
             ],
             [
              0.7777777777777778,
              "#fb9f3a"
             ],
             [
              0.8888888888888888,
              "#fdca26"
             ],
             [
              1,
              "#f0f921"
             ]
            ],
            "type": "histogram2dcontour"
           }
          ],
          "mesh3d": [
           {
            "colorbar": {
             "outlinewidth": 0,
             "ticks": ""
            },
            "type": "mesh3d"
           }
          ],
          "parcoords": [
           {
            "line": {
             "colorbar": {
              "outlinewidth": 0,
              "ticks": ""
             }
            },
            "type": "parcoords"
           }
          ],
          "pie": [
           {
            "automargin": true,
            "type": "pie"
           }
          ],
          "scatter": [
           {
            "marker": {
             "colorbar": {
              "outlinewidth": 0,
              "ticks": ""
             }
            },
            "type": "scatter"
           }
          ],
          "scatter3d": [
           {
            "line": {
             "colorbar": {
              "outlinewidth": 0,
              "ticks": ""
             }
            },
            "marker": {
             "colorbar": {
              "outlinewidth": 0,
              "ticks": ""
             }
            },
            "type": "scatter3d"
           }
          ],
          "scattercarpet": [
           {
            "marker": {
             "colorbar": {
              "outlinewidth": 0,
              "ticks": ""
             }
            },
            "type": "scattercarpet"
           }
          ],
          "scattergeo": [
           {
            "marker": {
             "colorbar": {
              "outlinewidth": 0,
              "ticks": ""
             }
            },
            "type": "scattergeo"
           }
          ],
          "scattergl": [
           {
            "marker": {
             "colorbar": {
              "outlinewidth": 0,
              "ticks": ""
             }
            },
            "type": "scattergl"
           }
          ],
          "scattermapbox": [
           {
            "marker": {
             "colorbar": {
              "outlinewidth": 0,
              "ticks": ""
             }
            },
            "type": "scattermapbox"
           }
          ],
          "scatterpolar": [
           {
            "marker": {
             "colorbar": {
              "outlinewidth": 0,
              "ticks": ""
             }
            },
            "type": "scatterpolar"
           }
          ],
          "scatterpolargl": [
           {
            "marker": {
             "colorbar": {
              "outlinewidth": 0,
              "ticks": ""
             }
            },
            "type": "scatterpolargl"
           }
          ],
          "scatterternary": [
           {
            "marker": {
             "colorbar": {
              "outlinewidth": 0,
              "ticks": ""
             }
            },
            "type": "scatterternary"
           }
          ],
          "surface": [
           {
            "colorbar": {
             "outlinewidth": 0,
             "ticks": ""
            },
            "colorscale": [
             [
              0,
              "#0d0887"
             ],
             [
              0.1111111111111111,
              "#46039f"
             ],
             [
              0.2222222222222222,
              "#7201a8"
             ],
             [
              0.3333333333333333,
              "#9c179e"
             ],
             [
              0.4444444444444444,
              "#bd3786"
             ],
             [
              0.5555555555555556,
              "#d8576b"
             ],
             [
              0.6666666666666666,
              "#ed7953"
             ],
             [
              0.7777777777777778,
              "#fb9f3a"
             ],
             [
              0.8888888888888888,
              "#fdca26"
             ],
             [
              1,
              "#f0f921"
             ]
            ],
            "type": "surface"
           }
          ],
          "table": [
           {
            "cells": {
             "fill": {
              "color": "#EBF0F8"
             },
             "line": {
              "color": "white"
             }
            },
            "header": {
             "fill": {
              "color": "#C8D4E3"
             },
             "line": {
              "color": "white"
             }
            },
            "type": "table"
           }
          ]
         },
         "layout": {
          "annotationdefaults": {
           "arrowcolor": "#2a3f5f",
           "arrowhead": 0,
           "arrowwidth": 1
          },
          "coloraxis": {
           "colorbar": {
            "outlinewidth": 0,
            "ticks": ""
           }
          },
          "colorscale": {
           "diverging": [
            [
             0,
             "#8e0152"
            ],
            [
             0.1,
             "#c51b7d"
            ],
            [
             0.2,
             "#de77ae"
            ],
            [
             0.3,
             "#f1b6da"
            ],
            [
             0.4,
             "#fde0ef"
            ],
            [
             0.5,
             "#f7f7f7"
            ],
            [
             0.6,
             "#e6f5d0"
            ],
            [
             0.7,
             "#b8e186"
            ],
            [
             0.8,
             "#7fbc41"
            ],
            [
             0.9,
             "#4d9221"
            ],
            [
             1,
             "#276419"
            ]
           ],
           "sequential": [
            [
             0,
             "#0d0887"
            ],
            [
             0.1111111111111111,
             "#46039f"
            ],
            [
             0.2222222222222222,
             "#7201a8"
            ],
            [
             0.3333333333333333,
             "#9c179e"
            ],
            [
             0.4444444444444444,
             "#bd3786"
            ],
            [
             0.5555555555555556,
             "#d8576b"
            ],
            [
             0.6666666666666666,
             "#ed7953"
            ],
            [
             0.7777777777777778,
             "#fb9f3a"
            ],
            [
             0.8888888888888888,
             "#fdca26"
            ],
            [
             1,
             "#f0f921"
            ]
           ],
           "sequentialminus": [
            [
             0,
             "#0d0887"
            ],
            [
             0.1111111111111111,
             "#46039f"
            ],
            [
             0.2222222222222222,
             "#7201a8"
            ],
            [
             0.3333333333333333,
             "#9c179e"
            ],
            [
             0.4444444444444444,
             "#bd3786"
            ],
            [
             0.5555555555555556,
             "#d8576b"
            ],
            [
             0.6666666666666666,
             "#ed7953"
            ],
            [
             0.7777777777777778,
             "#fb9f3a"
            ],
            [
             0.8888888888888888,
             "#fdca26"
            ],
            [
             1,
             "#f0f921"
            ]
           ]
          },
          "colorway": [
           "#636efa",
           "#EF553B",
           "#00cc96",
           "#ab63fa",
           "#FFA15A",
           "#19d3f3",
           "#FF6692",
           "#B6E880",
           "#FF97FF",
           "#FECB52"
          ],
          "font": {
           "color": "#2a3f5f"
          },
          "geo": {
           "bgcolor": "white",
           "lakecolor": "white",
           "landcolor": "white",
           "showlakes": true,
           "showland": true,
           "subunitcolor": "#C8D4E3"
          },
          "hoverlabel": {
           "align": "left"
          },
          "hovermode": "closest",
          "mapbox": {
           "style": "light"
          },
          "paper_bgcolor": "white",
          "plot_bgcolor": "white",
          "polar": {
           "angularaxis": {
            "gridcolor": "#EBF0F8",
            "linecolor": "#EBF0F8",
            "ticks": ""
           },
           "bgcolor": "white",
           "radialaxis": {
            "gridcolor": "#EBF0F8",
            "linecolor": "#EBF0F8",
            "ticks": ""
           }
          },
          "scene": {
           "xaxis": {
            "backgroundcolor": "white",
            "gridcolor": "#DFE8F3",
            "gridwidth": 2,
            "linecolor": "#EBF0F8",
            "showbackground": true,
            "ticks": "",
            "zerolinecolor": "#EBF0F8"
           },
           "yaxis": {
            "backgroundcolor": "white",
            "gridcolor": "#DFE8F3",
            "gridwidth": 2,
            "linecolor": "#EBF0F8",
            "showbackground": true,
            "ticks": "",
            "zerolinecolor": "#EBF0F8"
           },
           "zaxis": {
            "backgroundcolor": "white",
            "gridcolor": "#DFE8F3",
            "gridwidth": 2,
            "linecolor": "#EBF0F8",
            "showbackground": true,
            "ticks": "",
            "zerolinecolor": "#EBF0F8"
           }
          },
          "shapedefaults": {
           "line": {
            "color": "#2a3f5f"
           }
          },
          "ternary": {
           "aaxis": {
            "gridcolor": "#DFE8F3",
            "linecolor": "#A2B1C6",
            "ticks": ""
           },
           "baxis": {
            "gridcolor": "#DFE8F3",
            "linecolor": "#A2B1C6",
            "ticks": ""
           },
           "bgcolor": "white",
           "caxis": {
            "gridcolor": "#DFE8F3",
            "linecolor": "#A2B1C6",
            "ticks": ""
           }
          },
          "title": {
           "x": 0.05
          },
          "xaxis": {
           "automargin": true,
           "gridcolor": "#EBF0F8",
           "linecolor": "#EBF0F8",
           "ticks": "",
           "title": {
            "standoff": 15
           },
           "zerolinecolor": "#EBF0F8",
           "zerolinewidth": 2
          },
          "yaxis": {
           "automargin": true,
           "gridcolor": "#EBF0F8",
           "linecolor": "#EBF0F8",
           "ticks": "",
           "title": {
            "standoff": 15
           },
           "zerolinecolor": "#EBF0F8",
           "zerolinewidth": 2
          }
         }
        },
        "title": {
         "text": "<b>Annual mass shootings casualties</b><br>(Hover for breakdown)"
        },
        "xaxis": {
         "tickfont": {
          "size": 14
         }
        },
        "yaxis": {
         "tickfont": {
          "size": 14
         },
         "title": {
          "font": {
           "size": 16
          },
          "text": "casualties"
         }
        }
       }
      },
      "text/html": [
       "<div>\n",
       "        \n",
       "        \n",
       "            <div id=\"f7beabf1-c0a6-4d8e-a98b-40f7af066909\" class=\"plotly-graph-div\" style=\"height:525px; width:100%;\"></div>\n",
       "            <script type=\"text/javascript\">\n",
       "                require([\"plotly\"], function(Plotly) {\n",
       "                    window.PLOTLYENV=window.PLOTLYENV || {};\n",
       "                    \n",
       "                if (document.getElementById(\"f7beabf1-c0a6-4d8e-a98b-40f7af066909\")) {\n",
       "                    Plotly.newPlot(\n",
       "                        'f7beabf1-c0a6-4d8e-a98b-40f7af066909',\n",
       "                        [{\"marker\": {\"color\": \"#d61822\"}, \"name\": \"Fatalities\", \"type\": \"bar\", \"x\": [1982, 1984, 1986, 1987, 1988, 1989, 1990, 1991, 1992, 1993, 1994, 1995, 1996, 1997, 1998, 1999, 2000, 2001, 2003, 2004, 2005, 2006, 2007, 2008, 2009, 2010, 2011, 2012, 2013, 2014, 2015, 2016, 2017, 2018, 2019, 2020], \"y\": [8, 28, 15, 6, 7, 15, 10, 35, 9, 23, 5, 6, 6, 9, 14, 42, 7, 5, 7, 5, 17, 21, 53, 17, 39, 9, 19, 71, 35, 18, 46, 71, 117, 80, 73, 5]}, {\"marker\": {\"color\": \"#ffb53a\"}, \"name\": \"Injured\", \"type\": \"bar\", \"x\": [1982, 1984, 1986, 1987, 1988, 1989, 1990, 1991, 1992, 1993, 1994, 1995, 1996, 1997, 1998, 1999, 2000, 2001, 2003, 2004, 2005, 2006, 2007, 2008, 2009, 2010, 2011, 2012, 2013, 2014, 2015, 2016, 2017, 2018, 2019, 2020], \"y\": [3, 20, 6, 14, 4, 41, 4, 26, 10, 34, 23, 0, 1, 5, 36, 47, 0, 4, 8, 7, 9, 7, 32, 24, 39, 2, 21, 80, 13, 28, 43, 83, 587, 70, 112, 0]}],\n",
       "                        {\"bargap\": 0.15, \"bargroupgap\": 0.1, \"barmode\": \"stack\", \"legend\": {\"bgcolor\": \"#FFFFFF\", \"bordercolor\": \"#a0a0a0\", \"x\": 0.1, \"y\": 0.9}, \"template\": {\"data\": {\"bar\": [{\"error_x\": {\"color\": \"#2a3f5f\"}, \"error_y\": {\"color\": \"#2a3f5f\"}, \"marker\": {\"line\": {\"color\": \"white\", \"width\": 0.5}}, \"type\": \"bar\"}], \"barpolar\": [{\"marker\": {\"line\": {\"color\": \"white\", \"width\": 0.5}}, \"type\": \"barpolar\"}], \"carpet\": [{\"aaxis\": {\"endlinecolor\": \"#2a3f5f\", \"gridcolor\": \"#C8D4E3\", \"linecolor\": \"#C8D4E3\", \"minorgridcolor\": \"#C8D4E3\", \"startlinecolor\": \"#2a3f5f\"}, \"baxis\": {\"endlinecolor\": \"#2a3f5f\", \"gridcolor\": \"#C8D4E3\", \"linecolor\": \"#C8D4E3\", \"minorgridcolor\": \"#C8D4E3\", \"startlinecolor\": \"#2a3f5f\"}, \"type\": \"carpet\"}], \"choropleth\": [{\"colorbar\": {\"outlinewidth\": 0, \"ticks\": \"\"}, \"type\": \"choropleth\"}], \"contour\": [{\"colorbar\": {\"outlinewidth\": 0, \"ticks\": \"\"}, \"colorscale\": [[0.0, \"#0d0887\"], [0.1111111111111111, \"#46039f\"], [0.2222222222222222, \"#7201a8\"], [0.3333333333333333, \"#9c179e\"], [0.4444444444444444, \"#bd3786\"], [0.5555555555555556, \"#d8576b\"], [0.6666666666666666, \"#ed7953\"], [0.7777777777777778, \"#fb9f3a\"], [0.8888888888888888, \"#fdca26\"], [1.0, \"#f0f921\"]], \"type\": \"contour\"}], \"contourcarpet\": [{\"colorbar\": {\"outlinewidth\": 0, \"ticks\": \"\"}, \"type\": \"contourcarpet\"}], \"heatmap\": [{\"colorbar\": {\"outlinewidth\": 0, \"ticks\": \"\"}, \"colorscale\": [[0.0, \"#0d0887\"], [0.1111111111111111, \"#46039f\"], [0.2222222222222222, \"#7201a8\"], [0.3333333333333333, \"#9c179e\"], [0.4444444444444444, \"#bd3786\"], [0.5555555555555556, \"#d8576b\"], [0.6666666666666666, \"#ed7953\"], [0.7777777777777778, \"#fb9f3a\"], [0.8888888888888888, \"#fdca26\"], [1.0, \"#f0f921\"]], \"type\": \"heatmap\"}], \"heatmapgl\": [{\"colorbar\": {\"outlinewidth\": 0, \"ticks\": \"\"}, \"colorscale\": [[0.0, \"#0d0887\"], [0.1111111111111111, \"#46039f\"], [0.2222222222222222, \"#7201a8\"], [0.3333333333333333, \"#9c179e\"], [0.4444444444444444, \"#bd3786\"], [0.5555555555555556, \"#d8576b\"], [0.6666666666666666, \"#ed7953\"], [0.7777777777777778, \"#fb9f3a\"], [0.8888888888888888, \"#fdca26\"], [1.0, \"#f0f921\"]], \"type\": \"heatmapgl\"}], \"histogram\": [{\"marker\": {\"colorbar\": {\"outlinewidth\": 0, \"ticks\": \"\"}}, \"type\": \"histogram\"}], \"histogram2d\": [{\"colorbar\": {\"outlinewidth\": 0, \"ticks\": \"\"}, \"colorscale\": [[0.0, \"#0d0887\"], [0.1111111111111111, \"#46039f\"], [0.2222222222222222, \"#7201a8\"], [0.3333333333333333, \"#9c179e\"], [0.4444444444444444, \"#bd3786\"], [0.5555555555555556, \"#d8576b\"], [0.6666666666666666, \"#ed7953\"], [0.7777777777777778, \"#fb9f3a\"], [0.8888888888888888, \"#fdca26\"], [1.0, \"#f0f921\"]], \"type\": \"histogram2d\"}], \"histogram2dcontour\": [{\"colorbar\": {\"outlinewidth\": 0, \"ticks\": \"\"}, \"colorscale\": [[0.0, \"#0d0887\"], [0.1111111111111111, \"#46039f\"], [0.2222222222222222, \"#7201a8\"], [0.3333333333333333, \"#9c179e\"], [0.4444444444444444, \"#bd3786\"], [0.5555555555555556, \"#d8576b\"], [0.6666666666666666, \"#ed7953\"], [0.7777777777777778, \"#fb9f3a\"], [0.8888888888888888, \"#fdca26\"], [1.0, \"#f0f921\"]], \"type\": \"histogram2dcontour\"}], \"mesh3d\": [{\"colorbar\": {\"outlinewidth\": 0, \"ticks\": \"\"}, \"type\": \"mesh3d\"}], \"parcoords\": [{\"line\": {\"colorbar\": {\"outlinewidth\": 0, \"ticks\": \"\"}}, \"type\": \"parcoords\"}], \"pie\": [{\"automargin\": true, \"type\": \"pie\"}], \"scatter\": [{\"marker\": {\"colorbar\": {\"outlinewidth\": 0, \"ticks\": \"\"}}, \"type\": \"scatter\"}], \"scatter3d\": [{\"line\": {\"colorbar\": {\"outlinewidth\": 0, \"ticks\": \"\"}}, \"marker\": {\"colorbar\": {\"outlinewidth\": 0, \"ticks\": \"\"}}, \"type\": \"scatter3d\"}], \"scattercarpet\": [{\"marker\": {\"colorbar\": {\"outlinewidth\": 0, \"ticks\": \"\"}}, \"type\": \"scattercarpet\"}], \"scattergeo\": [{\"marker\": {\"colorbar\": {\"outlinewidth\": 0, \"ticks\": \"\"}}, \"type\": \"scattergeo\"}], \"scattergl\": [{\"marker\": {\"colorbar\": {\"outlinewidth\": 0, \"ticks\": \"\"}}, \"type\": \"scattergl\"}], \"scattermapbox\": [{\"marker\": {\"colorbar\": {\"outlinewidth\": 0, \"ticks\": \"\"}}, \"type\": \"scattermapbox\"}], \"scatterpolar\": [{\"marker\": {\"colorbar\": {\"outlinewidth\": 0, \"ticks\": \"\"}}, \"type\": \"scatterpolar\"}], \"scatterpolargl\": [{\"marker\": {\"colorbar\": {\"outlinewidth\": 0, \"ticks\": \"\"}}, \"type\": \"scatterpolargl\"}], \"scatterternary\": [{\"marker\": {\"colorbar\": {\"outlinewidth\": 0, \"ticks\": \"\"}}, \"type\": \"scatterternary\"}], \"surface\": [{\"colorbar\": {\"outlinewidth\": 0, \"ticks\": \"\"}, \"colorscale\": [[0.0, \"#0d0887\"], [0.1111111111111111, \"#46039f\"], [0.2222222222222222, \"#7201a8\"], [0.3333333333333333, \"#9c179e\"], [0.4444444444444444, \"#bd3786\"], [0.5555555555555556, \"#d8576b\"], [0.6666666666666666, \"#ed7953\"], [0.7777777777777778, \"#fb9f3a\"], [0.8888888888888888, \"#fdca26\"], [1.0, \"#f0f921\"]], \"type\": \"surface\"}], \"table\": [{\"cells\": {\"fill\": {\"color\": \"#EBF0F8\"}, \"line\": {\"color\": \"white\"}}, \"header\": {\"fill\": {\"color\": \"#C8D4E3\"}, \"line\": {\"color\": \"white\"}}, \"type\": \"table\"}]}, \"layout\": {\"annotationdefaults\": {\"arrowcolor\": \"#2a3f5f\", \"arrowhead\": 0, \"arrowwidth\": 1}, \"coloraxis\": {\"colorbar\": {\"outlinewidth\": 0, \"ticks\": \"\"}}, \"colorscale\": {\"diverging\": [[0, \"#8e0152\"], [0.1, \"#c51b7d\"], [0.2, \"#de77ae\"], [0.3, \"#f1b6da\"], [0.4, \"#fde0ef\"], [0.5, \"#f7f7f7\"], [0.6, \"#e6f5d0\"], [0.7, \"#b8e186\"], [0.8, \"#7fbc41\"], [0.9, \"#4d9221\"], [1, \"#276419\"]], \"sequential\": [[0.0, \"#0d0887\"], [0.1111111111111111, \"#46039f\"], [0.2222222222222222, \"#7201a8\"], [0.3333333333333333, \"#9c179e\"], [0.4444444444444444, \"#bd3786\"], [0.5555555555555556, \"#d8576b\"], [0.6666666666666666, \"#ed7953\"], [0.7777777777777778, \"#fb9f3a\"], [0.8888888888888888, \"#fdca26\"], [1.0, \"#f0f921\"]], \"sequentialminus\": [[0.0, \"#0d0887\"], [0.1111111111111111, \"#46039f\"], [0.2222222222222222, \"#7201a8\"], [0.3333333333333333, \"#9c179e\"], [0.4444444444444444, \"#bd3786\"], [0.5555555555555556, \"#d8576b\"], [0.6666666666666666, \"#ed7953\"], [0.7777777777777778, \"#fb9f3a\"], [0.8888888888888888, \"#fdca26\"], [1.0, \"#f0f921\"]]}, \"colorway\": [\"#636efa\", \"#EF553B\", \"#00cc96\", \"#ab63fa\", \"#FFA15A\", \"#19d3f3\", \"#FF6692\", \"#B6E880\", \"#FF97FF\", \"#FECB52\"], \"font\": {\"color\": \"#2a3f5f\"}, \"geo\": {\"bgcolor\": \"white\", \"lakecolor\": \"white\", \"landcolor\": \"white\", \"showlakes\": true, \"showland\": true, \"subunitcolor\": \"#C8D4E3\"}, \"hoverlabel\": {\"align\": \"left\"}, \"hovermode\": \"closest\", \"mapbox\": {\"style\": \"light\"}, \"paper_bgcolor\": \"white\", \"plot_bgcolor\": \"white\", \"polar\": {\"angularaxis\": {\"gridcolor\": \"#EBF0F8\", \"linecolor\": \"#EBF0F8\", \"ticks\": \"\"}, \"bgcolor\": \"white\", \"radialaxis\": {\"gridcolor\": \"#EBF0F8\", \"linecolor\": \"#EBF0F8\", \"ticks\": \"\"}}, \"scene\": {\"xaxis\": {\"backgroundcolor\": \"white\", \"gridcolor\": \"#DFE8F3\", \"gridwidth\": 2, \"linecolor\": \"#EBF0F8\", \"showbackground\": true, \"ticks\": \"\", \"zerolinecolor\": \"#EBF0F8\"}, \"yaxis\": {\"backgroundcolor\": \"white\", \"gridcolor\": \"#DFE8F3\", \"gridwidth\": 2, \"linecolor\": \"#EBF0F8\", \"showbackground\": true, \"ticks\": \"\", \"zerolinecolor\": \"#EBF0F8\"}, \"zaxis\": {\"backgroundcolor\": \"white\", \"gridcolor\": \"#DFE8F3\", \"gridwidth\": 2, \"linecolor\": \"#EBF0F8\", \"showbackground\": true, \"ticks\": \"\", \"zerolinecolor\": \"#EBF0F8\"}}, \"shapedefaults\": {\"line\": {\"color\": \"#2a3f5f\"}}, \"ternary\": {\"aaxis\": {\"gridcolor\": \"#DFE8F3\", \"linecolor\": \"#A2B1C6\", \"ticks\": \"\"}, \"baxis\": {\"gridcolor\": \"#DFE8F3\", \"linecolor\": \"#A2B1C6\", \"ticks\": \"\"}, \"bgcolor\": \"white\", \"caxis\": {\"gridcolor\": \"#DFE8F3\", \"linecolor\": \"#A2B1C6\", \"ticks\": \"\"}}, \"title\": {\"x\": 0.05}, \"xaxis\": {\"automargin\": true, \"gridcolor\": \"#EBF0F8\", \"linecolor\": \"#EBF0F8\", \"ticks\": \"\", \"title\": {\"standoff\": 15}, \"zerolinecolor\": \"#EBF0F8\", \"zerolinewidth\": 2}, \"yaxis\": {\"automargin\": true, \"gridcolor\": \"#EBF0F8\", \"linecolor\": \"#EBF0F8\", \"ticks\": \"\", \"title\": {\"standoff\": 15}, \"zerolinecolor\": \"#EBF0F8\", \"zerolinewidth\": 2}}}, \"title\": {\"text\": \"<b>Annual mass shootings casualties</b><br>(Hover for breakdown)\"}, \"xaxis\": {\"tickfont\": {\"size\": 14}}, \"yaxis\": {\"tickfont\": {\"size\": 14}, \"title\": {\"font\": {\"size\": 16}, \"text\": \"casualties\"}}},\n",
       "                        {\"responsive\": true}\n",
       "                    ).then(function(){\n",
       "                            \n",
       "var gd = document.getElementById('f7beabf1-c0a6-4d8e-a98b-40f7af066909');\n",
       "var x = new MutationObserver(function (mutations, observer) {{\n",
       "        var display = window.getComputedStyle(gd).display;\n",
       "        if (!display || display === 'none') {{\n",
       "            console.log([gd, 'removed!']);\n",
       "            Plotly.purge(gd);\n",
       "            observer.disconnect();\n",
       "        }}\n",
       "}});\n",
       "\n",
       "// Listen for the removal of the full notebook cells\n",
       "var notebookContainer = gd.closest('#notebook-container');\n",
       "if (notebookContainer) {{\n",
       "    x.observe(notebookContainer, {childList: true});\n",
       "}}\n",
       "\n",
       "// Listen for the clearing of the current output cell\n",
       "var outputEl = gd.closest('.output');\n",
       "if (outputEl) {{\n",
       "    x.observe(outputEl, {childList: true});\n",
       "}}\n",
       "\n",
       "                        })\n",
       "                };\n",
       "                });\n",
       "            </script>\n",
       "        </div>"
      ]
     },
     "metadata": {},
     "output_type": "display_data"
    }
   ],
   "source": [
    "fig = go.Figure(data=[\n",
    "    go.Bar(name='Fatalities', x=vfi_by_year.year, y=vfi_by_year.fatalities,marker_color='#d61822'),\n",
    "    go.Bar(name='Injured', x=vfi_by_year.year, y=vfi_by_year.injured, marker_color='#ffb53a')\n",
    "])\n",
    "# Change the bar mode\n",
    "fig.update_layout(\n",
    "    barmode='stack',\n",
    "    title='<b>Annual mass shootings casualties</b><br>(Hover for breakdown)',\n",
    "    xaxis_tickfont_size=14,\n",
    "    yaxis=dict(\n",
    "        title='casualties',\n",
    "        titlefont_size=16,\n",
    "        tickfont_size=14,\n",
    "    ),\n",
    "    template='plotly_white',\n",
    "    legend=dict(\n",
    "        x=0.1,\n",
    "        y=0.9,\n",
    "        bgcolor='#FFFFFF',\n",
    "        bordercolor='#a0a0a0'\n",
    "    ),\n",
    "    bargap=0.15, # gap between bars of adjacent location coordinates.\n",
    "    bargroupgap=0.1 # gap between bars of the same location coordinate.\n",
    "                 )\n",
    "fig.show()"
   ]
  },
  {
   "cell_type": "markdown",
   "metadata": {},
   "source": [
    "Clearly, <b>2017 was the year with most casualties </b> from mass shootings: \n",
    "- 587 injured\n",
    "- 117 fatalities"
   ]
  },
  {
   "cell_type": "markdown",
   "metadata": {},
   "source": [
    "## 7. The Worst Mass Shootings in US until 2020"
   ]
  },
  {
   "cell_type": "code",
   "execution_count": 66,
   "metadata": {},
   "outputs": [],
   "source": [
    "#prepare the dataframe\n",
    "deadliest_mass_shootings = df.sort_values(by='fatalities', ascending=False).head(5).reset_index()\n",
    "\n",
    "#capitalize values in 'case' column\n",
    "deadliest_mass_shootings['case'] = deadliest_mass_shootings['case'].str.title()"
   ]
  },
  {
   "cell_type": "code",
   "execution_count": 67,
   "metadata": {},
   "outputs": [
    {
     "name": "stdout",
     "output_type": "stream",
     "text": [
      "\n",
      "THE WORST MASS SHOOTINGS IN US:\n"
     ]
    },
    {
     "data": {
      "text/html": [
       "<div>\n",
       "<style scoped>\n",
       "    .dataframe tbody tr th:only-of-type {\n",
       "        vertical-align: middle;\n",
       "    }\n",
       "\n",
       "    .dataframe tbody tr th {\n",
       "        vertical-align: top;\n",
       "    }\n",
       "\n",
       "    .dataframe thead th {\n",
       "        text-align: right;\n",
       "    }\n",
       "</style>\n",
       "<table border=\"1\" class=\"dataframe\">\n",
       "  <thead>\n",
       "    <tr style=\"text-align: right;\">\n",
       "      <th></th>\n",
       "      <th>case</th>\n",
       "      <th>year</th>\n",
       "      <th>total_victims</th>\n",
       "      <th>fatalities</th>\n",
       "      <th>injured</th>\n",
       "    </tr>\n",
       "  </thead>\n",
       "  <tbody>\n",
       "    <tr>\n",
       "      <th>0</th>\n",
       "      <td>Las Vegas Strip Massacre</td>\n",
       "      <td>2017</td>\n",
       "      <td>604</td>\n",
       "      <td>58</td>\n",
       "      <td>546</td>\n",
       "    </tr>\n",
       "    <tr>\n",
       "      <th>1</th>\n",
       "      <td>Orlando Nightclub Massacre</td>\n",
       "      <td>2016</td>\n",
       "      <td>102</td>\n",
       "      <td>49</td>\n",
       "      <td>53</td>\n",
       "    </tr>\n",
       "    <tr>\n",
       "      <th>2</th>\n",
       "      <td>Virginia Tech Massacre</td>\n",
       "      <td>2007</td>\n",
       "      <td>55</td>\n",
       "      <td>32</td>\n",
       "      <td>23</td>\n",
       "    </tr>\n",
       "    <tr>\n",
       "      <th>3</th>\n",
       "      <td>Sandy Hook Elementary Massacre</td>\n",
       "      <td>2012</td>\n",
       "      <td>29</td>\n",
       "      <td>27</td>\n",
       "      <td>2</td>\n",
       "    </tr>\n",
       "    <tr>\n",
       "      <th>4</th>\n",
       "      <td>Texas First Baptist Church Massacre</td>\n",
       "      <td>2017</td>\n",
       "      <td>46</td>\n",
       "      <td>26</td>\n",
       "      <td>20</td>\n",
       "    </tr>\n",
       "  </tbody>\n",
       "</table>\n",
       "</div>"
      ],
      "text/plain": [
       "                                  case  year  total_victims  fatalities  \\\n",
       "0             Las Vegas Strip Massacre  2017            604          58   \n",
       "1           Orlando Nightclub Massacre  2016            102          49   \n",
       "2               Virginia Tech Massacre  2007             55          32   \n",
       "3       Sandy Hook Elementary Massacre  2012             29          27   \n",
       "4  Texas First Baptist Church Massacre  2017             46          26   \n",
       "\n",
       "   injured  \n",
       "0      546  \n",
       "1       53  \n",
       "2       23  \n",
       "3        2  \n",
       "4       20  "
      ]
     },
     "execution_count": 67,
     "metadata": {},
     "output_type": "execute_result"
    }
   ],
   "source": [
    "print(\"\\nThe Worst Mass Shootings in US:\".upper())\n",
    "deadliest_mass_shootings[['case','year','total_victims','fatalities','injured']]"
   ]
  },
  {
   "cell_type": "markdown",
   "metadata": {},
   "source": [
    "### 7.1 Worst Mass Shootings in US until 2020 | Data Visualization"
   ]
  },
  {
   "cell_type": "code",
   "execution_count": 68,
   "metadata": {},
   "outputs": [
    {
     "data": {
      "image/png": "[encoded data removed]",
      "text/plain": [
       "<Figure size 720x360 with 1 Axes>"
      ]
     },
     "metadata": {},
     "output_type": "display_data"
    }
   ],
   "source": [
    "#set seaborn style\n",
    "sns.set(style=\"ticks\")\n",
    "\n",
    "#plt style\n",
    "plt.style.use('seaborn-white')\n",
    "\n",
    "#initialize figure\n",
    "f, ax = plt.subplots(figsize=(10,5))\n",
    "\n",
    "#font\n",
    "font = {'family': 'sans',\n",
    "        'color':  'darkred',\n",
    "        'weight': 'normal',\n",
    "        'size': 16,\n",
    "        }\n",
    "\n",
    "#color for highest value\n",
    "clrs = ['#424242' if (x < max(deadliest_mass_shootings.fatalities)) else '#ff0000' for x in deadliest_mass_shootings.fatalities ]\n",
    "\n",
    "\n",
    "#plot the total fatalities\n",
    "sns.barplot(x='fatalities', y='case', data=deadliest_mass_shootings, label='Total Deaths', palette=clrs)\n",
    "\n",
    "#annotation\n",
    "for p in ax.patches:\n",
    "    width = p.get_width()\n",
    "    ax.text(width - 2.2  ,\n",
    "            p.get_y()+p.get_height()/2.+0.1,\n",
    "            '{:1.0f}'.format(width),\n",
    "            ha=\"center\",fontsize=14,color='white')\n",
    "    \n",
    "ax.tick_params(axis='x', labelsize=12)\n",
    "ax.tick_params(axis='y', labelsize=14)\n",
    "\n",
    "\n",
    "#labeling\n",
    "plt.xlabel('victims killed', labelpad=12, fontsize=16, fontdict=font)\n",
    "plt.ylabel('event', labelpad=15, fontsize=16, fontdict=font)\n",
    "plt.title('Worst Mass Shootings in America (1982-2020)', pad=30, fontsize=18, color='black', fontdict=font)\n",
    " \n",
    "\n",
    "\n",
    "sns.despine(top=True, right=True, left=False, bottom=False, offset=None, trim=False)\n",
    "\n",
    "plt.tight_layout()\n",
    "\n",
    "plt.show()\n"
   ]
  },
  {
   "cell_type": "markdown",
   "metadata": {},
   "source": [
    "## 8. Mass Shootings By Gender"
   ]
  },
  {
   "cell_type": "code",
   "execution_count": 69,
   "metadata": {},
   "outputs": [],
   "source": [
    "shootings_by_gender = df.groupby('gender')['case'].count().reset_index()\n",
    "shootings_by_gender.rename(columns={'case':'shootings'},inplace=True)"
   ]
  },
  {
   "cell_type": "code",
   "execution_count": 70,
   "metadata": {},
   "outputs": [
    {
     "name": "stdout",
     "output_type": "stream",
     "text": [
      "\n",
      "SHOOTINGS BY GENDER:\n"
     ]
    },
    {
     "data": {
      "text/html": [
       "<div>\n",
       "<style scoped>\n",
       "    .dataframe tbody tr th:only-of-type {\n",
       "        vertical-align: middle;\n",
       "    }\n",
       "\n",
       "    .dataframe tbody tr th {\n",
       "        vertical-align: top;\n",
       "    }\n",
       "\n",
       "    .dataframe thead th {\n",
       "        text-align: right;\n",
       "    }\n",
       "</style>\n",
       "<table border=\"1\" class=\"dataframe\">\n",
       "  <thead>\n",
       "    <tr style=\"text-align: right;\">\n",
       "      <th></th>\n",
       "      <th>gender</th>\n",
       "      <th>shootings</th>\n",
       "    </tr>\n",
       "  </thead>\n",
       "  <tbody>\n",
       "    <tr>\n",
       "      <th>0</th>\n",
       "      <td>Female</td>\n",
       "      <td>3</td>\n",
       "    </tr>\n",
       "    <tr>\n",
       "      <th>1</th>\n",
       "      <td>Male</td>\n",
       "      <td>113</td>\n",
       "    </tr>\n",
       "    <tr>\n",
       "      <th>2</th>\n",
       "      <td>Male &amp; Female</td>\n",
       "      <td>2</td>\n",
       "    </tr>\n",
       "  </tbody>\n",
       "</table>\n",
       "</div>"
      ],
      "text/plain": [
       "          gender  shootings\n",
       "0         Female          3\n",
       "1           Male        113\n",
       "2  Male & Female          2"
      ]
     },
     "execution_count": 70,
     "metadata": {},
     "output_type": "execute_result"
    }
   ],
   "source": [
    "print(\"\\nShootings by Gender:\".upper())\n",
    "shootings_by_gender"
   ]
  },
  {
   "cell_type": "markdown",
   "metadata": {},
   "source": [
    "###  96% of shooters were men"
   ]
  },
  {
   "cell_type": "markdown",
   "metadata": {},
   "source": [
    "112 mass shootings have been carried out in the USA by male shooters and only three mass shootings have been carried out by women.\n",
    "95.7 % of the mass killers were men, while only 2.56% were women. 1.71% of the shootings had 2 authors both a male and a female."
   ]
  },
  {
   "cell_type": "markdown",
   "metadata": {},
   "source": [
    "### 8.1. Shootings by Gender | Pie Chart Visualization"
   ]
  },
  {
   "cell_type": "code",
   "execution_count": 71,
   "metadata": {},
   "outputs": [
    {
     "data": {
      "application/vnd.plotly.v1+json": {
       "config": {
        "plotlyServerURL": "https://plot.ly"
       },
       "data": [
        {
         "domain": {
          "x": [
           0,
           1
          ],
          "y": [
           0,
           1
          ]
         },
         "hole": 0.5,
         "hoverlabel": {
          "namelength": 0
         },
         "hovertemplate": "gender=%{label}<br>shootings=%{value}",
         "labels": [
          "Female",
          "Male",
          "Male & Female"
         ],
         "legendgroup": "",
         "marker": {
          "colors": [
           "#ffb53a",
           "#e02a26",
           "#7c7c7c"
          ]
         },
         "name": "",
         "showlegend": true,
         "textinfo": "percent+label",
         "textposition": "outside",
         "type": "pie",
         "values": [
          3,
          113,
          2
         ]
        }
       ],
       "layout": {
        "legend": {
         "tracegroupgap": 0
        },
        "template": {
         "data": {
          "bar": [
           {
            "error_x": {
             "color": "#2a3f5f"
            },
            "error_y": {
             "color": "#2a3f5f"
            },
            "marker": {
             "line": {
              "color": "white",
              "width": 0.5
             }
            },
            "type": "bar"
           }
          ],
          "barpolar": [
           {
            "marker": {
             "line": {
              "color": "white",
              "width": 0.5
             }
            },
            "type": "barpolar"
           }
          ],
          "carpet": [
           {
            "aaxis": {
             "endlinecolor": "#2a3f5f",
             "gridcolor": "#C8D4E3",
             "linecolor": "#C8D4E3",
             "minorgridcolor": "#C8D4E3",
             "startlinecolor": "#2a3f5f"
            },
            "baxis": {
             "endlinecolor": "#2a3f5f",
             "gridcolor": "#C8D4E3",
             "linecolor": "#C8D4E3",
             "minorgridcolor": "#C8D4E3",
             "startlinecolor": "#2a3f5f"
            },
            "type": "carpet"
           }
          ],
          "choropleth": [
           {
            "colorbar": {
             "outlinewidth": 0,
             "ticks": ""
            },
            "type": "choropleth"
           }
          ],
          "contour": [
           {
            "colorbar": {
             "outlinewidth": 0,
             "ticks": ""
            },
            "colorscale": [
             [
              0,
              "#0d0887"
             ],
             [
              0.1111111111111111,
              "#46039f"
             ],
             [
              0.2222222222222222,
              "#7201a8"
             ],
             [
              0.3333333333333333,
              "#9c179e"
             ],
             [
              0.4444444444444444,
              "#bd3786"
             ],
             [
              0.5555555555555556,
              "#d8576b"
             ],
             [
              0.6666666666666666,
              "#ed7953"
             ],
             [
              0.7777777777777778,
              "#fb9f3a"
             ],
             [
              0.8888888888888888,
              "#fdca26"
             ],
             [
              1,
              "#f0f921"
             ]
            ],
            "type": "contour"
           }
          ],
          "contourcarpet": [
           {
            "colorbar": {
             "outlinewidth": 0,
             "ticks": ""
            },
            "type": "contourcarpet"
           }
          ],
          "heatmap": [
           {
            "colorbar": {
             "outlinewidth": 0,
             "ticks": ""
            },
            "colorscale": [
             [
              0,
              "#0d0887"
             ],
             [
              0.1111111111111111,
              "#46039f"
             ],
             [
              0.2222222222222222,
              "#7201a8"
             ],
             [
              0.3333333333333333,
              "#9c179e"
             ],
             [
              0.4444444444444444,
              "#bd3786"
             ],
             [
              0.5555555555555556,
              "#d8576b"
             ],
             [
              0.6666666666666666,
              "#ed7953"
             ],
             [
              0.7777777777777778,
              "#fb9f3a"
             ],
             [
              0.8888888888888888,
              "#fdca26"
             ],
             [
              1,
              "#f0f921"
             ]
            ],
            "type": "heatmap"
           }
          ],
          "heatmapgl": [
           {
            "colorbar": {
             "outlinewidth": 0,
             "ticks": ""
            },
            "colorscale": [
             [
              0,
              "#0d0887"
             ],
             [
              0.1111111111111111,
              "#46039f"
             ],
             [
              0.2222222222222222,
              "#7201a8"
             ],
             [
              0.3333333333333333,
              "#9c179e"
             ],
             [
              0.4444444444444444,
              "#bd3786"
             ],
             [
              0.5555555555555556,
              "#d8576b"
             ],
             [
              0.6666666666666666,
              "#ed7953"
             ],
             [
              0.7777777777777778,
              "#fb9f3a"
             ],
             [
              0.8888888888888888,
              "#fdca26"
             ],
             [
              1,
              "#f0f921"
             ]
            ],
            "type": "heatmapgl"
           }
          ],
          "histogram": [
           {
            "marker": {
             "colorbar": {
              "outlinewidth": 0,
              "ticks": ""
             }
            },
            "type": "histogram"
           }
          ],
          "histogram2d": [
           {
            "colorbar": {
             "outlinewidth": 0,
             "ticks": ""
            },
            "colorscale": [
             [
              0,
              "#0d0887"
             ],
             [
              0.1111111111111111,
              "#46039f"
             ],
             [
              0.2222222222222222,
              "#7201a8"
             ],
             [
              0.3333333333333333,
              "#9c179e"
             ],
             [
              0.4444444444444444,
              "#bd3786"
             ],
             [
              0.5555555555555556,
              "#d8576b"
             ],
             [
              0.6666666666666666,
              "#ed7953"
             ],
             [
              0.7777777777777778,
              "#fb9f3a"
             ],
             [
              0.8888888888888888,
              "#fdca26"
             ],
             [
              1,
              "#f0f921"
             ]
            ],
            "type": "histogram2d"
           }
          ],
          "histogram2dcontour": [
           {
            "colorbar": {
             "outlinewidth": 0,
             "ticks": ""
            },
            "colorscale": [
             [
              0,
              "#0d0887"
             ],
             [
              0.1111111111111111,
              "#46039f"
             ],
             [
              0.2222222222222222,
              "#7201a8"
             ],
             [
              0.3333333333333333,
              "#9c179e"
             ],
             [
              0.4444444444444444,
              "#bd3786"
             ],
             [
              0.5555555555555556,
              "#d8576b"
             ],
             [
              0.6666666666666666,
              "#ed7953"
             ],
             [
              0.7777777777777778,
              "#fb9f3a"
             ],
             [
              0.8888888888888888,
              "#fdca26"
             ],
             [
              1,
              "#f0f921"
             ]
            ],
            "type": "histogram2dcontour"
           }
          ],
          "mesh3d": [
           {
            "colorbar": {
             "outlinewidth": 0,
             "ticks": ""
            },
            "type": "mesh3d"
           }
          ],
          "parcoords": [
           {
            "line": {
             "colorbar": {
              "outlinewidth": 0,
              "ticks": ""
             }
            },
            "type": "parcoords"
           }
          ],
          "pie": [
           {
            "automargin": true,
            "type": "pie"
           }
          ],
          "scatter": [
           {
            "marker": {
             "colorbar": {
              "outlinewidth": 0,
              "ticks": ""
             }
            },
            "type": "scatter"
           }
          ],
          "scatter3d": [
           {
            "line": {
             "colorbar": {
              "outlinewidth": 0,
              "ticks": ""
             }
            },
            "marker": {
             "colorbar": {
              "outlinewidth": 0,
              "ticks": ""
             }
            },
            "type": "scatter3d"
           }
          ],
          "scattercarpet": [
           {
            "marker": {
             "colorbar": {
              "outlinewidth": 0,
              "ticks": ""
             }
            },
            "type": "scattercarpet"
           }
          ],
          "scattergeo": [
           {
            "marker": {
             "colorbar": {
              "outlinewidth": 0,
              "ticks": ""
             }
            },
            "type": "scattergeo"
           }
          ],
          "scattergl": [
           {
            "marker": {
             "colorbar": {
              "outlinewidth": 0,
              "ticks": ""
             }
            },
            "type": "scattergl"
           }
          ],
          "scattermapbox": [
           {
            "marker": {
             "colorbar": {
              "outlinewidth": 0,
              "ticks": ""
             }
            },
            "type": "scattermapbox"
           }
          ],
          "scatterpolar": [
           {
            "marker": {
             "colorbar": {
              "outlinewidth": 0,
              "ticks": ""
             }
            },
            "type": "scatterpolar"
           }
          ],
          "scatterpolargl": [
           {
            "marker": {
             "colorbar": {
              "outlinewidth": 0,
              "ticks": ""
             }
            },
            "type": "scatterpolargl"
           }
          ],
          "scatterternary": [
           {
            "marker": {
             "colorbar": {
              "outlinewidth": 0,
              "ticks": ""
             }
            },
            "type": "scatterternary"
           }
          ],
          "surface": [
           {
            "colorbar": {
             "outlinewidth": 0,
             "ticks": ""
            },
            "colorscale": [
             [
              0,
              "#0d0887"
             ],
             [
              0.1111111111111111,
              "#46039f"
             ],
             [
              0.2222222222222222,
              "#7201a8"
             ],
             [
              0.3333333333333333,
              "#9c179e"
             ],
             [
              0.4444444444444444,
              "#bd3786"
             ],
             [
              0.5555555555555556,
              "#d8576b"
             ],
             [
              0.6666666666666666,
              "#ed7953"
             ],
             [
              0.7777777777777778,
              "#fb9f3a"
             ],
             [
              0.8888888888888888,
              "#fdca26"
             ],
             [
              1,
              "#f0f921"
             ]
            ],
            "type": "surface"
           }
          ],
          "table": [
           {
            "cells": {
             "fill": {
              "color": "#EBF0F8"
             },
             "line": {
              "color": "white"
             }
            },
            "header": {
             "fill": {
              "color": "#C8D4E3"
             },
             "line": {
              "color": "white"
             }
            },
            "type": "table"
           }
          ]
         },
         "layout": {
          "annotationdefaults": {
           "arrowcolor": "#2a3f5f",
           "arrowhead": 0,
           "arrowwidth": 1
          },
          "coloraxis": {
           "colorbar": {
            "outlinewidth": 0,
            "ticks": ""
           }
          },
          "colorscale": {
           "diverging": [
            [
             0,
             "#8e0152"
            ],
            [
             0.1,
             "#c51b7d"
            ],
            [
             0.2,
             "#de77ae"
            ],
            [
             0.3,
             "#f1b6da"
            ],
            [
             0.4,
             "#fde0ef"
            ],
            [
             0.5,
             "#f7f7f7"
            ],
            [
             0.6,
             "#e6f5d0"
            ],
            [
             0.7,
             "#b8e186"
            ],
            [
             0.8,
             "#7fbc41"
            ],
            [
             0.9,
             "#4d9221"
            ],
            [
             1,
             "#276419"
            ]
           ],
           "sequential": [
            [
             0,
             "#0d0887"
            ],
            [
             0.1111111111111111,
             "#46039f"
            ],
            [
             0.2222222222222222,
             "#7201a8"
            ],
            [
             0.3333333333333333,
             "#9c179e"
            ],
            [
             0.4444444444444444,
             "#bd3786"
            ],
            [
             0.5555555555555556,
             "#d8576b"
            ],
            [
             0.6666666666666666,
             "#ed7953"
            ],
            [
             0.7777777777777778,
             "#fb9f3a"
            ],
            [
             0.8888888888888888,
             "#fdca26"
            ],
            [
             1,
             "#f0f921"
            ]
           ],
           "sequentialminus": [
            [
             0,
             "#0d0887"
            ],
            [
             0.1111111111111111,
             "#46039f"
            ],
            [
             0.2222222222222222,
             "#7201a8"
            ],
            [
             0.3333333333333333,
             "#9c179e"
            ],
            [
             0.4444444444444444,
             "#bd3786"
            ],
            [
             0.5555555555555556,
             "#d8576b"
            ],
            [
             0.6666666666666666,
             "#ed7953"
            ],
            [
             0.7777777777777778,
             "#fb9f3a"
            ],
            [
             0.8888888888888888,
             "#fdca26"
            ],
            [
             1,
             "#f0f921"
            ]
           ]
          },
          "colorway": [
           "#636efa",
           "#EF553B",
           "#00cc96",
           "#ab63fa",
           "#FFA15A",
           "#19d3f3",
           "#FF6692",
           "#B6E880",
           "#FF97FF",
           "#FECB52"
          ],
          "font": {
           "color": "#2a3f5f"
          },
          "geo": {
           "bgcolor": "white",
           "lakecolor": "white",
           "landcolor": "white",
           "showlakes": true,
           "showland": true,
           "subunitcolor": "#C8D4E3"
          },
          "hoverlabel": {
           "align": "left"
          },
          "hovermode": "closest",
          "mapbox": {
           "style": "light"
          },
          "paper_bgcolor": "white",
          "plot_bgcolor": "white",
          "polar": {
           "angularaxis": {
            "gridcolor": "#EBF0F8",
            "linecolor": "#EBF0F8",
            "ticks": ""
           },
           "bgcolor": "white",
           "radialaxis": {
            "gridcolor": "#EBF0F8",
            "linecolor": "#EBF0F8",
            "ticks": ""
           }
          },
          "scene": {
           "xaxis": {
            "backgroundcolor": "white",
            "gridcolor": "#DFE8F3",
            "gridwidth": 2,
            "linecolor": "#EBF0F8",
            "showbackground": true,
            "ticks": "",
            "zerolinecolor": "#EBF0F8"
           },
           "yaxis": {
            "backgroundcolor": "white",
            "gridcolor": "#DFE8F3",
            "gridwidth": 2,
            "linecolor": "#EBF0F8",
            "showbackground": true,
            "ticks": "",
            "zerolinecolor": "#EBF0F8"
           },
           "zaxis": {
            "backgroundcolor": "white",
            "gridcolor": "#DFE8F3",
            "gridwidth": 2,
            "linecolor": "#EBF0F8",
            "showbackground": true,
            "ticks": "",
            "zerolinecolor": "#EBF0F8"
           }
          },
          "shapedefaults": {
           "line": {
            "color": "#2a3f5f"
           }
          },
          "ternary": {
           "aaxis": {
            "gridcolor": "#DFE8F3",
            "linecolor": "#A2B1C6",
            "ticks": ""
           },
           "baxis": {
            "gridcolor": "#DFE8F3",
            "linecolor": "#A2B1C6",
            "ticks": ""
           },
           "bgcolor": "white",
           "caxis": {
            "gridcolor": "#DFE8F3",
            "linecolor": "#A2B1C6",
            "ticks": ""
           }
          },
          "title": {
           "x": 0.05
          },
          "xaxis": {
           "automargin": true,
           "gridcolor": "#EBF0F8",
           "linecolor": "#EBF0F8",
           "ticks": "",
           "title": {
            "standoff": 15
           },
           "zerolinecolor": "#EBF0F8",
           "zerolinewidth": 2
          },
          "yaxis": {
           "automargin": true,
           "gridcolor": "#EBF0F8",
           "linecolor": "#EBF0F8",
           "ticks": "",
           "title": {
            "standoff": 15
           },
           "zerolinecolor": "#EBF0F8",
           "zerolinewidth": 2
          }
         }
        },
        "title": {
         "text": "<b>Shootings By Gender</b>"
        }
       }
      },
      "text/html": [
       "<div>\n",
       "        \n",
       "        \n",
       "            <div id=\"d0aa9464-a723-453f-a2cb-7d0f7c0f6f80\" class=\"plotly-graph-div\" style=\"height:525px; width:100%;\"></div>\n",
       "            <script type=\"text/javascript\">\n",
       "                require([\"plotly\"], function(Plotly) {\n",
       "                    window.PLOTLYENV=window.PLOTLYENV || {};\n",
       "                    \n",
       "                if (document.getElementById(\"d0aa9464-a723-453f-a2cb-7d0f7c0f6f80\")) {\n",
       "                    Plotly.newPlot(\n",
       "                        'd0aa9464-a723-453f-a2cb-7d0f7c0f6f80',\n",
       "                        [{\"domain\": {\"x\": [0.0, 1.0], \"y\": [0.0, 1.0]}, \"hole\": 0.5, \"hoverlabel\": {\"namelength\": 0}, \"hovertemplate\": \"gender=%{label}<br>shootings=%{value}\", \"labels\": [\"Female\", \"Male\", \"Male & Female\"], \"legendgroup\": \"\", \"marker\": {\"colors\": [\"#ffb53a\", \"#e02a26\", \"#7c7c7c\"]}, \"name\": \"\", \"showlegend\": true, \"textinfo\": \"percent+label\", \"textposition\": \"outside\", \"type\": \"pie\", \"values\": [3, 113, 2]}],\n",
       "                        {\"legend\": {\"tracegroupgap\": 0}, \"template\": {\"data\": {\"bar\": [{\"error_x\": {\"color\": \"#2a3f5f\"}, \"error_y\": {\"color\": \"#2a3f5f\"}, \"marker\": {\"line\": {\"color\": \"white\", \"width\": 0.5}}, \"type\": \"bar\"}], \"barpolar\": [{\"marker\": {\"line\": {\"color\": \"white\", \"width\": 0.5}}, \"type\": \"barpolar\"}], \"carpet\": [{\"aaxis\": {\"endlinecolor\": \"#2a3f5f\", \"gridcolor\": \"#C8D4E3\", \"linecolor\": \"#C8D4E3\", \"minorgridcolor\": \"#C8D4E3\", \"startlinecolor\": \"#2a3f5f\"}, \"baxis\": {\"endlinecolor\": \"#2a3f5f\", \"gridcolor\": \"#C8D4E3\", \"linecolor\": \"#C8D4E3\", \"minorgridcolor\": \"#C8D4E3\", \"startlinecolor\": \"#2a3f5f\"}, \"type\": \"carpet\"}], \"choropleth\": [{\"colorbar\": {\"outlinewidth\": 0, \"ticks\": \"\"}, \"type\": \"choropleth\"}], \"contour\": [{\"colorbar\": {\"outlinewidth\": 0, \"ticks\": \"\"}, \"colorscale\": [[0.0, \"#0d0887\"], [0.1111111111111111, \"#46039f\"], [0.2222222222222222, \"#7201a8\"], [0.3333333333333333, \"#9c179e\"], [0.4444444444444444, \"#bd3786\"], [0.5555555555555556, \"#d8576b\"], [0.6666666666666666, \"#ed7953\"], [0.7777777777777778, \"#fb9f3a\"], [0.8888888888888888, \"#fdca26\"], [1.0, \"#f0f921\"]], \"type\": \"contour\"}], \"contourcarpet\": [{\"colorbar\": {\"outlinewidth\": 0, \"ticks\": \"\"}, \"type\": \"contourcarpet\"}], \"heatmap\": [{\"colorbar\": {\"outlinewidth\": 0, \"ticks\": \"\"}, \"colorscale\": [[0.0, \"#0d0887\"], [0.1111111111111111, \"#46039f\"], [0.2222222222222222, \"#7201a8\"], [0.3333333333333333, \"#9c179e\"], [0.4444444444444444, \"#bd3786\"], [0.5555555555555556, \"#d8576b\"], [0.6666666666666666, \"#ed7953\"], [0.7777777777777778, \"#fb9f3a\"], [0.8888888888888888, \"#fdca26\"], [1.0, \"#f0f921\"]], \"type\": \"heatmap\"}], \"heatmapgl\": [{\"colorbar\": {\"outlinewidth\": 0, \"ticks\": \"\"}, \"colorscale\": [[0.0, \"#0d0887\"], [0.1111111111111111, \"#46039f\"], [0.2222222222222222, \"#7201a8\"], [0.3333333333333333, \"#9c179e\"], [0.4444444444444444, \"#bd3786\"], [0.5555555555555556, \"#d8576b\"], [0.6666666666666666, \"#ed7953\"], [0.7777777777777778, \"#fb9f3a\"], [0.8888888888888888, \"#fdca26\"], [1.0, \"#f0f921\"]], \"type\": \"heatmapgl\"}], \"histogram\": [{\"marker\": {\"colorbar\": {\"outlinewidth\": 0, \"ticks\": \"\"}}, \"type\": \"histogram\"}], \"histogram2d\": [{\"colorbar\": {\"outlinewidth\": 0, \"ticks\": \"\"}, \"colorscale\": [[0.0, \"#0d0887\"], [0.1111111111111111, \"#46039f\"], [0.2222222222222222, \"#7201a8\"], [0.3333333333333333, \"#9c179e\"], [0.4444444444444444, \"#bd3786\"], [0.5555555555555556, \"#d8576b\"], [0.6666666666666666, \"#ed7953\"], [0.7777777777777778, \"#fb9f3a\"], [0.8888888888888888, \"#fdca26\"], [1.0, \"#f0f921\"]], \"type\": \"histogram2d\"}], \"histogram2dcontour\": [{\"colorbar\": {\"outlinewidth\": 0, \"ticks\": \"\"}, \"colorscale\": [[0.0, \"#0d0887\"], [0.1111111111111111, \"#46039f\"], [0.2222222222222222, \"#7201a8\"], [0.3333333333333333, \"#9c179e\"], [0.4444444444444444, \"#bd3786\"], [0.5555555555555556, \"#d8576b\"], [0.6666666666666666, \"#ed7953\"], [0.7777777777777778, \"#fb9f3a\"], [0.8888888888888888, \"#fdca26\"], [1.0, \"#f0f921\"]], \"type\": \"histogram2dcontour\"}], \"mesh3d\": [{\"colorbar\": {\"outlinewidth\": 0, \"ticks\": \"\"}, \"type\": \"mesh3d\"}], \"parcoords\": [{\"line\": {\"colorbar\": {\"outlinewidth\": 0, \"ticks\": \"\"}}, \"type\": \"parcoords\"}], \"pie\": [{\"automargin\": true, \"type\": \"pie\"}], \"scatter\": [{\"marker\": {\"colorbar\": {\"outlinewidth\": 0, \"ticks\": \"\"}}, \"type\": \"scatter\"}], \"scatter3d\": [{\"line\": {\"colorbar\": {\"outlinewidth\": 0, \"ticks\": \"\"}}, \"marker\": {\"colorbar\": {\"outlinewidth\": 0, \"ticks\": \"\"}}, \"type\": \"scatter3d\"}], \"scattercarpet\": [{\"marker\": {\"colorbar\": {\"outlinewidth\": 0, \"ticks\": \"\"}}, \"type\": \"scattercarpet\"}], \"scattergeo\": [{\"marker\": {\"colorbar\": {\"outlinewidth\": 0, \"ticks\": \"\"}}, \"type\": \"scattergeo\"}], \"scattergl\": [{\"marker\": {\"colorbar\": {\"outlinewidth\": 0, \"ticks\": \"\"}}, \"type\": \"scattergl\"}], \"scattermapbox\": [{\"marker\": {\"colorbar\": {\"outlinewidth\": 0, \"ticks\": \"\"}}, \"type\": \"scattermapbox\"}], \"scatterpolar\": [{\"marker\": {\"colorbar\": {\"outlinewidth\": 0, \"ticks\": \"\"}}, \"type\": \"scatterpolar\"}], \"scatterpolargl\": [{\"marker\": {\"colorbar\": {\"outlinewidth\": 0, \"ticks\": \"\"}}, \"type\": \"scatterpolargl\"}], \"scatterternary\": [{\"marker\": {\"colorbar\": {\"outlinewidth\": 0, \"ticks\": \"\"}}, \"type\": \"scatterternary\"}], \"surface\": [{\"colorbar\": {\"outlinewidth\": 0, \"ticks\": \"\"}, \"colorscale\": [[0.0, \"#0d0887\"], [0.1111111111111111, \"#46039f\"], [0.2222222222222222, \"#7201a8\"], [0.3333333333333333, \"#9c179e\"], [0.4444444444444444, \"#bd3786\"], [0.5555555555555556, \"#d8576b\"], [0.6666666666666666, \"#ed7953\"], [0.7777777777777778, \"#fb9f3a\"], [0.8888888888888888, \"#fdca26\"], [1.0, \"#f0f921\"]], \"type\": \"surface\"}], \"table\": [{\"cells\": {\"fill\": {\"color\": \"#EBF0F8\"}, \"line\": {\"color\": \"white\"}}, \"header\": {\"fill\": {\"color\": \"#C8D4E3\"}, \"line\": {\"color\": \"white\"}}, \"type\": \"table\"}]}, \"layout\": {\"annotationdefaults\": {\"arrowcolor\": \"#2a3f5f\", \"arrowhead\": 0, \"arrowwidth\": 1}, \"coloraxis\": {\"colorbar\": {\"outlinewidth\": 0, \"ticks\": \"\"}}, \"colorscale\": {\"diverging\": [[0, \"#8e0152\"], [0.1, \"#c51b7d\"], [0.2, \"#de77ae\"], [0.3, \"#f1b6da\"], [0.4, \"#fde0ef\"], [0.5, \"#f7f7f7\"], [0.6, \"#e6f5d0\"], [0.7, \"#b8e186\"], [0.8, \"#7fbc41\"], [0.9, \"#4d9221\"], [1, \"#276419\"]], \"sequential\": [[0.0, \"#0d0887\"], [0.1111111111111111, \"#46039f\"], [0.2222222222222222, \"#7201a8\"], [0.3333333333333333, \"#9c179e\"], [0.4444444444444444, \"#bd3786\"], [0.5555555555555556, \"#d8576b\"], [0.6666666666666666, \"#ed7953\"], [0.7777777777777778, \"#fb9f3a\"], [0.8888888888888888, \"#fdca26\"], [1.0, \"#f0f921\"]], \"sequentialminus\": [[0.0, \"#0d0887\"], [0.1111111111111111, \"#46039f\"], [0.2222222222222222, \"#7201a8\"], [0.3333333333333333, \"#9c179e\"], [0.4444444444444444, \"#bd3786\"], [0.5555555555555556, \"#d8576b\"], [0.6666666666666666, \"#ed7953\"], [0.7777777777777778, \"#fb9f3a\"], [0.8888888888888888, \"#fdca26\"], [1.0, \"#f0f921\"]]}, \"colorway\": [\"#636efa\", \"#EF553B\", \"#00cc96\", \"#ab63fa\", \"#FFA15A\", \"#19d3f3\", \"#FF6692\", \"#B6E880\", \"#FF97FF\", \"#FECB52\"], \"font\": {\"color\": \"#2a3f5f\"}, \"geo\": {\"bgcolor\": \"white\", \"lakecolor\": \"white\", \"landcolor\": \"white\", \"showlakes\": true, \"showland\": true, \"subunitcolor\": \"#C8D4E3\"}, \"hoverlabel\": {\"align\": \"left\"}, \"hovermode\": \"closest\", \"mapbox\": {\"style\": \"light\"}, \"paper_bgcolor\": \"white\", \"plot_bgcolor\": \"white\", \"polar\": {\"angularaxis\": {\"gridcolor\": \"#EBF0F8\", \"linecolor\": \"#EBF0F8\", \"ticks\": \"\"}, \"bgcolor\": \"white\", \"radialaxis\": {\"gridcolor\": \"#EBF0F8\", \"linecolor\": \"#EBF0F8\", \"ticks\": \"\"}}, \"scene\": {\"xaxis\": {\"backgroundcolor\": \"white\", \"gridcolor\": \"#DFE8F3\", \"gridwidth\": 2, \"linecolor\": \"#EBF0F8\", \"showbackground\": true, \"ticks\": \"\", \"zerolinecolor\": \"#EBF0F8\"}, \"yaxis\": {\"backgroundcolor\": \"white\", \"gridcolor\": \"#DFE8F3\", \"gridwidth\": 2, \"linecolor\": \"#EBF0F8\", \"showbackground\": true, \"ticks\": \"\", \"zerolinecolor\": \"#EBF0F8\"}, \"zaxis\": {\"backgroundcolor\": \"white\", \"gridcolor\": \"#DFE8F3\", \"gridwidth\": 2, \"linecolor\": \"#EBF0F8\", \"showbackground\": true, \"ticks\": \"\", \"zerolinecolor\": \"#EBF0F8\"}}, \"shapedefaults\": {\"line\": {\"color\": \"#2a3f5f\"}}, \"ternary\": {\"aaxis\": {\"gridcolor\": \"#DFE8F3\", \"linecolor\": \"#A2B1C6\", \"ticks\": \"\"}, \"baxis\": {\"gridcolor\": \"#DFE8F3\", \"linecolor\": \"#A2B1C6\", \"ticks\": \"\"}, \"bgcolor\": \"white\", \"caxis\": {\"gridcolor\": \"#DFE8F3\", \"linecolor\": \"#A2B1C6\", \"ticks\": \"\"}}, \"title\": {\"x\": 0.05}, \"xaxis\": {\"automargin\": true, \"gridcolor\": \"#EBF0F8\", \"linecolor\": \"#EBF0F8\", \"ticks\": \"\", \"title\": {\"standoff\": 15}, \"zerolinecolor\": \"#EBF0F8\", \"zerolinewidth\": 2}, \"yaxis\": {\"automargin\": true, \"gridcolor\": \"#EBF0F8\", \"linecolor\": \"#EBF0F8\", \"ticks\": \"\", \"title\": {\"standoff\": 15}, \"zerolinecolor\": \"#EBF0F8\", \"zerolinewidth\": 2}}}, \"title\": {\"text\": \"<b>Shootings By Gender</b>\"}},\n",
       "                        {\"responsive\": true}\n",
       "                    ).then(function(){\n",
       "                            \n",
       "var gd = document.getElementById('d0aa9464-a723-453f-a2cb-7d0f7c0f6f80');\n",
       "var x = new MutationObserver(function (mutations, observer) {{\n",
       "        var display = window.getComputedStyle(gd).display;\n",
       "        if (!display || display === 'none') {{\n",
       "            console.log([gd, 'removed!']);\n",
       "            Plotly.purge(gd);\n",
       "            observer.disconnect();\n",
       "        }}\n",
       "}});\n",
       "\n",
       "// Listen for the removal of the full notebook cells\n",
       "var notebookContainer = gd.closest('#notebook-container');\n",
       "if (notebookContainer) {{\n",
       "    x.observe(notebookContainer, {childList: true});\n",
       "}}\n",
       "\n",
       "// Listen for the clearing of the current output cell\n",
       "var outputEl = gd.closest('.output');\n",
       "if (outputEl) {{\n",
       "    x.observe(outputEl, {childList: true});\n",
       "}}\n",
       "\n",
       "                        })\n",
       "                };\n",
       "                });\n",
       "            </script>\n",
       "        </div>"
      ]
     },
     "metadata": {},
     "output_type": "display_data"
    }
   ],
   "source": [
    "plt.style.use('fivethirtyeight')\n",
    "\n",
    "colors = [\"#ffb53a\",\"#e02a26\", \"#7c7c7c\" ]\n",
    "fig = px.pie(shootings_by_gender, values='shootings', names='gender', hole = .5, title='<b>Shootings By Gender</b>', template='plotly_white'\n",
    "                                           )\n",
    "fig.update_traces(textposition='outside', textinfo='percent+label',marker=dict(colors=colors))\n",
    "fig.show()"
   ]
  },
  {
   "cell_type": "markdown",
   "metadata": {},
   "source": [
    "## 9. Were the weapons used in shootings obtained legally?"
   ]
  },
  {
   "cell_type": "code",
   "execution_count": 72,
   "metadata": {},
   "outputs": [
    {
     "name": "stdout",
     "output_type": "stream",
     "text": [
      "\n",
      "WERE THE WEAPONS OBTAINED LEGALLY?:\n"
     ]
    },
    {
     "data": {
      "text/html": [
       "<div>\n",
       "<style scoped>\n",
       "    .dataframe tbody tr th:only-of-type {\n",
       "        vertical-align: middle;\n",
       "    }\n",
       "\n",
       "    .dataframe tbody tr th {\n",
       "        vertical-align: top;\n",
       "    }\n",
       "\n",
       "    .dataframe thead th {\n",
       "        text-align: right;\n",
       "    }\n",
       "</style>\n",
       "<table border=\"1\" class=\"dataframe\">\n",
       "  <thead>\n",
       "    <tr style=\"text-align: right;\">\n",
       "      <th></th>\n",
       "      <th>answer</th>\n",
       "      <th>count</th>\n",
       "    </tr>\n",
       "  </thead>\n",
       "  <tbody>\n",
       "    <tr>\n",
       "      <th>0</th>\n",
       "      <td>Yes</td>\n",
       "      <td>81</td>\n",
       "    </tr>\n",
       "    <tr>\n",
       "      <th>1</th>\n",
       "      <td>Unknown</td>\n",
       "      <td>19</td>\n",
       "    </tr>\n",
       "    <tr>\n",
       "      <th>2</th>\n",
       "      <td>No</td>\n",
       "      <td>16</td>\n",
       "    </tr>\n",
       "    <tr>\n",
       "      <th>3</th>\n",
       "      <td>\\r\\nYes</td>\n",
       "      <td>2</td>\n",
       "    </tr>\n",
       "  </tbody>\n",
       "</table>\n",
       "</div>"
      ],
      "text/plain": [
       "    answer  count\n",
       "0      Yes     81\n",
       "1  Unknown     19\n",
       "2       No     16\n",
       "3  \\r\\nYes      2"
      ]
     },
     "execution_count": 72,
     "metadata": {},
     "output_type": "execute_result"
    }
   ],
   "source": [
    "weapons_obtained = df.weapons_obtained_legally.value_counts().reset_index()\n",
    "\n",
    "weapons_obtained.rename(columns={'index':'answer'},inplace=True)\n",
    "weapons_obtained.rename(columns={'weapons_obtained_legally':'count'},inplace=True)\n",
    "\n",
    "print(\"\\nWere the weapons obtained legally?:\".upper())\n",
    "weapons_obtained.head()"
   ]
  },
  {
   "cell_type": "markdown",
   "metadata": {},
   "source": [
    "### 70% of the weapons used in the mass shootings were obtained legally. "
   ]
  },
  {
   "cell_type": "code",
   "execution_count": 73,
   "metadata": {
    "scrolled": true
   },
   "outputs": [
    {
     "data": {
      "text/plain": [
       "Yes        68.644068\n",
       "Unknown    16.101695\n",
       "No         13.559322\n",
       "\\r\\nYes     1.694915\n",
       "Name: weapons_obtained_legally, dtype: float64"
      ]
     },
     "execution_count": 73,
     "metadata": {},
     "output_type": "execute_result"
    }
   ],
   "source": [
    "#calculate the percentage of weapons obtained legally\n",
    "percentage_weapons = df.weapons_obtained_legally.value_counts(normalize=True) * 100\n",
    "percentage_weapons"
   ]
  },
  {
   "cell_type": "markdown",
   "metadata": {},
   "source": [
    "### 9.1. Waffle Chart Visualization using Pywaffle"
   ]
  },
  {
   "cell_type": "code",
   "execution_count": 74,
   "metadata": {
    "scrolled": true
   },
   "outputs": [
    {
     "data": {
      "image/png": "[encoded data removed]",
      "text/plain": [
       "<Waffle size 720x360 with 1 Axes>"
      ]
     },
     "metadata": {},
     "output_type": "display_data"
    }
   ],
   "source": [
    "weapons = {'Yes': 70.3, 'Unknown':16.1, 'No':13.5}\n",
    "\n",
    "plt.style.use('seaborn')\n",
    "\n",
    "fig = plt.figure(\n",
    "    FigureClass=Waffle, \n",
    "    rows=5, \n",
    "    values=weapons, \n",
    "    colors=(\"#d61822\", \"#7c7c7c\", \"#FFB53A\"),\n",
    "    title={'label': 'Were the weapons obtained legally?', 'loc': 'left', 'fontsize': 22, 'pad':20},\n",
    "    labels=[\"{0} ({1}%)\".format(k, v) for k, v in weapons.items()],\n",
    "    legend={'loc': 'upper left', 'bbox_to_anchor': (1,1), 'ncol': len(data), 'fontsize': 15, 'framealpha': 0},\n",
    "    tight=False,\n",
    "    figsize=(10, 5)\n",
    ")\n",
    "fig.set_facecolor('white')\n",
    "plt.show()"
   ]
  },
  {
   "cell_type": "markdown",
   "metadata": {},
   "source": [
    "## 10. Age of the Shooters Analysis"
   ]
  },
  {
   "cell_type": "markdown",
   "metadata": {},
   "source": [
    "#### Question: What was the youngest shooter?"
   ]
  },
  {
   "cell_type": "markdown",
   "metadata": {},
   "source": [
    "The youngest shooter was <b> 11 years old</b>, named Andrew Douglas Golden. In 1998 together with Mitchell Scott Johnson, 13, two juveniles, ambushed students and teachers as they left the school and killed 5 people and wounded 10."
   ]
  },
  {
   "cell_type": "code",
   "execution_count": 75,
   "metadata": {},
   "outputs": [
    {
     "data": {
      "text/plain": [
       "11"
      ]
     },
     "execution_count": 75,
     "metadata": {},
     "output_type": "execute_result"
    }
   ],
   "source": [
    "age = df.age\n",
    "age.min() #find the lowest value in the age column"
   ]
  },
  {
   "cell_type": "code",
   "execution_count": 76,
   "metadata": {},
   "outputs": [
    {
     "data": {
      "text/html": [
       "<div>\n",
       "<style scoped>\n",
       "    .dataframe tbody tr th:only-of-type {\n",
       "        vertical-align: middle;\n",
       "    }\n",
       "\n",
       "    .dataframe tbody tr th {\n",
       "        vertical-align: top;\n",
       "    }\n",
       "\n",
       "    .dataframe thead th {\n",
       "        text-align: right;\n",
       "    }\n",
       "</style>\n",
       "<table border=\"1\" class=\"dataframe\">\n",
       "  <thead>\n",
       "    <tr style=\"text-align: right;\">\n",
       "      <th></th>\n",
       "      <th>case</th>\n",
       "      <th>date</th>\n",
       "      <th>summary</th>\n",
       "      <th>fatalities</th>\n",
       "      <th>injured</th>\n",
       "      <th>total_victims</th>\n",
       "      <th>shooting_area</th>\n",
       "      <th>age</th>\n",
       "      <th>prior_signs_mental_health_issues</th>\n",
       "      <th>weapons_obtained_legally</th>\n",
       "      <th>...</th>\n",
       "      <th>weapon_details</th>\n",
       "      <th>race</th>\n",
       "      <th>gender</th>\n",
       "      <th>latitude</th>\n",
       "      <th>longitude</th>\n",
       "      <th>type</th>\n",
       "      <th>year</th>\n",
       "      <th>state</th>\n",
       "      <th>state_code</th>\n",
       "      <th>city</th>\n",
       "    </tr>\n",
       "  </thead>\n",
       "  <tbody>\n",
       "    <tr>\n",
       "      <th>93</th>\n",
       "      <td>Westside Middle School killings</td>\n",
       "      <td>3/24/1998</td>\n",
       "      <td>Mitchell Scott Johnson, 13, and Andrew Douglas...</td>\n",
       "      <td>5</td>\n",
       "      <td>10</td>\n",
       "      <td>15</td>\n",
       "      <td>School</td>\n",
       "      <td>11</td>\n",
       "      <td>No</td>\n",
       "      <td>No</td>\n",
       "      <td>...</td>\n",
       "      <td>FIE 380, .380-caliber Star semiautomatic handg...</td>\n",
       "      <td>White</td>\n",
       "      <td>Male</td>\n",
       "      <td>35.82099</td>\n",
       "      <td>-90.668261</td>\n",
       "      <td>Mass</td>\n",
       "      <td>1998</td>\n",
       "      <td>Arkansas</td>\n",
       "      <td>AR</td>\n",
       "      <td>Jonesboro</td>\n",
       "    </tr>\n",
       "  </tbody>\n",
       "</table>\n",
       "<p>1 rows × 21 columns</p>\n",
       "</div>"
      ],
      "text/plain": [
       "                               case       date  \\\n",
       "93  Westside Middle School killings  3/24/1998   \n",
       "\n",
       "                                              summary  fatalities  injured  \\\n",
       "93  Mitchell Scott Johnson, 13, and Andrew Douglas...           5       10   \n",
       "\n",
       "    total_victims shooting_area  age prior_signs_mental_health_issues  \\\n",
       "93             15        School   11                               No   \n",
       "\n",
       "   weapons_obtained_legally  ...  \\\n",
       "93                       No  ...   \n",
       "\n",
       "                                       weapon_details   race gender  latitude  \\\n",
       "93  FIE 380, .380-caliber Star semiautomatic handg...  White   Male  35.82099   \n",
       "\n",
       "    longitude  type  year     state state_code       city  \n",
       "93 -90.668261  Mass  1998  Arkansas         AR  Jonesboro  \n",
       "\n",
       "[1 rows x 21 columns]"
      ]
     },
     "execution_count": 76,
     "metadata": {},
     "output_type": "execute_result"
    }
   ],
   "source": [
    "df[df['age'] == 11]"
   ]
  },
  {
   "cell_type": "markdown",
   "metadata": {},
   "source": [
    "#### Question: What was the oldest shooter?"
   ]
  },
  {
   "cell_type": "markdown",
   "metadata": {},
   "source": [
    "The oldest shooter William D. Baker, <b>66 years old</b>, opened fire in 2001 at his former Navistar workplace, killed 5 people and injured 4, and then commited suicide."
   ]
  },
  {
   "cell_type": "code",
   "execution_count": 77,
   "metadata": {},
   "outputs": [
    {
     "data": {
      "text/plain": [
       "66"
      ]
     },
     "execution_count": 77,
     "metadata": {},
     "output_type": "execute_result"
    }
   ],
   "source": [
    "age.max() #find the lowest value in the age column"
   ]
  },
  {
   "cell_type": "code",
   "execution_count": 78,
   "metadata": {},
   "outputs": [
    {
     "data": {
      "text/html": [
       "<div>\n",
       "<style scoped>\n",
       "    .dataframe tbody tr th:only-of-type {\n",
       "        vertical-align: middle;\n",
       "    }\n",
       "\n",
       "    .dataframe tbody tr th {\n",
       "        vertical-align: top;\n",
       "    }\n",
       "\n",
       "    .dataframe thead th {\n",
       "        text-align: right;\n",
       "    }\n",
       "</style>\n",
       "<table border=\"1\" class=\"dataframe\">\n",
       "  <thead>\n",
       "    <tr style=\"text-align: right;\">\n",
       "      <th></th>\n",
       "      <th>case</th>\n",
       "      <th>date</th>\n",
       "      <th>summary</th>\n",
       "      <th>fatalities</th>\n",
       "      <th>injured</th>\n",
       "      <th>total_victims</th>\n",
       "      <th>shooting_area</th>\n",
       "      <th>age</th>\n",
       "      <th>prior_signs_mental_health_issues</th>\n",
       "      <th>weapons_obtained_legally</th>\n",
       "      <th>...</th>\n",
       "      <th>weapon_details</th>\n",
       "      <th>race</th>\n",
       "      <th>gender</th>\n",
       "      <th>latitude</th>\n",
       "      <th>longitude</th>\n",
       "      <th>type</th>\n",
       "      <th>year</th>\n",
       "      <th>state</th>\n",
       "      <th>state_code</th>\n",
       "      <th>city</th>\n",
       "    </tr>\n",
       "  </thead>\n",
       "  <tbody>\n",
       "    <tr>\n",
       "      <th>85</th>\n",
       "      <td>Navistar shooting</td>\n",
       "      <td>2/5/2001</td>\n",
       "      <td>Fired employee William D. Baker, 66, opened fi...</td>\n",
       "      <td>5</td>\n",
       "      <td>4</td>\n",
       "      <td>9</td>\n",
       "      <td>Workplace</td>\n",
       "      <td>66</td>\n",
       "      <td>No</td>\n",
       "      <td>Yes</td>\n",
       "      <td>...</td>\n",
       "      <td>SKS 1954R, .30-caliber Winchester rifles; 12-g...</td>\n",
       "      <td>Black</td>\n",
       "      <td>Male</td>\n",
       "      <td>41.908163</td>\n",
       "      <td>-87.879908</td>\n",
       "      <td>Mass</td>\n",
       "      <td>2001</td>\n",
       "      <td>Illinois</td>\n",
       "      <td>IL</td>\n",
       "      <td>Melrose Park</td>\n",
       "    </tr>\n",
       "  </tbody>\n",
       "</table>\n",
       "<p>1 rows × 21 columns</p>\n",
       "</div>"
      ],
      "text/plain": [
       "                 case      date  \\\n",
       "85  Navistar shooting  2/5/2001   \n",
       "\n",
       "                                              summary  fatalities  injured  \\\n",
       "85  Fired employee William D. Baker, 66, opened fi...           5        4   \n",
       "\n",
       "    total_victims shooting_area  age prior_signs_mental_health_issues  \\\n",
       "85              9     Workplace   66                               No   \n",
       "\n",
       "   weapons_obtained_legally  ...  \\\n",
       "85                      Yes  ...   \n",
       "\n",
       "                                       weapon_details   race gender  \\\n",
       "85  SKS 1954R, .30-caliber Winchester rifles; 12-g...  Black   Male   \n",
       "\n",
       "     latitude  longitude  type  year     state state_code          city  \n",
       "85  41.908163 -87.879908  Mass  2001  Illinois         IL  Melrose Park  \n",
       "\n",
       "[1 rows x 21 columns]"
      ]
     },
     "execution_count": 78,
     "metadata": {},
     "output_type": "execute_result"
    }
   ],
   "source": [
    "df[df['age'] == age.max()]"
   ]
  },
  {
   "cell_type": "markdown",
   "metadata": {},
   "source": [
    "### 10.1. Age Distribution"
   ]
  },
  {
   "cell_type": "markdown",
   "metadata": {},
   "source": [
    "From the distribution below we can see that most mass killers had between 20-50 years old. \n",
    "\n",
    "<b>Most mass shooters were in their 40s.</b>"
   ]
  },
  {
   "cell_type": "code",
   "execution_count": 79,
   "metadata": {},
   "outputs": [
    {
     "data": {
      "image/png": "[encoded data removed]",
      "text/plain": [
       "<Figure size 576x396 with 1 Axes>"
      ]
     },
     "metadata": {},
     "output_type": "display_data"
    }
   ],
   "source": [
    "plt.style.use('fivethirtyeight')\n",
    "plt.title(\"Mass Shooters' Age Distribution\")\n",
    "ax = sns.distplot(age, norm_hist=True, color='#e02a26')"
   ]
  },
  {
   "cell_type": "code",
   "execution_count": 80,
   "metadata": {
    "scrolled": true
   },
   "outputs": [
    {
     "data": {
      "text/plain": [
       "Text(0, 0.5, 'count')"
      ]
     },
     "execution_count": 80,
     "metadata": {},
     "output_type": "execute_result"
    },
    {
     "data": {
      "image/png": "[encoded data removed]",
      "text/plain": [
       "<Figure size 576x396 with 1 Axes>"
      ]
     },
     "metadata": {},
     "output_type": "display_data"
    }
   ],
   "source": [
    "plt.style.use('fivethirtyeight')\n",
    "plt.hist(age, range=(0,80), color='#e02a26')\n",
    "plt.title(\"Mass Shooters' Age\")\n",
    "plt.xlabel('age')\n",
    "plt.ylabel('count')"
   ]
  },
  {
   "cell_type": "markdown",
   "metadata": {},
   "source": [
    "## 11. Shootings by Race"
   ]
  },
  {
   "cell_type": "code",
   "execution_count": 81,
   "metadata": {
    "scrolled": true
   },
   "outputs": [
    {
     "name": "stdout",
     "output_type": "stream",
     "text": [
      "\n",
      "SHOOTINGS BY RACE (1982-2020):\n"
     ]
    },
    {
     "data": {
      "text/html": [
       "<div>\n",
       "<style scoped>\n",
       "    .dataframe tbody tr th:only-of-type {\n",
       "        vertical-align: middle;\n",
       "    }\n",
       "\n",
       "    .dataframe tbody tr th {\n",
       "        vertical-align: top;\n",
       "    }\n",
       "\n",
       "    .dataframe thead th {\n",
       "        text-align: right;\n",
       "    }\n",
       "</style>\n",
       "<table border=\"1\" class=\"dataframe\">\n",
       "  <thead>\n",
       "    <tr style=\"text-align: right;\">\n",
       "      <th></th>\n",
       "      <th>race</th>\n",
       "      <th>shootings</th>\n",
       "    </tr>\n",
       "  </thead>\n",
       "  <tbody>\n",
       "    <tr>\n",
       "      <th>0</th>\n",
       "      <td>White</td>\n",
       "      <td>65</td>\n",
       "    </tr>\n",
       "    <tr>\n",
       "      <th>1</th>\n",
       "      <td>Black</td>\n",
       "      <td>21</td>\n",
       "    </tr>\n",
       "    <tr>\n",
       "      <th>2</th>\n",
       "      <td>Latino</td>\n",
       "      <td>10</td>\n",
       "    </tr>\n",
       "    <tr>\n",
       "      <th>3</th>\n",
       "      <td>Other</td>\n",
       "      <td>10</td>\n",
       "    </tr>\n",
       "    <tr>\n",
       "      <th>4</th>\n",
       "      <td>Asian</td>\n",
       "      <td>8</td>\n",
       "    </tr>\n",
       "    <tr>\n",
       "      <th>5</th>\n",
       "      <td>Native American</td>\n",
       "      <td>3</td>\n",
       "    </tr>\n",
       "    <tr>\n",
       "      <th>6</th>\n",
       "      <td>Unknown</td>\n",
       "      <td>1</td>\n",
       "    </tr>\n",
       "  </tbody>\n",
       "</table>\n",
       "</div>"
      ],
      "text/plain": [
       "              race  shootings\n",
       "0            White         65\n",
       "1            Black         21\n",
       "2           Latino         10\n",
       "3            Other         10\n",
       "4            Asian          8\n",
       "5  Native American          3\n",
       "6          Unknown          1"
      ]
     },
     "execution_count": 81,
     "metadata": {},
     "output_type": "execute_result"
    }
   ],
   "source": [
    "race = df.race.value_counts().reset_index()\n",
    "race.rename(columns={'race':'shootings','index':'race'}, inplace=True)\n",
    "print(\"\\nShootings by Race (1982-2020):\".upper())\n",
    "race"
   ]
  },
  {
   "cell_type": "code",
   "execution_count": 82,
   "metadata": {
    "scrolled": true
   },
   "outputs": [
    {
     "data": {
      "text/plain": [
       "White              55.084746\n",
       "Black              17.796610\n",
       "Latino              8.474576\n",
       "Other               8.474576\n",
       "Asian               6.779661\n",
       "Native American     2.542373\n",
       "Unknown             0.847458\n",
       "Name: race, dtype: float64"
      ]
     },
     "execution_count": 82,
     "metadata": {},
     "output_type": "execute_result"
    }
   ],
   "source": [
    "df.race.value_counts(normalize=True) * 100 #find the race percentage"
   ]
  },
  {
   "cell_type": "markdown",
   "metadata": {},
   "source": [
    "## More than half (55%) of mass shooters were white."
   ]
  },
  {
   "cell_type": "markdown",
   "metadata": {},
   "source": [
    "55% of the attackers were white, 17.7% were black and 8.4% were latino."
   ]
  },
  {
   "cell_type": "markdown",
   "metadata": {},
   "source": [
    "### 11.1 Shootings by Race | Data Visualization"
   ]
  },
  {
   "cell_type": "code",
   "execution_count": 83,
   "metadata": {},
   "outputs": [
    {
     "data": {
      "application/vnd.plotly.v1+json": {
       "config": {
        "plotlyServerURL": "https://plot.ly"
       },
       "data": [
        {
         "alignmentgroup": "True",
         "hoverlabel": {
          "namelength": 0
         },
         "hovertemplate": "race=%{x}<br>shootings=%{y}",
         "legendgroup": "",
         "marker": {
          "color": "#e02a26"
         },
         "name": "",
         "offsetgroup": "",
         "orientation": "v",
         "showlegend": false,
         "textposition": "outside",
         "texttemplate": "<b>%{y:.2}</b>",
         "type": "bar",
         "x": [
          "White",
          "Black",
          "Latino",
          "Other",
          "Asian",
          "Native American",
          "Unknown"
         ],
         "xaxis": "x",
         "y": [
          65,
          21,
          10,
          10,
          8,
          3,
          1
         ],
         "yaxis": "y"
        }
       ],
       "layout": {
        "barmode": "relative",
        "legend": {
         "tracegroupgap": 0
        },
        "margin": {
         "t": 60
        },
        "template": {
         "data": {
          "pie": [
           {
            "automargin": true,
            "type": "pie"
           }
          ]
         },
         "layout": {
          "xaxis": {
           "showgrid": true,
           "title": {
            "standoff": 15
           }
          },
          "yaxis": {
           "showgrid": true,
           "title": {
            "standoff": 15
           }
          }
         }
        },
        "title": {
         "text": "<b>Shootings by Race</b>"
        },
        "uniformtext": {
         "minsize": 8,
         "mode": "hide"
        },
        "xaxis": {
         "anchor": "y",
         "domain": [
          0,
          1
         ],
         "tick0": 0,
         "tickcolor": "#000",
         "ticklen": 4,
         "ticks": "outside",
         "tickwidth": 2,
         "title": {
          "text": "race"
         }
        },
        "yaxis": {
         "anchor": "x",
         "domain": [
          0,
          1
         ],
         "title": {
          "text": "number of incidents"
         }
        }
       }
      },
      "text/html": [
       "<div>\n",
       "        \n",
       "        \n",
       "            <div id=\"caaf427b-99a9-43f9-a604-b866404923d0\" class=\"plotly-graph-div\" style=\"height:525px; width:100%;\"></div>\n",
       "            <script type=\"text/javascript\">\n",
       "                require([\"plotly\"], function(Plotly) {\n",
       "                    window.PLOTLYENV=window.PLOTLYENV || {};\n",
       "                    \n",
       "                if (document.getElementById(\"caaf427b-99a9-43f9-a604-b866404923d0\")) {\n",
       "                    Plotly.newPlot(\n",
       "                        'caaf427b-99a9-43f9-a604-b866404923d0',\n",
       "                        [{\"alignmentgroup\": \"True\", \"hoverlabel\": {\"namelength\": 0}, \"hovertemplate\": \"race=%{x}<br>shootings=%{y}\", \"legendgroup\": \"\", \"marker\": {\"color\": \"#e02a26\"}, \"name\": \"\", \"offsetgroup\": \"\", \"orientation\": \"v\", \"showlegend\": false, \"textposition\": \"outside\", \"texttemplate\": \"<b>%{y:.2}</b>\", \"type\": \"bar\", \"x\": [\"White\", \"Black\", \"Latino\", \"Other\", \"Asian\", \"Native American\", \"Unknown\"], \"xaxis\": \"x\", \"y\": [65, 21, 10, 10, 8, 3, 1], \"yaxis\": \"y\"}],\n",
       "                        {\"barmode\": \"relative\", \"legend\": {\"tracegroupgap\": 0}, \"margin\": {\"t\": 60}, \"template\": {\"data\": {\"pie\": [{\"automargin\": true, \"type\": \"pie\"}]}, \"layout\": {\"xaxis\": {\"showgrid\": true, \"title\": {\"standoff\": 15}}, \"yaxis\": {\"showgrid\": true, \"title\": {\"standoff\": 15}}}}, \"title\": {\"text\": \"<b>Shootings by Race</b>\"}, \"uniformtext\": {\"minsize\": 8, \"mode\": \"hide\"}, \"xaxis\": {\"anchor\": \"y\", \"domain\": [0.0, 1.0], \"tick0\": 0, \"tickcolor\": \"#000\", \"ticklen\": 4, \"ticks\": \"outside\", \"tickwidth\": 2, \"title\": {\"text\": \"race\"}}, \"yaxis\": {\"anchor\": \"x\", \"domain\": [0.0, 1.0], \"title\": {\"text\": \"number of incidents\"}}},\n",
       "                        {\"responsive\": true}\n",
       "                    ).then(function(){\n",
       "                            \n",
       "var gd = document.getElementById('caaf427b-99a9-43f9-a604-b866404923d0');\n",
       "var x = new MutationObserver(function (mutations, observer) {{\n",
       "        var display = window.getComputedStyle(gd).display;\n",
       "        if (!display || display === 'none') {{\n",
       "            console.log([gd, 'removed!']);\n",
       "            Plotly.purge(gd);\n",
       "            observer.disconnect();\n",
       "        }}\n",
       "}});\n",
       "\n",
       "// Listen for the removal of the full notebook cells\n",
       "var notebookContainer = gd.closest('#notebook-container');\n",
       "if (notebookContainer) {{\n",
       "    x.observe(notebookContainer, {childList: true});\n",
       "}}\n",
       "\n",
       "// Listen for the clearing of the current output cell\n",
       "var outputEl = gd.closest('.output');\n",
       "if (outputEl) {{\n",
       "    x.observe(outputEl, {childList: true});\n",
       "}}\n",
       "\n",
       "                        })\n",
       "                };\n",
       "                });\n",
       "            </script>\n",
       "        </div>"
      ]
     },
     "metadata": {},
     "output_type": "display_data"
    }
   ],
   "source": [
    "fig = px.bar(race, x='race', y='shootings')\n",
    "\n",
    "fig.update_traces(texttemplate='<b>%{y:.2}</b>',  marker_color='#e02a26',textposition='outside')\n",
    "\n",
    "fig.update_layout(uniformtext_minsize=8, uniformtext_mode='hide', yaxis_title=\"number of incidents\", title='<b>Shootings by Race</b>',\n",
    "    xaxis_title=\"race\",\n",
    "        xaxis=dict(\n",
    "        #tickmode='linear',\n",
    "        ticks='outside',\n",
    "        tick0=0,\n",
    "        ticklen=4,\n",
    "        tickwidth=2,\n",
    "        tickcolor='#000'\n",
    "    ), \n",
    "        template='gridon')\n",
    "\n",
    "fig.show()\n"
   ]
  },
  {
   "cell_type": "markdown",
   "metadata": {},
   "source": [
    "## 12. Shooting Area "
   ]
  },
  {
   "cell_type": "markdown",
   "metadata": {},
   "source": [
    "#### Question: How many school shootings have been since 1982?"
   ]
  },
  {
   "cell_type": "markdown",
   "metadata": {},
   "source": [
    "There were 16 school shootings since 1982. "
   ]
  },
  {
   "cell_type": "code",
   "execution_count": 84,
   "metadata": {},
   "outputs": [
    {
     "data": {
      "application/vnd.plotly.v1+json": {
       "config": {
        "plotlyServerURL": "https://plot.ly"
       },
       "data": [
        {
         "alignmentgroup": "True",
         "hoverlabel": {
          "namelength": 0
         },
         "hovertemplate": "area=%{x}<br>incidents=%{y}",
         "legendgroup": "",
         "marker": {
          "color": "#e02a26"
         },
         "name": "",
         "offsetgroup": "",
         "orientation": "v",
         "showlegend": false,
         "textposition": "outside",
         "texttemplate": "<b>%{y:.2}</b>",
         "type": "bar",
         "x": [
          "Other",
          "Workplace",
          "School",
          "Military",
          "Religious",
          "Restaurant/Cafe",
          "Club",
          "Shopping Mall/Store",
          "Festival",
          "Other\r\n",
          "Apartment",
          "\r\nWorkplace",
          "Market",
          "Nursing Home"
         ],
         "xaxis": "x",
         "y": [
          40,
          32,
          16,
          5,
          5,
          5,
          3,
          3,
          2,
          2,
          2,
          1,
          1,
          1
         ],
         "yaxis": "y"
        }
       ],
       "layout": {
        "barmode": "relative",
        "legend": {
         "tracegroupgap": 0
        },
        "margin": {
         "t": 60
        },
        "template": {
         "data": {
          "bar": [
           {
            "error_x": {
             "color": "#2a3f5f"
            },
            "error_y": {
             "color": "#2a3f5f"
            },
            "marker": {
             "line": {
              "color": "#E5ECF6",
              "width": 0.5
             }
            },
            "type": "bar"
           }
          ],
          "barpolar": [
           {
            "marker": {
             "line": {
              "color": "#E5ECF6",
              "width": 0.5
             }
            },
            "type": "barpolar"
           }
          ],
          "carpet": [
           {
            "aaxis": {
             "endlinecolor": "#2a3f5f",
             "gridcolor": "white",
             "linecolor": "white",
             "minorgridcolor": "white",
             "startlinecolor": "#2a3f5f"
            },
            "baxis": {
             "endlinecolor": "#2a3f5f",
             "gridcolor": "white",
             "linecolor": "white",
             "minorgridcolor": "white",
             "startlinecolor": "#2a3f5f"
            },
            "type": "carpet"
           }
          ],
          "choropleth": [
           {
            "colorbar": {
             "outlinewidth": 0,
             "ticks": ""
            },
            "type": "choropleth"
           }
          ],
          "contour": [
           {
            "colorbar": {
             "outlinewidth": 0,
             "ticks": ""
            },
            "colorscale": [
             [
              0,
              "#0d0887"
             ],
             [
              0.1111111111111111,
              "#46039f"
             ],
             [
              0.2222222222222222,
              "#7201a8"
             ],
             [
              0.3333333333333333,
              "#9c179e"
             ],
             [
              0.4444444444444444,
              "#bd3786"
             ],
             [
              0.5555555555555556,
              "#d8576b"
             ],
             [
              0.6666666666666666,
              "#ed7953"
             ],
             [
              0.7777777777777778,
              "#fb9f3a"
             ],
             [
              0.8888888888888888,
              "#fdca26"
             ],
             [
              1,
              "#f0f921"
             ]
            ],
            "type": "contour"
           }
          ],
          "contourcarpet": [
           {
            "colorbar": {
             "outlinewidth": 0,
             "ticks": ""
            },
            "type": "contourcarpet"
           }
          ],
          "heatmap": [
           {
            "colorbar": {
             "outlinewidth": 0,
             "ticks": ""
            },
            "colorscale": [
             [
              0,
              "#0d0887"
             ],
             [
              0.1111111111111111,
              "#46039f"
             ],
             [
              0.2222222222222222,
              "#7201a8"
             ],
             [
              0.3333333333333333,
              "#9c179e"
             ],
             [
              0.4444444444444444,
              "#bd3786"
             ],
             [
              0.5555555555555556,
              "#d8576b"
             ],
             [
              0.6666666666666666,
              "#ed7953"
             ],
             [
              0.7777777777777778,
              "#fb9f3a"
             ],
             [
              0.8888888888888888,
              "#fdca26"
             ],
             [
              1,
              "#f0f921"
             ]
            ],
            "type": "heatmap"
           }
          ],
          "heatmapgl": [
           {
            "colorbar": {
             "outlinewidth": 0,
             "ticks": ""
            },
            "colorscale": [
             [
              0,
              "#0d0887"
             ],
             [
              0.1111111111111111,
              "#46039f"
             ],
             [
              0.2222222222222222,
              "#7201a8"
             ],
             [
              0.3333333333333333,
              "#9c179e"
             ],
             [
              0.4444444444444444,
              "#bd3786"
             ],
             [
              0.5555555555555556,
              "#d8576b"
             ],
             [
              0.6666666666666666,
              "#ed7953"
             ],
             [
              0.7777777777777778,
              "#fb9f3a"
             ],
             [
              0.8888888888888888,
              "#fdca26"
             ],
             [
              1,
              "#f0f921"
             ]
            ],
            "type": "heatmapgl"
           }
          ],
          "histogram": [
           {
            "marker": {
             "colorbar": {
              "outlinewidth": 0,
              "ticks": ""
             }
            },
            "type": "histogram"
           }
          ],
          "histogram2d": [
           {
            "colorbar": {
             "outlinewidth": 0,
             "ticks": ""
            },
            "colorscale": [
             [
              0,
              "#0d0887"
             ],
             [
              0.1111111111111111,
              "#46039f"
             ],
             [
              0.2222222222222222,
              "#7201a8"
             ],
             [
              0.3333333333333333,
              "#9c179e"
             ],
             [
              0.4444444444444444,
              "#bd3786"
             ],
             [
              0.5555555555555556,
              "#d8576b"
             ],
             [
              0.6666666666666666,
              "#ed7953"
             ],
             [
              0.7777777777777778,
              "#fb9f3a"
             ],
             [
              0.8888888888888888,
              "#fdca26"
             ],
             [
              1,
              "#f0f921"
             ]
            ],
            "type": "histogram2d"
           }
          ],
          "histogram2dcontour": [
           {
            "colorbar": {
             "outlinewidth": 0,
             "ticks": ""
            },
            "colorscale": [
             [
              0,
              "#0d0887"
             ],
             [
              0.1111111111111111,
              "#46039f"
             ],
             [
              0.2222222222222222,
              "#7201a8"
             ],
             [
              0.3333333333333333,
              "#9c179e"
             ],
             [
              0.4444444444444444,
              "#bd3786"
             ],
             [
              0.5555555555555556,
              "#d8576b"
             ],
             [
              0.6666666666666666,
              "#ed7953"
             ],
             [
              0.7777777777777778,
              "#fb9f3a"
             ],
             [
              0.8888888888888888,
              "#fdca26"
             ],
             [
              1,
              "#f0f921"
             ]
            ],
            "type": "histogram2dcontour"
           }
          ],
          "mesh3d": [
           {
            "colorbar": {
             "outlinewidth": 0,
             "ticks": ""
            },
            "type": "mesh3d"
           }
          ],
          "parcoords": [
           {
            "line": {
             "colorbar": {
              "outlinewidth": 0,
              "ticks": ""
             }
            },
            "type": "parcoords"
           }
          ],
          "pie": [
           {
            "automargin": true,
            "type": "pie"
           }
          ],
          "scatter": [
           {
            "marker": {
             "colorbar": {
              "outlinewidth": 0,
              "ticks": ""
             }
            },
            "type": "scatter"
           }
          ],
          "scatter3d": [
           {
            "line": {
             "colorbar": {
              "outlinewidth": 0,
              "ticks": ""
             }
            },
            "marker": {
             "colorbar": {
              "outlinewidth": 0,
              "ticks": ""
             }
            },
            "type": "scatter3d"
           }
          ],
          "scattercarpet": [
           {
            "marker": {
             "colorbar": {
              "outlinewidth": 0,
              "ticks": ""
             }
            },
            "type": "scattercarpet"
           }
          ],
          "scattergeo": [
           {
            "marker": {
             "colorbar": {
              "outlinewidth": 0,
              "ticks": ""
             }
            },
            "type": "scattergeo"
           }
          ],
          "scattergl": [
           {
            "marker": {
             "colorbar": {
              "outlinewidth": 0,
              "ticks": ""
             }
            },
            "type": "scattergl"
           }
          ],
          "scattermapbox": [
           {
            "marker": {
             "colorbar": {
              "outlinewidth": 0,
              "ticks": ""
             }
            },
            "type": "scattermapbox"
           }
          ],
          "scatterpolar": [
           {
            "marker": {
             "colorbar": {
              "outlinewidth": 0,
              "ticks": ""
             }
            },
            "type": "scatterpolar"
           }
          ],
          "scatterpolargl": [
           {
            "marker": {
             "colorbar": {
              "outlinewidth": 0,
              "ticks": ""
             }
            },
            "type": "scatterpolargl"
           }
          ],
          "scatterternary": [
           {
            "marker": {
             "colorbar": {
              "outlinewidth": 0,
              "ticks": ""
             }
            },
            "type": "scatterternary"
           }
          ],
          "surface": [
           {
            "colorbar": {
             "outlinewidth": 0,
             "ticks": ""
            },
            "colorscale": [
             [
              0,
              "#0d0887"
             ],
             [
              0.1111111111111111,
              "#46039f"
             ],
             [
              0.2222222222222222,
              "#7201a8"
             ],
             [
              0.3333333333333333,
              "#9c179e"
             ],
             [
              0.4444444444444444,
              "#bd3786"
             ],
             [
              0.5555555555555556,
              "#d8576b"
             ],
             [
              0.6666666666666666,
              "#ed7953"
             ],
             [
              0.7777777777777778,
              "#fb9f3a"
             ],
             [
              0.8888888888888888,
              "#fdca26"
             ],
             [
              1,
              "#f0f921"
             ]
            ],
            "type": "surface"
           }
          ],
          "table": [
           {
            "cells": {
             "fill": {
              "color": "#EBF0F8"
             },
             "line": {
              "color": "white"
             }
            },
            "header": {
             "fill": {
              "color": "#C8D4E3"
             },
             "line": {
              "color": "white"
             }
            },
            "type": "table"
           }
          ]
         },
         "layout": {
          "annotationdefaults": {
           "arrowcolor": "#2a3f5f",
           "arrowhead": 0,
           "arrowwidth": 1
          },
          "coloraxis": {
           "colorbar": {
            "outlinewidth": 0,
            "ticks": ""
           }
          },
          "colorscale": {
           "diverging": [
            [
             0,
             "#8e0152"
            ],
            [
             0.1,
             "#c51b7d"
            ],
            [
             0.2,
             "#de77ae"
            ],
            [
             0.3,
             "#f1b6da"
            ],
            [
             0.4,
             "#fde0ef"
            ],
            [
             0.5,
             "#f7f7f7"
            ],
            [
             0.6,
             "#e6f5d0"
            ],
            [
             0.7,
             "#b8e186"
            ],
            [
             0.8,
             "#7fbc41"
            ],
            [
             0.9,
             "#4d9221"
            ],
            [
             1,
             "#276419"
            ]
           ],
           "sequential": [
            [
             0,
             "#0d0887"
            ],
            [
             0.1111111111111111,
             "#46039f"
            ],
            [
             0.2222222222222222,
             "#7201a8"
            ],
            [
             0.3333333333333333,
             "#9c179e"
            ],
            [
             0.4444444444444444,
             "#bd3786"
            ],
            [
             0.5555555555555556,
             "#d8576b"
            ],
            [
             0.6666666666666666,
             "#ed7953"
            ],
            [
             0.7777777777777778,
             "#fb9f3a"
            ],
            [
             0.8888888888888888,
             "#fdca26"
            ],
            [
             1,
             "#f0f921"
            ]
           ],
           "sequentialminus": [
            [
             0,
             "#0d0887"
            ],
            [
             0.1111111111111111,
             "#46039f"
            ],
            [
             0.2222222222222222,
             "#7201a8"
            ],
            [
             0.3333333333333333,
             "#9c179e"
            ],
            [
             0.4444444444444444,
             "#bd3786"
            ],
            [
             0.5555555555555556,
             "#d8576b"
            ],
            [
             0.6666666666666666,
             "#ed7953"
            ],
            [
             0.7777777777777778,
             "#fb9f3a"
            ],
            [
             0.8888888888888888,
             "#fdca26"
            ],
            [
             1,
             "#f0f921"
            ]
           ]
          },
          "colorway": [
           "#636efa",
           "#EF553B",
           "#00cc96",
           "#ab63fa",
           "#FFA15A",
           "#19d3f3",
           "#FF6692",
           "#B6E880",
           "#FF97FF",
           "#FECB52"
          ],
          "font": {
           "color": "#2a3f5f"
          },
          "geo": {
           "bgcolor": "white",
           "lakecolor": "white",
           "landcolor": "#E5ECF6",
           "showlakes": true,
           "showland": true,
           "subunitcolor": "white"
          },
          "hoverlabel": {
           "align": "left"
          },
          "hovermode": "closest",
          "mapbox": {
           "style": "light"
          },
          "paper_bgcolor": "white",
          "plot_bgcolor": "#E5ECF6",
          "polar": {
           "angularaxis": {
            "gridcolor": "white",
            "linecolor": "white",
            "ticks": ""
           },
           "bgcolor": "#E5ECF6",
           "radialaxis": {
            "gridcolor": "white",
            "linecolor": "white",
            "ticks": ""
           }
          },
          "scene": {
           "xaxis": {
            "backgroundcolor": "#E5ECF6",
            "gridcolor": "white",
            "gridwidth": 2,
            "linecolor": "white",
            "showbackground": true,
            "ticks": "",
            "zerolinecolor": "white"
           },
           "yaxis": {
            "backgroundcolor": "#E5ECF6",
            "gridcolor": "white",
            "gridwidth": 2,
            "linecolor": "white",
            "showbackground": true,
            "ticks": "",
            "zerolinecolor": "white"
           },
           "zaxis": {
            "backgroundcolor": "#E5ECF6",
            "gridcolor": "white",
            "gridwidth": 2,
            "linecolor": "white",
            "showbackground": true,
            "ticks": "",
            "zerolinecolor": "white"
           }
          },
          "shapedefaults": {
           "line": {
            "color": "#2a3f5f"
           }
          },
          "ternary": {
           "aaxis": {
            "gridcolor": "white",
            "linecolor": "white",
            "ticks": ""
           },
           "baxis": {
            "gridcolor": "white",
            "linecolor": "white",
            "ticks": ""
           },
           "bgcolor": "#E5ECF6",
           "caxis": {
            "gridcolor": "white",
            "linecolor": "white",
            "ticks": ""
           }
          },
          "title": {
           "x": 0.05
          },
          "xaxis": {
           "automargin": true,
           "gridcolor": "white",
           "linecolor": "white",
           "ticks": "",
           "title": {
            "standoff": 15
           },
           "zerolinecolor": "white",
           "zerolinewidth": 2
          },
          "yaxis": {
           "automargin": true,
           "gridcolor": "white",
           "linecolor": "white",
           "ticks": "",
           "title": {
            "standoff": 15
           },
           "zerolinecolor": "white",
           "zerolinewidth": 2
          }
         }
        },
        "title": {
         "text": "Shootings Incident Locations"
        },
        "uniformtext": {
         "minsize": 8,
         "mode": "hide"
        },
        "xaxis": {
         "anchor": "y",
         "domain": [
          0,
          1
         ],
         "tick0": 0,
         "tickcolor": "#000",
         "ticklen": 4,
         "ticks": "outside",
         "tickwidth": 2,
         "title": {
          "text": "shooting area"
         }
        },
        "yaxis": {
         "anchor": "x",
         "domain": [
          0,
          1
         ],
         "title": {
          "text": "number of incidents"
         }
        }
       }
      },
      "text/html": [
       "<div>\n",
       "        \n",
       "        \n",
       "            <div id=\"1a088d43-d2e6-4adb-806b-2c3f2cf8783b\" class=\"plotly-graph-div\" style=\"height:525px; width:100%;\"></div>\n",
       "            <script type=\"text/javascript\">\n",
       "                require([\"plotly\"], function(Plotly) {\n",
       "                    window.PLOTLYENV=window.PLOTLYENV || {};\n",
       "                    \n",
       "                if (document.getElementById(\"1a088d43-d2e6-4adb-806b-2c3f2cf8783b\")) {\n",
       "                    Plotly.newPlot(\n",
       "                        '1a088d43-d2e6-4adb-806b-2c3f2cf8783b',\n",
       "                        [{\"alignmentgroup\": \"True\", \"hoverlabel\": {\"namelength\": 0}, \"hovertemplate\": \"area=%{x}<br>incidents=%{y}\", \"legendgroup\": \"\", \"marker\": {\"color\": \"#e02a26\"}, \"name\": \"\", \"offsetgroup\": \"\", \"orientation\": \"v\", \"showlegend\": false, \"textposition\": \"outside\", \"texttemplate\": \"<b>%{y:.2}</b>\", \"type\": \"bar\", \"x\": [\"Other\", \"Workplace\", \"School\", \"Military\", \"Religious\", \"Restaurant/Cafe\", \"Club\", \"Shopping Mall/Store\", \"Festival\", \"Other\\r\\n\", \"Apartment\", \"\\r\\nWorkplace\", \"Market\", \"Nursing Home\"], \"xaxis\": \"x\", \"y\": [40, 32, 16, 5, 5, 5, 3, 3, 2, 2, 2, 1, 1, 1], \"yaxis\": \"y\"}],\n",
       "                        {\"barmode\": \"relative\", \"legend\": {\"tracegroupgap\": 0}, \"margin\": {\"t\": 60}, \"template\": {\"data\": {\"bar\": [{\"error_x\": {\"color\": \"#2a3f5f\"}, \"error_y\": {\"color\": \"#2a3f5f\"}, \"marker\": {\"line\": {\"color\": \"#E5ECF6\", \"width\": 0.5}}, \"type\": \"bar\"}], \"barpolar\": [{\"marker\": {\"line\": {\"color\": \"#E5ECF6\", \"width\": 0.5}}, \"type\": \"barpolar\"}], \"carpet\": [{\"aaxis\": {\"endlinecolor\": \"#2a3f5f\", \"gridcolor\": \"white\", \"linecolor\": \"white\", \"minorgridcolor\": \"white\", \"startlinecolor\": \"#2a3f5f\"}, \"baxis\": {\"endlinecolor\": \"#2a3f5f\", \"gridcolor\": \"white\", \"linecolor\": \"white\", \"minorgridcolor\": \"white\", \"startlinecolor\": \"#2a3f5f\"}, \"type\": \"carpet\"}], \"choropleth\": [{\"colorbar\": {\"outlinewidth\": 0, \"ticks\": \"\"}, \"type\": \"choropleth\"}], \"contour\": [{\"colorbar\": {\"outlinewidth\": 0, \"ticks\": \"\"}, \"colorscale\": [[0.0, \"#0d0887\"], [0.1111111111111111, \"#46039f\"], [0.2222222222222222, \"#7201a8\"], [0.3333333333333333, \"#9c179e\"], [0.4444444444444444, \"#bd3786\"], [0.5555555555555556, \"#d8576b\"], [0.6666666666666666, \"#ed7953\"], [0.7777777777777778, \"#fb9f3a\"], [0.8888888888888888, \"#fdca26\"], [1.0, \"#f0f921\"]], \"type\": \"contour\"}], \"contourcarpet\": [{\"colorbar\": {\"outlinewidth\": 0, \"ticks\": \"\"}, \"type\": \"contourcarpet\"}], \"heatmap\": [{\"colorbar\": {\"outlinewidth\": 0, \"ticks\": \"\"}, \"colorscale\": [[0.0, \"#0d0887\"], [0.1111111111111111, \"#46039f\"], [0.2222222222222222, \"#7201a8\"], [0.3333333333333333, \"#9c179e\"], [0.4444444444444444, \"#bd3786\"], [0.5555555555555556, \"#d8576b\"], [0.6666666666666666, \"#ed7953\"], [0.7777777777777778, \"#fb9f3a\"], [0.8888888888888888, \"#fdca26\"], [1.0, \"#f0f921\"]], \"type\": \"heatmap\"}], \"heatmapgl\": [{\"colorbar\": {\"outlinewidth\": 0, \"ticks\": \"\"}, \"colorscale\": [[0.0, \"#0d0887\"], [0.1111111111111111, \"#46039f\"], [0.2222222222222222, \"#7201a8\"], [0.3333333333333333, \"#9c179e\"], [0.4444444444444444, \"#bd3786\"], [0.5555555555555556, \"#d8576b\"], [0.6666666666666666, \"#ed7953\"], [0.7777777777777778, \"#fb9f3a\"], [0.8888888888888888, \"#fdca26\"], [1.0, \"#f0f921\"]], \"type\": \"heatmapgl\"}], \"histogram\": [{\"marker\": {\"colorbar\": {\"outlinewidth\": 0, \"ticks\": \"\"}}, \"type\": \"histogram\"}], \"histogram2d\": [{\"colorbar\": {\"outlinewidth\": 0, \"ticks\": \"\"}, \"colorscale\": [[0.0, \"#0d0887\"], [0.1111111111111111, \"#46039f\"], [0.2222222222222222, \"#7201a8\"], [0.3333333333333333, \"#9c179e\"], [0.4444444444444444, \"#bd3786\"], [0.5555555555555556, \"#d8576b\"], [0.6666666666666666, \"#ed7953\"], [0.7777777777777778, \"#fb9f3a\"], [0.8888888888888888, \"#fdca26\"], [1.0, \"#f0f921\"]], \"type\": \"histogram2d\"}], \"histogram2dcontour\": [{\"colorbar\": {\"outlinewidth\": 0, \"ticks\": \"\"}, \"colorscale\": [[0.0, \"#0d0887\"], [0.1111111111111111, \"#46039f\"], [0.2222222222222222, \"#7201a8\"], [0.3333333333333333, \"#9c179e\"], [0.4444444444444444, \"#bd3786\"], [0.5555555555555556, \"#d8576b\"], [0.6666666666666666, \"#ed7953\"], [0.7777777777777778, \"#fb9f3a\"], [0.8888888888888888, \"#fdca26\"], [1.0, \"#f0f921\"]], \"type\": \"histogram2dcontour\"}], \"mesh3d\": [{\"colorbar\": {\"outlinewidth\": 0, \"ticks\": \"\"}, \"type\": \"mesh3d\"}], \"parcoords\": [{\"line\": {\"colorbar\": {\"outlinewidth\": 0, \"ticks\": \"\"}}, \"type\": \"parcoords\"}], \"pie\": [{\"automargin\": true, \"type\": \"pie\"}], \"scatter\": [{\"marker\": {\"colorbar\": {\"outlinewidth\": 0, \"ticks\": \"\"}}, \"type\": \"scatter\"}], \"scatter3d\": [{\"line\": {\"colorbar\": {\"outlinewidth\": 0, \"ticks\": \"\"}}, \"marker\": {\"colorbar\": {\"outlinewidth\": 0, \"ticks\": \"\"}}, \"type\": \"scatter3d\"}], \"scattercarpet\": [{\"marker\": {\"colorbar\": {\"outlinewidth\": 0, \"ticks\": \"\"}}, \"type\": \"scattercarpet\"}], \"scattergeo\": [{\"marker\": {\"colorbar\": {\"outlinewidth\": 0, \"ticks\": \"\"}}, \"type\": \"scattergeo\"}], \"scattergl\": [{\"marker\": {\"colorbar\": {\"outlinewidth\": 0, \"ticks\": \"\"}}, \"type\": \"scattergl\"}], \"scattermapbox\": [{\"marker\": {\"colorbar\": {\"outlinewidth\": 0, \"ticks\": \"\"}}, \"type\": \"scattermapbox\"}], \"scatterpolar\": [{\"marker\": {\"colorbar\": {\"outlinewidth\": 0, \"ticks\": \"\"}}, \"type\": \"scatterpolar\"}], \"scatterpolargl\": [{\"marker\": {\"colorbar\": {\"outlinewidth\": 0, \"ticks\": \"\"}}, \"type\": \"scatterpolargl\"}], \"scatterternary\": [{\"marker\": {\"colorbar\": {\"outlinewidth\": 0, \"ticks\": \"\"}}, \"type\": \"scatterternary\"}], \"surface\": [{\"colorbar\": {\"outlinewidth\": 0, \"ticks\": \"\"}, \"colorscale\": [[0.0, \"#0d0887\"], [0.1111111111111111, \"#46039f\"], [0.2222222222222222, \"#7201a8\"], [0.3333333333333333, \"#9c179e\"], [0.4444444444444444, \"#bd3786\"], [0.5555555555555556, \"#d8576b\"], [0.6666666666666666, \"#ed7953\"], [0.7777777777777778, \"#fb9f3a\"], [0.8888888888888888, \"#fdca26\"], [1.0, \"#f0f921\"]], \"type\": \"surface\"}], \"table\": [{\"cells\": {\"fill\": {\"color\": \"#EBF0F8\"}, \"line\": {\"color\": \"white\"}}, \"header\": {\"fill\": {\"color\": \"#C8D4E3\"}, \"line\": {\"color\": \"white\"}}, \"type\": \"table\"}]}, \"layout\": {\"annotationdefaults\": {\"arrowcolor\": \"#2a3f5f\", \"arrowhead\": 0, \"arrowwidth\": 1}, \"coloraxis\": {\"colorbar\": {\"outlinewidth\": 0, \"ticks\": \"\"}}, \"colorscale\": {\"diverging\": [[0, \"#8e0152\"], [0.1, \"#c51b7d\"], [0.2, \"#de77ae\"], [0.3, \"#f1b6da\"], [0.4, \"#fde0ef\"], [0.5, \"#f7f7f7\"], [0.6, \"#e6f5d0\"], [0.7, \"#b8e186\"], [0.8, \"#7fbc41\"], [0.9, \"#4d9221\"], [1, \"#276419\"]], \"sequential\": [[0.0, \"#0d0887\"], [0.1111111111111111, \"#46039f\"], [0.2222222222222222, \"#7201a8\"], [0.3333333333333333, \"#9c179e\"], [0.4444444444444444, \"#bd3786\"], [0.5555555555555556, \"#d8576b\"], [0.6666666666666666, \"#ed7953\"], [0.7777777777777778, \"#fb9f3a\"], [0.8888888888888888, \"#fdca26\"], [1.0, \"#f0f921\"]], \"sequentialminus\": [[0.0, \"#0d0887\"], [0.1111111111111111, \"#46039f\"], [0.2222222222222222, \"#7201a8\"], [0.3333333333333333, \"#9c179e\"], [0.4444444444444444, \"#bd3786\"], [0.5555555555555556, \"#d8576b\"], [0.6666666666666666, \"#ed7953\"], [0.7777777777777778, \"#fb9f3a\"], [0.8888888888888888, \"#fdca26\"], [1.0, \"#f0f921\"]]}, \"colorway\": [\"#636efa\", \"#EF553B\", \"#00cc96\", \"#ab63fa\", \"#FFA15A\", \"#19d3f3\", \"#FF6692\", \"#B6E880\", \"#FF97FF\", \"#FECB52\"], \"font\": {\"color\": \"#2a3f5f\"}, \"geo\": {\"bgcolor\": \"white\", \"lakecolor\": \"white\", \"landcolor\": \"#E5ECF6\", \"showlakes\": true, \"showland\": true, \"subunitcolor\": \"white\"}, \"hoverlabel\": {\"align\": \"left\"}, \"hovermode\": \"closest\", \"mapbox\": {\"style\": \"light\"}, \"paper_bgcolor\": \"white\", \"plot_bgcolor\": \"#E5ECF6\", \"polar\": {\"angularaxis\": {\"gridcolor\": \"white\", \"linecolor\": \"white\", \"ticks\": \"\"}, \"bgcolor\": \"#E5ECF6\", \"radialaxis\": {\"gridcolor\": \"white\", \"linecolor\": \"white\", \"ticks\": \"\"}}, \"scene\": {\"xaxis\": {\"backgroundcolor\": \"#E5ECF6\", \"gridcolor\": \"white\", \"gridwidth\": 2, \"linecolor\": \"white\", \"showbackground\": true, \"ticks\": \"\", \"zerolinecolor\": \"white\"}, \"yaxis\": {\"backgroundcolor\": \"#E5ECF6\", \"gridcolor\": \"white\", \"gridwidth\": 2, \"linecolor\": \"white\", \"showbackground\": true, \"ticks\": \"\", \"zerolinecolor\": \"white\"}, \"zaxis\": {\"backgroundcolor\": \"#E5ECF6\", \"gridcolor\": \"white\", \"gridwidth\": 2, \"linecolor\": \"white\", \"showbackground\": true, \"ticks\": \"\", \"zerolinecolor\": \"white\"}}, \"shapedefaults\": {\"line\": {\"color\": \"#2a3f5f\"}}, \"ternary\": {\"aaxis\": {\"gridcolor\": \"white\", \"linecolor\": \"white\", \"ticks\": \"\"}, \"baxis\": {\"gridcolor\": \"white\", \"linecolor\": \"white\", \"ticks\": \"\"}, \"bgcolor\": \"#E5ECF6\", \"caxis\": {\"gridcolor\": \"white\", \"linecolor\": \"white\", \"ticks\": \"\"}}, \"title\": {\"x\": 0.05}, \"xaxis\": {\"automargin\": true, \"gridcolor\": \"white\", \"linecolor\": \"white\", \"ticks\": \"\", \"title\": {\"standoff\": 15}, \"zerolinecolor\": \"white\", \"zerolinewidth\": 2}, \"yaxis\": {\"automargin\": true, \"gridcolor\": \"white\", \"linecolor\": \"white\", \"ticks\": \"\", \"title\": {\"standoff\": 15}, \"zerolinecolor\": \"white\", \"zerolinewidth\": 2}}}, \"title\": {\"text\": \"Shootings Incident Locations\"}, \"uniformtext\": {\"minsize\": 8, \"mode\": \"hide\"}, \"xaxis\": {\"anchor\": \"y\", \"domain\": [0.0, 1.0], \"tick0\": 0, \"tickcolor\": \"#000\", \"ticklen\": 4, \"ticks\": \"outside\", \"tickwidth\": 2, \"title\": {\"text\": \"shooting area\"}}, \"yaxis\": {\"anchor\": \"x\", \"domain\": [0.0, 1.0], \"title\": {\"text\": \"number of incidents\"}}},\n",
       "                        {\"responsive\": true}\n",
       "                    ).then(function(){\n",
       "                            \n",
       "var gd = document.getElementById('1a088d43-d2e6-4adb-806b-2c3f2cf8783b');\n",
       "var x = new MutationObserver(function (mutations, observer) {{\n",
       "        var display = window.getComputedStyle(gd).display;\n",
       "        if (!display || display === 'none') {{\n",
       "            console.log([gd, 'removed!']);\n",
       "            Plotly.purge(gd);\n",
       "            observer.disconnect();\n",
       "        }}\n",
       "}});\n",
       "\n",
       "// Listen for the removal of the full notebook cells\n",
       "var notebookContainer = gd.closest('#notebook-container');\n",
       "if (notebookContainer) {{\n",
       "    x.observe(notebookContainer, {childList: true});\n",
       "}}\n",
       "\n",
       "// Listen for the clearing of the current output cell\n",
       "var outputEl = gd.closest('.output');\n",
       "if (outputEl) {{\n",
       "    x.observe(outputEl, {childList: true});\n",
       "}}\n",
       "\n",
       "                        })\n",
       "                };\n",
       "                });\n",
       "            </script>\n",
       "        </div>"
      ]
     },
     "metadata": {},
     "output_type": "display_data"
    }
   ],
   "source": [
    "shooting_location = df.shooting_area.value_counts().reset_index()\n",
    "shooting_location.rename(columns={'shooting_area':'incidents','index':'area'}, inplace=True)\n",
    "\n",
    "fig = px.bar(shooting_location, x='area', y='incidents')\n",
    "\n",
    "fig.update_traces(texttemplate='<b>%{y:.2}</b>',  marker_color='#e02a26',textposition='outside')\n",
    "\n",
    "fig.update_layout(uniformtext_minsize=8, uniformtext_mode='hide', yaxis_title=\"number of incidents\", title='Shootings Incident Locations',\n",
    "    xaxis_title=\"shooting area\",\n",
    "        xaxis=dict(\n",
    "        #tickmode='linear',\n",
    "        ticks='outside',\n",
    "        tick0=0,\n",
    "        ticklen=4,\n",
    "        tickwidth=2,\n",
    "        tickcolor='#000'), \n",
    "                 )\n",
    "\n",
    "fig.show()\n"
   ]
  }
 ],
 "metadata": {
  "kernelspec": {
   "display_name": "Python 3",
   "language": "python",
   "name": "python3"
  },
  "language_info": {
   "codemirror_mode": {
    "name": "ipython",
    "version": 3
   },
   "file_extension": ".py",
   "mimetype": "text/x-python",
   "name": "python",
   "nbconvert_exporter": "python",
   "pygments_lexer": "ipython3",
   "version": "3.7.4"
  }
 },
 "nbformat": 4,
 "nbformat_minor": 4
}
